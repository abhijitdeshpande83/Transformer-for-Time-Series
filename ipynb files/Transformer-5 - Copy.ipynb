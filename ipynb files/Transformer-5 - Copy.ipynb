{
 "cells": [
  {
   "cell_type": "code",
   "execution_count": 1,
   "id": "3e1cfb42",
   "metadata": {},
   "outputs": [],
   "source": [
    "#importing libraries\n",
    "import numpy as np\n",
    "import pandas as pd\n",
    "import matplotlib.pyplot as plt\n",
    "import seaborn as sns\n",
    "import warnings\n",
    "warnings.filterwarnings('ignore')"
   ]
  },
  {
   "cell_type": "code",
   "execution_count": 2,
   "id": "46ad2883",
   "metadata": {},
   "outputs": [],
   "source": [
    "def load_raw_ts(path, dataset, tensor_format=True):\n",
    "    path = path + \"raw/\" + dataset + \"/\"\n",
    "    x_train = np.load(path + 'X_train.npy')\n",
    "    y_train = np.load(path + 'y_train.npy')\n",
    "    x_test = np.load(path + 'X_test.npy')\n",
    "    y_test = np.load(path + 'y_test.npy')\n",
    "    ts = np.concatenate((x_train, x_test), axis=0)\n",
    "    ts = np.transpose(ts, axes=(0, 1, 2))\n",
    "    labels = np.concatenate((y_train, y_test), axis=0)\n",
    "    nclass = int(np.amax(labels)) + 1\n",
    "\n",
    "\n",
    "    train_size = y_train.shape[0]\n",
    "\n",
    "    total_size = labels.shape[0]\n",
    "    idx_train = range(train_size)\n",
    "    idx_val = range(train_size, total_size)\n",
    "    idx_test = range(train_size, total_size)\n",
    "\n",
    "    if tensor_format:\n",
    "        # features = torch.FloatTensor(np.array(features))\n",
    "        ts = torch.FloatTensor(np.array(ts))\n",
    "        labels = torch.LongTensor(labels)\n",
    "\n",
    "        idx_train = torch.LongTensor(idx_train)\n",
    "        idx_val = torch.LongTensor(idx_val)\n",
    "        idx_test = torch.LongTensor(idx_test)\n",
    "\n",
    "    return ts, labels, idx_train, idx_val, idx_test, nclass\n"
   ]
  },
  {
   "cell_type": "code",
   "execution_count": 3,
   "id": "4fad0bc2",
   "metadata": {},
   "outputs": [],
   "source": [
    "from sklearn.metrics import classification_report, confusion_matrix\n",
    "import itertools\n",
    "def plot_confusion_matrix(cm, classes,\n",
    "                          normalize=False,\n",
    "                          title='Confusion matrix',\n",
    "                          cmap=plt.cm.Blues):\n",
    "    \"\"\"\n",
    "    This function prints and plots the confusion matrix.\n",
    "    Normalization can be applied by setting `normalize=True`.\n",
    "    \"\"\"\n",
    "    if normalize:\n",
    "        cm = cm.astype('float') / cm.sum(axis=1)[:, np.newaxis]\n",
    "        print(\"Normalized confusion matrix\")\n",
    "    else:\n",
    "        print('Confusion matrix, without normalization')\n",
    "\n",
    "    print(cm)\n",
    "\n",
    "    plt.imshow(cm, interpolation='nearest', cmap='crest')\n",
    "    plt.title(title)\n",
    "    plt.colorbar()\n",
    "    tick_marks = np.arange(len(classes))\n",
    "    plt.xticks(tick_marks, classes, rotation=45)\n",
    "    plt.yticks(tick_marks, classes)\n",
    "\n",
    "    fmt = '.2f' if normalize else 'd'\n",
    "    thresh = cm.max() / 2.\n",
    "    for i, j in itertools.product(range(cm.shape[0]), range(cm.shape[1])):\n",
    "        plt.text(j, i, format(cm[i, j], fmt),\n",
    "                 horizontalalignment=\"center\",\n",
    "                 color=\"white\" if cm[i, j] > thresh else \"black\")\n",
    "\n",
    "    plt.tight_layout()\n",
    "    plt.ylabel('True label')\n",
    "    plt.xlabel('Predicted label')"
   ]
  },
  {
   "cell_type": "code",
   "execution_count": 4,
   "id": "857d54e9",
   "metadata": {},
   "outputs": [],
   "source": [
    "import math\n",
    "from typing import Optional, Any\n",
    "from torch.utils.data import DataLoader\n",
    "from torch import optim\n",
    "from sklearn.metrics import accuracy_score\n",
    "import torch\n",
    "from torch import nn, Tensor\n",
    "from torch.nn import functional as F\n",
    "from torch.nn.modules import MultiheadAttention, Linear, Dropout, BatchNorm1d, TransformerEncoderLayer"
   ]
  },
  {
   "cell_type": "code",
   "execution_count": 5,
   "id": "11c8902d",
   "metadata": {},
   "outputs": [],
   "source": [
    "def _get_activation_fn(activation):\n",
    "    if activation == \"relu\":\n",
    "        return F.relu\n",
    "    elif activation == \"gelu\":\n",
    "        return F.gelu\n",
    "    raise ValueError(\"activation should be relu/gelu, not {}\".format(activation))\n",
    "\n",
    "    \n",
    "def get_pos_encoder(pos_encoding):\n",
    "    if pos_encoding == \"learnable\":\n",
    "        return LearnablePositionalEncoding\n",
    "    elif pos_encoding == \"fixed\":\n",
    "        return FixedPositionalEncoding\n",
    "\n",
    "    raise NotImplementedError(\"pos_encoding should be 'learnable'/'fixed', not '{}'\".format(pos_encoding))"
   ]
  },
  {
   "cell_type": "code",
   "execution_count": 6,
   "id": "4efa46f3",
   "metadata": {},
   "outputs": [],
   "source": [
    "class FixedPositionalEncoding(nn.Module):\n",
    "    r\"\"\"Inject some information about the relative or absolute position of the tokens\n",
    "        in the sequence. The positional encodings have the same dimension as\n",
    "        the embeddings, so that the two can be summed. Here, we use sine and cosine\n",
    "        functions of different frequencies.\n",
    "    .. math::\n",
    "        \\text{PosEncoder}(pos, 2i) = sin(pos/10000^(2i/d_model))\n",
    "        \\text{PosEncoder}(pos, 2i+1) = cos(pos/10000^(2i/d_model))\n",
    "        \\text{where pos is the word position and i is the embed idx)\n",
    "    Args:\n",
    "        d_model: the embed dim (required).\n",
    "        dropout: the dropout value (default=0.1).\n",
    "        max_len: the max. length of the incoming sequence (default=1024).\n",
    "    \"\"\"\n",
    "\n",
    "    def __init__(self, d_model, dropout=0.1, max_len=1024, scale_factor=1.0):\n",
    "        super(FixedPositionalEncoding, self).__init__()\n",
    "        self.dropout = nn.Dropout(p=dropout)\n",
    "\n",
    "        pe = torch.zeros(max_len, d_model)  # positional encoding\n",
    "        position = torch.arange(0, max_len, dtype=torch.float).unsqueeze(1)\n",
    "        div_term = torch.exp(torch.arange(0, d_model, 2).float() * (-math.log(10000.0) / d_model))\n",
    "        pe[:, 0::2] = torch.sin(position * div_term)\n",
    "        pe[:, 1::2] = torch.cos(position * div_term)\n",
    "        pe = scale_factor * pe.unsqueeze(0).transpose(0, 1)\n",
    "        self.register_buffer('pe', pe)  # this stores the variable in the state_dict (used for non-trainable variables)\n",
    "\n",
    "    def forward(self, x):\n",
    "        r\"\"\"Inputs of forward function\n",
    "        Args:\n",
    "            x: the sequence fed to the positional encoder model (required).\n",
    "        Shape:\n",
    "            x: [sequence length, batch size, embed dim]\n",
    "            output: [sequence length, batch size, embed dim]\n",
    "        \"\"\"\n",
    "\n",
    "        x = x + self.pe[:x.size(0), :]\n",
    "        return self.dropout(x)"
   ]
  },
  {
   "cell_type": "code",
   "execution_count": 7,
   "id": "28a9a685",
   "metadata": {},
   "outputs": [],
   "source": [
    "class LearnablePositionalEncoding(nn.Module):\n",
    "\n",
    "    def __init__(self, d_model, dropout=0.1, max_len=1024):\n",
    "        super(LearnablePositionalEncoding, self).__init__()\n",
    "        self.dropout = nn.Dropout(p=dropout)\n",
    "        # Each position gets its own embedding\n",
    "        # Since indices are always 0 ... max_len, we don't have to do a look-up\n",
    "        self.pe = nn.Parameter(torch.empty(max_len, 1, d_model))  # requires_grad automatically set to True\n",
    "        nn.init.uniform_(self.pe, -0.02, 0.02)\n",
    "\n",
    "    def forward(self, x):\n",
    "        r\"\"\"Inputs of forward function\n",
    "        Args:\n",
    "            x: the sequence fed to the positional encoder model (required).\n",
    "        Shape:\n",
    "            x: [sequence length, batch size, embed dim]\n",
    "            output: [sequence length, batch size, embed dim]\n",
    "        \"\"\"\n",
    "\n",
    "        x = x + self.pe[:x.size(0), :]\n",
    "        return self.dropout(x)"
   ]
  },
  {
   "cell_type": "code",
   "execution_count": 8,
   "id": "4614c9d7",
   "metadata": {},
   "outputs": [],
   "source": [
    "class TransformerBatchNormEncoderLayer(nn.modules.Module):\n",
    "    r\"\"\"This transformer encoder layer block is made up of self-attn and feedforward network.\n",
    "    It differs from TransformerEncoderLayer in torch/nn/modules/transformer.py in that it replaces LayerNorm\n",
    "    with BatchNorm.\n",
    "    Args:\n",
    "        d_model: the number of expected features in the input (required).\n",
    "        nhead: the number of heads in the multiheadattention models (required).\n",
    "        dim_feedforward: the dimension of the feedforward network model (default=2048).\n",
    "        dropout: the dropout value (default=0.1).\n",
    "        activation: the activation function of intermediate layer, relu or gelu (default=relu).\n",
    "    \"\"\"\n",
    "\n",
    "    def __init__(self, d_model, nhead, dim_feedforward=2048, dropout=0.1, activation=\"relu\"):\n",
    "        super(TransformerBatchNormEncoderLayer, self).__init__()\n",
    "        self.self_attn = MultiheadAttention(d_model, nhead, dropout=dropout)\n",
    "        # Implementation of Feedforward model\n",
    "        self.linear1 = Linear(d_model, dim_feedforward)\n",
    "        self.dropout = Dropout(dropout)\n",
    "        self.linear2 = Linear(dim_feedforward, d_model)\n",
    "\n",
    "        self.norm1 = BatchNorm1d(d_model, eps=1e-5)  # normalizes each feature across batch samples and time steps\n",
    "        self.norm2 = BatchNorm1d(d_model, eps=1e-5)\n",
    "        self.dropout1 = Dropout(dropout)\n",
    "        self.dropout2 = Dropout(dropout)\n",
    "\n",
    "        self.activation = _get_activation_fn(activation)\n",
    "\n",
    "    def __setstate__(self, state):\n",
    "        if 'activation' not in state:\n",
    "            state['activation'] = F.relu\n",
    "        super(TransformerBatchNormEncoderLayer, self).__setstate__(state)\n",
    "\n",
    "    def forward(self, src: Tensor, src_mask: Optional[Tensor] = None,\n",
    "                src_key_padding_mask: Optional[Tensor] = None) -> Tensor:\n",
    "        r\"\"\"Pass the input through the encoder layer.\n",
    "        Args:\n",
    "            src: the sequence to the encoder layer (required).\n",
    "            src_mask: the mask for the src sequence (optional).\n",
    "            src_key_padding_mask: the mask for the src keys per batch (optional).\n",
    "        Shape:\n",
    "            see the docs in Transformer class.\n",
    "        \"\"\"\n",
    "        src2 = self.self_attn(src, src, src, attn_mask=src_mask,\n",
    "                              key_padding_mask=src_key_padding_mask)[0]\n",
    "        src = src + self.dropout1(src2)  # (seq_len, batch_size, d_model)\n",
    "        src = src.permute(1, 2, 0)  # (batch_size, d_model, seq_len)\n",
    "        # src = src.reshape([src.shape[0], -1])  # (batch_size, seq_length * d_model)\n",
    "        src = self.norm1(src)\n",
    "        src = src.permute(2, 0, 1)  # restore (seq_len, batch_size, d_model)\n",
    "        src2 = self.linear2(self.dropout(self.activation(self.linear1(src))))\n",
    "        src = src + self.dropout2(src2)  # (seq_len, batch_size, d_model)\n",
    "        src = src.permute(1, 2, 0)  # (batch_size, d_model, seq_len)\n",
    "        src = self.norm2(src)\n",
    "        src = src.permute(2, 0, 1)  # restore (seq_len, batch_size, d_model)\n",
    "        return src\n"
   ]
  },
  {
   "cell_type": "code",
   "execution_count": 9,
   "id": "86606b2b",
   "metadata": {},
   "outputs": [],
   "source": [
    "class TSTransformerEncoder(nn.Module):\n",
    "\n",
    "    def __init__(self, feat_dim, max_len, d_model, n_heads, num_layers, dim_feedforward, dropout=0.1,\n",
    "                 pos_encoding='learnable', activation='gelu', norm='BatchNorm', freeze=False):\n",
    "        super(TSTransformerEncoder, self).__init__()\n",
    "\n",
    "        self.max_len = max_len\n",
    "        self.d_model = d_model\n",
    "        self.n_heads = n_heads\n",
    "        self.feat_dim = feat_dim\n",
    "        \n",
    "\n",
    "        self.project_inp = nn.Linear(feat_dim, d_model)\n",
    "        self.pos_enc = get_pos_encoder(pos_encoding)(d_model, dropout=dropout*(1.0 - freeze), max_len=max_len)\n",
    "\n",
    "        if norm == 'LayerNorm':\n",
    "            encoder_layer = TransformerEncoderLayer(d_model, self.n_heads, dim_feedforward, dropout*(1.0 - freeze), activation=activation)\n",
    "        else:\n",
    "            encoder_layer = TransformerBatchNormEncoderLayer(d_model, self.n_heads, dim_feedforward, dropout*(1.0 - freeze), activation=activation)\n",
    "\n",
    "        self.transformer_encoder = nn.TransformerEncoder(encoder_layer, num_layers)\n",
    "\n",
    "        self.output_layer = nn.Linear(d_model, feat_dim)\n",
    "\n",
    "        self.act = _get_activation_fn(activation)\n",
    "\n",
    "        self.dropout1 = nn.Dropout(dropout)\n",
    "\n",
    "\n",
    "    def forward(self, X, padding_masks):\n",
    "        \"\"\"\n",
    "        Args:\n",
    "            X: (batch_size, seq_length, feat_dim) torch tensor of masked features (input)\n",
    "            padding_masks: (batch_size, seq_length) boolean tensor, 1 means keep vector at this position, 0 means padding\n",
    "        Returns:\n",
    "            output: (batch_size, seq_length, feat_dim)\n",
    "        \"\"\"\n",
    "\n",
    "        # permute because pytorch convention for transformers is [seq_length, batch_size, feat_dim]. padding_masks [batch_size, feat_dim]\n",
    "        inp = X.permute(1, 0, 2)\n",
    "        inp = self.project_inp(inp) * math.sqrt(\n",
    "            self.d_model)  # [seq_length, batch_size, d_model] project input vectors to d_model dimensional space\n",
    "        inp = self.pos_enc(inp)  # add positional encoding\n",
    "        # NOTE: logic for padding masks is reversed to comply with definition in MultiHeadAttention, TransformerEncoderLayer\n",
    "        output = self.transformer_encoder(inp, src_key_padding_mask=~padding_masks)  # (seq_length, batch_size, d_model)\n",
    "        output = self.act(output)  # the output transformer encoder/decoder embeddings don't include non-linearity\n",
    "        output = output.permute(1, 0, 2)  # (batch_size, seq_length, d_model)\n",
    "        output = self.dropout1(output) ## Z\n",
    "        # Most probably defining a Linear(d_model,feat_dim) vectorizes the operation over (seq_length, batch_size).\n",
    "        output = self.output_layer(output)  # (batch_size, seq_length, feat_dim)\n",
    "\n",
    "        return output\n",
    "\n"
   ]
  },
  {
   "cell_type": "code",
   "execution_count": 10,
   "id": "4810b037",
   "metadata": {},
   "outputs": [],
   "source": [
    "class TSTransformerEncoderClass(nn.Module):\n",
    "    \"\"\"\n",
    "    Simplest classifier/regressor. Can be either regressor or classifier because the output does not include\n",
    "    softmax. Concatenates final layer embeddings and uses 0s to ignore padding embeddings in final output layer.\n",
    "    \"\"\"\n",
    "\n",
    "    def __init__(self, feat_dim, max_len, d_model, n_heads, num_layers, dim_feedforward, num_classes,\n",
    "                 dropout=0.1, pos_encoding='learnable', activation='gelu', norm='BatchNorm', freeze=False):\n",
    "        super(TSTransformerEncoderClass, self).__init__()\n",
    "\n",
    "        self.max_len = max_len\n",
    "        self.d_model = d_model\n",
    "        self.n_heads = n_heads\n",
    "\n",
    "        self.project_inp = nn.Linear(feat_dim, d_model)\n",
    "        self.pos_enc = get_pos_encoder(pos_encoding)(d_model, dropout=dropout*(1.0 - freeze), max_len=max_len)\n",
    "\n",
    "        if norm == 'LayerNorm':\n",
    "            encoder_layer = TransformerEncoderLayer(d_model, self.n_heads, dim_feedforward, dropout*(1.0 - freeze), activation=activation)\n",
    "        else:\n",
    "            encoder_layer = TransformerBatchNormEncoderLayer(d_model, self.n_heads, dim_feedforward, dropout*(1.0 - freeze), activation=activation)\n",
    "\n",
    "        self.transformer_encoder = nn.TransformerEncoder(encoder_layer, num_layers)\n",
    "\n",
    "        self.act = _get_activation_fn(activation)\n",
    "\n",
    "        self.dropout1 = nn.Dropout(dropout)\n",
    "\n",
    "        self.feat_dim = feat_dim\n",
    "        self.num_classes = num_classes\n",
    "        self.output_layer = self.build_output_module(d_model, max_len, num_classes)\n",
    "\n",
    "    def build_output_module(self, d_model, max_len, num_classes):\n",
    "        output_layer = nn.Linear(d_model * max_len, num_classes)\n",
    "        # no softmax (or log softmax), because CrossEntropyLoss does this internally. If probabilities are needed,\n",
    "        # add F.log_softmax and use NLLoss\n",
    "        return output_layer\n",
    "\n",
    "    def forward(self, X, padding_masks):\n",
    "        \"\"\"\n",
    "        Args:\n",
    "            X: (batch_size, seq_length, feat_dim) torch tensor of masked features (input)\n",
    "            padding_masks: (batch_size, seq_length) boolean tensor, 1 means keep vector at this position, 0 means padding\n",
    "        Returns:\n",
    "            output: (batch_size, num_classes)\n",
    "        \"\"\"\n",
    "\n",
    "        # permute because pytorch convention for transformers is [seq_length, batch_size, feat_dim]. padding_masks [batch_size, feat_dim]\n",
    "        inp = X.permute(1, 0, 2)\n",
    "        inp = self.project_inp(inp) * math.sqrt(\n",
    "            self.d_model)  # [seq_length, batch_size, d_model] project input vectors to d_model dimensional space\n",
    "        inp = self.pos_enc(inp)  # add positional encoding\n",
    "        # NOTE: logic for padding masks is reversed to comply with definition in MultiHeadAttention, TransformerEncoderLayer\n",
    "        output = self.transformer_encoder(inp, src_key_padding_mask=~padding_masks)  # (seq_length, batch_size, d_model)\n",
    "        output = self.act(output)  # the output transformer encoder/decoder embeddings don't include non-linearity\n",
    "        output = output.permute(1, 0, 2)  # (batch_size, seq_length, d_model)\n",
    "        output = self.dropout1(output)\n",
    "\n",
    "        # Output\n",
    "        output = output * padding_masks.unsqueeze(-1)  # zero-out padding embeddings\n",
    "        output = output.reshape(output.shape[0], -1)  # (batch_size, seq_length * d_model)\n",
    "        output = self.output_layer(output)  # (batch_size, num_classes)\n",
    "\n",
    "        return output"
   ]
  },
  {
   "cell_type": "code",
   "execution_count": 11,
   "id": "3ddcb9d7",
   "metadata": {},
   "outputs": [],
   "source": [
    "def noise_mask(X, masking_ratio, lm=3, mode='separate', distribution='geometric', exclude_feats=None):\n",
    "    \"\"\"\n",
    "    Creates a random boolean mask of the same shape as X, with 0s at places where a feature should be masked.\n",
    "    Args:\n",
    "        X: (seq_length, feat_dim) numpy array of features corresponding to a single sample\n",
    "        masking_ratio: proportion of seq_length to be masked. At each time step, will also be the proportion of\n",
    "            feat_dim that will be masked on average\n",
    "        lm: average length of masking subsequences (streaks of 0s). Used only when `distribution` is 'geometric'.\n",
    "        mode: whether each variable should be masked separately ('separate'), or all variables at a certain positions\n",
    "            should be masked concurrently ('concurrent')\n",
    "        distribution: whether each mask sequence element is sampled independently at random, or whether\n",
    "            sampling follows a markov chain (and thus is stateful), resulting in geometric distributions of\n",
    "            masked squences of a desired mean length `lm`\n",
    "        exclude_feats: iterable of indices corresponding to features to be excluded from masking (i.e. to remain all 1s)\n",
    "    Returns:\n",
    "        boolean numpy array with the same shape as X, with 0s at places where a feature should be masked\n",
    "    \"\"\"\n",
    "    if exclude_feats is not None:\n",
    "        exclude_feats = set(exclude_feats)\n",
    "\n",
    "    if distribution == 'geometric':  # stateful (Markov chain)\n",
    "        if mode == 'separate':  # each variable (feature) is independent\n",
    "            mask = np.ones(X.shape, dtype=bool)\n",
    "            for m in range(X.shape[1]):  # feature dimension\n",
    "                if exclude_feats is None or m not in exclude_feats:\n",
    "                    mask[:, m] = geom_noise_mask_single(X.shape[0], lm, masking_ratio)  # time dimension\n",
    "        else:  # replicate across feature dimension (mask all variables at the same positions concurrently)\n",
    "            mask = np.tile(np.expand_dims(geom_noise_mask_single(X.shape[0], lm, masking_ratio), 1), X.shape[1])\n",
    "    else:  # each position is independent Bernoulli with p = 1 - masking_ratio\n",
    "        if mode == 'separate':\n",
    "            mask = np.random.choice(np.array([True, False]), size=X.shape, replace=True,\n",
    "                                    p=(1 - masking_ratio, masking_ratio))\n",
    "        else:\n",
    "            mask = np.tile(np.random.choice(np.array([True, False]), size=(X.shape[0], 1), replace=True,\n",
    "                                            p=(1 - masking_ratio, masking_ratio)), X.shape[1])\n",
    "\n",
    "    return mask\n"
   ]
  },
  {
   "cell_type": "code",
   "execution_count": 12,
   "id": "90fb968f",
   "metadata": {},
   "outputs": [],
   "source": [
    "def geom_noise_mask_single(L, lm, masking_ratio):\n",
    "    \"\"\"\n",
    "    Randomly create a boolean mask of length `L`, consisting of subsequences of average length lm, masking with 0s a `masking_ratio`\n",
    "    proportion of the sequence L. The length of masking subsequences and intervals follow a geometric distribution.\n",
    "    Args:\n",
    "        L: length of mask and sequence to be masked\n",
    "        lm: average length of masking subsequences (streaks of 0s)\n",
    "        masking_ratio: proportion of L to be masked\n",
    "    Returns:\n",
    "        (L,) boolean numpy array intended to mask ('drop') with 0s a sequence of length L\n",
    "    \"\"\"\n",
    "    keep_mask = np.ones(L, dtype=bool)\n",
    "    p_m = 1 / lm  # probability of each masking sequence stopping. parameter of geometric distribution.\n",
    "    p_u = p_m * masking_ratio / (1 - masking_ratio)  # probability of each unmasked sequence stopping. parameter of geometric distribution.\n",
    "    p = [p_m, p_u]\n",
    "\n",
    "    # Start in state 0 with masking_ratio probability\n",
    "    state = int(np.random.rand() > masking_ratio)  # state 0 means masking, 1 means not masking\n",
    "    for i in range(L):\n",
    "        keep_mask[i] = state  # here it happens that state and masking value corresponding to state are identical\n",
    "        if np.random.rand() < p[state]:\n",
    "            state = 1 - state\n",
    "\n",
    "    return keep_mask\n"
   ]
  },
  {
   "cell_type": "code",
   "execution_count": 13,
   "id": "2209eb3a",
   "metadata": {},
   "outputs": [],
   "source": [
    "def padding_mask(lengths, max_len=None):\n",
    "    \"\"\"\n",
    "    Used to mask padded positions: creates a (batch_size, max_len) boolean mask from a tensor of sequence lengths,\n",
    "    where 1 means keep element at this position (time step)\n",
    "    \"\"\"\n",
    "    batch_size = lengths.numel()\n",
    "    max_len = max_len or lengths.max_val()  # trick works because of overloading of 'or' operator for non-boolean types\n",
    "    return (torch.arange(0, max_len, device=lengths.device)\n",
    "            .type_as(lengths)\n",
    "            .repeat(batch_size, 1)\n",
    "            .lt(lengths.unsqueeze(1)))"
   ]
  },
  {
   "cell_type": "code",
   "execution_count": 14,
   "id": "28c146ff",
   "metadata": {},
   "outputs": [],
   "source": [
    "def compensate_masking(X, mask):\n",
    "    \"\"\"\n",
    "    Compensate feature vectors after masking values, in a way that the matrix product W @ X would not be affected on average.\n",
    "    If p is the proportion of unmasked (active) elements, X' = X / p = X * feat_dim/num_active\n",
    "    Args:\n",
    "        X: (batch_size, seq_length, feat_dim) torch tensor\n",
    "        mask: (batch_size, seq_length, feat_dim) torch tensor: 0s means mask and predict, 1s: unaffected (active) input\n",
    "    Returns:\n",
    "        (batch_size, seq_length, feat_dim) compensated features\n",
    "    \"\"\"\n",
    "\n",
    "    # number of unmasked elements of feature vector for each time step\n",
    "    num_active = torch.sum(mask, dim=-1).unsqueeze(-1)  # (batch_size, seq_length, 1)\n",
    "    # to avoid division by 0, set the minimum to 1\n",
    "    num_active = torch.max(num_active, torch.ones(num_active.shape, dtype=torch.int16))  # (batch_size, seq_length, 1)\n",
    "    return X.shape[-1] * X / num_active"
   ]
  },
  {
   "cell_type": "code",
   "execution_count": 15,
   "id": "fbb3de99",
   "metadata": {},
   "outputs": [],
   "source": [
    "def collate_unsuperv(data, mask, max_len=None, mask_compensation=False):\n",
    "    \"\"\"Build mini-batch tensors from a list of (X, mask) tuples. Mask input. Create\n",
    "    Args:\n",
    "        data: len(batch_size) list of tuples (X, mask).\n",
    "            - X: torch tensor of shape (seq_length, feat_dim); variable seq_length.\n",
    "            - mask: boolean torch tensor of shape (seq_length, feat_dim); variable seq_length.\n",
    "        max_len: global fixed sequence length. Used for architectures requiring fixed length input,\n",
    "            where the batch length cannot vary dynamically. Longer sequences are clipped, shorter are padded with 0s\n",
    "    Returns:\n",
    "        X: (batch_size, padded_length, feat_dim) torch tensor of masked features (input)\n",
    "        targets: (batch_size, padded_length, feat_dim) torch tensor of unmasked features (output)\n",
    "        target_masks: (batch_size, padded_length, feat_dim) boolean torch tensor\n",
    "            0 indicates masked values to be predicted, 1 indicates unaffected/\"active\" feature values\n",
    "        padding_masks: (batch_size, padded_length) boolean tensor, 1 means keep vector at this position, 0 ignore (padding)\n",
    "    \"\"\"\n",
    "\n",
    "    batch_size = len(data)\n",
    "    features, masks = data, mask\n",
    "\n",
    "    # Stack and pad features and masks (convert 2D to 3D tensors, i.e. add batch dimension)\n",
    "    lengths = [X.shape[0] for X in features]  # original sequence length for each time series\n",
    "    if max_len is None:\n",
    "        max_len = max(lengths)\n",
    "    X = torch.zeros(batch_size, max_len, features[0].shape[-1])  # (batch_size, padded_length, feat_dim)\n",
    "    target_masks = torch.zeros_like(X,\n",
    "                                    dtype=torch.bool)  # (batch_size, padded_length, feat_dim) masks related to objective\n",
    "    for i in range(batch_size):\n",
    "        end = min(lengths[i], max_len)\n",
    "        X[i, :end, :] = features[i][:end, :]\n",
    "        target_masks[i, :end, :] = masks[i][:end, :]\n",
    "\n",
    "    targets = X.clone()\n",
    "    X = X * target_masks  # mask input\n",
    "    if mask_compensation:\n",
    "        X = compensate_masking(X, target_masks)\n",
    "\n",
    "    padding_masks = padding_mask(torch.tensor(lengths, dtype=torch.int16), max_len=max_len)  # (batch_size, padded_length) boolean tensor, \"1\" means keep\n",
    "    target_masks = ~target_masks  # inverse logic: 0 now means ignore, 1 means predict\n",
    "    return X, targets, target_masks, padding_masks"
   ]
  },
  {
   "cell_type": "code",
   "execution_count": 16,
   "id": "5509ca34",
   "metadata": {},
   "outputs": [],
   "source": [
    "class MaskedMSELoss(nn.Module):\n",
    "    \"\"\" Masked MSE Loss\n",
    "    \"\"\"\n",
    "\n",
    "    def __init__(self, reduction: str = 'mean'):\n",
    "\n",
    "        super().__init__()\n",
    "\n",
    "        self.reduction = reduction\n",
    "        self.mse_loss = nn.MSELoss(reduction=self.reduction)\n",
    "\n",
    "    def forward(self,\n",
    "                y_pred: torch.Tensor, y_true: torch.Tensor, mask: torch.BoolTensor) -> torch.Tensor:\n",
    "        \"\"\"Compute the loss between a target value and a prediction.\n",
    "        Args:\n",
    "            y_pred: Estimated values\n",
    "            y_true: Target values\n",
    "            mask: boolean tensor with 0s at places where values should be ignored and 1s where they should be considered\n",
    "        Returns\n",
    "        -------\n",
    "        if reduction == 'none':\n",
    "            (num_active,) Loss for each active batch element as a tensor with gradient attached.\n",
    "        if reduction == 'mean':\n",
    "            scalar mean loss over batch as a tensor with gradient attached.\n",
    "        \"\"\"\n",
    "\n",
    "        # for this particular loss, one may also elementwise multiply y_pred and y_true with the inverted mask\n",
    "        masked_pred = torch.masked_select(y_pred, mask)\n",
    "        masked_true = torch.masked_select(y_true, mask)\n",
    "\n",
    "        return self.mse_loss(masked_pred, masked_true)"
   ]
  },
  {
   "cell_type": "code",
   "execution_count": 17,
   "id": "1f2bf2ae",
   "metadata": {},
   "outputs": [],
   "source": [
    "class train_model():\n",
    "    \n",
    "    def __init__(self,model):\n",
    "        self.model = model\n",
    "        self.epoch_metrics = {}\n",
    "        self.total_accuracy = 0\n",
    "        self.batch_loss = []\n",
    "        \n",
    "    def compile(self, loss=nn.CrossEntropyLoss(),optimizer=optim.Adam,lr=0.0001):  \n",
    "        self.loss_module = loss\n",
    "        self.optimizer = optimizer(self.model.parameters(),lr=lr)\n",
    "\n",
    "   \n",
    "    def train(self,data, batch_size=128,epochs=100,verbose=True,return_loss=False):\n",
    "        self.model = self.model.train()\n",
    "        self.data = data\n",
    "        self.verbose = verbose\n",
    "        self.return_loss = return_loss\n",
    "        self.batch_size = batch_size\n",
    "        self.epochs = epochs\n",
    "  \n",
    "\n",
    "        for epoch in range(self.epochs):\n",
    "    \n",
    "            total_batch_accuracy = 0\n",
    "            total_loss = 0\n",
    "    \n",
    "            for i, batch in enumerate(DataLoader(self.data,self.batch_size)):\n",
    "                x_train, y_train, masks = batch\n",
    "                prediction = self.model(x_train.float(),masks)\n",
    "                prob = nn.Softmax(prediction)\n",
    "                #optimizer = self.optimizer(self.model.parameters())\n",
    "                loss = self.loss_module(prediction, y_train)\n",
    "        \n",
    "                total_loss += loss\n",
    "                mean_batch_loss = total_loss/(i+1)\n",
    "        \n",
    "                predictions = torch.argmax(prediction, 1)\n",
    "                batch_accuracy = accuracy_score(y_train, predictions)\n",
    "        \n",
    "                self.optimizer.zero_grad()\n",
    "                loss.backward()\n",
    "                torch.nn.utils.clip_grad_norm_(self.model.parameters(), max_norm=4.0)\n",
    "                self.optimizer.step()\n",
    "        \n",
    "                total_batch_accuracy += batch_accuracy \n",
    "                mean_bach_accuracy = total_batch_accuracy/(i+1)\n",
    "                metrics = {'mean batch accuracy':mean_bach_accuracy.item()}\n",
    "        \n",
    "        \n",
    "            self.batch_loss.append(mean_batch_loss.detach().numpy())\n",
    "            if self.verbose:\n",
    "                print('\\033[94m'+'Epoch {}:'.format(epoch)+'\\033[0m'+' {}%'.format(round(mean_bach_accuracy*100,3)))\n",
    "            self.total_accuracy += mean_bach_accuracy\n",
    "            self.epoch_metrics['Epoch'] = epoch\n",
    "            self.epoch_metrics['Accuracy'] = self.total_accuracy/(epoch+1)\n",
    "        \n",
    "        if self.return_loss:\n",
    "            return plt.plot(self.batch_loss)\n",
    "        \n",
    "        \n",
    "    def evaluate(self,data,batch_size=128, return_loss=False):\n",
    "            self.data = data\n",
    "            self.batch_size = batch_size\n",
    "            total_batch_accuracy = 0\n",
    "            self.model = self.model.eval()\n",
    "            \n",
    "            for i, batch in enumerate(DataLoader(self.data, self.batch_size)):\n",
    "                x_test, y_test, masks = batch\n",
    "                prediction = self.model(x_test.float(), masks)\n",
    "               # prob = nn.Softmax(prediction)\n",
    "                predictions = torch.argmax(prediction,1)\n",
    "                batch_accuracy = accuracy_score(y_test,predictions)\n",
    "                loss = self.loss_module(prediction, y_test)\n",
    "                \n",
    "                total_batch_accuracy += batch_accuracy \n",
    "                mean_bach_accuracy = total_batch_accuracy/(i+1)\n",
    "\n",
    "            metrics = {'mean batch accuracy':mean_bach_accuracy.item()}\n",
    "            \n",
    "            return metrics\n",
    "           \n",
    "        \n",
    "    def analyze(self,data,color='viridis'):\n",
    "        self.data = data\n",
    "        self.model = self.model.eval()\n",
    "        \n",
    "        from sklearn.metrics import accuracy_score, classification_report, confusion_matrix,                                    roc_curve, roc_auc_score\n",
    "        for i, batch in enumerate(DataLoader(self.data, 100000)):\n",
    "                x_test, y_test, masks = batch\n",
    "                prediction = self.model(x_test.float(), masks)\n",
    "                predictions = torch.argmax(prediction,1)\n",
    "                accuracy = accuracy_score(predictions, y_test)\n",
    "                print('\\033[92m'+'\\nAccuracy: '+'\\033[0m',accuracy)\n",
    "                print('\\n'+'\\033[0m'+         'Classification Report:\\n')\n",
    "                print(classification_report(predictions, y_test))\n",
    "                print('\\n'+'\\033[0m'+         'Confusion Matrix:\\n')\n",
    "                cm = confusion_matrix(predictions, y_test)\n",
    "                print('\\033[91m'+  '             Total lenght of Data:'+'\\033[0m', len(y_test),'\\n')\n",
    "                print('\\033[94m'+'             Class 0:'+'\\033[0m',                                     (torch.unique(y_test, return_counts=True)[1][0]).item())\n",
    "                print('\\033[94m'+'             Class 1:'+'\\033[0m',                                     (torch.unique(y_test, return_counts=True)[1][1]).item(),                                      '\\n'+'\\033[0m')\n",
    "                \n",
    "                plot_confusion_matrix(cm,[0,1],color=color)\n",
    "                \n",
    "                print('\\n')\n",
    "\n",
    "                try:\n",
    "                    fpr, tpr, _ = roc_curve(predictions, y_test)\n",
    "                    roc_auc = roc_auc_score(predictions, y_test)\n",
    "                    plt.figure()\n",
    "                    plt.plot(fpr, tpr, label='(Area = {:.3f})'.format(roc_auc))\n",
    "                    plt.xlabel('False positive rate')\n",
    "                    plt.ylabel('True positive rate')\n",
    "                    plt.title('ROC curve')\n",
    "                    plt.legend(loc='best')\n",
    "                    plt.show()\n",
    "                    \n",
    "                except:\n",
    "                    print('Something wrong')\n"
   ]
  },
  {
   "cell_type": "code",
   "execution_count": null,
   "id": "ae811573",
   "metadata": {},
   "outputs": [],
   "source": []
  },
  {
   "cell_type": "code",
   "execution_count": 20,
   "id": "7dca6110",
   "metadata": {},
   "outputs": [],
   "source": [
    "class TSTransformerEncoderLSTM(nn.Module):\n",
    "    \"\"\"\n",
    "    Simplest classifier/regressor. Can be either regressor or classifier because the output does not include\n",
    "    softmax. Concatenates final layer embeddings and uses 0s to ignore padding embeddings in final output layer.\n",
    "    \"\"\"\n",
    "\n",
    "    def __init__(self, feat_dim, max_len, d_model, n_heads, num_layers, dim_feedforward, num_classes,\n",
    "                 lstm_layers = 1, hidden_layers=128,\n",
    "                 dropout=0.1, pos_encoding='learnable', activation='gelu', norm='BatchNorm', freeze=False):\n",
    "        super(TSTransformerEncoderLSTM, self).__init__()\n",
    "\n",
    "        self.max_len = max_len\n",
    "        self.d_model = d_model\n",
    "        self.n_heads = n_heads\n",
    "        self.lstm_layers = lstm_layers\n",
    "        self.hidden_size = hidden_layers\n",
    "\n",
    "        self.project_inp = nn.Linear(feat_dim, d_model)\n",
    "        self.pos_enc = get_pos_encoder(pos_encoding)(d_model, dropout=dropout*(1.0 - freeze), max_len=max_len)\n",
    "\n",
    "        if norm == 'LayerNorm':\n",
    "            encoder_layer = TransformerEncoderLayer(d_model, self.n_heads, dim_feedforward, dropout*(1.0 - freeze), activation=activation)\n",
    "        else:\n",
    "            encoder_layer = TransformerBatchNormEncoderLayer(d_model, self.n_heads, dim_feedforward, dropout*(1.0 - freeze), activation=activation)\n",
    "\n",
    "        self.transformer_encoder = nn.TransformerEncoder(encoder_layer, num_layers)\n",
    "\n",
    "        self.act = _get_activation_fn(activation)\n",
    "\n",
    "        self.dropout1 = nn.Dropout(dropout)\n",
    "\n",
    "        self.feat_dim = feat_dim\n",
    "        self.num_classes = num_classes\n",
    "        self.conv1 = nn.Conv1d(max_len,128,1,padding='same')\n",
    "        self.pool = nn.MaxPool1d(2)\n",
    "        self.lstm = nn.LSTM(128,self.hidden_size,self.lstm_layers,batch_first=True)\n",
    "        self.output_layer = self.linear(num_classes)\n",
    "\n",
    "\n",
    "\n",
    "    def linear(self,num_classes):\n",
    "        output_layer = nn.Linear(self.lstm_layers*self.hidden_size,num_classes)\n",
    "        # no softmax (or log softmax), because CrossEntropyLoss does this internally. If probabilities are needed,\n",
    "        # add F.log_softmax and use NLLoss\n",
    "        return output_layer\n",
    "\n",
    "        \n",
    "    def forward(self, X, padding_masks):\n",
    "        \"\"\"\n",
    "        Args:\n",
    "            X: (batch_size, seq_length, feat_dim) torch tensor of masked features (input)\n",
    "            padding_masks: (batch_size, seq_length) boolean tensor, 1 means keep vector at this position, 0 means padding\n",
    "        Returns:\n",
    "            output: (batch_size, num_classes)\n",
    "        \"\"\"\n",
    "\n",
    "        # permute because pytorch convention for transformers is [seq_length, batch_size, feat_dim]. padding_masks [batch_size, feat_dim]\n",
    "        inp = X.permute(1, 0, 2)\n",
    "        inp = self.project_inp(inp) * math.sqrt(\n",
    "            self.d_model)  # [seq_length, batch_size, d_model] project input vectors to d_model dimensional space\n",
    "        inp = self.pos_enc(inp)  # add positional encoding\n",
    "        # NOTE: logic for padding masks is reversed to comply with definition in MultiHeadAttention, TransformerEncoderLayer\n",
    "        output = self.transformer_encoder(inp, src_key_padding_mask=~padding_masks)  # (seq_length, batch_size, d_model)\n",
    "        output = self.act(output)  # the output transformer encoder/decoder embeddings don't include non-linearity\n",
    "        output = output.permute(1, 0, 2)  # (batch_size, seq_length, d_model)\n",
    "        output = self.dropout1(output)\n",
    "        output = output * padding_masks.unsqueeze(-1)\n",
    "        #output = self.act(output)\n",
    "        output = output\n",
    "       # output = self.pool(output)\n",
    "        # Output\n",
    "          # zero-out padding embeddings\n",
    "        h0=c0= torch.zeros(self.lstm_layers,output.size(0),self.hidden_size)\n",
    "        output, (hn, cn) = self.lstm(output, (h0,c0))\n",
    "        hn = hn.view(-1,self.hidden_size*self.lstm_layers)\n",
    "        output = self.output_layer(hn)\n",
    "        return output"
   ]
  },
  {
   "cell_type": "code",
   "execution_count": 203,
   "id": "4e397e90",
   "metadata": {},
   "outputs": [],
   "source": [
    "from dask.distributed import Client"
   ]
  },
  {
   "cell_type": "code",
   "execution_count": 204,
   "id": "a9457995",
   "metadata": {},
   "outputs": [],
   "source": [
    "from dask import delayed, compute"
   ]
  },
  {
   "cell_type": "code",
   "execution_count": 205,
   "id": "c892123f",
   "metadata": {},
   "outputs": [],
   "source": [
    "def da():\n",
    "    preprocess = delayed(data_preprocess)().get_data('MSFT',days=10,path = path)\n",
    "    train, val, test, feat_dim, max_len   = compute(preprocess.prepare_data())"
   ]
  },
  {
   "cell_type": "code",
   "execution_count": null,
   "id": "61faf8b5",
   "metadata": {},
   "outputs": [],
   "source": []
  },
  {
   "cell_type": "code",
   "execution_count": null,
   "id": "584ddea9",
   "metadata": {},
   "outputs": [],
   "source": []
  },
  {
   "cell_type": "code",
   "execution_count": null,
   "id": "e4ae198e",
   "metadata": {},
   "outputs": [],
   "source": []
  },
  {
   "cell_type": "code",
   "execution_count": 207,
   "id": "70f26549",
   "metadata": {},
   "outputs": [],
   "source": [
    "path = '/Users/abhijitdeshpande/Documents/Project Files/Full Hourly Data/'"
   ]
  },
  {
   "cell_type": "code",
   "execution_count": 208,
   "id": "c3540360",
   "metadata": {},
   "outputs": [],
   "source": [
    "from preprocess import data_preprocess,train_model"
   ]
  },
  {
   "cell_type": "code",
   "execution_count": 209,
   "id": "bb0e396f",
   "metadata": {},
   "outputs": [
    {
     "name": "stdout",
     "output_type": "stream",
     "text": [
      "\u001b[1mTotal Samples: 7689\n",
      "\u001b[92mTraining Samples: 2306\n",
      "\u001b[92mValidation Samples: 2691\n",
      "\u001b[92mTesting Samples: 2692\n",
      "CPU times: user 7.82 s, sys: 484 ms, total: 8.3 s\n",
      "Wall time: 8.2 s\n"
     ]
    }
   ],
   "source": [
    "%%time\n",
    "preprocess = data_preprocess()\n",
    "preprocess.get_data('MSFT',days=10,path = path)\n",
    "train, val, test, feat_dim, max_len   = preprocess.prepare_data()"
   ]
  },
  {
   "cell_type": "code",
   "execution_count": 210,
   "id": "60c93c94",
   "metadata": {},
   "outputs": [],
   "source": [
    "import torch\n",
    "import torch.nn as nn"
   ]
  },
  {
   "cell_type": "code",
   "execution_count": 231,
   "id": "5399f981",
   "metadata": {},
   "outputs": [],
   "source": [
    "super_model = TSTransformerEncoderLSTM(feat_dim,max_len,128,16,3,\n",
    "                                             128, 2,lstm_layers=1, hidden_layers=128,dropout=0.1)"
   ]
  },
  {
   "cell_type": "code",
   "execution_count": 232,
   "id": "59bea51b",
   "metadata": {},
   "outputs": [],
   "source": [
    "model = train_model(super_model)"
   ]
  },
  {
   "cell_type": "code",
   "execution_count": 234,
   "id": "9f3b0b8b",
   "metadata": {},
   "outputs": [],
   "source": [
    "model.compile(loss=nn.BCEWithLogitsLoss())"
   ]
  },
  {
   "cell_type": "code",
   "execution_count": 235,
   "id": "6681f1f3",
   "metadata": {},
   "outputs": [
    {
     "ename": "ValueError",
     "evalue": "Target size (torch.Size([128])) must be the same as input size (torch.Size([128, 2]))",
     "output_type": "error",
     "traceback": [
      "\u001b[0;31m---------------------------------------------------------------------------\u001b[0m",
      "\u001b[0;31mValueError\u001b[0m                                Traceback (most recent call last)",
      "\u001b[0;32m/var/folders/tp/r9md9jss78nf28s4cq7vcg580000gn/T/ipykernel_22491/4085785382.py\u001b[0m in \u001b[0;36m<module>\u001b[0;34m\u001b[0m\n\u001b[0;32m----> 1\u001b[0;31m \u001b[0mmodel\u001b[0m\u001b[0;34m.\u001b[0m\u001b[0mtrain\u001b[0m\u001b[0;34m(\u001b[0m\u001b[0mtrain\u001b[0m\u001b[0;34m)\u001b[0m\u001b[0;34m\u001b[0m\u001b[0;34m\u001b[0m\u001b[0m\n\u001b[0m",
      "\u001b[0;32m/var/folders/tp/r9md9jss78nf28s4cq7vcg580000gn/T/ipykernel_22491/1973020300.py\u001b[0m in \u001b[0;36mtrain\u001b[0;34m(self, data, batch_size, epochs, verbose, return_loss)\u001b[0m\n\u001b[1;32m     31\u001b[0m                 \u001b[0mprob\u001b[0m \u001b[0;34m=\u001b[0m \u001b[0mnn\u001b[0m\u001b[0;34m.\u001b[0m\u001b[0mSoftmax\u001b[0m\u001b[0;34m(\u001b[0m\u001b[0mprediction\u001b[0m\u001b[0;34m)\u001b[0m\u001b[0;34m\u001b[0m\u001b[0;34m\u001b[0m\u001b[0m\n\u001b[1;32m     32\u001b[0m                 \u001b[0;31m#optimizer = self.optimizer(self.model.parameters())\u001b[0m\u001b[0;34m\u001b[0m\u001b[0;34m\u001b[0m\u001b[0;34m\u001b[0m\u001b[0m\n\u001b[0;32m---> 33\u001b[0;31m                 \u001b[0mloss\u001b[0m \u001b[0;34m=\u001b[0m \u001b[0mself\u001b[0m\u001b[0;34m.\u001b[0m\u001b[0mloss_module\u001b[0m\u001b[0;34m(\u001b[0m\u001b[0mprediction\u001b[0m\u001b[0;34m,\u001b[0m \u001b[0my_train\u001b[0m\u001b[0;34m)\u001b[0m\u001b[0;34m\u001b[0m\u001b[0;34m\u001b[0m\u001b[0m\n\u001b[0m\u001b[1;32m     34\u001b[0m \u001b[0;34m\u001b[0m\u001b[0m\n\u001b[1;32m     35\u001b[0m                 \u001b[0mtotal_loss\u001b[0m \u001b[0;34m+=\u001b[0m \u001b[0mloss\u001b[0m\u001b[0;34m\u001b[0m\u001b[0;34m\u001b[0m\u001b[0m\n",
      "\u001b[0;32m~/opt/anaconda3/lib/python3.8/site-packages/torch/nn/modules/module.py\u001b[0m in \u001b[0;36m_call_impl\u001b[0;34m(self, *input, **kwargs)\u001b[0m\n\u001b[1;32m   1049\u001b[0m         if not (self._backward_hooks or self._forward_hooks or self._forward_pre_hooks or _global_backward_hooks\n\u001b[1;32m   1050\u001b[0m                 or _global_forward_hooks or _global_forward_pre_hooks):\n\u001b[0;32m-> 1051\u001b[0;31m             \u001b[0;32mreturn\u001b[0m \u001b[0mforward_call\u001b[0m\u001b[0;34m(\u001b[0m\u001b[0;34m*\u001b[0m\u001b[0minput\u001b[0m\u001b[0;34m,\u001b[0m \u001b[0;34m**\u001b[0m\u001b[0mkwargs\u001b[0m\u001b[0;34m)\u001b[0m\u001b[0;34m\u001b[0m\u001b[0;34m\u001b[0m\u001b[0m\n\u001b[0m\u001b[1;32m   1052\u001b[0m         \u001b[0;31m# Do not call functions when jit is used\u001b[0m\u001b[0;34m\u001b[0m\u001b[0;34m\u001b[0m\u001b[0;34m\u001b[0m\u001b[0m\n\u001b[1;32m   1053\u001b[0m         \u001b[0mfull_backward_hooks\u001b[0m\u001b[0;34m,\u001b[0m \u001b[0mnon_full_backward_hooks\u001b[0m \u001b[0;34m=\u001b[0m \u001b[0;34m[\u001b[0m\u001b[0;34m]\u001b[0m\u001b[0;34m,\u001b[0m \u001b[0;34m[\u001b[0m\u001b[0;34m]\u001b[0m\u001b[0;34m\u001b[0m\u001b[0;34m\u001b[0m\u001b[0m\n",
      "\u001b[0;32m~/opt/anaconda3/lib/python3.8/site-packages/torch/nn/modules/loss.py\u001b[0m in \u001b[0;36mforward\u001b[0;34m(self, input, target)\u001b[0m\n\u001b[1;32m    711\u001b[0m \u001b[0;34m\u001b[0m\u001b[0m\n\u001b[1;32m    712\u001b[0m     \u001b[0;32mdef\u001b[0m \u001b[0mforward\u001b[0m\u001b[0;34m(\u001b[0m\u001b[0mself\u001b[0m\u001b[0;34m,\u001b[0m \u001b[0minput\u001b[0m\u001b[0;34m:\u001b[0m \u001b[0mTensor\u001b[0m\u001b[0;34m,\u001b[0m \u001b[0mtarget\u001b[0m\u001b[0;34m:\u001b[0m \u001b[0mTensor\u001b[0m\u001b[0;34m)\u001b[0m \u001b[0;34m->\u001b[0m \u001b[0mTensor\u001b[0m\u001b[0;34m:\u001b[0m\u001b[0;34m\u001b[0m\u001b[0;34m\u001b[0m\u001b[0m\n\u001b[0;32m--> 713\u001b[0;31m         return F.binary_cross_entropy_with_logits(input, target,\n\u001b[0m\u001b[1;32m    714\u001b[0m                                                   \u001b[0mself\u001b[0m\u001b[0;34m.\u001b[0m\u001b[0mweight\u001b[0m\u001b[0;34m,\u001b[0m\u001b[0;34m\u001b[0m\u001b[0;34m\u001b[0m\u001b[0m\n\u001b[1;32m    715\u001b[0m                                                   \u001b[0mpos_weight\u001b[0m\u001b[0;34m=\u001b[0m\u001b[0mself\u001b[0m\u001b[0;34m.\u001b[0m\u001b[0mpos_weight\u001b[0m\u001b[0;34m,\u001b[0m\u001b[0;34m\u001b[0m\u001b[0;34m\u001b[0m\u001b[0m\n",
      "\u001b[0;32m~/opt/anaconda3/lib/python3.8/site-packages/torch/nn/functional.py\u001b[0m in \u001b[0;36mbinary_cross_entropy_with_logits\u001b[0;34m(input, target, weight, size_average, reduce, reduction, pos_weight)\u001b[0m\n\u001b[1;32m   2956\u001b[0m \u001b[0;34m\u001b[0m\u001b[0m\n\u001b[1;32m   2957\u001b[0m     \u001b[0;32mif\u001b[0m \u001b[0;32mnot\u001b[0m \u001b[0;34m(\u001b[0m\u001b[0mtarget\u001b[0m\u001b[0;34m.\u001b[0m\u001b[0msize\u001b[0m\u001b[0;34m(\u001b[0m\u001b[0;34m)\u001b[0m \u001b[0;34m==\u001b[0m \u001b[0minput\u001b[0m\u001b[0;34m.\u001b[0m\u001b[0msize\u001b[0m\u001b[0;34m(\u001b[0m\u001b[0;34m)\u001b[0m\u001b[0;34m)\u001b[0m\u001b[0;34m:\u001b[0m\u001b[0;34m\u001b[0m\u001b[0;34m\u001b[0m\u001b[0m\n\u001b[0;32m-> 2958\u001b[0;31m         \u001b[0;32mraise\u001b[0m \u001b[0mValueError\u001b[0m\u001b[0;34m(\u001b[0m\u001b[0;34m\"Target size ({}) must be the same as input size ({})\"\u001b[0m\u001b[0;34m.\u001b[0m\u001b[0mformat\u001b[0m\u001b[0;34m(\u001b[0m\u001b[0mtarget\u001b[0m\u001b[0;34m.\u001b[0m\u001b[0msize\u001b[0m\u001b[0;34m(\u001b[0m\u001b[0;34m)\u001b[0m\u001b[0;34m,\u001b[0m \u001b[0minput\u001b[0m\u001b[0;34m.\u001b[0m\u001b[0msize\u001b[0m\u001b[0;34m(\u001b[0m\u001b[0;34m)\u001b[0m\u001b[0;34m)\u001b[0m\u001b[0;34m)\u001b[0m\u001b[0;34m\u001b[0m\u001b[0;34m\u001b[0m\u001b[0m\n\u001b[0m\u001b[1;32m   2959\u001b[0m \u001b[0;34m\u001b[0m\u001b[0m\n\u001b[1;32m   2960\u001b[0m     \u001b[0;32mreturn\u001b[0m \u001b[0mtorch\u001b[0m\u001b[0;34m.\u001b[0m\u001b[0mbinary_cross_entropy_with_logits\u001b[0m\u001b[0;34m(\u001b[0m\u001b[0minput\u001b[0m\u001b[0;34m,\u001b[0m \u001b[0mtarget\u001b[0m\u001b[0;34m,\u001b[0m \u001b[0mweight\u001b[0m\u001b[0;34m,\u001b[0m \u001b[0mpos_weight\u001b[0m\u001b[0;34m,\u001b[0m \u001b[0mreduction_enum\u001b[0m\u001b[0;34m)\u001b[0m\u001b[0;34m\u001b[0m\u001b[0;34m\u001b[0m\u001b[0m\n",
      "\u001b[0;31mValueError\u001b[0m: Target size (torch.Size([128])) must be the same as input size (torch.Size([128, 2]))"
     ]
    }
   ],
   "source": [
    "model.train(train)"
   ]
  },
  {
   "cell_type": "code",
   "execution_count": 236,
   "id": "539f14a4",
   "metadata": {},
   "outputs": [
    {
     "data": {
      "text/plain": [
       "tensor(0.2014)"
      ]
     },
     "execution_count": 236,
     "metadata": {},
     "output_type": "execute_result"
    }
   ],
   "source": [
    "target = torch.ones([10, 64], dtype=torch.float32)  # 64 classes, batch size = 10\n",
    "output = torch.full([10, 64], 1.5)  # A prediction (logit)\n",
    "pos_weight = torch.ones([64])  # All weights are equal to 1\n",
    "criterion = torch.nn.BCEWithLogitsLoss(pos_weight=pos_weight)\n",
    "criterion(output, target)  # -log(sigmoid(1.5))"
   ]
  },
  {
   "cell_type": "code",
   "execution_count": 246,
   "id": "e27ef0f4",
   "metadata": {},
   "outputs": [
    {
     "data": {
      "text/plain": [
       "tensor([[1.5000, 1.5000, 1.5000, 1.5000, 1.5000, 1.5000, 1.5000, 1.5000, 1.5000,\n",
       "         1.5000, 1.5000, 1.5000, 1.5000, 1.5000, 1.5000, 1.5000, 1.5000, 1.5000,\n",
       "         1.5000, 1.5000, 1.5000, 1.5000, 1.5000, 1.5000, 1.5000, 1.5000, 1.5000,\n",
       "         1.5000, 1.5000, 1.5000, 1.5000, 1.5000, 1.5000, 1.5000, 1.5000, 1.5000,\n",
       "         1.5000, 1.5000, 1.5000, 1.5000, 1.5000, 1.5000, 1.5000, 1.5000, 1.5000,\n",
       "         1.5000, 1.5000, 1.5000, 1.5000, 1.5000, 1.5000, 1.5000, 1.5000, 1.5000,\n",
       "         1.5000, 1.5000, 1.5000, 1.5000, 1.5000, 1.5000, 1.5000, 1.5000, 1.5000,\n",
       "         1.5000],\n",
       "        [1.5000, 1.5000, 1.5000, 1.5000, 1.5000, 1.5000, 1.5000, 1.5000, 1.5000,\n",
       "         1.5000, 1.5000, 1.5000, 1.5000, 1.5000, 1.5000, 1.5000, 1.5000, 1.5000,\n",
       "         1.5000, 1.5000, 1.5000, 1.5000, 1.5000, 1.5000, 1.5000, 1.5000, 1.5000,\n",
       "         1.5000, 1.5000, 1.5000, 1.5000, 1.5000, 1.5000, 1.5000, 1.5000, 1.5000,\n",
       "         1.5000, 1.5000, 1.5000, 1.5000, 1.5000, 1.5000, 1.5000, 1.5000, 1.5000,\n",
       "         1.5000, 1.5000, 1.5000, 1.5000, 1.5000, 1.5000, 1.5000, 1.5000, 1.5000,\n",
       "         1.5000, 1.5000, 1.5000, 1.5000, 1.5000, 1.5000, 1.5000, 1.5000, 1.5000,\n",
       "         1.5000],\n",
       "        [1.5000, 1.5000, 1.5000, 1.5000, 1.5000, 1.5000, 1.5000, 1.5000, 1.5000,\n",
       "         1.5000, 1.5000, 1.5000, 1.5000, 1.5000, 1.5000, 1.5000, 1.5000, 1.5000,\n",
       "         1.5000, 1.5000, 1.5000, 1.5000, 1.5000, 1.5000, 1.5000, 1.5000, 1.5000,\n",
       "         1.5000, 1.5000, 1.5000, 1.5000, 1.5000, 1.5000, 1.5000, 1.5000, 1.5000,\n",
       "         1.5000, 1.5000, 1.5000, 1.5000, 1.5000, 1.5000, 1.5000, 1.5000, 1.5000,\n",
       "         1.5000, 1.5000, 1.5000, 1.5000, 1.5000, 1.5000, 1.5000, 1.5000, 1.5000,\n",
       "         1.5000, 1.5000, 1.5000, 1.5000, 1.5000, 1.5000, 1.5000, 1.5000, 1.5000,\n",
       "         1.5000],\n",
       "        [1.5000, 1.5000, 1.5000, 1.5000, 1.5000, 1.5000, 1.5000, 1.5000, 1.5000,\n",
       "         1.5000, 1.5000, 1.5000, 1.5000, 1.5000, 1.5000, 1.5000, 1.5000, 1.5000,\n",
       "         1.5000, 1.5000, 1.5000, 1.5000, 1.5000, 1.5000, 1.5000, 1.5000, 1.5000,\n",
       "         1.5000, 1.5000, 1.5000, 1.5000, 1.5000, 1.5000, 1.5000, 1.5000, 1.5000,\n",
       "         1.5000, 1.5000, 1.5000, 1.5000, 1.5000, 1.5000, 1.5000, 1.5000, 1.5000,\n",
       "         1.5000, 1.5000, 1.5000, 1.5000, 1.5000, 1.5000, 1.5000, 1.5000, 1.5000,\n",
       "         1.5000, 1.5000, 1.5000, 1.5000, 1.5000, 1.5000, 1.5000, 1.5000, 1.5000,\n",
       "         1.5000],\n",
       "        [1.5000, 1.5000, 1.5000, 1.5000, 1.5000, 1.5000, 1.5000, 1.5000, 1.5000,\n",
       "         1.5000, 1.5000, 1.5000, 1.5000, 1.5000, 1.5000, 1.5000, 1.5000, 1.5000,\n",
       "         1.5000, 1.5000, 1.5000, 1.5000, 1.5000, 1.5000, 1.5000, 1.5000, 1.5000,\n",
       "         1.5000, 1.5000, 1.5000, 1.5000, 1.5000, 1.5000, 1.5000, 1.5000, 1.5000,\n",
       "         1.5000, 1.5000, 1.5000, 1.5000, 1.5000, 1.5000, 1.5000, 1.5000, 1.5000,\n",
       "         1.5000, 1.5000, 1.5000, 1.5000, 1.5000, 1.5000, 1.5000, 1.5000, 1.5000,\n",
       "         1.5000, 1.5000, 1.5000, 1.5000, 1.5000, 1.5000, 1.5000, 1.5000, 1.5000,\n",
       "         1.5000],\n",
       "        [1.5000, 1.5000, 1.5000, 1.5000, 1.5000, 1.5000, 1.5000, 1.5000, 1.5000,\n",
       "         1.5000, 1.5000, 1.5000, 1.5000, 1.5000, 1.5000, 1.5000, 1.5000, 1.5000,\n",
       "         1.5000, 1.5000, 1.5000, 1.5000, 1.5000, 1.5000, 1.5000, 1.5000, 1.5000,\n",
       "         1.5000, 1.5000, 1.5000, 1.5000, 1.5000, 1.5000, 1.5000, 1.5000, 1.5000,\n",
       "         1.5000, 1.5000, 1.5000, 1.5000, 1.5000, 1.5000, 1.5000, 1.5000, 1.5000,\n",
       "         1.5000, 1.5000, 1.5000, 1.5000, 1.5000, 1.5000, 1.5000, 1.5000, 1.5000,\n",
       "         1.5000, 1.5000, 1.5000, 1.5000, 1.5000, 1.5000, 1.5000, 1.5000, 1.5000,\n",
       "         1.5000],\n",
       "        [1.5000, 1.5000, 1.5000, 1.5000, 1.5000, 1.5000, 1.5000, 1.5000, 1.5000,\n",
       "         1.5000, 1.5000, 1.5000, 1.5000, 1.5000, 1.5000, 1.5000, 1.5000, 1.5000,\n",
       "         1.5000, 1.5000, 1.5000, 1.5000, 1.5000, 1.5000, 1.5000, 1.5000, 1.5000,\n",
       "         1.5000, 1.5000, 1.5000, 1.5000, 1.5000, 1.5000, 1.5000, 1.5000, 1.5000,\n",
       "         1.5000, 1.5000, 1.5000, 1.5000, 1.5000, 1.5000, 1.5000, 1.5000, 1.5000,\n",
       "         1.5000, 1.5000, 1.5000, 1.5000, 1.5000, 1.5000, 1.5000, 1.5000, 1.5000,\n",
       "         1.5000, 1.5000, 1.5000, 1.5000, 1.5000, 1.5000, 1.5000, 1.5000, 1.5000,\n",
       "         1.5000],\n",
       "        [1.5000, 1.5000, 1.5000, 1.5000, 1.5000, 1.5000, 1.5000, 1.5000, 1.5000,\n",
       "         1.5000, 1.5000, 1.5000, 1.5000, 1.5000, 1.5000, 1.5000, 1.5000, 1.5000,\n",
       "         1.5000, 1.5000, 1.5000, 1.5000, 1.5000, 1.5000, 1.5000, 1.5000, 1.5000,\n",
       "         1.5000, 1.5000, 1.5000, 1.5000, 1.5000, 1.5000, 1.5000, 1.5000, 1.5000,\n",
       "         1.5000, 1.5000, 1.5000, 1.5000, 1.5000, 1.5000, 1.5000, 1.5000, 1.5000,\n",
       "         1.5000, 1.5000, 1.5000, 1.5000, 1.5000, 1.5000, 1.5000, 1.5000, 1.5000,\n",
       "         1.5000, 1.5000, 1.5000, 1.5000, 1.5000, 1.5000, 1.5000, 1.5000, 1.5000,\n",
       "         1.5000],\n",
       "        [1.5000, 1.5000, 1.5000, 1.5000, 1.5000, 1.5000, 1.5000, 1.5000, 1.5000,\n",
       "         1.5000, 1.5000, 1.5000, 1.5000, 1.5000, 1.5000, 1.5000, 1.5000, 1.5000,\n",
       "         1.5000, 1.5000, 1.5000, 1.5000, 1.5000, 1.5000, 1.5000, 1.5000, 1.5000,\n",
       "         1.5000, 1.5000, 1.5000, 1.5000, 1.5000, 1.5000, 1.5000, 1.5000, 1.5000,\n",
       "         1.5000, 1.5000, 1.5000, 1.5000, 1.5000, 1.5000, 1.5000, 1.5000, 1.5000,\n",
       "         1.5000, 1.5000, 1.5000, 1.5000, 1.5000, 1.5000, 1.5000, 1.5000, 1.5000,\n",
       "         1.5000, 1.5000, 1.5000, 1.5000, 1.5000, 1.5000, 1.5000, 1.5000, 1.5000,\n",
       "         1.5000],\n",
       "        [1.5000, 1.5000, 1.5000, 1.5000, 1.5000, 1.5000, 1.5000, 1.5000, 1.5000,\n",
       "         1.5000, 1.5000, 1.5000, 1.5000, 1.5000, 1.5000, 1.5000, 1.5000, 1.5000,\n",
       "         1.5000, 1.5000, 1.5000, 1.5000, 1.5000, 1.5000, 1.5000, 1.5000, 1.5000,\n",
       "         1.5000, 1.5000, 1.5000, 1.5000, 1.5000, 1.5000, 1.5000, 1.5000, 1.5000,\n",
       "         1.5000, 1.5000, 1.5000, 1.5000, 1.5000, 1.5000, 1.5000, 1.5000, 1.5000,\n",
       "         1.5000, 1.5000, 1.5000, 1.5000, 1.5000, 1.5000, 1.5000, 1.5000, 1.5000,\n",
       "         1.5000, 1.5000, 1.5000, 1.5000, 1.5000, 1.5000, 1.5000, 1.5000, 1.5000,\n",
       "         1.5000]])"
      ]
     },
     "execution_count": 246,
     "metadata": {},
     "output_type": "execute_result"
    }
   ],
   "source": [
    "output"
   ]
  },
  {
   "cell_type": "code",
   "execution_count": 245,
   "id": "857d68ab",
   "metadata": {},
   "outputs": [
    {
     "data": {
      "text/plain": [
       "tensor([[1., 1., 1., 1., 1., 1., 1., 1., 1., 1., 1., 1., 1., 1., 1., 1., 1., 1.,\n",
       "         1., 1., 1., 1., 1., 1., 1., 1., 1., 1., 1., 1., 1., 1., 1., 1., 1., 1.,\n",
       "         1., 1., 1., 1., 1., 1., 1., 1., 1., 1., 1., 1., 1., 1., 1., 1., 1., 1.,\n",
       "         1., 1., 1., 1., 1., 1., 1., 1., 1., 1.],\n",
       "        [1., 1., 1., 1., 1., 1., 1., 1., 1., 1., 1., 1., 1., 1., 1., 1., 1., 1.,\n",
       "         1., 1., 1., 1., 1., 1., 1., 1., 1., 1., 1., 1., 1., 1., 1., 1., 1., 1.,\n",
       "         1., 1., 1., 1., 1., 1., 1., 1., 1., 1., 1., 1., 1., 1., 1., 1., 1., 1.,\n",
       "         1., 1., 1., 1., 1., 1., 1., 1., 1., 1.],\n",
       "        [1., 1., 1., 1., 1., 1., 1., 1., 1., 1., 1., 1., 1., 1., 1., 1., 1., 1.,\n",
       "         1., 1., 1., 1., 1., 1., 1., 1., 1., 1., 1., 1., 1., 1., 1., 1., 1., 1.,\n",
       "         1., 1., 1., 1., 1., 1., 1., 1., 1., 1., 1., 1., 1., 1., 1., 1., 1., 1.,\n",
       "         1., 1., 1., 1., 1., 1., 1., 1., 1., 1.],\n",
       "        [1., 1., 1., 1., 1., 1., 1., 1., 1., 1., 1., 1., 1., 1., 1., 1., 1., 1.,\n",
       "         1., 1., 1., 1., 1., 1., 1., 1., 1., 1., 1., 1., 1., 1., 1., 1., 1., 1.,\n",
       "         1., 1., 1., 1., 1., 1., 1., 1., 1., 1., 1., 1., 1., 1., 1., 1., 1., 1.,\n",
       "         1., 1., 1., 1., 1., 1., 1., 1., 1., 1.],\n",
       "        [1., 1., 1., 1., 1., 1., 1., 1., 1., 1., 1., 1., 1., 1., 1., 1., 1., 1.,\n",
       "         1., 1., 1., 1., 1., 1., 1., 1., 1., 1., 1., 1., 1., 1., 1., 1., 1., 1.,\n",
       "         1., 1., 1., 1., 1., 1., 1., 1., 1., 1., 1., 1., 1., 1., 1., 1., 1., 1.,\n",
       "         1., 1., 1., 1., 1., 1., 1., 1., 1., 1.],\n",
       "        [1., 1., 1., 1., 1., 1., 1., 1., 1., 1., 1., 1., 1., 1., 1., 1., 1., 1.,\n",
       "         1., 1., 1., 1., 1., 1., 1., 1., 1., 1., 1., 1., 1., 1., 1., 1., 1., 1.,\n",
       "         1., 1., 1., 1., 1., 1., 1., 1., 1., 1., 1., 1., 1., 1., 1., 1., 1., 1.,\n",
       "         1., 1., 1., 1., 1., 1., 1., 1., 1., 1.],\n",
       "        [1., 1., 1., 1., 1., 1., 1., 1., 1., 1., 1., 1., 1., 1., 1., 1., 1., 1.,\n",
       "         1., 1., 1., 1., 1., 1., 1., 1., 1., 1., 1., 1., 1., 1., 1., 1., 1., 1.,\n",
       "         1., 1., 1., 1., 1., 1., 1., 1., 1., 1., 1., 1., 1., 1., 1., 1., 1., 1.,\n",
       "         1., 1., 1., 1., 1., 1., 1., 1., 1., 1.],\n",
       "        [1., 1., 1., 1., 1., 1., 1., 1., 1., 1., 1., 1., 1., 1., 1., 1., 1., 1.,\n",
       "         1., 1., 1., 1., 1., 1., 1., 1., 1., 1., 1., 1., 1., 1., 1., 1., 1., 1.,\n",
       "         1., 1., 1., 1., 1., 1., 1., 1., 1., 1., 1., 1., 1., 1., 1., 1., 1., 1.,\n",
       "         1., 1., 1., 1., 1., 1., 1., 1., 1., 1.],\n",
       "        [1., 1., 1., 1., 1., 1., 1., 1., 1., 1., 1., 1., 1., 1., 1., 1., 1., 1.,\n",
       "         1., 1., 1., 1., 1., 1., 1., 1., 1., 1., 1., 1., 1., 1., 1., 1., 1., 1.,\n",
       "         1., 1., 1., 1., 1., 1., 1., 1., 1., 1., 1., 1., 1., 1., 1., 1., 1., 1.,\n",
       "         1., 1., 1., 1., 1., 1., 1., 1., 1., 1.],\n",
       "        [1., 1., 1., 1., 1., 1., 1., 1., 1., 1., 1., 1., 1., 1., 1., 1., 1., 1.,\n",
       "         1., 1., 1., 1., 1., 1., 1., 1., 1., 1., 1., 1., 1., 1., 1., 1., 1., 1.,\n",
       "         1., 1., 1., 1., 1., 1., 1., 1., 1., 1., 1., 1., 1., 1., 1., 1., 1., 1.,\n",
       "         1., 1., 1., 1., 1., 1., 1., 1., 1., 1.]])"
      ]
     },
     "execution_count": 245,
     "metadata": {},
     "output_type": "execute_result"
    }
   ],
   "source": [
    "target"
   ]
  },
  {
   "cell_type": "code",
   "execution_count": 211,
   "id": "05a8c5df",
   "metadata": {},
   "outputs": [
    {
     "data": {
      "text/plain": [
       "torch.Size([20, 33, 48])"
      ]
     },
     "execution_count": 211,
     "metadata": {},
     "output_type": "execute_result"
    }
   ],
   "source": [
    "m = nn.Conv1d(16, 33, 3, stride=1)\n",
    "input = torch.randn(20, 16, 50)\n",
    "output = m(input)\n",
    "output.shape"
   ]
  },
  {
   "cell_type": "code",
   "execution_count": 212,
   "id": "d2d5f27a",
   "metadata": {},
   "outputs": [],
   "source": [
    "x = nn.Conv1d(64,64,1,padding='valid')\\\n",
    "    (nn.Conv1d(64,64,3,padding='same')\\\n",
    "     (nn.Conv1d(10,64,kernel_size=1,stride=2,padding='valid')(train[0][0].unsqueeze(-3).float())))"
   ]
  },
  {
   "cell_type": "code",
   "execution_count": 213,
   "id": "1d97cc85",
   "metadata": {},
   "outputs": [],
   "source": [
    "res = train[0][0].unsqueeze(-3).float()"
   ]
  },
  {
   "cell_type": "code",
   "execution_count": 214,
   "id": "15680190",
   "metadata": {},
   "outputs": [
    {
     "data": {
      "text/plain": [
       "torch.Size([1, 64, 23])"
      ]
     },
     "execution_count": 214,
     "metadata": {},
     "output_type": "execute_result"
    }
   ],
   "source": [
    "x.shape"
   ]
  },
  {
   "cell_type": "code",
   "execution_count": 215,
   "id": "085cfd8f",
   "metadata": {},
   "outputs": [
    {
     "data": {
      "text/plain": [
       "torch.Size([1, 64, 23])"
      ]
     },
     "execution_count": 215,
     "metadata": {},
     "output_type": "execute_result"
    }
   ],
   "source": [
    "res_x.shape"
   ]
  },
  {
   "cell_type": "code",
   "execution_count": 216,
   "id": "2d3e3e4d",
   "metadata": {},
   "outputs": [],
   "source": [
    "res_x = nn.Conv1d(10,64,1,stride=2,padding='valid')(res)"
   ]
  },
  {
   "cell_type": "code",
   "execution_count": 217,
   "id": "9d2a2e91",
   "metadata": {},
   "outputs": [
    {
     "data": {
      "text/plain": [
       "torch.Size([1, 64, 23])"
      ]
     },
     "execution_count": 217,
     "metadata": {},
     "output_type": "execute_result"
    }
   ],
   "source": [
    "torch.add(x,res_x).shape"
   ]
  },
  {
   "cell_type": "code",
   "execution_count": 218,
   "id": "6d9311e4",
   "metadata": {},
   "outputs": [],
   "source": [
    "class ResBlock(nn.Module):\n",
    "    def __init__(self, ni, nf, f, s=2):\n",
    "        super(ResBlock,self).__init__()\n",
    "        \n",
    "        \n",
    "        self.conv1 = nn.Conv1d(ni, nf, kernel_size=1, stride=s,padding='valid')\n",
    "        self.conv2 = nn.Conv1d(nf, nf, kernel_size=f,stride=1,padding='same')\n",
    "        self.conv3 = nn.Conv1d(nf, nf, kernel_size=1,stride=1,padding='valid')\n",
    "\n",
    "        # expand channels for the sum if necessary\n",
    "        self.shortcut = nn.Conv1d(ni, nf, 1, stride=s,padding='valid')\n",
    "        self.add = torch.add\n",
    "        self.act = nn.ReLU()\n",
    "\n",
    "    def forward(self, x):\n",
    "        res = x\n",
    "        x = self.conv1(x)\n",
    "        x = self.conv2(x)\n",
    "        x = self.conv3(x)\n",
    "        x = self.add(x, self.shortcut(res))\n",
    "        x = self.act(x)\n",
    "        return x\n",
    "    \n",
    "class ResNet(nn.Module):\n",
    "    def __init__(self, c_in, c_out):\n",
    "        super(ResNet,self).__init__()\n",
    "        nf = 64\n",
    "        kernels=[7, 5, 3]\n",
    "        self.resblock1 = ResBlock(c_in, nf, f=3)\n",
    "        self.resblock2 = ResBlock(nf, nf * 2, f=3)\n",
    "        self.resblock3 = ResBlock(nf * 2, nf * 2, f=3)\n",
    "        self.gap = nn.AdaptiveAvgPool1d(1)\n",
    "        self.squeeze = nn.Flatten()\n",
    "        self.fc = nn.Linear(nf * 2, c_out)\n",
    "\n",
    "    def forward(self, x, mask):\n",
    "        x = self.resblock1(x)\n",
    "        x = self.resblock2(x)\n",
    "        x = self.resblock3(x)\n",
    "        x = self.squeeze(self.gap(x))\n",
    "        return self.fc(x)"
   ]
  },
  {
   "cell_type": "code",
   "execution_count": null,
   "id": "5559357c",
   "metadata": {},
   "outputs": [],
   "source": []
  },
  {
   "cell_type": "code",
   "execution_count": 168,
   "id": "91d4079a",
   "metadata": {},
   "outputs": [],
   "source": [
    "resnet = ResNet(10,2)"
   ]
  },
  {
   "cell_type": "code",
   "execution_count": 169,
   "id": "2af59626",
   "metadata": {},
   "outputs": [],
   "source": [
    "model = train_model(resnet)"
   ]
  },
  {
   "cell_type": "code",
   "execution_count": 170,
   "id": "b0a5ee30",
   "metadata": {},
   "outputs": [
    {
     "name": "stdout",
     "output_type": "stream",
     "text": [
      "\u001b[94mEpoch 0:\u001b[0m 59.293%\n",
      "\u001b[94mEpoch 1:\u001b[0m 58.347%\n",
      "\u001b[94mEpoch 2:\u001b[0m 58.964%\n",
      "\u001b[94mEpoch 3:\u001b[0m 58.183%\n",
      "\u001b[94mEpoch 4:\u001b[0m 57.648%\n",
      "\u001b[94mEpoch 5:\u001b[0m 56.785%\n",
      "\u001b[94mEpoch 6:\u001b[0m 57.278%\n",
      "\u001b[94mEpoch 7:\u001b[0m 55.674%\n",
      "\u001b[94mEpoch 8:\u001b[0m 59.498%\n",
      "\u001b[94mEpoch 9:\u001b[0m 54.646%\n",
      "\u001b[94mEpoch 10:\u001b[0m 57.854%\n",
      "\u001b[94mEpoch 11:\u001b[0m 59.169%\n",
      "\u001b[94mEpoch 12:\u001b[0m 55.674%\n",
      "\u001b[94mEpoch 13:\u001b[0m 57.566%\n",
      "\u001b[94mEpoch 14:\u001b[0m 58.018%\n",
      "\u001b[94mEpoch 15:\u001b[0m 58.183%\n",
      "\u001b[94mEpoch 16:\u001b[0m 56.743%\n",
      "\u001b[94mEpoch 17:\u001b[0m 59.745%\n",
      "\u001b[94mEpoch 18:\u001b[0m 54.482%\n",
      "\u001b[94mEpoch 19:\u001b[0m 57.401%\n",
      "\u001b[94mEpoch 20:\u001b[0m 59.128%\n",
      "\u001b[94mEpoch 21:\u001b[0m 59.046%\n",
      "\u001b[94mEpoch 22:\u001b[0m 60.074%\n",
      "\u001b[94mEpoch 23:\u001b[0m 56.25%\n",
      "\u001b[94mEpoch 24:\u001b[0m 57.155%\n",
      "\u001b[94mEpoch 25:\u001b[0m 57.484%\n",
      "\u001b[94mEpoch 26:\u001b[0m 58.183%\n",
      "\u001b[94mEpoch 27:\u001b[0m 56.291%\n",
      "\u001b[94mEpoch 28:\u001b[0m 58.265%\n",
      "\u001b[94mEpoch 29:\u001b[0m 57.196%\n",
      "\u001b[94mEpoch 30:\u001b[0m 58.84%\n",
      "\u001b[94mEpoch 31:\u001b[0m 57.031%\n",
      "\u001b[94mEpoch 32:\u001b[0m 57.442%\n",
      "\u001b[94mEpoch 33:\u001b[0m 57.319%\n",
      "\u001b[94mEpoch 34:\u001b[0m 58.758%\n",
      "\u001b[94mEpoch 35:\u001b[0m 61.719%\n",
      "\u001b[94mEpoch 36:\u001b[0m 59.128%\n",
      "\u001b[94mEpoch 37:\u001b[0m 59.539%\n",
      "\u001b[94mEpoch 38:\u001b[0m 60.033%\n",
      "\u001b[94mEpoch 39:\u001b[0m 60.485%\n",
      "\u001b[94mEpoch 40:\u001b[0m 60.609%\n",
      "\u001b[94mEpoch 41:\u001b[0m 60.321%\n",
      "\u001b[94mEpoch 42:\u001b[0m 59.951%\n",
      "\u001b[94mEpoch 43:\u001b[0m 60.074%\n",
      "\u001b[94mEpoch 44:\u001b[0m 60.65%\n",
      "\u001b[94mEpoch 45:\u001b[0m 59.211%\n",
      "\u001b[94mEpoch 46:\u001b[0m 59.622%\n",
      "\u001b[94mEpoch 47:\u001b[0m 61.883%\n",
      "\u001b[94mEpoch 48:\u001b[0m 61.184%\n",
      "\u001b[94mEpoch 49:\u001b[0m 61.637%\n",
      "\u001b[94mEpoch 50:\u001b[0m 61.061%\n",
      "\u001b[94mEpoch 51:\u001b[0m 60.896%\n",
      "\u001b[94mEpoch 52:\u001b[0m 61.842%\n",
      "\u001b[94mEpoch 53:\u001b[0m 62.253%\n",
      "\u001b[94mEpoch 54:\u001b[0m 61.883%\n",
      "\u001b[94mEpoch 55:\u001b[0m 58.47%\n",
      "\u001b[94mEpoch 56:\u001b[0m 61.143%\n",
      "\u001b[94mEpoch 57:\u001b[0m 61.924%\n",
      "\u001b[94mEpoch 58:\u001b[0m 60.773%\n",
      "\u001b[94mEpoch 59:\u001b[0m 57.237%\n",
      "\u001b[94mEpoch 60:\u001b[0m 62.993%\n",
      "\u001b[94mEpoch 61:\u001b[0m 61.431%\n",
      "\u001b[94mEpoch 62:\u001b[0m 63.363%\n",
      "\u001b[94mEpoch 63:\u001b[0m 59.91%\n",
      "\u001b[94mEpoch 64:\u001b[0m 57.196%\n",
      "\u001b[94mEpoch 65:\u001b[0m 63.199%\n",
      "\u001b[94mEpoch 66:\u001b[0m 61.965%\n",
      "\u001b[94mEpoch 67:\u001b[0m 64.268%\n",
      "\u001b[94mEpoch 68:\u001b[0m 61.842%\n",
      "\u001b[94mEpoch 69:\u001b[0m 62.911%\n",
      "\u001b[94mEpoch 70:\u001b[0m 63.487%\n",
      "\u001b[94mEpoch 71:\u001b[0m 66.735%\n",
      "\u001b[94mEpoch 72:\u001b[0m 62.87%\n",
      "\u001b[94mEpoch 73:\u001b[0m 64.062%\n",
      "\u001b[94mEpoch 74:\u001b[0m 65.008%\n",
      "\u001b[94mEpoch 75:\u001b[0m 64.638%\n",
      "\u001b[94mEpoch 76:\u001b[0m 65.378%\n",
      "\u001b[94mEpoch 77:\u001b[0m 64.391%\n",
      "\u001b[94mEpoch 78:\u001b[0m 62.952%\n",
      "\u001b[94mEpoch 79:\u001b[0m 63.24%\n",
      "\u001b[94mEpoch 80:\u001b[0m 60.28%\n",
      "\u001b[94mEpoch 81:\u001b[0m 58.265%\n",
      "\u001b[94mEpoch 82:\u001b[0m 64.145%\n",
      "\u001b[94mEpoch 83:\u001b[0m 59.827%\n",
      "\u001b[94mEpoch 84:\u001b[0m 63.98%\n",
      "\u001b[94mEpoch 85:\u001b[0m 58.1%\n",
      "\u001b[94mEpoch 86:\u001b[0m 65.214%\n",
      "\u001b[94mEpoch 87:\u001b[0m 58.923%\n",
      "\u001b[94mEpoch 88:\u001b[0m 63.898%\n",
      "\u001b[94mEpoch 89:\u001b[0m 65.666%\n",
      "\u001b[94mEpoch 90:\u001b[0m 59.416%\n",
      "\u001b[94mEpoch 91:\u001b[0m 58.141%\n",
      "\u001b[94mEpoch 92:\u001b[0m 61.637%\n",
      "\u001b[94mEpoch 93:\u001b[0m 65.872%\n",
      "\u001b[94mEpoch 94:\u001b[0m 64.433%\n",
      "\u001b[94mEpoch 95:\u001b[0m 61.143%\n",
      "\u001b[94mEpoch 96:\u001b[0m 61.719%\n",
      "\u001b[94mEpoch 97:\u001b[0m 60.691%\n",
      "\u001b[94mEpoch 98:\u001b[0m 56.579%\n",
      "\u001b[94mEpoch 99:\u001b[0m 61.924%\n"
     ]
    }
   ],
   "source": [
    "model.train(train, batch_size=128)"
   ]
  },
  {
   "cell_type": "code",
   "execution_count": 172,
   "id": "911d1179",
   "metadata": {},
   "outputs": [
    {
     "data": {
      "text/plain": [
       "{'mean batch accuracy': 0.5388257575757576}"
      ]
     },
     "execution_count": 172,
     "metadata": {},
     "output_type": "execute_result"
    }
   ],
   "source": [
    "model.evaluate(val)"
   ]
  },
  {
   "cell_type": "code",
   "execution_count": 175,
   "id": "41003811",
   "metadata": {},
   "outputs": [
    {
     "name": "stdout",
     "output_type": "stream",
     "text": [
      "\u001b[92m\n",
      "Accuracy: \u001b[0m 0.619254119687771\n",
      "\n",
      "\u001b[0mClassification Report:\n",
      "\n",
      "              precision    recall  f1-score   support\n",
      "\n",
      "           0       0.64      0.68      0.66      1238\n",
      "           1       0.60      0.55      0.57      1068\n",
      "\n",
      "    accuracy                           0.62      2306\n",
      "   macro avg       0.62      0.61      0.61      2306\n",
      "weighted avg       0.62      0.62      0.62      2306\n",
      "\n",
      "\n",
      "\u001b[0mConfusion Matrix:\n",
      "\n",
      "\u001b[91m             Total lenght of Data:\u001b[0m 2306 \n",
      "\n",
      "\u001b[94m             Class 0:\u001b[0m 1316\n",
      "\u001b[94m             Class 1:\u001b[0m 990 \n",
      "\u001b[0m\n",
      "Confusion matrix, without normalization\n",
      "[[838 400]\n",
      " [478 590]]\n",
      "\n",
      "\n"
     ]
    },
    {
     "data": {
      "image/png": "[encoded data removed]",
      "text/plain": [
       "<Figure size 432x288 with 2 Axes>"
      ]
     },
     "metadata": {
      "needs_background": "light"
     },
     "output_type": "display_data"
    },
    {
     "data": {
      "image/png": "[encoded data removed]",
      "text/plain": [
       "<Figure size 432x288 with 1 Axes>"
      ]
     },
     "metadata": {
      "needs_background": "light"
     },
     "output_type": "display_data"
    }
   ],
   "source": [
    "model.analyze(train)"
   ]
  },
  {
   "cell_type": "code",
   "execution_count": null,
   "id": "cf5831fe",
   "metadata": {},
   "outputs": [],
   "source": [
    "super_model = TSTransformerEncoderLSTM(feat_dim,max_len,128,16,3,256,2,lstm_layers=2,hidden_size=128,dropout=0.1)"
   ]
  },
  {
   "cell_type": "code",
   "execution_count": 79,
   "id": "30aa6b9c",
   "metadata": {},
   "outputs": [],
   "source": [
    "supervised = train_model(super_model)"
   ]
  },
  {
   "cell_type": "code",
   "execution_count": null,
   "id": "d940f145",
   "metadata": {},
   "outputs": [],
   "source": []
  },
  {
   "cell_type": "code",
   "execution_count": 35,
   "id": "4eff368d",
   "metadata": {
    "scrolled": true
   },
   "outputs": [
    {
     "name": "stdout",
     "output_type": "stream",
     "text": [
      "\u001b[94mEpoch 0:\u001b[0m 55.241%\n",
      "\u001b[94mEpoch 1:\u001b[0m 57.099%\n",
      "\u001b[94mEpoch 2:\u001b[0m 58.349%\n",
      "\u001b[94mEpoch 3:\u001b[0m 58.864%\n",
      "\u001b[94mEpoch 4:\u001b[0m 60.545%\n",
      "\u001b[94mEpoch 5:\u001b[0m 61.537%\n",
      "\u001b[94mEpoch 6:\u001b[0m 62.479%\n",
      "\u001b[94mEpoch 7:\u001b[0m 64.02%\n",
      "\u001b[94mEpoch 8:\u001b[0m 66.153%\n",
      "\u001b[94mEpoch 9:\u001b[0m 67.842%\n",
      "\u001b[94mEpoch 10:\u001b[0m 69.552%\n",
      "\u001b[94mEpoch 11:\u001b[0m 71.748%\n",
      "\u001b[94mEpoch 12:\u001b[0m 72.952%\n",
      "\u001b[94mEpoch 13:\u001b[0m 75.971%\n",
      "\u001b[94mEpoch 14:\u001b[0m 77.386%\n",
      "\u001b[94mEpoch 15:\u001b[0m 78.568%\n",
      "\u001b[94mEpoch 16:\u001b[0m 80.363%\n",
      "\u001b[94mEpoch 17:\u001b[0m 81.609%\n",
      "\u001b[94mEpoch 18:\u001b[0m 83.171%\n",
      "\u001b[94mEpoch 19:\u001b[0m 83.425%\n",
      "\u001b[94mEpoch 20:\u001b[0m 84.734%\n",
      "\u001b[94mEpoch 21:\u001b[0m 86.254%\n",
      "\u001b[94mEpoch 22:\u001b[0m 86.465%\n",
      "\u001b[94mEpoch 23:\u001b[0m 87.141%\n",
      "\u001b[94mEpoch 24:\u001b[0m 87.162%\n",
      "\u001b[94mEpoch 25:\u001b[0m 88.302%\n",
      "\u001b[94mEpoch 26:\u001b[0m 88.936%\n",
      "\u001b[94mEpoch 27:\u001b[0m 89.949%\n",
      "\u001b[94mEpoch 28:\u001b[0m 89.949%\n",
      "\u001b[94mEpoch 29:\u001b[0m 90.519%\n",
      "\u001b[94mEpoch 30:\u001b[0m 91.322%\n",
      "\u001b[94mEpoch 31:\u001b[0m 91.343%\n",
      "\u001b[94mEpoch 32:\u001b[0m 91.596%\n",
      "\u001b[94mEpoch 33:\u001b[0m 91.427%\n",
      "\u001b[94mEpoch 34:\u001b[0m 92.483%\n",
      "\u001b[94mEpoch 35:\u001b[0m 91.892%\n",
      "\u001b[94mEpoch 36:\u001b[0m 92.483%\n",
      "\u001b[94mEpoch 37:\u001b[0m 93.581%\n",
      "\u001b[94mEpoch 38:\u001b[0m 93.644%\n",
      "\u001b[94mEpoch 39:\u001b[0m 92.927%\n",
      "\u001b[94mEpoch 40:\u001b[0m 93.412%\n",
      "\u001b[94mEpoch 41:\u001b[0m 93.644%\n",
      "\u001b[94mEpoch 42:\u001b[0m 93.877%\n",
      "\u001b[94mEpoch 43:\u001b[0m 93.982%\n",
      "\u001b[94mEpoch 44:\u001b[0m 94.785%\n",
      "\u001b[94mEpoch 45:\u001b[0m 94.658%\n",
      "\u001b[94mEpoch 46:\u001b[0m 95.08%\n",
      "\u001b[94mEpoch 47:\u001b[0m 94.679%\n",
      "\u001b[94mEpoch 48:\u001b[0m 94.679%\n",
      "\u001b[94mEpoch 49:\u001b[0m 95.545%\n",
      "\u001b[94mEpoch 50:\u001b[0m 94.827%\n",
      "\u001b[94mEpoch 51:\u001b[0m 95.587%\n",
      "\u001b[94mEpoch 52:\u001b[0m 95.524%\n",
      "\u001b[94mEpoch 53:\u001b[0m 95.165%\n",
      "\u001b[94mEpoch 54:\u001b[0m 94.954%\n",
      "\u001b[94mEpoch 55:\u001b[0m 96.052%\n",
      "\u001b[94mEpoch 56:\u001b[0m 95.798%\n",
      "\u001b[94mEpoch 57:\u001b[0m 96.432%\n",
      "\u001b[94mEpoch 58:\u001b[0m 95.312%\n",
      "\u001b[94mEpoch 59:\u001b[0m 95.65%\n",
      "\u001b[94mEpoch 60:\u001b[0m 96.199%\n",
      "\u001b[94mEpoch 61:\u001b[0m 96.009%\n",
      "\u001b[94mEpoch 62:\u001b[0m 96.263%\n",
      "\u001b[94mEpoch 63:\u001b[0m 96.242%\n",
      "\u001b[94mEpoch 64:\u001b[0m 96.516%\n",
      "\u001b[94mEpoch 65:\u001b[0m 96.347%\n",
      "\u001b[94mEpoch 66:\u001b[0m 96.326%\n",
      "\u001b[94mEpoch 67:\u001b[0m 96.453%\n",
      "\u001b[94mEpoch 68:\u001b[0m 96.537%\n",
      "\u001b[94mEpoch 69:\u001b[0m 96.474%\n",
      "\u001b[94mEpoch 70:\u001b[0m 96.769%\n",
      "\u001b[94mEpoch 71:\u001b[0m 97.044%\n",
      "\u001b[94mEpoch 72:\u001b[0m 97.192%\n",
      "\u001b[94mEpoch 73:\u001b[0m 96.896%\n",
      "\u001b[94mEpoch 74:\u001b[0m 96.938%\n",
      "\u001b[94mEpoch 75:\u001b[0m 96.854%\n",
      "\u001b[94mEpoch 76:\u001b[0m 97.023%\n",
      "\u001b[94mEpoch 77:\u001b[0m 96.812%\n",
      "\u001b[94mEpoch 78:\u001b[0m 96.769%\n",
      "\u001b[94mEpoch 79:\u001b[0m 96.664%\n",
      "\u001b[94mEpoch 80:\u001b[0m 96.917%\n",
      "\u001b[94mEpoch 81:\u001b[0m 97.086%\n",
      "\u001b[94mEpoch 82:\u001b[0m 97.107%\n",
      "\u001b[94mEpoch 83:\u001b[0m 97.318%\n",
      "\u001b[94mEpoch 84:\u001b[0m 97.466%\n",
      "\u001b[94mEpoch 85:\u001b[0m 97.255%\n",
      "\u001b[94mEpoch 86:\u001b[0m 96.875%\n",
      "\u001b[94mEpoch 87:\u001b[0m 97.086%\n",
      "\u001b[94mEpoch 88:\u001b[0m 96.664%\n",
      "\u001b[94mEpoch 89:\u001b[0m 97.361%\n",
      "\u001b[94mEpoch 90:\u001b[0m 97.508%\n",
      "\u001b[94mEpoch 91:\u001b[0m 97.149%\n",
      "\u001b[94mEpoch 92:\u001b[0m 97.065%\n",
      "\u001b[94mEpoch 93:\u001b[0m 97.065%\n",
      "\u001b[94mEpoch 94:\u001b[0m 97.255%\n",
      "\u001b[94mEpoch 95:\u001b[0m 97.424%\n",
      "\u001b[94mEpoch 96:\u001b[0m 97.466%\n",
      "\u001b[94mEpoch 97:\u001b[0m 97.424%\n",
      "\u001b[94mEpoch 98:\u001b[0m 97.382%\n",
      "\u001b[94mEpoch 99:\u001b[0m 97.192%\n"
     ]
    },
    {
     "data": {
      "text/plain": [
       "[<matplotlib.lines.Line2D at 0x7fbfa1b203d0>]"
      ]
     },
     "execution_count": 35,
     "metadata": {},
     "output_type": "execute_result"
    },
    {
     "data": {
      "image/png": "[encoded data removed]",
      "text/plain": [
       "<Figure size 432x288 with 1 Axes>"
      ]
     },
     "metadata": {
      "needs_background": "light"
     },
     "output_type": "display_data"
    }
   ],
   "source": [
    "supervised.train(train, verbose=True, return_loss=True, \n",
    "                 epochs= 100, batch_size=128)"
   ]
  },
  {
   "cell_type": "code",
   "execution_count": null,
   "id": "9595f59d",
   "metadata": {},
   "outputs": [],
   "source": []
  },
  {
   "cell_type": "code",
   "execution_count": 36,
   "id": "18a6fd8c",
   "metadata": {},
   "outputs": [
    {
     "data": {
      "text/plain": [
       "{'mean batch accuracy': 0.4699519230769231}"
      ]
     },
     "execution_count": 36,
     "metadata": {},
     "output_type": "execute_result"
    }
   ],
   "source": [
    "supervised.evaluate(val,batch_size=128)"
   ]
  },
  {
   "cell_type": "code",
   "execution_count": 94,
   "id": "38e7f784",
   "metadata": {},
   "outputs": [
    {
     "name": "stdout",
     "output_type": "stream",
     "text": [
      "\u001b[92m\n",
      "Accuracy: \u001b[0m 0.5369607630609148\n",
      "\n",
      "\u001b[0mClassification Report:\n",
      "\n",
      "              precision    recall  f1-score   support\n",
      "\n",
      "           0       0.71      0.57      0.63      3236\n",
      "           1       0.31      0.47      0.38      1377\n",
      "\n",
      "    accuracy                           0.54      4613\n",
      "   macro avg       0.51      0.52      0.50      4613\n",
      "weighted avg       0.60      0.54      0.56      4613\n",
      "\n",
      "\n",
      "\u001b[0mConfusion Matrix:\n",
      "\n",
      "\u001b[91m             Total lenght of Data:\u001b[0m 4613 \n",
      "\n",
      "\u001b[94m             Class 0:\u001b[0m 2562\n",
      "\u001b[94m             Class 1:\u001b[0m 2051 \n",
      "\u001b[0m\n",
      "Confusion matrix, without normalization\n",
      "[[1831 1405]\n",
      " [ 731  646]]\n",
      "\n",
      "\n"
     ]
    },
    {
     "data": {
      "image/png": "[encoded data removed]",
      "text/plain": [
       "<Figure size 432x288 with 2 Axes>"
      ]
     },
     "metadata": {
      "needs_background": "light"
     },
     "output_type": "display_data"
    },
    {
     "data": {
      "image/png": "[encoded data removed]",
      "text/plain": [
       "<Figure size 432x288 with 1 Axes>"
      ]
     },
     "metadata": {
      "needs_background": "light"
     },
     "output_type": "display_data"
    }
   ],
   "source": [
    "supervised.analyze(train,color='icefire_r')"
   ]
  },
  {
   "cell_type": "code",
   "execution_count": null,
   "id": "67a4fcb7",
   "metadata": {},
   "outputs": [],
   "source": []
  },
  {
   "cell_type": "code",
   "execution_count": null,
   "id": "a1a6acff",
   "metadata": {},
   "outputs": [],
   "source": []
  },
  {
   "cell_type": "code",
   "execution_count": null,
   "id": "5ea49e1f",
   "metadata": {},
   "outputs": [],
   "source": []
  },
  {
   "cell_type": "code",
   "execution_count": null,
   "id": "47a50145",
   "metadata": {},
   "outputs": [],
   "source": []
  },
  {
   "cell_type": "code",
   "execution_count": null,
   "id": "f80e45ce",
   "metadata": {},
   "outputs": [],
   "source": []
  },
  {
   "cell_type": "code",
   "execution_count": null,
   "id": "b11fa03d",
   "metadata": {},
   "outputs": [],
   "source": []
  },
  {
   "cell_type": "code",
   "execution_count": null,
   "id": "26ddd179",
   "metadata": {},
   "outputs": [],
   "source": []
  },
  {
   "cell_type": "code",
   "execution_count": null,
   "id": "b56ebb44",
   "metadata": {},
   "outputs": [],
   "source": []
  },
  {
   "cell_type": "code",
   "execution_count": null,
   "id": "3d458cc3",
   "metadata": {},
   "outputs": [],
   "source": []
  },
  {
   "cell_type": "code",
   "execution_count": null,
   "id": "820ad8eb",
   "metadata": {},
   "outputs": [],
   "source": []
  },
  {
   "cell_type": "code",
   "execution_count": 442,
   "id": "52e81048",
   "metadata": {},
   "outputs": [],
   "source": [
    "#from torchviz import make_dot"
   ]
  },
  {
   "cell_type": "code",
   "execution_count": 1372,
   "id": "62707a7c",
   "metadata": {},
   "outputs": [],
   "source": [
    "class pretrain():\n",
    "    \n",
    "    def __init__(self,model):\n",
    "        self.model = model\n",
    "        self.loss_module = nn.MSELoss()\n",
    "        self.epoch_metrics = {}\n",
    "        self.total_loss = 0\n",
    "        self.batch_loss = []\n",
    "        \n",
    "        \n",
    "    def train(self,data, batch_size=20,epochs=100,verbose=True,return_loss=False):\n",
    "        self.model = self.model.train()\n",
    "        self.data = data\n",
    "        self.verbose = verbose\n",
    "        self.return_loss = return_loss\n",
    "        self.batch_size = batch_size\n",
    "        self.epochs = epochs\n",
    "  \n",
    "\n",
    "        for epoch in range(self.epochs):\n",
    "    \n",
    "            total_batch_loss = 0\n",
    "            total_loss = 0\n",
    "    \n",
    "            for i, batch in enumerate(DataLoader(self.data,self.batch_size)):\n",
    "                masked_data, targets, target_masks, padding_masks = batch\n",
    "                prediction = self.model(masked_data,padding_masks)\n",
    "                masked_prediction = torch.masked_select(prediction,target_masks)\n",
    "                masked_true = torch.masked_select(targets, target_masks)\n",
    "                optimizer = optim.Adam(self.model.parameters())\n",
    "                loss = self.loss_module(masked_prediction, masked_true)\n",
    "        \n",
    "                total_loss +=loss\n",
    "                mean_batch_loss = total_loss/(i+1)\n",
    "        \n",
    "                optimizer.zero_grad()\n",
    "                loss.backward()\n",
    "                torch.nn.utils.clip_grad_norm_(self.model.parameters(), max_norm=4.0)\n",
    "                optimizer.step()\n",
    "        \n",
    "                metrics = {'mean batch loss':mean_batch_loss.item()}\n",
    "        \n",
    "        \n",
    "            self.batch_loss.append(mean_batch_loss.detach().numpy())\n",
    "            if self.verbose:\n",
    "                print('Epoch {}: {}'.format(epoch,round(mean_batch_loss.item(),3)))\n",
    "            self.total_loss += mean_batch_loss\n",
    "            self.epoch_metrics['Epoch'] = epoch\n",
    "            self.epoch_metrics['Loss'] = self.total_loss/(epoch+1)\n",
    "        \n",
    "        if self.return_loss:\n",
    "            return plt.plot(self.batch_loss)\n",
    "        else:\n",
    "            return self.epoch_metrcrics['Loss']\n",
    "        \n",
    "        \n",
    "    def evaluate(self,data,batch_size=20):\n",
    "            self.data = data\n",
    "            self.batch_size = batch_size\n",
    "            total_batch_loss = 0\n",
    "            self.model = self.model.eval()\n",
    "            \n",
    "            for i, batch in enumerate(DataLoader(self.data, self.batch_size)):\n",
    "                masked_data, targets, target_masks, padding_masks = batch\n",
    "                prediction = self.model(masked_data, padding_masks)\n",
    "                masked_prediction = torch.masked_select(prediction,target_masks)\n",
    "                masked_true = torch.masked_select(targets, target_masks)\n",
    "                \n",
    "                batch_loss = self.loss_module(masked_prediction, masked_true)\n",
    "                total_batch_loss += batch_loss\n",
    "                mean_bach_loss = total_batch_loss/(i+1)\n",
    "            metrics = {'mean batch loss':mean_bach_loss.item()}\n",
    "                \n",
    "            return metrics"
   ]
  },
  {
   "cell_type": "code",
   "execution_count": 1439,
   "id": "dd5b9237",
   "metadata": {},
   "outputs": [],
   "source": [
    "unsuper_model = TSTransformerEncoder(feat_dim,max_len,32,16,3,128)"
   ]
  },
  {
   "cell_type": "code",
   "execution_count": 1440,
   "id": "d0e46739",
   "metadata": {},
   "outputs": [],
   "source": [
    "unsupervised = pretrain(unsuper_model)"
   ]
  },
  {
   "cell_type": "code",
   "execution_count": 1444,
   "id": "fa02bd39",
   "metadata": {},
   "outputs": [
    {
     "name": "stdout",
     "output_type": "stream",
     "text": [
      "Epoch 0: 0.178\n",
      "Epoch 1: 0.178\n",
      "Epoch 2: 0.176\n",
      "Epoch 3: 0.178\n",
      "Epoch 4: 0.177\n",
      "Epoch 5: 0.176\n",
      "Epoch 6: 0.176\n",
      "Epoch 7: 0.175\n",
      "Epoch 8: 0.176\n",
      "Epoch 9: 0.175\n",
      "Epoch 10: 0.176\n",
      "Epoch 11: 0.174\n",
      "Epoch 12: 0.175\n",
      "Epoch 13: 0.174\n",
      "Epoch 14: 0.174\n",
      "Epoch 15: 0.174\n",
      "Epoch 16: 0.173\n",
      "Epoch 17: 0.174\n",
      "Epoch 18: 0.173\n",
      "Epoch 19: 0.173\n",
      "Epoch 20: 0.173\n",
      "Epoch 21: 0.172\n",
      "Epoch 22: 0.171\n",
      "Epoch 23: 0.173\n",
      "Epoch 24: 0.171\n",
      "Epoch 25: 0.17\n",
      "Epoch 26: 0.171\n",
      "Epoch 27: 0.17\n",
      "Epoch 28: 0.171\n",
      "Epoch 29: 0.17\n",
      "Epoch 30: 0.17\n",
      "Epoch 31: 0.17\n",
      "Epoch 32: 0.169\n",
      "Epoch 33: 0.169\n",
      "Epoch 34: 0.168\n",
      "Epoch 35: 0.168\n",
      "Epoch 36: 0.168\n",
      "Epoch 37: 0.168\n",
      "Epoch 38: 0.167\n",
      "Epoch 39: 0.167\n",
      "Epoch 40: 0.168\n",
      "Epoch 41: 0.166\n",
      "Epoch 42: 0.166\n",
      "Epoch 43: 0.167\n",
      "Epoch 44: 0.167\n",
      "Epoch 45: 0.166\n",
      "Epoch 46: 0.166\n",
      "Epoch 47: 0.167\n",
      "Epoch 48: 0.166\n",
      "Epoch 49: 0.165\n",
      "Epoch 50: 0.167\n",
      "Epoch 51: 0.165\n",
      "Epoch 52: 0.165\n",
      "Epoch 53: 0.164\n",
      "Epoch 54: 0.165\n",
      "Epoch 55: 0.165\n",
      "Epoch 56: 0.164\n",
      "Epoch 57: 0.163\n",
      "Epoch 58: 0.163\n",
      "Epoch 59: 0.164\n",
      "Epoch 60: 0.163\n",
      "Epoch 61: 0.162\n",
      "Epoch 62: 0.163\n",
      "Epoch 63: 0.163\n",
      "Epoch 64: 0.162\n",
      "Epoch 65: 0.161\n",
      "Epoch 66: 0.161\n",
      "Epoch 67: 0.161\n",
      "Epoch 68: 0.161\n",
      "Epoch 69: 0.162\n",
      "Epoch 70: 0.162\n",
      "Epoch 71: 0.162\n",
      "Epoch 72: 0.16\n",
      "Epoch 73: 0.161\n",
      "Epoch 74: 0.16\n",
      "Epoch 75: 0.16\n",
      "Epoch 76: 0.16\n",
      "Epoch 77: 0.16\n",
      "Epoch 78: 0.16\n",
      "Epoch 79: 0.16\n",
      "Epoch 80: 0.159\n",
      "Epoch 81: 0.159\n",
      "Epoch 82: 0.158\n",
      "Epoch 83: 0.158\n",
      "Epoch 84: 0.158\n",
      "Epoch 85: 0.158\n",
      "Epoch 86: 0.158\n",
      "Epoch 87: 0.158\n",
      "Epoch 88: 0.159\n",
      "Epoch 89: 0.158\n",
      "Epoch 90: 0.157\n",
      "Epoch 91: 0.158\n",
      "Epoch 92: 0.157\n",
      "Epoch 93: 0.158\n",
      "Epoch 94: 0.156\n",
      "Epoch 95: 0.158\n",
      "Epoch 96: 0.157\n",
      "Epoch 97: 0.156\n",
      "Epoch 98: 0.157\n",
      "Epoch 99: 0.157\n"
     ]
    },
    {
     "data": {
      "text/plain": [
       "[<matplotlib.lines.Line2D at 0x7ff5b8141be0>]"
      ]
     },
     "execution_count": 1444,
     "metadata": {},
     "output_type": "execute_result"
    },
    {
     "data": {
      "image/png": "[encoded data removed]",
      "text/plain": [
       "<Figure size 432x288 with 1 Axes>"
      ]
     },
     "metadata": {
      "needs_background": "light"
     },
     "output_type": "display_data"
    }
   ],
   "source": [
    "unsupervised.train(train_mask_data,verbose=True, return_loss=True,epochs=100,batch_size=128)"
   ]
  },
  {
   "cell_type": "code",
   "execution_count": 1445,
   "id": "5ea8864c",
   "metadata": {},
   "outputs": [
    {
     "data": {
      "text/plain": [
       "{'mean batch loss': 3.1651411056518555}"
      ]
     },
     "execution_count": 1445,
     "metadata": {},
     "output_type": "execute_result"
    }
   ],
   "source": [
    "unsupervised.evaluate(test_mask_data)"
   ]
  },
  {
   "cell_type": "code",
   "execution_count": 1446,
   "id": "ccb5bf0d",
   "metadata": {},
   "outputs": [
    {
     "data": {
      "text/plain": [
       "{'mean batch loss': 0.13050149381160736}"
      ]
     },
     "execution_count": 1446,
     "metadata": {},
     "output_type": "execute_result"
    }
   ],
   "source": [
    "unsupervised.evaluate(train_mask_data)"
   ]
  },
  {
   "cell_type": "code",
   "execution_count": 1447,
   "id": "b06786bb",
   "metadata": {},
   "outputs": [
    {
     "data": {
      "text/plain": [
       "990"
      ]
     },
     "execution_count": 1447,
     "metadata": {},
     "output_type": "execute_result"
    }
   ],
   "source": [
    "feat_dim*max_len"
   ]
  },
  {
   "cell_type": "code",
   "execution_count": 1448,
   "id": "dda4b562",
   "metadata": {},
   "outputs": [],
   "source": [
    "class unsupervised_model(nn.Module):\n",
    "    \n",
    "    def __init__(self,model,d_model, max_len, num_classes):\n",
    "        super(unsupervised_model, self).__init__()\n",
    "        \n",
    "        self.model = model\n",
    "        self.linear = nn.Linear(d_model * max_len, num_classes)\n",
    "        self.loss_module = nn.CrossEntropyLoss()\n",
    "        \n",
    "    def forward(self, X, padding_masks):\n",
    "        \n",
    "        prediction = self.model(X, padding_masks)\n",
    "        prediction = prediction.reshape(prediction.shape[0], -1)\n",
    "        output = self.linear(prediction)\n",
    "       \n",
    "        return output"
   ]
  },
  {
   "cell_type": "code",
   "execution_count": null,
   "id": "59454364",
   "metadata": {},
   "outputs": [],
   "source": []
  },
  {
   "cell_type": "code",
   "execution_count": 1449,
   "id": "7f6ff17d",
   "metadata": {},
   "outputs": [],
   "source": [
    "pretrained_model = unsupervised_model(unsuper_model,feat_dim,max_len,n_class)"
   ]
  },
  {
   "cell_type": "code",
   "execution_count": null,
   "id": "67556132",
   "metadata": {},
   "outputs": [],
   "source": []
  },
  {
   "cell_type": "code",
   "execution_count": 183,
   "id": "9b53d10b",
   "metadata": {},
   "outputs": [
    {
     "ename": "NameError",
     "evalue": "name 'pretrained_model' is not defined",
     "output_type": "error",
     "traceback": [
      "\u001b[0;31m---------------------------------------------------------------------------\u001b[0m",
      "\u001b[0;31mNameError\u001b[0m                                 Traceback (most recent call last)",
      "\u001b[0;32m/var/folders/tp/r9md9jss78nf28s4cq7vcg580000gn/T/ipykernel_22491/1919122780.py\u001b[0m in \u001b[0;36m<module>\u001b[0;34m\u001b[0m\n\u001b[0;32m----> 1\u001b[0;31m \u001b[0mpretrain_supervised\u001b[0m \u001b[0;34m=\u001b[0m \u001b[0mtrain_model\u001b[0m\u001b[0;34m(\u001b[0m\u001b[0mpretrained_model\u001b[0m\u001b[0;34m)\u001b[0m\u001b[0;34m\u001b[0m\u001b[0;34m\u001b[0m\u001b[0m\n\u001b[0m",
      "\u001b[0;31mNameError\u001b[0m: name 'pretrained_model' is not defined"
     ]
    }
   ],
   "source": [
    "pretrain_supervised = train_model(pretrained_model)"
   ]
  },
  {
   "cell_type": "code",
   "execution_count": 1451,
   "id": "5e3578f6",
   "metadata": {},
   "outputs": [
    {
     "name": "stdout",
     "output_type": "stream",
     "text": [
      "Epoch 0: 54.387%\n",
      "Epoch 1: 58.774%\n",
      "Epoch 2: 63.101%\n",
      "Epoch 3: 67.368%\n",
      "Epoch 4: 68.99%\n",
      "Epoch 5: 71.575%\n",
      "Epoch 6: 74.579%\n",
      "Epoch 7: 75.18%\n",
      "Epoch 8: 78.305%\n",
      "Epoch 9: 79.327%\n",
      "Epoch 10: 79.447%\n",
      "Epoch 11: 79.928%\n",
      "Epoch 12: 81.19%\n",
      "Epoch 13: 82.091%\n",
      "Epoch 14: 84.135%\n",
      "Epoch 15: 84.375%\n",
      "Epoch 16: 83.534%\n",
      "Epoch 17: 83.474%\n",
      "Epoch 18: 84.916%\n",
      "Epoch 19: 82.933%\n",
      "Epoch 20: 84.375%\n",
      "Epoch 21: 84.195%\n",
      "Epoch 22: 85.036%\n",
      "Epoch 23: 85.216%\n",
      "Epoch 24: 85.276%\n",
      "Epoch 25: 85.216%\n",
      "Epoch 26: 86.779%\n",
      "Epoch 27: 85.877%\n",
      "Epoch 28: 86.779%\n",
      "Epoch 29: 87.56%\n",
      "Epoch 30: 86.659%\n",
      "Epoch 31: 86.899%\n",
      "Epoch 32: 87.981%\n",
      "Epoch 33: 87.079%\n",
      "Epoch 34: 88.221%\n",
      "Epoch 35: 87.74%\n",
      "Epoch 36: 88.281%\n",
      "Epoch 37: 88.221%\n",
      "Epoch 38: 88.401%\n",
      "Epoch 39: 88.462%\n",
      "Epoch 40: 89.603%\n",
      "Epoch 41: 88.822%\n",
      "Epoch 42: 89.904%\n",
      "Epoch 43: 88.161%\n",
      "Epoch 44: 89.363%\n",
      "Epoch 45: 90.745%\n",
      "Epoch 46: 90.084%\n",
      "Epoch 47: 88.882%\n",
      "Epoch 48: 89.844%\n",
      "Epoch 49: 90.385%\n",
      "Epoch 50: 91.286%\n",
      "Epoch 51: 90.865%\n",
      "Epoch 52: 89.603%\n",
      "Epoch 53: 89.123%\n",
      "Epoch 54: 90.445%\n",
      "Epoch 55: 91.106%\n",
      "Epoch 56: 91.166%\n",
      "Epoch 57: 90.385%\n",
      "Epoch 58: 91.587%\n",
      "Epoch 59: 90.685%\n",
      "Epoch 60: 91.887%\n",
      "Epoch 61: 90.385%\n",
      "Epoch 62: 89.483%\n",
      "Epoch 63: 90.925%\n",
      "Epoch 64: 91.827%\n",
      "Epoch 65: 90.565%\n",
      "Epoch 66: 90.865%\n",
      "Epoch 67: 91.767%\n",
      "Epoch 68: 91.887%\n",
      "Epoch 69: 92.368%\n",
      "Epoch 70: 91.046%\n",
      "Epoch 71: 92.849%\n",
      "Epoch 72: 92.067%\n",
      "Epoch 73: 91.947%\n",
      "Epoch 74: 92.067%\n",
      "Epoch 75: 92.608%\n",
      "Epoch 76: 92.308%\n",
      "Epoch 77: 92.067%\n",
      "Epoch 78: 92.188%\n",
      "Epoch 79: 92.668%\n",
      "Epoch 80: 92.969%\n",
      "Epoch 81: 93.209%\n",
      "Epoch 82: 92.548%\n",
      "Epoch 83: 93.029%\n",
      "Epoch 84: 92.909%\n",
      "Epoch 85: 93.269%\n",
      "Epoch 86: 93.269%\n",
      "Epoch 87: 93.089%\n",
      "Epoch 88: 92.849%\n",
      "Epoch 89: 91.827%\n",
      "Epoch 90: 93.51%\n",
      "Epoch 91: 93.69%\n",
      "Epoch 92: 93.029%\n",
      "Epoch 93: 93.93%\n",
      "Epoch 94: 94.05%\n",
      "Epoch 95: 93.329%\n",
      "Epoch 96: 94.05%\n",
      "Epoch 97: 93.029%\n",
      "Epoch 98: 93.029%\n",
      "Epoch 99: 94.591%\n"
     ]
    },
    {
     "data": {
      "text/plain": [
       "[<matplotlib.lines.Line2D at 0x7ff5b826aa60>]"
      ]
     },
     "execution_count": 1451,
     "metadata": {},
     "output_type": "execute_result"
    },
    {
     "data": {
      "image/png": "[encoded data removed]",
      "text/plain": [
       "<Figure size 432x288 with 1 Axes>"
      ]
     },
     "metadata": {
      "needs_background": "light"
     },
     "output_type": "display_data"
    }
   ],
   "source": [
    "pretrain_supervised.train(train_data,epochs=100,verbose=True,return_loss=True)"
   ]
  },
  {
   "cell_type": "code",
   "execution_count": 1452,
   "id": "3b1b8f00",
   "metadata": {},
   "outputs": [
    {
     "data": {
      "text/plain": [
       "{'mean batch accuracy': 0.47478991596638653}"
      ]
     },
     "execution_count": 1452,
     "metadata": {},
     "output_type": "execute_result"
    }
   ],
   "source": [
    "pretrain_supervised.evaluate(test_data,batch_size=64)"
   ]
  },
  {
   "cell_type": "code",
   "execution_count": 1381,
   "id": "a3184725",
   "metadata": {},
   "outputs": [],
   "source": [
    "class unsupervised_lstm_model(nn.Module):\n",
    "    \n",
    "    def __init__(self,model,d_model, max_len, num_classes):\n",
    "        super(unsupervised_lstm_model, self).__init__()\n",
    "        \n",
    "        self.model = model\n",
    "        self.linear = nn.Linear(d_model * max_len, num_classes)\n",
    "        self.loss_module = nn.CrossEntropyLoss()\n",
    "        self.output_layer = self.linear(num_classes)\n",
    "        self.lstm = nn.LSTM(d_model,30,1,batch_first=True)\n",
    "        self.dropout = nn.Dropout(0.3)\n",
    "        \n",
    "    def linear(self,num_classes):\n",
    "        output_layer = nn.Linear(30,num_classes)\n",
    "        # no softmax (or log softmax), because CrossEntropyLoss does this internally. If probabilities are needed,\n",
    "        # add F.log_softmax and use NLLoss\n",
    "        return output_layer\n",
    "\n",
    "    def forward(self, X, padding_masks):\n",
    "        \n",
    "        prediction = self.model(X, padding_masks)\n",
    "        h0=c0= torch.zeros(1,prediction.size(0),30)\n",
    "        output, (hn, cn) = self.lstm(prediction, (h0,c0)) \n",
    "        hn = hn.view(-1,30)\n",
    "        output = self.output_layer(hn)\n",
    "        output = self.dropout(output)\n",
    "        return output       \n",
    "         "
   ]
  },
  {
   "cell_type": "code",
   "execution_count": 1382,
   "id": "25d8bd3c",
   "metadata": {},
   "outputs": [],
   "source": [
    "pretrain_model_lstm = unsupervised_lstm_model(unsuper_model,feat_dim,max_len,n_class)"
   ]
  },
  {
   "cell_type": "code",
   "execution_count": 1383,
   "id": "b8bd2c26",
   "metadata": {},
   "outputs": [],
   "source": [
    "pretrain_supervised = train_model(pretrain_model_lstm)"
   ]
  },
  {
   "cell_type": "code",
   "execution_count": 1419,
   "id": "ffb73978",
   "metadata": {},
   "outputs": [
    {
     "name": "stdout",
     "output_type": "stream",
     "text": [
      "Epoch 0: 87.56%\n",
      "Epoch 1: 86.779%\n",
      "Epoch 2: 86.779%\n",
      "Epoch 3: 87.019%\n",
      "Epoch 4: 88.041%\n",
      "Epoch 5: 87.38%\n",
      "Epoch 6: 87.5%\n",
      "Epoch 7: 87.981%\n",
      "Epoch 8: 86.298%\n",
      "Epoch 9: 87.56%\n"
     ]
    },
    {
     "data": {
      "text/plain": [
       "[<matplotlib.lines.Line2D at 0x7ff57a565c40>]"
      ]
     },
     "execution_count": 1419,
     "metadata": {},
     "output_type": "execute_result"
    },
    {
     "data": {
      "image/png": "[encoded data removed]",
      "text/plain": [
       "<Figure size 432x288 with 1 Axes>"
      ]
     },
     "metadata": {
      "needs_background": "light"
     },
     "output_type": "display_data"
    }
   ],
   "source": [
    "pretrain_supervised.train(train_data,epochs=10,verbose=True,return_loss=True)"
   ]
  },
  {
   "cell_type": "code",
   "execution_count": 1420,
   "id": "8047d459",
   "metadata": {},
   "outputs": [
    {
     "data": {
      "text/plain": [
       "{'mean batch accuracy': 0.5446428571428572}"
      ]
     },
     "execution_count": 1420,
     "metadata": {},
     "output_type": "execute_result"
    }
   ],
   "source": [
    "pretrain_supervised.evaluate(test_data)"
   ]
  },
  {
   "cell_type": "code",
   "execution_count": null,
   "id": "088682d3",
   "metadata": {},
   "outputs": [],
   "source": []
  },
  {
   "cell_type": "code",
   "execution_count": 9,
   "id": "ccfd8c6d",
   "metadata": {},
   "outputs": [],
   "source": [
    "import torch"
   ]
  },
  {
   "cell_type": "code",
   "execution_count": 3,
   "id": "3cc257c3",
   "metadata": {},
   "outputs": [],
   "source": [
    "from preprocess import train_model\n",
    "from preprocess import data_preprocess"
   ]
  },
  {
   "cell_type": "code",
   "execution_count": 27,
   "id": "a914bf46",
   "metadata": {},
   "outputs": [],
   "source": [
    "name = 'UAL'"
   ]
  },
  {
   "cell_type": "code",
   "execution_count": 28,
   "id": "1d2adda2",
   "metadata": {},
   "outputs": [],
   "source": [
    "preprocess = data_preprocess()"
   ]
  },
  {
   "cell_type": "code",
   "execution_count": 29,
   "id": "28ce61e5",
   "metadata": {},
   "outputs": [],
   "source": [
    "preprocess.get_data(name=name, path ='/users/abhijitdeshpande/documents/project files/full hourly data/',days=15)"
   ]
  },
  {
   "cell_type": "code",
   "execution_count": 30,
   "id": "1306671a",
   "metadata": {},
   "outputs": [
    {
     "name": "stdout",
     "output_type": "stream",
     "text": [
      "\u001b[1mTotal Samples: 5604\n",
      "\u001b[92mTraining Samples: 3362\n",
      "\u001b[92mValidation Samples: 1120\n",
      "\u001b[92mTesting Samples: 1122\n"
     ]
    }
   ],
   "source": [
    "train, val, test, feat_dim, max_len = preprocess.prepare_data(supervised=True)"
   ]
  },
  {
   "cell_type": "code",
   "execution_count": 31,
   "id": "814154af",
   "metadata": {},
   "outputs": [],
   "source": [
    "model = torch.load('/users/abhijitdeshpande/desktop/models/'+name)"
   ]
  },
  {
   "cell_type": "code",
   "execution_count": 32,
   "id": "05db416b",
   "metadata": {},
   "outputs": [],
   "source": [
    "supervised = train_model(model)"
   ]
  },
  {
   "cell_type": "code",
   "execution_count": 38,
   "id": "f34a778a",
   "metadata": {
    "scrolled": true
   },
   "outputs": [
    {
     "name": "stdout",
     "output_type": "stream",
     "text": [
      "\u001b[92m\n",
      "Accuracy: \u001b[0m 0.5723214285714285\n",
      "\n",
      "\u001b[0mClassification Report:\n",
      "\n",
      "              precision    recall  f1-score   support\n",
      "\n",
      "           0       0.64      0.63      0.64       665\n",
      "           1       0.47      0.48      0.48       455\n",
      "\n",
      "    accuracy                           0.57      1120\n",
      "   macro avg       0.56      0.56      0.56      1120\n",
      "weighted avg       0.57      0.57      0.57      1120\n",
      "\n",
      "\n",
      "\u001b[0mConfusion Matrix:\n",
      "\n",
      "\u001b[91m             Total lenght of Data:\u001b[0m 1120 \n",
      "\n",
      "\u001b[94m             Class 0:\u001b[0m 656\n",
      "\u001b[94m             Class 1:\u001b[0m 464 \n",
      "\u001b[0m\n",
      "Confusion matrix, without normalization\n",
      "[[421 244]\n",
      " [235 220]]\n",
      "\n",
      "\n"
     ]
    },
    {
     "data": {
      "image/png": "[encoded data removed]",
      "text/plain": [
       "<Figure size 432x288 with 2 Axes>"
      ]
     },
     "metadata": {
      "needs_background": "light"
     },
     "output_type": "display_data"
    },
    {
     "data": {
      "image/png": "[encoded data removed]",
      "text/plain": [
       "<Figure size 432x288 with 1 Axes>"
      ]
     },
     "metadata": {
      "needs_background": "light"
     },
     "output_type": "display_data"
    }
   ],
   "source": [
    "supervised.analyze(val,color='Reds')"
   ]
  },
  {
   "cell_type": "code",
   "execution_count": null,
   "id": "699274aa",
   "metadata": {},
   "outputs": [],
   "source": []
  },
  {
   "cell_type": "code",
   "execution_count": 116,
   "id": "3663f096",
   "metadata": {},
   "outputs": [],
   "source": [
    "from sklearn import svm"
   ]
  },
  {
   "cell_type": "code",
   "execution_count": 202,
   "id": "f09a4a1f",
   "metadata": {},
   "outputs": [],
   "source": [
    "clf = svm.SVC(C=1)"
   ]
  },
  {
   "cell_type": "code",
   "execution_count": 203,
   "id": "334c4f13",
   "metadata": {},
   "outputs": [],
   "source": [
    "from sklearn.preprocessing import StandardScaler"
   ]
  },
  {
   "cell_type": "code",
   "execution_count": 204,
   "id": "6173d9b0",
   "metadata": {},
   "outputs": [],
   "source": [
    "scaler = StandardScaler()"
   ]
  },
  {
   "cell_type": "code",
   "execution_count": 205,
   "id": "16b2f071",
   "metadata": {},
   "outputs": [],
   "source": [
    "features = scaler.fit_transform(features)"
   ]
  },
  {
   "cell_type": "code",
   "execution_count": 206,
   "id": "f42e17a1",
   "metadata": {},
   "outputs": [],
   "source": [
    "train, val, test = features[:3300], features[3300:4400], features[4400:]\n",
    "y_train, y_val, y_test = labels[:3300], labels[3300:4400], labels[4400:]"
   ]
  },
  {
   "cell_type": "code",
   "execution_count": 207,
   "id": "acc9c5b0",
   "metadata": {},
   "outputs": [
    {
     "data": {
      "text/plain": [
       "SVC(C=1)"
      ]
     },
     "execution_count": 207,
     "metadata": {},
     "output_type": "execute_result"
    }
   ],
   "source": [
    "clf.fit(train, y_train)"
   ]
  },
  {
   "cell_type": "code",
   "execution_count": 208,
   "id": "6bd8d4f9",
   "metadata": {},
   "outputs": [],
   "source": [
    "pred = clf.predict(test)"
   ]
  },
  {
   "cell_type": "code",
   "execution_count": 181,
   "id": "874cae06",
   "metadata": {},
   "outputs": [],
   "source": [
    "from sklearn.metrics import accuracy_score, classification_report"
   ]
  },
  {
   "cell_type": "code",
   "execution_count": 182,
   "id": "2effa112",
   "metadata": {},
   "outputs": [
    {
     "ename": "NameError",
     "evalue": "name 'pred' is not defined",
     "output_type": "error",
     "traceback": [
      "\u001b[0;31m---------------------------------------------------------------------------\u001b[0m",
      "\u001b[0;31mNameError\u001b[0m                                 Traceback (most recent call last)",
      "\u001b[0;32m/var/folders/tp/r9md9jss78nf28s4cq7vcg580000gn/T/ipykernel_22491/2151603053.py\u001b[0m in \u001b[0;36m<module>\u001b[0;34m\u001b[0m\n\u001b[0;32m----> 1\u001b[0;31m \u001b[0maccuracy_score\u001b[0m\u001b[0;34m(\u001b[0m\u001b[0mpred\u001b[0m\u001b[0;34m,\u001b[0m \u001b[0my_test\u001b[0m\u001b[0;34m)\u001b[0m\u001b[0;34m\u001b[0m\u001b[0;34m\u001b[0m\u001b[0m\n\u001b[0m",
      "\u001b[0;31mNameError\u001b[0m: name 'pred' is not defined"
     ]
    }
   ],
   "source": [
    "accuracy_score(pred, y_test)"
   ]
  },
  {
   "cell_type": "code",
   "execution_count": 211,
   "id": "a5a9e3a9",
   "metadata": {},
   "outputs": [
    {
     "data": {
      "text/plain": [
       "0.5233798195242002"
      ]
     },
     "execution_count": 211,
     "metadata": {},
     "output_type": "execute_result"
    }
   ],
   "source": [
    "accuracy_score(pred, y_test)"
   ]
  },
  {
   "cell_type": "code",
   "execution_count": 180,
   "id": "4327c50f",
   "metadata": {},
   "outputs": [
    {
     "ename": "NameError",
     "evalue": "name 'classification_report' is not defined",
     "output_type": "error",
     "traceback": [
      "\u001b[0;31m---------------------------------------------------------------------------\u001b[0m",
      "\u001b[0;31mNameError\u001b[0m                                 Traceback (most recent call last)",
      "\u001b[0;32m/var/folders/tp/r9md9jss78nf28s4cq7vcg580000gn/T/ipykernel_22491/827284543.py\u001b[0m in \u001b[0;36m<module>\u001b[0;34m\u001b[0m\n\u001b[0;32m----> 1\u001b[0;31m \u001b[0mprint\u001b[0m\u001b[0;34m(\u001b[0m\u001b[0mclassification_report\u001b[0m\u001b[0;34m(\u001b[0m\u001b[0mpred\u001b[0m\u001b[0;34m,\u001b[0m\u001b[0my_test\u001b[0m\u001b[0;34m)\u001b[0m\u001b[0;34m)\u001b[0m\u001b[0;34m\u001b[0m\u001b[0;34m\u001b[0m\u001b[0m\n\u001b[0m",
      "\u001b[0;31mNameError\u001b[0m: name 'classification_report' is not defined"
     ]
    }
   ],
   "source": [
    "print(classification_report(pred,y_test))"
   ]
  },
  {
   "cell_type": "code",
   "execution_count": 33,
   "id": "b6e82f61",
   "metadata": {},
   "outputs": [
    {
     "data": {
      "text/plain": [
       "9223372036854775807"
      ]
     },
     "execution_count": 33,
     "metadata": {},
     "output_type": "execute_result"
    }
   ],
   "source": [
    "import sys\n",
    "sys.maxsize"
   ]
  },
  {
   "cell_type": "code",
   "execution_count": 22,
   "id": "6fba61db",
   "metadata": {},
   "outputs": [],
   "source": [
    "from modules import TSTransformerEncoderLSTM, TSTransformerEncoderClass"
   ]
  },
  {
   "cell_type": "code",
   "execution_count": 30,
   "id": "ad79cc9f",
   "metadata": {},
   "outputs": [],
   "source": [
    "torch.manual_seed(10)\n",
    "super_model = TSTransformerEncoderClass(45,15,64,4,1,\n",
    "                                             128, 2, dropout=0.4)"
   ]
  },
  {
   "cell_type": "code",
   "execution_count": 31,
   "id": "c7739b21",
   "metadata": {},
   "outputs": [
    {
     "data": {
      "text/plain": [
       "TSTransformerEncoderClass(\n",
       "  (project_inp): Linear(in_features=45, out_features=64, bias=True)\n",
       "  (pos_enc): FixedPositionalEncoding(\n",
       "    (dropout): Dropout(p=0.4, inplace=False)\n",
       "  )\n",
       "  (transformer_encoder): TransformerEncoder(\n",
       "    (layers): ModuleList(\n",
       "      (0): TransformerBatchNormEncoderLayer(\n",
       "        (self_attn): MultiheadAttention(\n",
       "          (out_proj): NonDynamicallyQuantizableLinear(in_features=64, out_features=64, bias=True)\n",
       "        )\n",
       "        (linear1): Linear(in_features=64, out_features=128, bias=True)\n",
       "        (dropout): Dropout(p=0.4, inplace=False)\n",
       "        (linear2): Linear(in_features=128, out_features=64, bias=True)\n",
       "        (norm1): BatchNorm1d(64, eps=1e-05, momentum=0.1, affine=True, track_running_stats=True)\n",
       "        (norm2): BatchNorm1d(64, eps=1e-05, momentum=0.1, affine=True, track_running_stats=True)\n",
       "        (dropout1): Dropout(p=0.4, inplace=False)\n",
       "        (dropout2): Dropout(p=0.4, inplace=False)\n",
       "      )\n",
       "    )\n",
       "  )\n",
       "  (dropout1): Dropout(p=0.4, inplace=False)\n",
       "  (output_layer): Linear(in_features=960, out_features=2, bias=True)\n",
       ")"
      ]
     },
     "execution_count": 31,
     "metadata": {},
     "output_type": "execute_result"
    }
   ],
   "source": [
    "super_model"
   ]
  },
  {
   "cell_type": "code",
   "execution_count": null,
   "id": "0eddcc3e",
   "metadata": {},
   "outputs": [],
   "source": []
  },
  {
   "cell_type": "code",
   "execution_count": null,
   "id": "5e2bfd7d",
   "metadata": {},
   "outputs": [],
   "source": []
  }
 ],
 "metadata": {
  "kernelspec": {
   "display_name": "Python 3 (ipykernel)",
   "language": "python",
   "name": "python3"
  },
  "language_info": {
   "codemirror_mode": {
    "name": "ipython",
    "version": 3
   },
   "file_extension": ".py",
   "mimetype": "text/x-python",
   "name": "python",
   "nbconvert_exporter": "python",
   "pygments_lexer": "ipython3",
   "version": "3.8.12"
  }
 },
 "nbformat": 4,
 "nbformat_minor": 5
}
