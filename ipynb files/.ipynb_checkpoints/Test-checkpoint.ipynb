{
 "cells": [
  {
   "cell_type": "code",
   "execution_count": 1,
   "id": "c8b7ab76",
   "metadata": {},
   "outputs": [],
   "source": [
    "import torch, numpy, os\n",
    "from os import getcwd\n",
    "from preprocess import data_preprocess, train_model\n",
    "from selection import generate_labels, save, TechnicalIndicator\n",
    "import pandas as pd"
   ]
  },
  {
   "cell_type": "code",
   "execution_count": 2,
   "id": "aaf94ba9",
   "metadata": {},
   "outputs": [],
   "source": [
    "os.chdir('/users/abhijitdeshpande/desktop/indicators')"
   ]
  },
  {
   "cell_type": "code",
   "execution_count": 3,
   "id": "3e2f7fd6",
   "metadata": {},
   "outputs": [],
   "source": [
    "file = [x.split('.')[0] for x in os.listdir()]"
   ]
  },
  {
   "cell_type": "code",
   "execution_count": 4,
   "id": "ac11ceca",
   "metadata": {},
   "outputs": [
    {
     "data": {
      "text/plain": [
       "['CSCO', 'UAL', 'BA', 'V', 'EIX', 'WBA', '', 'PEG', 'R', 'JBLU']"
      ]
     },
     "execution_count": 4,
     "metadata": {},
     "output_type": "execute_result"
    }
   ],
   "source": [
    "file[:10]"
   ]
  },
  {
   "cell_type": "code",
   "execution_count": 5,
   "id": "c5855f13",
   "metadata": {},
   "outputs": [],
   "source": [
    "name = file[10]"
   ]
  },
  {
   "cell_type": "code",
   "execution_count": 6,
   "id": "0fd59380",
   "metadata": {},
   "outputs": [],
   "source": [
    "name = name\n",
    "data = pd.read_csv('/Users/abhijitdeshpande/Downloads/DJI65_2Y60min/'+name+'_2Y60min.csv')\n",
    "data = TechnicalIndicator()(data)\n",
    "labels = generate_labels(data,20,2,0.5)\n",
    "labels = labels.get_labels()\n",
    "labels.out = labels.out.apply(lambda x:1 if x>0.5 else 0 )\n",
    "save(labels,name)"
   ]
  },
  {
   "cell_type": "code",
   "execution_count": null,
   "id": "796380d5",
   "metadata": {},
   "outputs": [],
   "source": []
  },
  {
   "cell_type": "code",
   "execution_count": 7,
   "id": "bee3bb23",
   "metadata": {},
   "outputs": [
    {
     "data": {
      "text/plain": [
       "'D'"
      ]
     },
     "execution_count": 7,
     "metadata": {},
     "output_type": "execute_result"
    }
   ],
   "source": [
    "name"
   ]
  },
  {
   "cell_type": "code",
   "execution_count": 8,
   "id": "c34f9969",
   "metadata": {},
   "outputs": [],
   "source": [
    "preprocess = data_preprocess()"
   ]
  },
  {
   "cell_type": "code",
   "execution_count": 9,
   "id": "94d71910",
   "metadata": {},
   "outputs": [],
   "source": [
    "path = '/Users/abhijitdeshpande/Documents/Project Files/Full Hourly Data/'"
   ]
  },
  {
   "cell_type": "code",
   "execution_count": 10,
   "id": "98ec7a68",
   "metadata": {},
   "outputs": [],
   "source": [
    "preprocess.get_data(name=name, path=path,days=15,test_size=0.3)"
   ]
  },
  {
   "cell_type": "code",
   "execution_count": 11,
   "id": "af2625ba",
   "metadata": {},
   "outputs": [
    {
     "name": "stdout",
     "output_type": "stream",
     "text": [
      "\u001b[1mTotal Samples: 4602\n",
      "\u001b[92mTraining Samples: 3221\n",
      "\u001b[92mValidation Samples: 690\n",
      "\u001b[92mTesting Samples: 691\n"
     ]
    }
   ],
   "source": [
    "train, val, test, feat_dim, max_len  = preprocess.prepare_data()"
   ]
  },
  {
   "cell_type": "code",
   "execution_count": 12,
   "id": "15554ac0",
   "metadata": {},
   "outputs": [],
   "source": [
    "from modules import TSTransformerEncoderLSTM, TSTransformerEncoderClass"
   ]
  },
  {
   "cell_type": "code",
   "execution_count": null,
   "id": "fa946879",
   "metadata": {},
   "outputs": [],
   "source": []
  },
  {
   "cell_type": "code",
   "execution_count": 17,
   "id": "9e6a154a",
   "metadata": {},
   "outputs": [],
   "source": [
    "import torch.nn as nn\n",
    "import numpy as np"
   ]
  },
  {
   "cell_type": "code",
   "execution_count": 30,
   "id": "19449133",
   "metadata": {},
   "outputs": [],
   "source": [
    "torch.manual_seed(10)\n",
    "super_model = TSTransformerEncoderLSTM(feat_dim,max_len,64,16,1,\n",
    "                                             256, 2,lstm_layers=1, hidden_layers=64,dropout=0.1)"
   ]
  },
  {
   "cell_type": "code",
   "execution_count": 31,
   "id": "8cd004a4",
   "metadata": {},
   "outputs": [],
   "source": [
    "supervised = train_model(super_model)\n",
    "supervised.compile(loss = nn.CrossEntropyLoss(),optimizer=torch.optim.Adam,lr=0.01)"
   ]
  },
  {
   "cell_type": "code",
   "execution_count": 32,
   "id": "ec7ebbc0",
   "metadata": {
    "scrolled": true
   },
   "outputs": [
    {
     "name": "stderr",
     "output_type": "stream",
     "text": [
      "No artists with labels found to put in legend.  Note that artists whose label start with an underscore are ignored when legend() is called with no argument.\n"
     ]
    },
    {
     "data": {
      "image/png": "[encoded data removed]",
      "text/plain": [
       "<Figure size 432x288 with 1 Axes>"
      ]
     },
     "metadata": {
      "needs_background": "light"
     },
     "output_type": "display_data"
    }
   ],
   "source": [
    "best_loss = supervised.train(train, val, verbose=False, return_loss=True, epochs=300 , batch_size=256,metric=True)"
   ]
  },
  {
   "cell_type": "code",
   "execution_count": 33,
   "id": "e14faacb",
   "metadata": {},
   "outputs": [
    {
     "name": "stdout",
     "output_type": "stream",
     "text": [
      "\u001b[92m\n",
      "Accuracy: \u001b[0m 0.5782608695652174\n",
      "\n",
      "\u001b[0mClassification Report:\n",
      "\n",
      "              precision    recall  f1-score   support\n",
      "\n",
      "           0       0.60      0.46      0.52       343\n",
      "           1       0.57      0.69      0.62       347\n",
      "\n",
      "    accuracy                           0.58       690\n",
      "   macro avg       0.58      0.58      0.57       690\n",
      "weighted avg       0.58      0.58      0.57       690\n",
      "\n",
      "\n",
      "\u001b[0mConfusion Matrix:\n",
      "\n",
      "\u001b[91m            Total Data Samples:\u001b[0m 690 \n",
      "\n",
      "\u001b[94m            Class 0:\u001b[0m 266\n",
      "\u001b[94m            Class 1:\u001b[0m 424 \n",
      "\u001b[0m\n",
      "Confusion matrix, without normalization\n",
      "[[159 184]\n",
      " [107 240]]\n",
      "\n",
      "\n"
     ]
    },
    {
     "data": {
      "image/png": "[encoded data removed]",
      "text/plain": [
       "<Figure size 432x288 with 2 Axes>"
      ]
     },
     "metadata": {
      "needs_background": "light"
     },
     "output_type": "display_data"
    },
    {
     "data": {
      "image/png": "[encoded data removed]",
      "text/plain": [
       "<Figure size 432x288 with 1 Axes>"
      ]
     },
     "metadata": {
      "needs_background": "light"
     },
     "output_type": "display_data"
    }
   ],
   "source": [
    "supervised.analyze(val, color='tab10_r')"
   ]
  },
  {
   "cell_type": "code",
   "execution_count": 13,
   "id": "8bc6fe73",
   "metadata": {},
   "outputs": [],
   "source": [
    "import optuna"
   ]
  },
  {
   "cell_type": "code",
   "execution_count": 22,
   "id": "1e819bb7",
   "metadata": {},
   "outputs": [],
   "source": [
    "def _train(params, train, val):\n",
    "    torch.manual_seed(10)\n",
    "    super_model = TSTransformerEncoderLSTM(feat_dim,max_len,64,16,1,\n",
    "                                         params['dim_feedforward'],2,params['lstm_layers'],\n",
    "                                         params['hidden_layers'],params['dropout'])\n",
    "    supervised = train_model(super_model)\n",
    "    supervised.compile(params['lr'],loss = nn.CrossEntropyLoss(),optimizer=torch.optim.Adam)\n",
    "    best_loss = supervised.train(train, val, verbose=False, return_loss=False, epochs=3000, \n",
    "                                 batch_size=256,metric=True)\n",
    "    return best_loss"
   ]
  },
  {
   "cell_type": "code",
   "execution_count": null,
   "id": "5451a3d8",
   "metadata": {},
   "outputs": [],
   "source": [
    "def objective(trial):\n",
    "    params = {\n",
    "        #'d_model':trial.suggest_int('d_model',4,256),\n",
    "        'dim_feedforward':trial.suggest_int('dim_feedforward',4,256),\n",
    "        'lstm_layers':trial.suggest_int('lstm_layers',1,3),\n",
    "        'hidden_layers':trial.suggest_int('hidden_layers',16,256),\n",
    "        'lr':trial.suggest_loguniform('lr',1e-7,1e-3),\n",
    "        'dropout':trial.suggest_uniform('dropout',0.1,0.7)\n",
    "    }\n",
    "    \n",
    "    _best_loss = _train(params,train,val).item()\n",
    "    \n",
    "    return _best_loss  "
   ]
  },
  {
   "cell_type": "code",
   "execution_count": null,
   "id": "06c77be3",
   "metadata": {},
   "outputs": [],
   "source": []
  },
  {
   "cell_type": "code",
   "execution_count": null,
   "id": "d47d5ab8",
   "metadata": {},
   "outputs": [
    {
     "name": "stderr",
     "output_type": "stream",
     "text": [
      "\u001b[32m[I 2021-12-20 01:11:11,101]\u001b[0m A new study created in memory with name: no-name-d920db90-46ad-43e5-9a18-8fb80f739d26\u001b[0m\n",
      "\u001b[32m[I 2021-12-20 01:39:02,742]\u001b[0m Trial 0 finished with value: 0.6627538204193115 and parameters: {'dim_feedforward': 20, 'lstm_layers': 2, 'hidden_layers': 110, 'lr': 6.472607070689779e-05, 'dropout': 0.6600224915163333}. Best is trial 0 with value: 0.6627538204193115.\u001b[0m\n",
      "\u001b[32m[I 2021-12-20 03:02:40,566]\u001b[0m Trial 1 finished with value: 0.6993124485015869 and parameters: {'dim_feedforward': 255, 'lstm_layers': 3, 'hidden_layers': 52, 'lr': 0.0005566764955475923, 'dropout': 0.6306533967032634}. Best is trial 0 with value: 0.6627538204193115.\u001b[0m\n"
     ]
    }
   ],
   "source": [
    "study = optuna.create_study(direction='minimize')\n",
    "study.optimize(objective, n_trials=4)\n",
    "print('best trail:')\n",
    "trial_ = study.best_trial\n",
    "print(trial_.values)\n",
    "print(trial_.best_params)"
   ]
  },
  {
   "cell_type": "code",
   "execution_count": null,
   "id": "4a96541c",
   "metadata": {},
   "outputs": [],
   "source": []
  },
  {
   "cell_type": "code",
   "execution_count": null,
   "id": "2bc32bc8",
   "metadata": {},
   "outputs": [],
   "source": []
  },
  {
   "cell_type": "code",
   "execution_count": 22,
   "id": "0c3307b8",
   "metadata": {
    "scrolled": false
   },
   "outputs": [
    {
     "data": {
      "text/plain": [
       "'D'"
      ]
     },
     "execution_count": 22,
     "metadata": {},
     "output_type": "execute_result"
    }
   ],
   "source": [
    "name"
   ]
  },
  {
   "cell_type": "code",
   "execution_count": 23,
   "id": "33bb1ea1",
   "metadata": {},
   "outputs": [],
   "source": [
    "path = '/Users/abhijitdeshpande/Desktop/Models/'+name"
   ]
  },
  {
   "cell_type": "code",
   "execution_count": 24,
   "id": "e43d820c",
   "metadata": {},
   "outputs": [],
   "source": [
    "torch.save(super_model,path)"
   ]
  },
  {
   "cell_type": "code",
   "execution_count": 52,
   "id": "4eb45258",
   "metadata": {},
   "outputs": [],
   "source": [
    "import numpy as np\n",
    "import torch\n",
    "import torch.nn as nn"
   ]
  },
  {
   "cell_type": "code",
   "execution_count": null,
   "id": "4f18a52f",
   "metadata": {},
   "outputs": [],
   "source": []
  },
  {
   "cell_type": "code",
   "execution_count": 53,
   "id": "1ad0e9bb",
   "metadata": {},
   "outputs": [],
   "source": [
    "class identity_block(nn.Module):\n",
    "    def __init__(self,ni,nf,f=3):\n",
    "        super(identity_block,self).__init__()\n",
    "        \n",
    "        self.conv1 = nn.Conv1d(ni, nf, kernel_size=1, stride=1,padding='valid')\n",
    "        self.conv2 = nn.Conv1d(nf, nf, kernel_size=f,stride=1,padding='same')\n",
    "        self.conv3 = nn.Conv1d(nf, nf, kernel_size=1,stride=1,padding='valid')\n",
    "        \n",
    "        self.batchnorm = nn.BatchNorm1d(nf)\n",
    "        self.act = nn.ReLU()\n",
    "        self.add = torch.add\n",
    "        \n",
    "    def forward(self,x):\n",
    "    \n",
    "        x_shortcut = x\n",
    "        x = self.conv1(x)\n",
    "        x = self.batchnorm(x)\n",
    "        x = self.act(x)\n",
    "        \n",
    "        x = self.conv2(x)\n",
    "        x = self.batchnorm(x)\n",
    "        x = self.act(x)\n",
    "        \n",
    "        x = self.conv3(x)\n",
    "        x = self.batchnorm(x)\n",
    "        \n",
    "        x = self.add(x_shortcut,x)\n",
    "        x = self.act(x)\n",
    "        \n",
    "        return x"
   ]
  },
  {
   "cell_type": "code",
   "execution_count": 54,
   "id": "b3eb26c1",
   "metadata": {},
   "outputs": [],
   "source": [
    "class convolution_block(nn.Module):\n",
    "    def __init__(self, ni, nf, f, s=2):\n",
    "        super(convolution_block,self).__init__()\n",
    "        \n",
    "        \n",
    "        self.conv1 = nn.Conv1d(ni, nf, kernel_size=1, stride=s,padding='valid')\n",
    "        self.conv2 = nn.Conv1d(nf, nf, kernel_size=f,stride=1,padding='same')\n",
    "        self.conv3 = nn.Conv1d(nf, nf, kernel_size=1,stride=1,padding='valid')\n",
    "\n",
    "        # expand channels for the sum if necessary\n",
    "        self.shortcut = nn.Conv1d(ni, nf, 1, stride=s,padding='valid')\n",
    "        self.batchnorm = nn.BatchNorm1d(nf)\n",
    "        self.add = torch.add\n",
    "        self.act = nn.ReLU()\n",
    "\n",
    "    def forward(self, x):\n",
    "        \n",
    "        x_shortcut = x\n",
    "        x = self.conv1(x)\n",
    "        x = self.batchnorm(x)\n",
    "        x = self.act(x)\n",
    "        \n",
    "        x = self.conv2(x)\n",
    "        x = self.batchnorm(x)\n",
    "        x = self.act(x)\n",
    "        \n",
    "        x = self.conv3(x)\n",
    "        x = self.batchnorm(x)\n",
    "        x = self.act(x)\n",
    "        \n",
    "        x_shortcut = self.shortcut(x_shortcut)\n",
    "        x_shortcut = self.batchnorm(x_shortcut)\n",
    "        \n",
    "        x = self.add(x, x_shortcut)\n",
    "        x = self.act(x)\n",
    "        \n",
    "        return x"
   ]
  },
  {
   "cell_type": "code",
   "execution_count": 55,
   "id": "cbd58feb",
   "metadata": {},
   "outputs": [],
   "source": [
    "class ResNet(nn.Module):\n",
    "    def __init__(self, c_in, c_out):\n",
    "        super(ResNet,self).__init__()\n",
    "        nf = 64\n",
    "        self.conv1 = convolution_block(c_in, nf, f=3,s=1)\n",
    "        self.conv2 = convolution_block(nf, nf * 2, f=3)\n",
    "        self.conv3 = convolution_block(nf * 2, nf * 4, f=3)\n",
    "        self.conv4 = convolution_block(nf*4, nf*8, f=3)\n",
    "        self.identity1 = identity_block(nf,nf)\n",
    "        self.identity2 = identity_block(nf*2,nf*2)\n",
    "        self.identity3 = identity_block(nf*4, nf*4)\n",
    "        self.identity4 = identity_block(nf*8, nf*8)\n",
    "        self.gap = nn.AdaptiveAvgPool1d(1)\n",
    "        self.squeeze = nn.Flatten()\n",
    "        self.fc = nn.Linear(nf * 8, c_out)\n",
    "\n",
    "    def forward(self, x, mask=None):\n",
    "        x = self.conv1(x)\n",
    "        x = self.identity1(x)\n",
    "        x = self.conv2(x)\n",
    "        x = self.identity2(x)\n",
    "        x = self.conv3(x)\n",
    "        x = self.identity3(x)\n",
    "        x = self.conv4(x)\n",
    "        x = self.identity4(x)\n",
    "        x = self.squeeze(self.gap(x))\n",
    "        return self.fc(x)"
   ]
  },
  {
   "cell_type": "code",
   "execution_count": 63,
   "id": "791f2f4a",
   "metadata": {},
   "outputs": [],
   "source": [
    "resnet = ResNet(max_len,2)"
   ]
  },
  {
   "cell_type": "code",
   "execution_count": 64,
   "id": "e21b6ddb",
   "metadata": {},
   "outputs": [],
   "source": [
    "model = train_model(resnet)\n",
    "model.compile(lr=0.0000001)"
   ]
  },
  {
   "cell_type": "code",
   "execution_count": 65,
   "id": "d19e3534",
   "metadata": {},
   "outputs": [
    {
     "name": "stdout",
     "output_type": "stream",
     "text": [
      "\u001b[94mEpoch: 0\u001b[0m 60.267% \u001b[91mloss:\u001b[0m 0.7309 \u001b[94m Val:\u001b[0m 61.986 \u001b[91mval_loss:\u001b[0m 1.7298\n",
      "\u001b[94mEpoch: 1\u001b[0m 60.267% \u001b[91mloss:\u001b[0m 0.73 \u001b[94m Val:\u001b[0m 61.986 \u001b[91mval_loss:\u001b[0m 2.1416\n",
      "\u001b[94mEpoch: 2\u001b[0m 60.267% \u001b[91mloss:\u001b[0m 0.7292 \u001b[94m Val:\u001b[0m 61.986 \u001b[91mval_loss:\u001b[0m 2.1469\n",
      "\u001b[94mEpoch: 3\u001b[0m 60.267% \u001b[91mloss:\u001b[0m 0.7284 \u001b[94m Val:\u001b[0m 61.986 \u001b[91mval_loss:\u001b[0m 2.1449\n",
      "\u001b[94mEpoch: 4\u001b[0m 60.267% \u001b[91mloss:\u001b[0m 0.7277 \u001b[94m Val:\u001b[0m 61.986 \u001b[91mval_loss:\u001b[0m 2.1428\n",
      "\u001b[94mEpoch: 5\u001b[0m 60.267% \u001b[91mloss:\u001b[0m 0.7269 \u001b[94m Val:\u001b[0m 61.986 \u001b[91mval_loss:\u001b[0m 2.1407\n",
      "\u001b[94mEpoch: 6\u001b[0m 60.267% \u001b[91mloss:\u001b[0m 0.7261 \u001b[94m Val:\u001b[0m 61.986 \u001b[91mval_loss:\u001b[0m 2.1386\n",
      "\u001b[94mEpoch: 7\u001b[0m 60.267% \u001b[91mloss:\u001b[0m 0.7254 \u001b[94m Val:\u001b[0m 61.986 \u001b[91mval_loss:\u001b[0m 2.1367\n",
      "\u001b[94mEpoch: 8\u001b[0m 60.267% \u001b[91mloss:\u001b[0m 0.7246 \u001b[94m Val:\u001b[0m 61.986 \u001b[91mval_loss:\u001b[0m 2.1347\n",
      "\u001b[94mEpoch: 9\u001b[0m 60.267% \u001b[91mloss:\u001b[0m 0.7239 \u001b[94m Val:\u001b[0m 61.986 \u001b[91mval_loss:\u001b[0m 2.1328\n",
      "\u001b[94mEpoch: 10\u001b[0m 60.267% \u001b[91mloss:\u001b[0m 0.7231 \u001b[94m Val:\u001b[0m 61.986 \u001b[91mval_loss:\u001b[0m 2.131\n"
     ]
    },
    {
     "name": "stderr",
     "output_type": "stream",
     "text": [
      "No artists with labels found to put in legend.  Note that artists whose label start with an underscore are ignored when legend() is called with no argument.\n"
     ]
    },
    {
     "data": {
      "image/png": "[encoded data removed]",
      "text/plain": [
       "<Figure size 432x288 with 1 Axes>"
      ]
     },
     "metadata": {
      "needs_background": "light"
     },
     "output_type": "display_data"
    }
   ],
   "source": [
    "model.train(train, val, batch_size=256,epochs=100,return_loss=True)"
   ]
  },
  {
   "cell_type": "code",
   "execution_count": 66,
   "id": "4d94f90d",
   "metadata": {},
   "outputs": [
    {
     "name": "stdout",
     "output_type": "stream",
     "text": [
      "\u001b[92m\n",
      "Accuracy: \u001b[0m 0.613603473227207\n",
      "\n",
      "\u001b[0mClassification Report:\n",
      "\n",
      "              precision    recall  f1-score   support\n",
      "\n",
      "           0       0.00      0.00      0.00         0\n",
      "           1       1.00      0.61      0.76       691\n",
      "\n",
      "    accuracy                           0.61       691\n",
      "   macro avg       0.50      0.31      0.38       691\n",
      "weighted avg       1.00      0.61      0.76       691\n",
      "\n",
      "\n",
      "\u001b[0mConfusion Matrix:\n",
      "\n",
      "\u001b[91m            Total Data Samples:\u001b[0m 691 \n",
      "\n",
      "\u001b[94m            Class 0:\u001b[0m 267\n",
      "\u001b[94m            Class 1:\u001b[0m 424 \n",
      "\u001b[0m\n",
      "Confusion matrix, without normalization\n",
      "[[  0   0]\n",
      " [267 424]]\n",
      "\n",
      "\n",
      "Something wrong\n"
     ]
    },
    {
     "data": {
      "image/png": "[encoded data removed]",
      "text/plain": [
       "<Figure size 432x288 with 2 Axes>"
      ]
     },
     "metadata": {
      "needs_background": "light"
     },
     "output_type": "display_data"
    }
   ],
   "source": [
    "model.analyze(val)"
   ]
  },
  {
   "cell_type": "code",
   "execution_count": 69,
   "id": "75ac2dcf",
   "metadata": {},
   "outputs": [],
   "source": [
    "import optuna"
   ]
  },
  {
   "cell_type": "code",
   "execution_count": null,
   "id": "947e3039",
   "metadata": {},
   "outputs": [],
   "source": []
  },
  {
   "cell_type": "code",
   "execution_count": null,
   "id": "0cd3dcbf",
   "metadata": {},
   "outputs": [],
   "source": []
  },
  {
   "cell_type": "code",
   "execution_count": 70,
   "id": "9feff801",
   "metadata": {},
   "outputs": [
    {
     "ename": "TypeError",
     "evalue": "__init__() missing 7 required positional arguments: 'feat_dim', 'max_len', 'd_model', 'n_heads', 'num_layers', 'dim_feedforward', and 'num_classes'",
     "output_type": "error",
     "traceback": [
      "\u001b[0;31m---------------------------------------------------------------------------\u001b[0m",
      "\u001b[0;31mTypeError\u001b[0m                                 Traceback (most recent call last)",
      "\u001b[0;32m/var/folders/tp/r9md9jss78nf28s4cq7vcg580000gn/T/ipykernel_5764/948036882.py\u001b[0m in \u001b[0;36m<module>\u001b[0;34m\u001b[0m\n\u001b[0;32m----> 1\u001b[0;31m \u001b[0mTSTransformerEncoderLSTM\u001b[0m\u001b[0;34m(\u001b[0m\u001b[0;34m)\u001b[0m\u001b[0;34m\u001b[0m\u001b[0;34m\u001b[0m\u001b[0m\n\u001b[0m",
      "\u001b[0;31mTypeError\u001b[0m: __init__() missing 7 required positional arguments: 'feat_dim', 'max_len', 'd_model', 'n_heads', 'num_layers', 'dim_feedforward', and 'num_classes'"
     ]
    }
   ],
   "source": [
    "TSTransformerEncoderLSTM()"
   ]
  },
  {
   "cell_type": "code",
   "execution_count": null,
   "id": "47dc2adf",
   "metadata": {},
   "outputs": [],
   "source": []
  }
 ],
 "metadata": {
  "kernelspec": {
   "display_name": "Python 3 (ipykernel)",
   "language": "python",
   "name": "python3"
  },
  "language_info": {
   "codemirror_mode": {
    "name": "ipython",
    "version": 3
   },
   "file_extension": ".py",
   "mimetype": "text/x-python",
   "name": "python",
   "nbconvert_exporter": "python",
   "pygments_lexer": "ipython3",
   "version": "3.8.12"
  }
 },
 "nbformat": 4,
 "nbformat_minor": 5
}
