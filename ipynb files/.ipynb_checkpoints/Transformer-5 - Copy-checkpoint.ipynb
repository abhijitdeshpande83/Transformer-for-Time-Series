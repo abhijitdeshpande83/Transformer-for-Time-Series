{
 "cells": [
  {
   "cell_type": "code",
   "execution_count": 1,
   "id": "3e1cfb42",
   "metadata": {},
   "outputs": [],
   "source": [
    "#importing libraries\n",
    "import numpy as np\n",
    "import pandas as pd\n",
    "import matplotlib.pyplot as plt\n",
    "import random\n",
    "import warnings\n",
    "warnings.filterwarnings('ignore')"
   ]
  },
  {
   "cell_type": "code",
   "execution_count": 2,
   "id": "46ad2883",
   "metadata": {},
   "outputs": [],
   "source": [
    "def load_raw_ts(path, dataset, tensor_format=True):\n",
    "    path = path + \"raw/\" + dataset + \"/\"\n",
    "    x_train = np.load(path + 'X_train.npy')\n",
    "    y_train = np.load(path + 'y_train.npy')\n",
    "    x_test = np.load(path + 'X_test.npy')\n",
    "    y_test = np.load(path + 'y_test.npy')\n",
    "    ts = np.concatenate((x_train, x_test), axis=0)\n",
    "    ts = np.transpose(ts, axes=(0, 1, 2))\n",
    "    labels = np.concatenate((y_train, y_test), axis=0)\n",
    "    nclass = int(np.amax(labels)) + 1\n",
    "\n",
    "\n",
    "    train_size = y_train.shape[0]\n",
    "\n",
    "    total_size = labels.shape[0]\n",
    "    idx_train = range(train_size)\n",
    "    idx_val = range(train_size, total_size)\n",
    "    idx_test = range(train_size, total_size)\n",
    "\n",
    "    if tensor_format:\n",
    "        # features = torch.FloatTensor(np.array(features))\n",
    "        ts = torch.FloatTensor(np.array(ts))\n",
    "        labels = torch.LongTensor(labels)\n",
    "\n",
    "        idx_train = torch.LongTensor(idx_train)\n",
    "        idx_val = torch.LongTensor(idx_val)\n",
    "        idx_test = torch.LongTensor(idx_test)\n",
    "\n",
    "    return ts, labels, idx_train, idx_val, idx_test, nclass\n"
   ]
  },
  {
   "cell_type": "code",
   "execution_count": 3,
   "id": "4fad0bc2",
   "metadata": {},
   "outputs": [],
   "source": [
    "def plot_confusion_matrix(cm, classes,\n",
    "                          normalize=False,\n",
    "                          title='Confusion matrix',\n",
    "                          cmap=plt.cm.Blues):\n",
    "    \"\"\"\n",
    "    This function prints and plots the confusion matrix.\n",
    "    Normalization can be applied by setting `normalize=True`.\n",
    "    \"\"\"\n",
    "    from sklearn.metrics import classification_report, confusion_matrix\n",
    "    import itertools\n",
    "    if normalize:\n",
    "        cm = cm.astype('float') / cm.sum(axis=1)[:, np.newaxis]\n",
    "        print(\"Normalized confusion matrix\")\n",
    "    else:\n",
    "        print('Confusion matrix, without normalization')\n",
    "\n",
    "    print(cm)\n",
    "\n",
    "    plt.imshow(cm, interpolation='nearest', cmap='Blues')\n",
    "    plt.title(title)\n",
    "    plt.colorbar()\n",
    "    tick_marks = np.arange(len(classes))\n",
    "    plt.xticks(tick_marks, classes, rotation=45)\n",
    "    plt.yticks(tick_marks, classes)\n",
    "\n",
    "    fmt = '.2f' if normalize else 'd'\n",
    "    thresh = cm.max() / 2.\n",
    "    for i, j in itertools.product(range(cm.shape[0]), range(cm.shape[1])):\n",
    "        plt.text(j, i, format(cm[i, j], fmt),\n",
    "                 horizontalalignment=\"center\",\n",
    "                 color=\"white\" if cm[i, j] > thresh else \"black\")\n",
    "\n",
    "    plt.tight_layout()\n",
    "    plt.ylabel('True label')\n",
    "    plt.xlabel('Predicted label')"
   ]
  },
  {
   "cell_type": "code",
   "execution_count": 4,
   "id": "857d54e9",
   "metadata": {},
   "outputs": [],
   "source": [
    "import math\n",
    "from typing import Optional, Any\n",
    "from torch.utils.data import DataLoader\n",
    "from torch import optim\n",
    "from sklearn.metrics import accuracy_score\n",
    "import torch\n",
    "from torch import nn, Tensor\n",
    "from torch.nn import functional as F\n",
    "from torch.nn.modules import MultiheadAttention, Linear, Dropout, BatchNorm1d, TransformerEncoderLayer"
   ]
  },
  {
   "cell_type": "code",
   "execution_count": 5,
   "id": "11c8902d",
   "metadata": {},
   "outputs": [],
   "source": [
    "def _get_activation_fn(activation):\n",
    "    if activation == \"relu\":\n",
    "        return F.relu\n",
    "    elif activation == \"gelu\":\n",
    "        return F.gelu\n",
    "    raise ValueError(\"activation should be relu/gelu, not {}\".format(activation))\n",
    "\n",
    "    \n",
    "def get_pos_encoder(pos_encoding):\n",
    "    if pos_encoding == \"learnable\":\n",
    "        return LearnablePositionalEncoding\n",
    "    elif pos_encoding == \"fixed\":\n",
    "        return FixedPositionalEncoding\n",
    "\n",
    "    raise NotImplementedError(\"pos_encoding should be 'learnable'/'fixed', not '{}'\".format(pos_encoding))"
   ]
  },
  {
   "cell_type": "code",
   "execution_count": 6,
   "id": "4efa46f3",
   "metadata": {},
   "outputs": [],
   "source": [
    "class FixedPositionalEncoding(nn.Module):\n",
    "    r\"\"\"Inject some information about the relative or absolute position of the tokens\n",
    "        in the sequence. The positional encodings have the same dimension as\n",
    "        the embeddings, so that the two can be summed. Here, we use sine and cosine\n",
    "        functions of different frequencies.\n",
    "    .. math::\n",
    "        \\text{PosEncoder}(pos, 2i) = sin(pos/10000^(2i/d_model))\n",
    "        \\text{PosEncoder}(pos, 2i+1) = cos(pos/10000^(2i/d_model))\n",
    "        \\text{where pos is the word position and i is the embed idx)\n",
    "    Args:\n",
    "        d_model: the embed dim (required).\n",
    "        dropout: the dropout value (default=0.1).\n",
    "        max_len: the max. length of the incoming sequence (default=1024).\n",
    "    \"\"\"\n",
    "\n",
    "    def __init__(self, d_model, dropout=0.1, max_len=1024, scale_factor=1.0):\n",
    "        super(FixedPositionalEncoding, self).__init__()\n",
    "        self.dropout = nn.Dropout(p=dropout)\n",
    "\n",
    "        pe = torch.zeros(max_len, d_model)  # positional encoding\n",
    "        position = torch.arange(0, max_len, dtype=torch.float).unsqueeze(1)\n",
    "        div_term = torch.exp(torch.arange(0, d_model, 2).float() * (-math.log(10000.0) / d_model))\n",
    "        pe[:, 0::2] = torch.sin(position * div_term)\n",
    "        pe[:, 1::2] = torch.cos(position * div_term)\n",
    "        pe = scale_factor * pe.unsqueeze(0).transpose(0, 1)\n",
    "        self.register_buffer('pe', pe)  # this stores the variable in the state_dict (used for non-trainable variables)\n",
    "\n",
    "    def forward(self, x):\n",
    "        r\"\"\"Inputs of forward function\n",
    "        Args:\n",
    "            x: the sequence fed to the positional encoder model (required).\n",
    "        Shape:\n",
    "            x: [sequence length, batch size, embed dim]\n",
    "            output: [sequence length, batch size, embed dim]\n",
    "        \"\"\"\n",
    "\n",
    "        x = x + self.pe[:x.size(0), :]\n",
    "        return self.dropout(x)\n",
    "    \n",
    "class LearnablePositionalEncoding(nn.Module):\n",
    "\n",
    "    def __init__(self, d_model, dropout=0.1, max_len=1024):\n",
    "        super(LearnablePositionalEncoding, self).__init__()\n",
    "        self.dropout = nn.Dropout(p=dropout)\n",
    "        # Each position gets its own embedding\n",
    "        # Since indices are always 0 ... max_len, we don't have to do a look-up\n",
    "        self.pe = nn.Parameter(torch.empty(max_len, 1, d_model))  # requires_grad automatically set to True\n",
    "        nn.init.uniform_(self.pe, -0.02, 0.02)\n",
    "\n",
    "    def forward(self, x):\n",
    "        r\"\"\"Inputs of forward function\n",
    "        Args:\n",
    "            x: the sequence fed to the positional encoder model (required).\n",
    "        Shape:\n",
    "            x: [sequence length, batch size, embed dim]\n",
    "            output: [sequence length, batch size, embed dim]\n",
    "        \"\"\"\n",
    "\n",
    "        x = x + self.pe[:x.size(0), :]\n",
    "        return self.dropout(x)"
   ]
  },
  {
   "cell_type": "code",
   "execution_count": 7,
   "id": "4614c9d7",
   "metadata": {},
   "outputs": [],
   "source": [
    "class TransformerBatchNormEncoderLayer(nn.modules.Module):\n",
    "    r\"\"\"This transformer encoder layer block is made up of self-attn and feedforward network.\n",
    "    It differs from TransformerEncoderLayer in torch/nn/modules/transformer.py in that it replaces LayerNorm\n",
    "    with BatchNorm.\n",
    "    Args:\n",
    "        d_model: the number of expected features in the input (required).\n",
    "        nhead: the number of heads in the multiheadattention models (required).\n",
    "        dim_feedforward: the dimension of the feedforward network model (default=2048).\n",
    "        dropout: the dropout value (default=0.1).\n",
    "        activation: the activation function of intermediate layer, relu or gelu (default=relu).\n",
    "    \"\"\"\n",
    "\n",
    "    def __init__(self, d_model, nhead, dim_feedforward=2048, dropout=0.1, activation=\"relu\"):\n",
    "        super(TransformerBatchNormEncoderLayer, self).__init__()\n",
    "        self.self_attn = MultiheadAttention(d_model, nhead, dropout=dropout)\n",
    "        # Implementation of Feedforward model\n",
    "        self.linear1 = Linear(d_model, dim_feedforward)\n",
    "        self.dropout = Dropout(dropout)\n",
    "        self.linear2 = Linear(dim_feedforward, d_model)\n",
    "\n",
    "        self.norm1 = BatchNorm1d(d_model, eps=1e-5)  # normalizes each feature across batch samples and time steps\n",
    "        self.norm2 = BatchNorm1d(d_model, eps=1e-5)\n",
    "        self.dropout1 = Dropout(dropout)\n",
    "        self.dropout2 = Dropout(dropout)\n",
    "\n",
    "        self.activation = _get_activation_fn(activation)\n",
    "\n",
    "    def __setstate__(self, state):\n",
    "        if 'activation' not in state:\n",
    "            state['activation'] = F.relu\n",
    "        super(TransformerBatchNormEncoderLayer, self).__setstate__(state)\n",
    "\n",
    "    def forward(self, src: Tensor, src_mask: Optional[Tensor] = None,\n",
    "                src_key_padding_mask: Optional[Tensor] = None) -> Tensor:\n",
    "        r\"\"\"Pass the input through the encoder layer.\n",
    "        Args:\n",
    "            src: the sequence to the encoder layer (required).\n",
    "            src_mask: the mask for the src sequence (optional).\n",
    "            src_key_padding_mask: the mask for the src keys per batch (optional).\n",
    "        Shape:\n",
    "            see the docs in Transformer class.\n",
    "        \"\"\"\n",
    "        src2 = self.self_attn(src, src, src, attn_mask=src_mask,\n",
    "                              key_padding_mask=src_key_padding_mask)[0]\n",
    "        src = src + self.dropout1(src2)  # (seq_len, batch_size, d_model)\n",
    "        src = src.permute(1, 2, 0)  # (batch_size, d_model, seq_len)\n",
    "        # src = src.reshape([src.shape[0], -1])  # (batch_size, seq_length * d_model)\n",
    "        src = self.norm1(src)\n",
    "        src = src.permute(2, 0, 1)  # restore (seq_len, batch_size, d_model)\n",
    "        src2 = self.linear2(self.dropout(self.activation(self.linear1(src))))\n",
    "        src = src + self.dropout2(src2)  # (seq_len, batch_size, d_model)\n",
    "        src = src.permute(1, 2, 0)  # (batch_size, d_model, seq_len)\n",
    "        src = self.norm2(src)\n",
    "        src = src.permute(2, 0, 1)  # restore (seq_len, batch_size, d_model)\n",
    "        return src\n"
   ]
  },
  {
   "cell_type": "code",
   "execution_count": 8,
   "id": "86606b2b",
   "metadata": {},
   "outputs": [],
   "source": [
    "class TSTransformerEncoder(nn.Module):\n",
    "\n",
    "    def __init__(self, feat_dim, max_len, d_model, n_heads, num_layers, dim_feedforward, dropout=0.1,\n",
    "                 pos_encoding='fixed', activation='gelu', norm='BatchNorm', freeze=False):\n",
    "        super(TSTransformerEncoder, self).__init__()\n",
    "\n",
    "        self.max_len = max_len\n",
    "        self.d_model = d_model\n",
    "        self.n_heads = n_heads\n",
    "        self.feat_dim = feat_dim\n",
    "        \n",
    "\n",
    "        self.project_inp = nn.Linear(feat_dim, d_model)\n",
    "        self.pos_enc = get_pos_encoder(pos_encoding)(d_model, dropout=dropout*(1.0 - freeze), max_len=max_len)\n",
    "\n",
    "        if norm == 'LayerNorm':\n",
    "            encoder_layer = TransformerEncoderLayer(d_model, self.n_heads, dim_feedforward, dropout*(1.0 - freeze), activation=activation)\n",
    "        else:\n",
    "            encoder_layer = TransformerBatchNormEncoderLayer(d_model, self.n_heads, dim_feedforward, dropout*(1.0 - freeze), activation=activation)\n",
    "\n",
    "        self.transformer_encoder = nn.TransformerEncoder(encoder_layer, num_layers)\n",
    "\n",
    "        self.output_layer = nn.Linear(d_model, feat_dim)\n",
    "\n",
    "        self.act = _get_activation_fn(activation)\n",
    "\n",
    "        self.dropout1 = nn.Dropout(dropout)\n",
    "\n",
    "\n",
    "    def forward(self, X, padding_masks):\n",
    "        \"\"\"\n",
    "        Args:\n",
    "            X: (batch_size, seq_length, feat_dim) torch tensor of masked features (input)\n",
    "            padding_masks: (batch_size, seq_length) boolean tensor, 1 means keep vector at this position, 0 means padding\n",
    "        Returns:\n",
    "            output: (batch_size, seq_length, feat_dim)\n",
    "        \"\"\"\n",
    "\n",
    "        # permute because pytorch convention for transformers is [seq_length, batch_size, feat_dim]. padding_masks [batch_size, feat_dim]\n",
    "        inp = X.permute(1, 0, 2)\n",
    "        inp = self.project_inp(inp) * math.sqrt(\n",
    "            self.d_model)  # [seq_length, batch_size, d_model] project input vectors to d_model dimensional space\n",
    "        inp = self.pos_enc(inp)  # add positional encoding\n",
    "        # NOTE: logic for padding masks is reversed to comply with definition in MultiHeadAttention, TransformerEncoderLayer\n",
    "        output = self.transformer_encoder(inp, src_key_padding_mask=~padding_masks)  # (seq_length, batch_size, d_model)\n",
    "        output = self.act(output)  # the output transformer encoder/decoder embeddings don't include non-linearity\n",
    "        output = output.permute(1, 0, 2)  # (batch_size, seq_length, d_model)\n",
    "        output = self.dropout1(output) ## Z\n",
    "        # Most probably defining a Linear(d_model,feat_dim) vectorizes the operation over (seq_length, batch_size).\n",
    "        output = self.output_layer(output)  # (batch_size, seq_length, feat_dim)\n",
    "\n",
    "        return output\n",
    "\n"
   ]
  },
  {
   "cell_type": "code",
   "execution_count": 9,
   "id": "4810b037",
   "metadata": {},
   "outputs": [],
   "source": [
    "class TSTransformerEncoderClass(nn.Module):\n",
    "    \"\"\"\n",
    "    Simplest classifier/regressor. Can be either regressor or classifier because the output does not include\n",
    "    softmax. Concatenates final layer embeddings and uses 0s to ignore padding embeddings in final output layer.\n",
    "    \"\"\"\n",
    "\n",
    "    def __init__(self, feat_dim, max_len, d_model, n_heads, num_layers, dim_feedforward, num_classes,\n",
    "                 dropout=0.1, pos_encoding='fixed', activation='gelu', norm='BatchNorm', freeze=False):\n",
    "        super(TSTransformerEncoderClass, self).__init__()\n",
    "\n",
    "        self.max_len = max_len\n",
    "        self.d_model = d_model\n",
    "        self.n_heads = n_heads\n",
    "\n",
    "        self.project_inp = nn.Linear(feat_dim, d_model)\n",
    "        self.pos_enc = get_pos_encoder(pos_encoding)(d_model, dropout=dropout*(1.0 - freeze), max_len=max_len)\n",
    "\n",
    "        if norm == 'LayerNorm':\n",
    "            encoder_layer = TransformerEncoderLayer(d_model, self.n_heads, dim_feedforward, dropout*(1.0 - freeze), activation=activation)\n",
    "        else:\n",
    "            encoder_layer = TransformerBatchNormEncoderLayer(d_model, self.n_heads, dim_feedforward, dropout*(1.0 - freeze), activation=activation)\n",
    "\n",
    "        self.transformer_encoder = nn.TransformerEncoder(encoder_layer, num_layers)\n",
    "\n",
    "        self.act = _get_activation_fn(activation)\n",
    "\n",
    "        self.dropout1 = nn.Dropout(dropout)\n",
    "\n",
    "        self.feat_dim = feat_dim\n",
    "        self.num_classes = num_classes\n",
    "        self.output_layer = self.build_output_module(d_model, max_len, num_classes)\n",
    "\n",
    "    def build_output_module(self, d_model, max_len, num_classes):\n",
    "        output_layer = nn.Linear(d_model * max_len, num_classes)\n",
    "        # no softmax (or log softmax), because CrossEntropyLoss does this internally. If probabilities are needed,\n",
    "        # add F.log_softmax and use NLLoss\n",
    "        return output_layer\n",
    "\n",
    "    def forward(self, X, padding_masks):\n",
    "        \"\"\"\n",
    "        Args:\n",
    "            X: (batch_size, seq_length, feat_dim) torch tensor of masked features (input)\n",
    "            padding_masks: (batch_size, seq_length) boolean tensor, 1 means keep vector at this position, 0 means padding\n",
    "        Returns:\n",
    "            output: (batch_size, num_classes)\n",
    "        \"\"\"\n",
    "\n",
    "        # permute because pytorch convention for transformers is [seq_length, batch_size, feat_dim]. padding_masks [batch_size, feat_dim]\n",
    "        inp = X.permute(1, 0, 2)\n",
    "        inp = self.project_inp(inp) * math.sqrt(\n",
    "            self.d_model)  # [seq_length, batch_size, d_model] project input vectors to d_model dimensional space\n",
    "        inp = self.pos_enc(inp)  # add positional encoding\n",
    "        # NOTE: logic for padding masks is reversed to comply with definition in MultiHeadAttention, TransformerEncoderLayer\n",
    "        output = self.transformer_encoder(inp, src_key_padding_mask=~padding_masks)  # (seq_length, batch_size, d_model)\n",
    "        output = self.act(output)  # the output transformer encoder/decoder embeddings don't include non-linearity\n",
    "        output = output.permute(1, 0, 2)  # (batch_size, seq_length, d_model)\n",
    "        output = self.dropout1(output)\n",
    "\n",
    "        # Output\n",
    "        output = output * padding_masks.unsqueeze(-1)  # zero-out padding embeddings\n",
    "        output = output.reshape(output.shape[0], -1)  # (batch_size, seq_length * d_model)\n",
    "        output = self.output_layer(output)  # (batch_size, num_classes)\n",
    "\n",
    "        return output"
   ]
  },
  {
   "cell_type": "code",
   "execution_count": 10,
   "id": "3ddcb9d7",
   "metadata": {},
   "outputs": [],
   "source": [
    "def noise_mask(X, masking_ratio, lm=3, mode='separate', distribution='geometric', exclude_feats=None):\n",
    "    \"\"\"\n",
    "    Creates a random boolean mask of the same shape as X, with 0s at places where a feature should be masked.\n",
    "    Args:\n",
    "        X: (seq_length, feat_dim) numpy array of features corresponding to a single sample\n",
    "        masking_ratio: proportion of seq_length to be masked. At each time step, will also be the proportion of\n",
    "            feat_dim that will be masked on average\n",
    "        lm: average length of masking subsequences (streaks of 0s). Used only when `distribution` is 'geometric'.\n",
    "        mode: whether each variable should be masked separately ('separate'), or all variables at a certain positions\n",
    "            should be masked concurrently ('concurrent')\n",
    "        distribution: whether each mask sequence element is sampled independently at random, or whether\n",
    "            sampling follows a markov chain (and thus is stateful), resulting in geometric distributions of\n",
    "            masked squences of a desired mean length `lm`\n",
    "        exclude_feats: iterable of indices corresponding to features to be excluded from masking (i.e. to remain all 1s)\n",
    "    Returns:\n",
    "        boolean numpy array with the same shape as X, with 0s at places where a feature should be masked\n",
    "    \"\"\"\n",
    "    if exclude_feats is not None:\n",
    "        exclude_feats = set(exclude_feats)\n",
    "\n",
    "    if distribution == 'geometric':  # stateful (Markov chain)\n",
    "        if mode == 'separate':  # each variable (feature) is independent\n",
    "            mask = np.ones(X.shape, dtype=bool)\n",
    "            for m in range(X.shape[1]):  # feature dimension\n",
    "                if exclude_feats is None or m not in exclude_feats:\n",
    "                    mask[:, m] = geom_noise_mask_single(X.shape[0], lm, masking_ratio)  # time dimension\n",
    "        else:  # replicate across feature dimension (mask all variables at the same positions concurrently)\n",
    "            mask = np.tile(np.expand_dims(geom_noise_mask_single(X.shape[0], lm, masking_ratio), 1), X.shape[1])\n",
    "    else:  # each position is independent Bernoulli with p = 1 - masking_ratio\n",
    "        if mode == 'separate':\n",
    "            mask = np.random.choice(np.array([True, False]), size=X.shape, replace=True,\n",
    "                                    p=(1 - masking_ratio, masking_ratio))\n",
    "        else:\n",
    "            mask = np.tile(np.random.choice(np.array([True, False]), size=(X.shape[0], 1), replace=True,\n",
    "                                            p=(1 - masking_ratio, masking_ratio)), X.shape[1])\n",
    "\n",
    "    return mask\n"
   ]
  },
  {
   "cell_type": "code",
   "execution_count": 11,
   "id": "90fb968f",
   "metadata": {},
   "outputs": [],
   "source": [
    "def geom_noise_mask_single(L, lm, masking_ratio):\n",
    "    \"\"\"\n",
    "    Randomly create a boolean mask of length `L`, consisting of subsequences of average length lm, masking with 0s a `masking_ratio`\n",
    "    proportion of the sequence L. The length of masking subsequences and intervals follow a geometric distribution.\n",
    "    Args:\n",
    "        L: length of mask and sequence to be masked\n",
    "        lm: average length of masking subsequences (streaks of 0s)\n",
    "        masking_ratio: proportion of L to be masked\n",
    "    Returns:\n",
    "        (L,) boolean numpy array intended to mask ('drop') with 0s a sequence of length L\n",
    "    \"\"\"\n",
    "    keep_mask = np.ones(L, dtype=bool)\n",
    "    p_m = 1 / lm  # probability of each masking sequence stopping. parameter of geometric distribution.\n",
    "    p_u = p_m * masking_ratio / (1 - masking_ratio)  # probability of each unmasked sequence stopping. parameter of geometric distribution.\n",
    "    p = [p_m, p_u]\n",
    "\n",
    "    # Start in state 0 with masking_ratio probability\n",
    "    state = int(np.random.rand() > masking_ratio)  # state 0 means masking, 1 means not masking\n",
    "    for i in range(L):\n",
    "        keep_mask[i] = state  # here it happens that state and masking value corresponding to state are identical\n",
    "        if np.random.rand() < p[state]:\n",
    "            state = 1 - state\n",
    "\n",
    "    return keep_mask\n"
   ]
  },
  {
   "cell_type": "code",
   "execution_count": 12,
   "id": "2209eb3a",
   "metadata": {},
   "outputs": [],
   "source": [
    "def padding_mask(lengths, max_len=None):\n",
    "    \"\"\"\n",
    "    Used to mask padded positions: creates a (batch_size, max_len) boolean mask from a tensor of sequence lengths,\n",
    "    where 1 means keep element at this position (time step)\n",
    "    \"\"\"\n",
    "    batch_size = lengths.numel()\n",
    "    max_len = max_len or lengths.max_val()  # trick works because of overloading of 'or' operator for non-boolean types\n",
    "    return (torch.arange(0, max_len, device=lengths.device)\n",
    "            .type_as(lengths)\n",
    "            .repeat(batch_size, 1)\n",
    "            .lt(lengths.unsqueeze(1)))"
   ]
  },
  {
   "cell_type": "code",
   "execution_count": 13,
   "id": "28c146ff",
   "metadata": {},
   "outputs": [],
   "source": [
    "def compensate_masking(X, mask):\n",
    "    \"\"\"\n",
    "    Compensate feature vectors after masking values, in a way that the matrix product W @ X would not be affected on average.\n",
    "    If p is the proportion of unmasked (active) elements, X' = X / p = X * feat_dim/num_active\n",
    "    Args:\n",
    "        X: (batch_size, seq_length, feat_dim) torch tensor\n",
    "        mask: (batch_size, seq_length, feat_dim) torch tensor: 0s means mask and predict, 1s: unaffected (active) input\n",
    "    Returns:\n",
    "        (batch_size, seq_length, feat_dim) compensated features\n",
    "    \"\"\"\n",
    "\n",
    "    # number of unmasked elements of feature vector for each time step\n",
    "    num_active = torch.sum(mask, dim=-1).unsqueeze(-1)  # (batch_size, seq_length, 1)\n",
    "    # to avoid division by 0, set the minimum to 1\n",
    "    num_active = torch.max(num_active, torch.ones(num_active.shape, dtype=torch.int16))  # (batch_size, seq_length, 1)\n",
    "    return X.shape[-1] * X / num_active"
   ]
  },
  {
   "cell_type": "code",
   "execution_count": 14,
   "id": "fbb3de99",
   "metadata": {},
   "outputs": [],
   "source": [
    "def collate_unsuperv(data, mask, max_len=None, mask_compensation=False):\n",
    "    \"\"\"Build mini-batch tensors from a list of (X, mask) tuples. Mask input. Create\n",
    "    Args:\n",
    "        data: len(batch_size) list of tuples (X, mask).\n",
    "            - X: torch tensor of shape (seq_length, feat_dim); variable seq_length.\n",
    "            - mask: boolean torch tensor of shape (seq_length, feat_dim); variable seq_length.\n",
    "        max_len: global fixed sequence length. Used for architectures requiring fixed length input,\n",
    "            where the batch length cannot vary dynamically. Longer sequences are clipped, shorter are padded with 0s\n",
    "    Returns:\n",
    "        X: (batch_size, padded_length, feat_dim) torch tensor of masked features (input)\n",
    "        targets: (batch_size, padded_length, feat_dim) torch tensor of unmasked features (output)\n",
    "        target_masks: (batch_size, padded_length, feat_dim) boolean torch tensor\n",
    "            0 indicates masked values to be predicted, 1 indicates unaffected/\"active\" feature values\n",
    "        padding_masks: (batch_size, padded_length) boolean tensor, 1 means keep vector at this position, 0 ignore (padding)\n",
    "    \"\"\"\n",
    "\n",
    "    batch_size = len(data)\n",
    "    features, masks = data, mask\n",
    "\n",
    "    # Stack and pad features and masks (convert 2D to 3D tensors, i.e. add batch dimension)\n",
    "    lengths = [X.shape[0] for X in features]  # original sequence length for each time series\n",
    "    if max_len is None:\n",
    "        max_len = max(lengths)\n",
    "    X = torch.zeros(batch_size, max_len, features[0].shape[-1])  # (batch_size, padded_length, feat_dim)\n",
    "    target_masks = torch.zeros_like(X,\n",
    "                                    dtype=torch.bool)  # (batch_size, padded_length, feat_dim) masks related to objective\n",
    "    for i in range(batch_size):\n",
    "        end = min(lengths[i], max_len)\n",
    "        X[i, :end, :] = features[i][:end, :]\n",
    "        target_masks[i, :end, :] = masks[i][:end, :]\n",
    "\n",
    "    targets = X.clone()\n",
    "    X = X * target_masks  # mask input\n",
    "    if mask_compensation:\n",
    "        X = compensate_masking(X, target_masks)\n",
    "\n",
    "    padding_masks = padding_mask(torch.tensor(lengths, dtype=torch.int16), max_len=max_len)  # (batch_size, padded_length) boolean tensor, \"1\" means keep\n",
    "    target_masks = ~target_masks  # inverse logic: 0 now means ignore, 1 means predict\n",
    "    return X, targets, target_masks, padding_masks"
   ]
  },
  {
   "cell_type": "code",
   "execution_count": 15,
   "id": "5509ca34",
   "metadata": {},
   "outputs": [],
   "source": [
    "class MaskedMSELoss(nn.Module):\n",
    "    \"\"\" Masked MSE Loss\n",
    "    \"\"\"\n",
    "\n",
    "    def __init__(self, reduction: str = 'mean'):\n",
    "\n",
    "        super().__init__()\n",
    "\n",
    "        self.reduction = reduction\n",
    "        self.mse_loss = nn.MSELoss(reduction=self.reduction)\n",
    "\n",
    "    def forward(self,\n",
    "                y_pred: torch.Tensor, y_true: torch.Tensor, mask: torch.BoolTensor) -> torch.Tensor:\n",
    "        \"\"\"Compute the loss between a target value and a prediction.\n",
    "        Args:\n",
    "            y_pred: Estimated values\n",
    "            y_true: Target values\n",
    "            mask: boolean tensor with 0s at places where values should be ignored and 1s where they should be considered\n",
    "        Returns\n",
    "        -------\n",
    "        if reduction == 'none':\n",
    "            (num_active,) Loss for each active batch element as a tensor with gradient attached.\n",
    "        if reduction == 'mean':\n",
    "            scalar mean loss over batch as a tensor with gradient attached.\n",
    "        \"\"\"\n",
    "\n",
    "        # for this particular loss, one may also elementwise multiply y_pred and y_true with the inverted mask\n",
    "        masked_pred = torch.masked_select(y_pred, mask)\n",
    "        masked_true = torch.masked_select(y_true, mask)\n",
    "\n",
    "        return self.mse_loss(masked_pred, masked_true)"
   ]
  },
  {
   "cell_type": "code",
   "execution_count": 16,
   "id": "7dca6110",
   "metadata": {},
   "outputs": [],
   "source": [
    "class TSTransformerEncoderLSTM(nn.Module):\n",
    "    \"\"\"\n",
    "    Simplest classifier/regressor. Can be either regressor or classifier because the output does not include\n",
    "    softmax. Concatenates final layer embeddings and uses 0s to ignore padding embeddings in final output layer.\n",
    "    \"\"\"\n",
    "\n",
    "    def __init__(self, feat_dim, max_len, d_model, n_heads, num_layers, dim_feedforward, num_classes,\n",
    "                 hidden_layers =128,lstm_layers=1,\n",
    "                 dropout=0.1, pos_encoding='learnable', activation='gelu', norm='BatchNorm', freeze=False):\n",
    "        super(TSTransformerEncoderLSTM, self).__init__()\n",
    "\n",
    "        self.max_len = max_len\n",
    "        self.d_model = d_model\n",
    "        self.n_heads = n_heads\n",
    "        self.hidden_layers = hidden_layers\n",
    "        self.lstm_layers = lstm_layers\n",
    "\n",
    "        self.project_inp = nn.Linear(feat_dim, d_model)\n",
    "        self.pos_enc = get_pos_encoder(pos_encoding)(d_model, dropout=dropout*(1.0 - freeze), max_len=max_len)\n",
    "\n",
    "        if norm == 'LayerNorm':\n",
    "            encoder_layer = TransformerEncoderLayer(d_model, self.n_heads, dim_feedforward, dropout*(1.0 - freeze), activation=activation)\n",
    "        else:\n",
    "            encoder_layer = TransformerBatchNormEncoderLayer(d_model, self.n_heads, dim_feedforward, dropout*(1.0 - freeze), activation=activation)\n",
    "\n",
    "        self.transformer_encoder = nn.TransformerEncoder(encoder_layer, num_layers)\n",
    "\n",
    "        self.act = _get_activation_fn(activation)\n",
    "\n",
    "        self.dropout1 = nn.Dropout(dropout)\n",
    "\n",
    "        self.feat_dim = feat_dim\n",
    "        self.num_classes = num_classes\n",
    "        self.output_layer = self.linear(num_classes)\n",
    "        self.lstm = nn.LSTM(d_model,self.hidden_layers,self.lstm_layers,batch_first=True)\n",
    "\n",
    "    def linear(self,num_classes):\n",
    "        output_layer = nn.Linear(self.hidden_layers*self.lstm_layers,num_classes)\n",
    "        # no softmax (or log softmax), because CrossEntropyLoss does this internally. If probabilities are needed,\n",
    "        # add F.log_softmax and use NLLoss\n",
    "        return output_layer\n",
    "\n",
    "        \n",
    "    def forward(self, X, padding_masks):\n",
    "        \"\"\"\n",
    "        Args:\n",
    "            X: (batch_size, seq_length, feat_dim) torch tensor of masked features (input)\n",
    "            padding_masks: (batch_size, seq_length) boolean tensor, 1 means keep vector at this position, 0 means padding\n",
    "        Returns:\n",
    "            output: (batch_size, num_classes)\n",
    "        \"\"\"\n",
    "\n",
    "        # permute because pytorch convention for transformers is [seq_length, batch_size, feat_dim]. padding_masks [batch_size, feat_dim]\n",
    "        inp = X.permute(1, 0, 2)\n",
    "        inp = self.project_inp(inp) * math.sqrt(\n",
    "            self.d_model)  # [seq_length, batch_size, d_model] project input vectors to d_model dimensional space\n",
    "        inp = self.pos_enc(inp)  # add positional encoding\n",
    "        # NOTE: logic for padding masks is reversed to comply with definition in MultiHeadAttention, TransformerEncoderLayer\n",
    "        output = self.transformer_encoder(inp, src_key_padding_mask=~padding_masks)  # (seq_length, batch_size, d_model)\n",
    "        output = self.act(output)  # the output transformer encoder/decoder embeddings don't include non-linearity\n",
    "        output = output.permute(1, 0, 2)  # (batch_size, seq_length, d_model)\n",
    "        output = self.dropout1(output)\n",
    "\n",
    "        # Output\n",
    "        output = output * padding_masks.unsqueeze(-1)  # zero-out padding embeddings\n",
    "        h0=c0= torch.zeros(self.lstm_layers,output.size(0),self.hidden_layers)\n",
    "        output, (hn, cn) = self.lstm(output, (h0,c0))\n",
    "        hn = hn.view(-1,self.hidden_layers*self.lstm_layers)\n",
    "        output = self.output_layer(hn)\n",
    "        \n",
    "        return output"
   ]
  },
  {
   "cell_type": "code",
   "execution_count": 17,
   "id": "1f2bf2ae",
   "metadata": {},
   "outputs": [],
   "source": [
    "class train_model():\n",
    "    \n",
    "    def __init__(self,model):\n",
    "        self.model = model\n",
    "        self.loss_module = nn.CrossEntropyLoss()\n",
    "        self.epoch_metrics = {}\n",
    "        self.total_accuracy = 0\n",
    "        self.batch_loss = []\n",
    "        \n",
    "        \n",
    "    def train(self,data, batch_size=128,epochs=100,verbose=True,return_loss=False):\n",
    "        self.model = self.model.train()\n",
    "        self.data = data\n",
    "        self.verbose = verbose\n",
    "        self.return_loss = return_loss\n",
    "        self.batch_size = batch_size\n",
    "        self.epochs = epochs\n",
    "  \n",
    "\n",
    "        for epoch in range(self.epochs):\n",
    "    \n",
    "            total_batch_accuracy = 0\n",
    "            total_loss = 0\n",
    "    \n",
    "            for i, batch in enumerate(DataLoader(self.data,self.batch_size)):\n",
    "                x_train, y_train, masks = batch\n",
    "                prediction = self.model(x_train.float(),masks)\n",
    "                prob = nn.Softmax(prediction)\n",
    "                optimizer = optim.Adam(self.model.parameters())\n",
    "                loss = self.loss_module(prediction, y_train)\n",
    "        \n",
    "                total_loss +=loss\n",
    "                mean_batch_loss = total_loss/(i+1)\n",
    "        \n",
    "                predictions = torch.argmax(prediction, 1)\n",
    "                batch_accuracy = accuracy_score(y_train,predictions)\n",
    "        \n",
    "                optimizer.zero_grad()\n",
    "                loss.backward()\n",
    "                torch.nn.utils.clip_grad_norm_(self.model.parameters(), max_norm=4.0)\n",
    "                optimizer.step()\n",
    "        \n",
    "                total_batch_accuracy += batch_accuracy \n",
    "                mean_bach_accuracy = total_batch_accuracy/(i+1)\n",
    "                metrics = {'mean batch accuracy':mean_bach_accuracy.item()}\n",
    "        \n",
    "        \n",
    "            self.batch_loss.append(mean_batch_loss.detach().numpy())\n",
    "            if self.verbose:\n",
    "                print('\\033[94m'+'Epoch {}:'.format(epoch)+'\\033[0m'+' {}%'.format(round(mean_bach_accuracy*100,3)))\n",
    "            self.total_accuracy += mean_bach_accuracy\n",
    "            self.epoch_metrics['Epoch'] = epoch\n",
    "            self.epoch_metrics['Accuracy'] = self.total_accuracy/(epoch+1)\n",
    "        \n",
    "        if self.return_loss:\n",
    "            return plt.plot(self.batch_loss)\n",
    "        \n",
    "        \n",
    "    def evaluate(self,data,batch_size=128, return_loss=False):\n",
    "            self.data = data\n",
    "            self.batch_size = batch_size\n",
    "            total_batch_accuracy = 0\n",
    "            self.model = self.model.eval()\n",
    "            \n",
    "            for i, batch in enumerate(DataLoader(self.data, self.batch_size)):\n",
    "                x_test, y_test, masks = batch\n",
    "                prediction = self.model(x_test.float(), masks)\n",
    "               # prob = nn.Softmax(prediction)\n",
    "                predictions = torch.argmax(prediction,1)\n",
    "                batch_accuracy = accuracy_score(y_test,predictions)\n",
    "                loss = self.loss_module(prediction, y_test)\n",
    "                \n",
    "                total_batch_accuracy += batch_accuracy \n",
    "                mean_bach_accuracy = total_batch_accuracy/(i+1)\n",
    "\n",
    "            metrics = {'mean batch accuracy':mean_bach_accuracy.item()}\n",
    "            \n",
    "            return metrics\n",
    "           \n",
    "        \n",
    "    def analyze(self,data):\n",
    "        self.data = data\n",
    "        \n",
    "        from sklearn.metrics import accuracy_score, classification_report, confusion_matrix,\\\n",
    "                                    roc_curve, roc_auc_score\n",
    "        for i, batch in enumerate(DataLoader(self.data, 100000)):\n",
    "                x_test, y_test, masks = batch\n",
    "                prediction = self.model(x_test.float(), masks)\n",
    "                predictions = torch.argmax(prediction,1)\n",
    "                accuracy = accuracy_score(predictions, y_test)\n",
    "                print('\\033[92m'+'\\nAccuracy: '+'\\033[0m',accuracy)\n",
    "                print('\\n'+'\\033[0m'+         'Classification Report:\\n')\n",
    "                print(classification_report(predictions, y_test))\n",
    "                print('\\n'+'\\033[0m'+         'Confusion Matrix:\\n')\n",
    "                cm = confusion_matrix(predictions, y_test)\n",
    "                print('\\033[91m'+  '             Total lenght of Data:'+'\\033[0m', len(y_test),'\\n')\n",
    "                print('\\033[94m'+'             Class 0:'+'\\033[0m', \\\n",
    "                                    (torch.unique(y_test, return_counts=True)[1][0]).item())\n",
    "                print('\\033[94m'+'             Class 1:'+'\\033[0m', \\\n",
    "                                    (torch.unique(y_test, return_counts=True)[1][1]).item(),\\\n",
    "                                      '\\n'+'\\033[0m')\n",
    "                \n",
    "                plot_confusion_matrix(cm,[0,1])\n",
    "                \n",
    "                print('\\n')\n",
    "\n",
    "                try:\n",
    "                    fpr, tpr, _ = roc_curve(predictions, y_test)\n",
    "                    roc_auc = roc_auc_score(predictions, y_test)\n",
    "                    plt.figure()\n",
    "                    plt.plot(fpr, tpr, label='(Area = {:.3f})'.format(roc_auc))\n",
    "                    plt.xlabel('False positive rate')\n",
    "                    plt.ylabel('True positive rate')\n",
    "                    plt.title('ROC curve')\n",
    "                    plt.legend(loc='best')\n",
    "                    plt.show()\n",
    "                    \n",
    "                except:\n",
    "                    print('Something wrong')"
   ]
  },
  {
   "cell_type": "code",
   "execution_count": null,
   "id": "d5ece4cd",
   "metadata": {},
   "outputs": [],
   "source": []
  },
  {
   "cell_type": "code",
   "execution_count": 369,
   "id": "62707a7c",
   "metadata": {},
   "outputs": [],
   "source": [
    "class pretrain():\n",
    "    \n",
    "    def __init__(self,model):\n",
    "        self.model = model\n",
    "        self.loss_module = nn.MSELoss()\n",
    "        self.epoch_metrics = {}\n",
    "        self.total_loss = 0\n",
    "        self.batch_loss = []\n",
    "        \n",
    "        \n",
    "    def train(self,data, batch_size=20,epochs=100,verbose=True,return_loss=False):\n",
    "        self.model = self.model.train()\n",
    "        self.data = data\n",
    "        self.verbose = verbose\n",
    "        self.return_loss = return_loss\n",
    "        self.batch_size = batch_size\n",
    "        self.epochs = epochs\n",
    "  \n",
    "\n",
    "        for epoch in range(self.epochs):\n",
    "    \n",
    "            total_batch_loss = 0\n",
    "            total_loss = 0\n",
    "    \n",
    "            for i, batch in enumerate(DataLoader(self.data,self.batch_size)):\n",
    "                masked_data, targets, target_masks, padding_masks = batch\n",
    "                prediction = self.model(masked_data,padding_masks)\n",
    "                masked_prediction = torch.masked_select(prediction,target_masks)\n",
    "                masked_true = torch.masked_select(targets, target_masks)\n",
    "                optimizer = optim.Adam(self.model.parameters())\n",
    "                loss = self.loss_module(masked_prediction, masked_true)\n",
    "        \n",
    "                total_loss +=loss\n",
    "                mean_batch_loss = total_loss/(i+1)\n",
    "        \n",
    "                optimizer.zero_grad()\n",
    "                loss.backward()\n",
    "                torch.nn.utils.clip_grad_norm_(self.model.parameters(), max_norm=4.0)\n",
    "                optimizer.step()\n",
    "        \n",
    "                metrics = {'mean batch loss':mean_batch_loss.item()}\n",
    "        \n",
    "        \n",
    "            self.batch_loss.append(mean_batch_loss.detach().numpy())\n",
    "            if self.verbose:\n",
    "                print('\\033[94m'+'Epoch {}:'.format(epoch)+'\\033[0m'+' {}'.format(round(mean_batch_loss.item(),3)))\n",
    "            self.total_loss += mean_batch_loss\n",
    "            self.epoch_metrics['Epoch'] = epoch\n",
    "            self.epoch_metrics['Loss'] = self.total_loss/(epoch+1)\n",
    "        \n",
    "        if self.return_loss:\n",
    "            return plt.plot(self.batch_loss)\n",
    "        \n",
    "        \n",
    "    def evaluate(self,data,batch_size=20):\n",
    "            self.data = data\n",
    "            self.batch_size = batch_size\n",
    "            total_batch_loss = 0\n",
    "            self.model = self.model.eval()\n",
    "            \n",
    "            for i, batch in enumerate(DataLoader(self.data, self.batch_size)):\n",
    "                masked_data, targets, target_masks, padding_masks = batch\n",
    "                prediction = self.model(masked_data, padding_masks)\n",
    "                masked_prediction = torch.masked_select(prediction,target_masks)\n",
    "                masked_true = torch.masked_select(targets, target_masks)\n",
    "                \n",
    "                batch_loss = self.loss_module(masked_prediction, masked_true)\n",
    "                total_batch_loss += batch_loss\n",
    "                mean_bach_loss = total_batch_loss/(i+1)\n",
    "            metrics = {'mean batch loss':mean_bach_loss.item()}\n",
    "                \n",
    "            return metrics"
   ]
  },
  {
   "cell_type": "code",
   "execution_count": 19,
   "id": "dda4b562",
   "metadata": {},
   "outputs": [],
   "source": [
    "class unsupervised_model(nn.Module):\n",
    "    \n",
    "    def __init__(self,model,d_model, max_len, num_classes):\n",
    "        super(unsupervised_model, self).__init__()\n",
    "        \n",
    "        self.model = model\n",
    "        self.linear = nn.Linear(d_model * max_len, num_classes)\n",
    "        self.loss_module = nn.CrossEntropyLoss()\n",
    "        \n",
    "    def forward(self, X, padding_masks):\n",
    "        \n",
    "        prediction = self.model(X, padding_masks)\n",
    "        prediction = prediction.reshape(prediction.shape[0], -1)\n",
    "        output = self.linear(prediction)\n",
    "       \n",
    "        return output"
   ]
  },
  {
   "cell_type": "code",
   "execution_count": 21,
   "id": "a3184725",
   "metadata": {},
   "outputs": [],
   "source": [
    "class unsupervised_lstm_model(nn.Module):\n",
    "    \n",
    "    def __init__(self,model,d_model, max_len, num_classes):\n",
    "        super(unsupervised_lstm_model, self).__init__()\n",
    "        \n",
    "        self.model = model\n",
    "        self.linear = nn.Linear(d_model * max_len, num_classes)\n",
    "        self.loss_module = nn.CrossEntropyLoss()\n",
    "        self.output_layer = self.linear(num_classes)\n",
    "        self.lstm = nn.LSTM(d_model,128,1,batch_first=True)\n",
    "        \n",
    "    def linear(self,num_classes):\n",
    "        output_layer = nn.Linear(128,num_classes)\n",
    "        # no softmax (or log softmax), because CrossEntropyLoss does this internally. If probabilities are needed,\n",
    "        # add F.log_softmax and use NLLoss\n",
    "        return output_layer\n",
    "\n",
    "    def forward(self, X, padding_masks):\n",
    "        \n",
    "        prediction = self.model(X, padding_masks)\n",
    "        h0=c0= torch.zeros(1,prediction.size(0),128)\n",
    "        output, (hn, cn) = self.lstm(prediction, (h0,c0)) \n",
    "        hn = hn.view(-1,128)\n",
    "        output = self.output_layer(hn)\n",
    "        return output       \n",
    "         "
   ]
  },
  {
   "cell_type": "code",
   "execution_count": 55,
   "id": "57b3e53a",
   "metadata": {},
   "outputs": [],
   "source": [
    "class data_preprocess():\n",
    "    \n",
    "    def get_data(self,name, days=30):\n",
    "    \n",
    "        #import data\n",
    "        loaded_data = pd.read_csv('/Users/abhijitdeshpande/Documents/Project Files/Data Files/'+name+'.csv')\n",
    "        features = np.array(loaded_data.drop('out',axis=1))\n",
    "        label = np.array((loaded_data[['out']]))\n",
    "    \n",
    "        length = len(loaded_data)\n",
    "        days = days\n",
    "        data = []\n",
    "        for i in range(0,(length-days)):\n",
    "            data.append(features[i:i+days])\n",
    "    \n",
    "        np.save('/Users/abhijitdeshpande/Documents/Project Files/npy_data/npy_data_'+name+'.npy',data)\n",
    "    \n",
    "        self.features =  torch.tensor(np.load('/Users/abhijitdeshpande/Documents/Project Files/'\\\n",
    "                                     'npy_data/npy_data_'+name+'.npy',allow_pickle=True))\n",
    "    \n",
    "        lab = []\n",
    "        for i in range(0,(length-days)):\n",
    "            lab.append(label[i+days])\n",
    "        \n",
    "        self.label = torch.tensor(lab).squeeze()\n",
    "    \n",
    "    def split(self):\n",
    "        \n",
    "        feature_len = len(self.features)\n",
    "        train_size = int(abs(feature_len*0.6))\n",
    "        val_size = int(abs(feature_len*0.2))\n",
    "    \n",
    "    \n",
    "        self.idx_train = range(train_size)\n",
    "        self.idx_val = range(train_size, train_size+val_size)\n",
    "        self.idx_test = range(train_size+val_size, feature_len)\n",
    "        \n",
    "        print('\\033[1m'+'Total Samples:',feature_len)\n",
    "        print('\\033[92m'+'Training Samples:',len(self.idx_train))  \n",
    "        print('\\033[92m'+'Validation Samples:',len(self.idx_val))  \n",
    "        print('\\033[92m'+'Testing Samples:',len(self.idx_test)) \n",
    "      \n",
    "    def creat_masks(self):\n",
    "        \n",
    "        data_train = []\n",
    "        for i in self.features[self.idx_train]:\n",
    "            data_train.append(noise_mask(i, 0.15))\n",
    "    \n",
    "        data_val = []\n",
    "        for i in self.features[self.idx_val]:\n",
    "            data_val.append(noise_mask(i, 0.15))\n",
    "    \n",
    "        data_test = []\n",
    "        for i in self.features[self.idx_test]:\n",
    "            data_test.append(noise_mask(i, 0.15))\n",
    "            \n",
    "            \n",
    "        self.X, self.targets, self.target_masks, self.padding_masks = \\\n",
    "                        collate_unsuperv(self.features[self.idx_train], torch.tensor(data_train))\n",
    "    \n",
    "        self.X_val, self.targets_val, self.target_masks_val, self.padding_masks_val = \\\n",
    "                        collate_unsuperv(self.features[self.idx_val], torch.tensor(data_val))\n",
    "    \n",
    "        self.X_test, self.targets_test, self.target_masks_test, self.padding_masks_test = \\\n",
    "                        collate_unsuperv(self.features[self.idx_test], torch.tensor(data_test))\n",
    "        \n",
    "         \n",
    "    def prepare_data(self,supervised=True, unsupervised=False):\n",
    "            \n",
    "        x_train = self.features[self.idx_train]\n",
    "        x_val = self.features[self.idx_val]\n",
    "        x_test = self.features[self.idx_test]\n",
    "        feat_dim = self.features.shape[2]\n",
    "        max_len = self.features.shape[1]\n",
    "        \n",
    "        if supervised:\n",
    "    \n",
    "            train_data = []\n",
    "            for i in range(len(self.idx_train)):\n",
    "                train_data.append([x_train[i],self.label[self.idx_train][i],self.padding_masks[i]])\n",
    "        \n",
    "            val_data = []\n",
    "            for i in range(len(self.idx_val)):\n",
    "                val_data.append([x_val[i],self.label[self.idx_val][i],self.padding_masks_val[i]])\n",
    "        \n",
    "            test_data = []\n",
    "            for i in range(len(self.idx_test)):\n",
    "                test_data.append([x_test[i],self.label[self.idx_test][i],self.padding_masks_test[i]])\n",
    "        \n",
    "            \n",
    "            return train_data, val_data, test_data, feat_dim, max_len\n",
    "        \n",
    "        if unsupervised:\n",
    "\n",
    "            train_mask_data = []\n",
    "            for i in range(len(self.idx_train)):\n",
    "                train_mask_data.append([self.X[i],self.targets[i],self.target_masks[i],self.padding_masks[i]])\n",
    "        \n",
    "            val_mask_data = []\n",
    "            for i in range(len(self.idx_val)):\n",
    "                val_mask_data.append([self.X_val[i],self.targets_val[i],self.target_masks_val[i],self.padding_masks_val[i]])\n",
    "        \n",
    "            test_mask_data = []\n",
    "            for i in range(len(self.idx_test)):\n",
    "                test_mask_data.append([self.X_test[i],self.targets_test[i],self.target_masks_test[i],self.padding_masks_test[i]])\n",
    "            \n",
    "            \n",
    "        \n",
    "            return train_mask_data, val_mask_data, test_mask_data, feat_dim, max_len\n",
    "            \n"
   ]
  },
  {
   "cell_type": "code",
   "execution_count": 103,
   "id": "9eb21e92",
   "metadata": {},
   "outputs": [],
   "source": [
    "preprocess = data_preprocess()"
   ]
  },
  {
   "cell_type": "code",
   "execution_count": 389,
   "id": "33e9df86",
   "metadata": {},
   "outputs": [],
   "source": [
    "preprocess.get_data('MSFT')"
   ]
  },
  {
   "cell_type": "code",
   "execution_count": 390,
   "id": "d5434ded",
   "metadata": {},
   "outputs": [
    {
     "name": "stdout",
     "output_type": "stream",
     "text": [
      "\u001b[1mTotal Samples: 405\n",
      "\u001b[92mTraining Samples: 243\n",
      "\u001b[92mValidation Samples: 81\n",
      "\u001b[92mTesting Samples: 81\n"
     ]
    }
   ],
   "source": [
    "preprocess.split()"
   ]
  },
  {
   "cell_type": "code",
   "execution_count": 391,
   "id": "09d20023",
   "metadata": {},
   "outputs": [],
   "source": [
    "preprocess.creat_masks()"
   ]
  },
  {
   "cell_type": "code",
   "execution_count": 392,
   "id": "1f7131f9",
   "metadata": {},
   "outputs": [],
   "source": [
    "train, val, test, feat_dim, max_len = preprocess.prepare_data()"
   ]
  },
  {
   "cell_type": "code",
   "execution_count": 145,
   "id": "2120fde4",
   "metadata": {},
   "outputs": [
    {
     "data": {
      "text/plain": [
       "('TSLA', 64, 4, 1, 64, 2, 1, 128, 0.2)"
      ]
     },
     "execution_count": 145,
     "metadata": {},
     "output_type": "execute_result"
    }
   ],
   "source": [
    "('AAPL', 128, 16, 1, 256, 2, 1, 128, 0.15)\n",
    "('MSFT', 128, 16, 1, 128, 2, 1, 128, 0.25)\n",
    "('AMZN', 128, 16, 3, 128, 2, 1, 256, 0.25)\n",
    "('GOOG', 128, 16, 3, 128, 2, 1, 128, 0.2)\n",
    "('TSLA', 64, 4, 1, 64, 2, 1, 128, 0.2)"
   ]
  },
  {
   "cell_type": "markdown",
   "id": "3ff41708",
   "metadata": {},
   "source": [
    "# Supervised"
   ]
  },
  {
   "cell_type": "code",
   "execution_count": 351,
   "id": "cf5831fe",
   "metadata": {},
   "outputs": [],
   "source": [
    "torch.manual_seed(10)\n",
    "super_model = TSTransformerEncoderLSTM(feat_dim,max_len,64,16,1,\n",
    "                                       128,2,lstm_layers=2,\n",
    "                                       hidden_layers=128,\n",
    "                                       dropout=0.25)\n",
    "supervised = train_model(super_model)"
   ]
  },
  {
   "cell_type": "code",
   "execution_count": null,
   "id": "86c05c6b",
   "metadata": {},
   "outputs": [],
   "source": []
  },
  {
   "cell_type": "code",
   "execution_count": 352,
   "id": "4eff368d",
   "metadata": {
    "collapsed": true
   },
   "outputs": [
    {
     "data": {
      "text/plain": [
       "[<matplotlib.lines.Line2D at 0x7f802dab1ac0>]"
      ]
     },
     "execution_count": 352,
     "metadata": {},
     "output_type": "execute_result"
    },
    {
     "data": {
      "image/png": "[encoded data removed]",
      "text/plain": [
       "<Figure size 432x288 with 1 Axes>"
      ]
     },
     "metadata": {
      "needs_background": "light"
     },
     "output_type": "display_data"
    }
   ],
   "source": [
    "supervised.train(train, verbose=False, return_loss=True, epochs=100, batch_size=64, )"
   ]
  },
  {
   "cell_type": "code",
   "execution_count": 415,
   "id": "18a6fd8c",
   "metadata": {},
   "outputs": [
    {
     "data": {
      "text/plain": [
       "{'mean batch accuracy': 0.5185185185185185}"
      ]
     },
     "execution_count": 415,
     "metadata": {},
     "output_type": "execute_result"
    }
   ],
   "source": [
    "supervised.evaluate(val, batch_size=10000)"
   ]
  },
  {
   "cell_type": "code",
   "execution_count": 429,
   "id": "9595f59d",
   "metadata": {},
   "outputs": [
    {
     "name": "stdout",
     "output_type": "stream",
     "text": [
      "\u001b[92m\n",
      "Accuracy: \u001b[0m 0.5185185185185185\n",
      "\n",
      "\u001b[0mClassification Report:\n",
      "\n",
      "              precision    recall  f1-score   support\n",
      "\n",
      "           0       0.76      0.55      0.64        62\n",
      "           1       0.22      0.42      0.29        19\n",
      "\n",
      "    accuracy                           0.52        81\n",
      "   macro avg       0.49      0.48      0.46        81\n",
      "weighted avg       0.63      0.52      0.55        81\n",
      "\n",
      "\n",
      "\u001b[0mConfusion Matrix:\n",
      "\n",
      "\u001b[91m             Total lenght of Data:\u001b[0m 81 \n",
      "\n",
      "\u001b[94m             Class 0:\u001b[0m 45\n",
      "\u001b[94m             Class 1:\u001b[0m 36 \n",
      "\u001b[0m\n",
      "Confusion matrix, without normalization\n",
      "[[34 28]\n",
      " [11  8]]\n",
      "\n",
      "\n"
     ]
    },
    {
     "data": {
      "image/png": "[encoded data removed]",
      "text/plain": [
       "<Figure size 432x288 with 2 Axes>"
      ]
     },
     "metadata": {
      "needs_background": "light"
     },
     "output_type": "display_data"
    },
    {
     "data": {
      "image/png": "[encoded data removed]",
      "text/plain": [
       "<Figure size 432x288 with 1 Axes>"
      ]
     },
     "metadata": {
      "needs_background": "light"
     },
     "output_type": "display_data"
    }
   ],
   "source": [
    "supervised.analyze(val)"
   ]
  },
  {
   "cell_type": "code",
   "execution_count": null,
   "id": "f80e45ce",
   "metadata": {},
   "outputs": [],
   "source": []
  },
  {
   "cell_type": "code",
   "execution_count": null,
   "id": "ebbf5b35",
   "metadata": {},
   "outputs": [],
   "source": []
  },
  {
   "cell_type": "code",
   "execution_count": null,
   "id": "27cd97c0",
   "metadata": {},
   "outputs": [],
   "source": []
  },
  {
   "cell_type": "code",
   "execution_count": null,
   "id": "8e77f9cb",
   "metadata": {},
   "outputs": [],
   "source": []
  },
  {
   "cell_type": "markdown",
   "id": "10a4f40f",
   "metadata": {},
   "source": [
    "# Unsupervised "
   ]
  },
  {
   "cell_type": "code",
   "execution_count": 393,
   "id": "7944335c",
   "metadata": {},
   "outputs": [],
   "source": [
    "train_mask, val_mask, test_mask, feat_dim, max_len = preprocess.prepare_data(supervised=False, unsupervised=True)"
   ]
  },
  {
   "cell_type": "code",
   "execution_count": 410,
   "id": "dd5b9237",
   "metadata": {},
   "outputs": [],
   "source": [
    "torch.manual_seed(10)\n",
    "unsuper_model = TSTransformerEncoder(feat_dim,max_len,128,16,1,128,dropout=0.25)"
   ]
  },
  {
   "cell_type": "code",
   "execution_count": 411,
   "id": "d0e46739",
   "metadata": {},
   "outputs": [],
   "source": [
    "unsupervised = pretrain(unsuper_model)"
   ]
  },
  {
   "cell_type": "code",
   "execution_count": 412,
   "id": "fa02bd39",
   "metadata": {
    "collapsed": true
   },
   "outputs": [
    {
     "name": "stdout",
     "output_type": "stream",
     "text": [
      "\u001b[94mEpoch 0:\u001b[0m 1.08\n",
      "\u001b[94mEpoch 1:\u001b[0m 0.921\n",
      "\u001b[94mEpoch 2:\u001b[0m 0.796\n",
      "\u001b[94mEpoch 3:\u001b[0m 0.714\n",
      "\u001b[94mEpoch 4:\u001b[0m 0.653\n",
      "\u001b[94mEpoch 5:\u001b[0m 0.616\n",
      "\u001b[94mEpoch 6:\u001b[0m 0.587\n",
      "\u001b[94mEpoch 7:\u001b[0m 0.563\n",
      "\u001b[94mEpoch 8:\u001b[0m 0.55\n",
      "\u001b[94mEpoch 9:\u001b[0m 0.535\n",
      "\u001b[94mEpoch 10:\u001b[0m 0.521\n",
      "\u001b[94mEpoch 11:\u001b[0m 0.509\n",
      "\u001b[94mEpoch 12:\u001b[0m 0.502\n",
      "\u001b[94mEpoch 13:\u001b[0m 0.494\n",
      "\u001b[94mEpoch 14:\u001b[0m 0.483\n",
      "\u001b[94mEpoch 15:\u001b[0m 0.475\n",
      "\u001b[94mEpoch 16:\u001b[0m 0.47\n",
      "\u001b[94mEpoch 17:\u001b[0m 0.461\n",
      "\u001b[94mEpoch 18:\u001b[0m 0.46\n",
      "\u001b[94mEpoch 19:\u001b[0m 0.452\n",
      "\u001b[94mEpoch 20:\u001b[0m 0.445\n",
      "\u001b[94mEpoch 21:\u001b[0m 0.44\n",
      "\u001b[94mEpoch 22:\u001b[0m 0.433\n",
      "\u001b[94mEpoch 23:\u001b[0m 0.431\n",
      "\u001b[94mEpoch 24:\u001b[0m 0.429\n",
      "\u001b[94mEpoch 25:\u001b[0m 0.422\n",
      "\u001b[94mEpoch 26:\u001b[0m 0.422\n",
      "\u001b[94mEpoch 27:\u001b[0m 0.416\n",
      "\u001b[94mEpoch 28:\u001b[0m 0.412\n",
      "\u001b[94mEpoch 29:\u001b[0m 0.406\n",
      "\u001b[94mEpoch 30:\u001b[0m 0.404\n",
      "\u001b[94mEpoch 31:\u001b[0m 0.398\n",
      "\u001b[94mEpoch 32:\u001b[0m 0.396\n",
      "\u001b[94mEpoch 33:\u001b[0m 0.394\n",
      "\u001b[94mEpoch 34:\u001b[0m 0.389\n",
      "\u001b[94mEpoch 35:\u001b[0m 0.388\n",
      "\u001b[94mEpoch 36:\u001b[0m 0.384\n",
      "\u001b[94mEpoch 37:\u001b[0m 0.38\n",
      "\u001b[94mEpoch 38:\u001b[0m 0.379\n",
      "\u001b[94mEpoch 39:\u001b[0m 0.379\n",
      "\u001b[94mEpoch 40:\u001b[0m 0.376\n",
      "\u001b[94mEpoch 41:\u001b[0m 0.373\n",
      "\u001b[94mEpoch 42:\u001b[0m 0.371\n",
      "\u001b[94mEpoch 43:\u001b[0m 0.367\n",
      "\u001b[94mEpoch 44:\u001b[0m 0.368\n",
      "\u001b[94mEpoch 45:\u001b[0m 0.363\n",
      "\u001b[94mEpoch 46:\u001b[0m 0.362\n",
      "\u001b[94mEpoch 47:\u001b[0m 0.359\n",
      "\u001b[94mEpoch 48:\u001b[0m 0.357\n",
      "\u001b[94mEpoch 49:\u001b[0m 0.352\n",
      "\u001b[94mEpoch 50:\u001b[0m 0.353\n",
      "\u001b[94mEpoch 51:\u001b[0m 0.349\n",
      "\u001b[94mEpoch 52:\u001b[0m 0.35\n",
      "\u001b[94mEpoch 53:\u001b[0m 0.347\n",
      "\u001b[94mEpoch 54:\u001b[0m 0.344\n",
      "\u001b[94mEpoch 55:\u001b[0m 0.343\n",
      "\u001b[94mEpoch 56:\u001b[0m 0.342\n",
      "\u001b[94mEpoch 57:\u001b[0m 0.341\n",
      "\u001b[94mEpoch 58:\u001b[0m 0.339\n",
      "\u001b[94mEpoch 59:\u001b[0m 0.338\n",
      "\u001b[94mEpoch 60:\u001b[0m 0.336\n",
      "\u001b[94mEpoch 61:\u001b[0m 0.335\n",
      "\u001b[94mEpoch 62:\u001b[0m 0.332\n",
      "\u001b[94mEpoch 63:\u001b[0m 0.33\n",
      "\u001b[94mEpoch 64:\u001b[0m 0.328\n",
      "\u001b[94mEpoch 65:\u001b[0m 0.328\n",
      "\u001b[94mEpoch 66:\u001b[0m 0.327\n",
      "\u001b[94mEpoch 67:\u001b[0m 0.327\n",
      "\u001b[94mEpoch 68:\u001b[0m 0.325\n",
      "\u001b[94mEpoch 69:\u001b[0m 0.322\n",
      "\u001b[94mEpoch 70:\u001b[0m 0.324\n",
      "\u001b[94mEpoch 71:\u001b[0m 0.322\n",
      "\u001b[94mEpoch 72:\u001b[0m 0.32\n",
      "\u001b[94mEpoch 73:\u001b[0m 0.319\n",
      "\u001b[94mEpoch 74:\u001b[0m 0.316\n",
      "\u001b[94mEpoch 75:\u001b[0m 0.316\n",
      "\u001b[94mEpoch 76:\u001b[0m 0.314\n",
      "\u001b[94mEpoch 77:\u001b[0m 0.316\n",
      "\u001b[94mEpoch 78:\u001b[0m 0.314\n",
      "\u001b[94mEpoch 79:\u001b[0m 0.31\n",
      "\u001b[94mEpoch 80:\u001b[0m 0.311\n",
      "\u001b[94mEpoch 81:\u001b[0m 0.31\n",
      "\u001b[94mEpoch 82:\u001b[0m 0.311\n",
      "\u001b[94mEpoch 83:\u001b[0m 0.311\n",
      "\u001b[94mEpoch 84:\u001b[0m 0.307\n",
      "\u001b[94mEpoch 85:\u001b[0m 0.306\n",
      "\u001b[94mEpoch 86:\u001b[0m 0.305\n",
      "\u001b[94mEpoch 87:\u001b[0m 0.305\n",
      "\u001b[94mEpoch 88:\u001b[0m 0.305\n",
      "\u001b[94mEpoch 89:\u001b[0m 0.301\n",
      "\u001b[94mEpoch 90:\u001b[0m 0.3\n",
      "\u001b[94mEpoch 91:\u001b[0m 0.3\n",
      "\u001b[94mEpoch 92:\u001b[0m 0.301\n",
      "\u001b[94mEpoch 93:\u001b[0m 0.298\n",
      "\u001b[94mEpoch 94:\u001b[0m 0.296\n",
      "\u001b[94mEpoch 95:\u001b[0m 0.297\n",
      "\u001b[94mEpoch 96:\u001b[0m 0.297\n",
      "\u001b[94mEpoch 97:\u001b[0m 0.296\n",
      "\u001b[94mEpoch 98:\u001b[0m 0.296\n",
      "\u001b[94mEpoch 99:\u001b[0m 0.294\n"
     ]
    },
    {
     "data": {
      "text/plain": [
       "[<matplotlib.lines.Line2D at 0x7f802e185a30>]"
      ]
     },
     "execution_count": 412,
     "metadata": {},
     "output_type": "execute_result"
    },
    {
     "data": {
      "image/png": "[encoded data removed]",
      "text/plain": [
       "<Figure size 432x288 with 1 Axes>"
      ]
     },
     "metadata": {
      "needs_background": "light"
     },
     "output_type": "display_data"
    }
   ],
   "source": [
    "unsupervised.train(train_mask,verbose=True, return_loss=True,epochs=100,batch_size=64)"
   ]
  },
  {
   "cell_type": "code",
   "execution_count": 413,
   "id": "5ea8864c",
   "metadata": {},
   "outputs": [
    {
     "data": {
      "text/plain": [
       "{'mean batch loss': 0.36595648527145386}"
      ]
     },
     "execution_count": 413,
     "metadata": {},
     "output_type": "execute_result"
    }
   ],
   "source": [
    "unsupervised.evaluate(val_mask)"
   ]
  },
  {
   "cell_type": "code",
   "execution_count": 414,
   "id": "c22dedfd",
   "metadata": {},
   "outputs": [
    {
     "data": {
      "text/plain": [
       "{'mean batch loss': 1.1349055767059326}"
      ]
     },
     "execution_count": 414,
     "metadata": {},
     "output_type": "execute_result"
    }
   ],
   "source": [
    "unsupervised.evaluate(test_mask)"
   ]
  },
  {
   "cell_type": "markdown",
   "id": "cb4aa188",
   "metadata": {},
   "source": [
    "# Unsupervised with linear layer"
   ]
  },
  {
   "cell_type": "code",
   "execution_count": 5831,
   "id": "7f6ff17d",
   "metadata": {},
   "outputs": [],
   "source": [
    "pretrained_model = unsupervised_model(unsuper_model,feat_dim,max_len,n_class)"
   ]
  },
  {
   "cell_type": "code",
   "execution_count": 5832,
   "id": "9b53d10b",
   "metadata": {},
   "outputs": [],
   "source": [
    "pretrain_supervised = train_model(pretrained_model)"
   ]
  },
  {
   "cell_type": "code",
   "execution_count": 5833,
   "id": "5e3578f6",
   "metadata": {
    "collapsed": true
   },
   "outputs": [
    {
     "name": "stdout",
     "output_type": "stream",
     "text": [
      "Epoch 0: 62.934%\n",
      "Epoch 1: 70.964%\n",
      "Epoch 2: 74.002%\n",
      "Epoch 3: 75.955%\n",
      "Epoch 4: 77.648%\n",
      "Epoch 5: 79.688%\n",
      "Epoch 6: 82.075%\n",
      "Epoch 7: 83.724%\n",
      "Epoch 8: 83.637%\n",
      "Epoch 9: 86.589%\n",
      "Epoch 10: 87.674%\n",
      "Epoch 11: 90.625%\n",
      "Epoch 12: 90.234%\n",
      "Epoch 13: 91.406%\n",
      "Epoch 14: 92.101%\n",
      "Epoch 15: 92.795%\n",
      "Epoch 16: 92.101%\n",
      "Epoch 17: 92.882%\n",
      "Epoch 18: 94.965%\n",
      "Epoch 19: 92.882%\n",
      "Epoch 20: 92.795%\n",
      "Epoch 21: 97.135%\n",
      "Epoch 22: 94.575%\n",
      "Epoch 23: 97.439%\n",
      "Epoch 24: 95.269%\n",
      "Epoch 25: 94.965%\n",
      "Epoch 26: 95.747%\n",
      "Epoch 27: 96.05%\n",
      "Epoch 28: 96.05%\n",
      "Epoch 29: 94.965%\n",
      "Epoch 30: 96.745%\n",
      "Epoch 31: 96.05%\n",
      "Epoch 32: 95.052%\n",
      "Epoch 33: 94.575%\n",
      "Epoch 34: 99.609%\n",
      "Epoch 35: 96.658%\n",
      "Epoch 36: 97.743%\n",
      "Epoch 37: 96.354%\n",
      "Epoch 38: 98.22%\n",
      "Epoch 39: 96.832%\n",
      "Epoch 40: 97.135%\n",
      "Epoch 41: 96.441%\n",
      "Epoch 42: 98.915%\n",
      "Epoch 43: 95.747%\n",
      "Epoch 44: 97.526%\n",
      "Epoch 45: 98.524%\n",
      "Epoch 46: 97.049%\n",
      "Epoch 47: 97.83%\n",
      "Epoch 48: 97.135%\n",
      "Epoch 49: 99.609%\n",
      "Epoch 50: 98.22%\n",
      "Epoch 51: 98.22%\n",
      "Epoch 52: 98.524%\n",
      "Epoch 53: 99.306%\n",
      "Epoch 54: 98.915%\n",
      "Epoch 55: 98.915%\n",
      "Epoch 56: 96.832%\n",
      "Epoch 57: 98.915%\n",
      "Epoch 58: 98.915%\n",
      "Epoch 59: 99.306%\n",
      "Epoch 60: 97.83%\n",
      "Epoch 61: 97.439%\n",
      "Epoch 62: 98.915%\n",
      "Epoch 63: 97.83%\n",
      "Epoch 64: 98.22%\n",
      "Epoch 65: 98.828%\n",
      "Epoch 66: 98.915%\n",
      "Epoch 67: 99.306%\n",
      "Epoch 68: 97.83%\n",
      "Epoch 69: 99.609%\n",
      "Epoch 70: 98.524%\n",
      "Epoch 71: 99.306%\n",
      "Epoch 72: 95.66%\n",
      "Epoch 73: 100.0%\n",
      "Epoch 74: 100.0%\n",
      "Epoch 75: 98.915%\n",
      "Epoch 76: 98.915%\n",
      "Epoch 77: 98.828%\n",
      "Epoch 78: 100.0%\n",
      "Epoch 79: 99.306%\n",
      "Epoch 80: 99.306%\n",
      "Epoch 81: 100.0%\n",
      "Epoch 82: 97.439%\n",
      "Epoch 83: 100.0%\n",
      "Epoch 84: 99.306%\n",
      "Epoch 85: 98.22%\n",
      "Epoch 86: 98.611%\n",
      "Epoch 87: 99.306%\n",
      "Epoch 88: 99.306%\n",
      "Epoch 89: 98.22%\n",
      "Epoch 90: 98.134%\n",
      "Epoch 91: 100.0%\n",
      "Epoch 92: 99.609%\n",
      "Epoch 93: 100.0%\n",
      "Epoch 94: 98.22%\n",
      "Epoch 95: 99.609%\n",
      "Epoch 96: 100.0%\n",
      "Epoch 97: 98.611%\n",
      "Epoch 98: 98.915%\n",
      "Epoch 99: 100.0%\n"
     ]
    },
    {
     "data": {
      "text/plain": [
       "[<matplotlib.lines.Line2D at 0x1ee0ec83a90>]"
      ]
     },
     "execution_count": 5833,
     "metadata": {},
     "output_type": "execute_result"
    },
    {
     "data": {
      "image/png": "[encoded data removed]",
      "text/plain": [
       "<Figure size 432x288 with 1 Axes>"
      ]
     },
     "metadata": {
      "needs_background": "light"
     },
     "output_type": "display_data"
    }
   ],
   "source": [
    "pretrain_supervised.train(train_data,epochs=100,verbose=True,return_loss=True)"
   ]
  },
  {
   "cell_type": "code",
   "execution_count": 5834,
   "id": "3b1b8f00",
   "metadata": {},
   "outputs": [
    {
     "data": {
      "text/plain": [
       "{'mean batch accuracy': 0.3990293560606061}"
      ]
     },
     "execution_count": 5834,
     "metadata": {},
     "output_type": "execute_result"
    }
   ],
   "source": [
    "pretrain_supervised.evaluate(test_data,batch_size=64)"
   ]
  },
  {
   "cell_type": "code",
   "execution_count": null,
   "id": "b14ae9d5",
   "metadata": {},
   "outputs": [],
   "source": []
  },
  {
   "cell_type": "markdown",
   "id": "5f8b34a2",
   "metadata": {},
   "source": [
    "# Unsupervised with LSTM"
   ]
  },
  {
   "cell_type": "code",
   "execution_count": 417,
   "id": "25d8bd3c",
   "metadata": {},
   "outputs": [],
   "source": [
    "torch.manual_seed(10)\n",
    "pretrain_model_lstm = unsupervised_lstm_model(unsuper_model,feat_dim,max_len,2)"
   ]
  },
  {
   "cell_type": "code",
   "execution_count": 418,
   "id": "b8bd2c26",
   "metadata": {},
   "outputs": [],
   "source": [
    "pretrain_supervised = train_model(pretrain_model_lstm)"
   ]
  },
  {
   "cell_type": "code",
   "execution_count": 423,
   "id": "ffb73978",
   "metadata": {
    "scrolled": true
   },
   "outputs": [
    {
     "name": "stdout",
     "output_type": "stream",
     "text": [
      "\u001b[94mEpoch 0:\u001b[0m 95.785%\n",
      "\u001b[94mEpoch 1:\u001b[0m 98.74%\n",
      "\u001b[94mEpoch 2:\u001b[0m 95.262%\n",
      "\u001b[94mEpoch 3:\u001b[0m 96.787%\n",
      "\u001b[94mEpoch 4:\u001b[0m 98.305%\n",
      "\u001b[94mEpoch 5:\u001b[0m 97.959%\n",
      "\u001b[94mEpoch 6:\u001b[0m 98.349%\n",
      "\u001b[94mEpoch 7:\u001b[0m 98.349%\n",
      "\u001b[94mEpoch 8:\u001b[0m 96.219%\n",
      "\u001b[94mEpoch 9:\u001b[0m 98.393%\n",
      "\u001b[94mEpoch 10:\u001b[0m 98.74%\n",
      "\u001b[94mEpoch 11:\u001b[0m 97.914%\n",
      "\u001b[94mEpoch 12:\u001b[0m 98.349%\n",
      "\u001b[94mEpoch 13:\u001b[0m 96.352%\n",
      "\u001b[94mEpoch 14:\u001b[0m 97.914%\n",
      "\u001b[94mEpoch 15:\u001b[0m 98.74%\n",
      "\u001b[94mEpoch 16:\u001b[0m 96.787%\n",
      "\u001b[94mEpoch 17:\u001b[0m 97.089%\n",
      "\u001b[94mEpoch 18:\u001b[0m 98.828%\n",
      "\u001b[94mEpoch 19:\u001b[0m 96.787%\n",
      "\u001b[94mEpoch 20:\u001b[0m 97.959%\n",
      "\u001b[94mEpoch 21:\u001b[0m 97.045%\n",
      "\u001b[94mEpoch 22:\u001b[0m 97.959%\n",
      "\u001b[94mEpoch 23:\u001b[0m 97.133%\n",
      "\u001b[94mEpoch 24:\u001b[0m 97.089%\n",
      "\u001b[94mEpoch 25:\u001b[0m 98.305%\n",
      "\u001b[94mEpoch 26:\u001b[0m 97.48%\n",
      "\u001b[94mEpoch 27:\u001b[0m 97.914%\n",
      "\u001b[94mEpoch 28:\u001b[0m 97.524%\n",
      "\u001b[94mEpoch 29:\u001b[0m 97.524%\n",
      "\u001b[94mEpoch 30:\u001b[0m 97.914%\n",
      "\u001b[94mEpoch 31:\u001b[0m 97.87%\n",
      "\u001b[94mEpoch 32:\u001b[0m 98.349%\n",
      "\u001b[94mEpoch 33:\u001b[0m 97.914%\n",
      "\u001b[94mEpoch 34:\u001b[0m 97.568%\n",
      "\u001b[94mEpoch 35:\u001b[0m 99.175%\n",
      "\u001b[94mEpoch 36:\u001b[0m 97.914%\n",
      "\u001b[94mEpoch 37:\u001b[0m 97.959%\n",
      "\u001b[94mEpoch 38:\u001b[0m 97.914%\n",
      "\u001b[94mEpoch 39:\u001b[0m 97.089%\n",
      "\u001b[94mEpoch 40:\u001b[0m 96.831%\n",
      "\u001b[94mEpoch 41:\u001b[0m 98.784%\n",
      "\u001b[94mEpoch 42:\u001b[0m 97.914%\n",
      "\u001b[94mEpoch 43:\u001b[0m 97.435%\n",
      "\u001b[94mEpoch 44:\u001b[0m 96.175%\n",
      "\u001b[94mEpoch 45:\u001b[0m 97.914%\n",
      "\u001b[94mEpoch 46:\u001b[0m 98.74%\n",
      "\u001b[94mEpoch 47:\u001b[0m 99.175%\n",
      "\u001b[94mEpoch 48:\u001b[0m 97.612%\n",
      "\u001b[94mEpoch 49:\u001b[0m 97.177%\n"
     ]
    },
    {
     "data": {
      "text/plain": [
       "[<matplotlib.lines.Line2D at 0x7f80111a83d0>]"
      ]
     },
     "execution_count": 423,
     "metadata": {},
     "output_type": "execute_result"
    },
    {
     "data": {
      "image/png": "[encoded data removed]",
      "text/plain": [
       "<Figure size 432x288 with 1 Axes>"
      ]
     },
     "metadata": {
      "needs_background": "light"
     },
     "output_type": "display_data"
    }
   ],
   "source": [
    "pretrain_supervised.train(train,epochs=50,verbose=True,return_loss=True)"
   ]
  },
  {
   "cell_type": "code",
   "execution_count": 424,
   "id": "8047d459",
   "metadata": {},
   "outputs": [
    {
     "data": {
      "text/plain": [
       "{'mean batch accuracy': 0.654320987654321}"
      ]
     },
     "execution_count": 424,
     "metadata": {},
     "output_type": "execute_result"
    }
   ],
   "source": [
    "pretrain_supervised.evaluate(val)"
   ]
  },
  {
   "cell_type": "code",
   "execution_count": 428,
   "id": "088682d3",
   "metadata": {},
   "outputs": [
    {
     "name": "stdout",
     "output_type": "stream",
     "text": [
      "\u001b[92m\n",
      "Accuracy: \u001b[0m 0.5185185185185185\n",
      "\n",
      "\u001b[0mClassification Report:\n",
      "\n",
      "              precision    recall  f1-score   support\n",
      "\n",
      "           0       0.92      0.24      0.38        50\n",
      "           1       0.44      0.97      0.61        31\n",
      "\n",
      "    accuracy                           0.52        81\n",
      "   macro avg       0.68      0.60      0.49        81\n",
      "weighted avg       0.74      0.52      0.47        81\n",
      "\n",
      "\n",
      "\u001b[0mConfusion Matrix:\n",
      "\n",
      "\u001b[91m             Total lenght of Data:\u001b[0m 81 \n",
      "\n",
      "\u001b[94m             Class 0:\u001b[0m 13\n",
      "\u001b[94m             Class 1:\u001b[0m 68 \n",
      "\u001b[0m\n",
      "Confusion matrix, without normalization\n",
      "[[12 38]\n",
      " [ 1 30]]\n",
      "\n",
      "\n"
     ]
    },
    {
     "data": {
      "image/png": "[encoded data removed]",
      "text/plain": [
       "<Figure size 432x288 with 2 Axes>"
      ]
     },
     "metadata": {
      "needs_background": "light"
     },
     "output_type": "display_data"
    },
    {
     "data": {
      "image/png": "[encoded data removed]",
      "text/plain": [
       "<Figure size 432x288 with 1 Axes>"
      ]
     },
     "metadata": {
      "needs_background": "light"
     },
     "output_type": "display_data"
    }
   ],
   "source": [
    "pretrain_supervised.analyze(test)"
   ]
  },
  {
   "cell_type": "code",
   "execution_count": null,
   "id": "ccfd8c6d",
   "metadata": {},
   "outputs": [],
   "source": []
  },
  {
   "cell_type": "code",
   "execution_count": null,
   "id": "0c553b30",
   "metadata": {},
   "outputs": [],
   "source": []
  },
  {
   "cell_type": "code",
   "execution_count": null,
   "id": "b8cb470b",
   "metadata": {},
   "outputs": [],
   "source": []
  },
  {
   "cell_type": "code",
   "execution_count": null,
   "id": "6e48c36d",
   "metadata": {},
   "outputs": [],
   "source": []
  }
 ],
 "metadata": {
  "kernelspec": {
   "display_name": "Python 3 (ipykernel)",
   "language": "python",
   "name": "python3"
  },
  "language_info": {
   "codemirror_mode": {
    "name": "ipython",
    "version": 3
   },
   "file_extension": ".py",
   "mimetype": "text/x-python",
   "name": "python",
   "nbconvert_exporter": "python",
   "pygments_lexer": "ipython3",
   "version": "3.8.11"
  }
 },
 "nbformat": 4,
 "nbformat_minor": 5
}
