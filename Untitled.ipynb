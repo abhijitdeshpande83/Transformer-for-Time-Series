{
 "cells": [
  {
   "cell_type": "code",
   "execution_count": 2,
   "id": "a7644dc2",
   "metadata": {},
   "outputs": [],
   "source": [
    "import torch\n",
    "import numpy as np\n",
    "import torch.nn as nn"
   ]
  },
  {
   "cell_type": "code",
   "execution_count": null,
   "id": "e95a0a3a",
   "metadata": {},
   "outputs": [],
   "source": []
  },
  {
   "cell_type": "code",
   "execution_count": null,
   "id": "425a7fb1",
   "metadata": {},
   "outputs": [],
   "source": []
  },
  {
   "cell_type": "code",
   "execution_count": 24,
   "id": "30a9b395",
   "metadata": {},
   "outputs": [],
   "source": [
    "import pandas as pd\n",
    "import numpy as np"
   ]
  },
  {
   "cell_type": "code",
   "execution_count": 25,
   "id": "ffc9aafb",
   "metadata": {},
   "outputs": [],
   "source": [
    "data = pd.read_csv('/Users/abhijitdeshpande/Documents/Project Files/Full Hourly Data/JPM.csv')"
   ]
  },
  {
   "cell_type": "code",
   "execution_count": 26,
   "id": "f44419a2",
   "metadata": {},
   "outputs": [],
   "source": [
    "label = data.out"
   ]
  },
  {
   "cell_type": "code",
   "execution_count": 27,
   "id": "edbcda98",
   "metadata": {},
   "outputs": [],
   "source": [
    "import xgboost"
   ]
  },
  {
   "cell_type": "code",
   "execution_count": 144,
   "id": "7b122921",
   "metadata": {},
   "outputs": [],
   "source": [
    "from sklearn.svm import SVC"
   ]
  },
  {
   "cell_type": "code",
   "execution_count": 162,
   "id": "677cac3d",
   "metadata": {},
   "outputs": [],
   "source": [
    "svm = SVC(C=10)"
   ]
  },
  {
   "cell_type": "code",
   "execution_count": 163,
   "id": "d22e41bf",
   "metadata": {},
   "outputs": [
    {
     "data": {
      "text/plain": [
       "SVC(C=10)"
      ]
     },
     "execution_count": 163,
     "metadata": {},
     "output_type": "execute_result"
    }
   ],
   "source": [
    "svm.fit(x,label)"
   ]
  },
  {
   "cell_type": "code",
   "execution_count": 164,
   "id": "4c0dbf4e",
   "metadata": {},
   "outputs": [],
   "source": [
    "pred = svm.predict(x)"
   ]
  },
  {
   "cell_type": "code",
   "execution_count": 165,
   "id": "f6b1b11d",
   "metadata": {},
   "outputs": [
    {
     "data": {
      "text/plain": [
       "0.5849111564229537"
      ]
     },
     "execution_count": 165,
     "metadata": {},
     "output_type": "execute_result"
    }
   ],
   "source": [
    "accuracy_score(pred,label)"
   ]
  },
  {
   "cell_type": "code",
   "execution_count": 166,
   "id": "81df8faf",
   "metadata": {},
   "outputs": [],
   "source": [
    "from sklearn.metrics import classification_report, accuracy_score"
   ]
  },
  {
   "cell_type": "code",
   "execution_count": 167,
   "id": "da03513f",
   "metadata": {},
   "outputs": [
    {
     "name": "stdout",
     "output_type": "stream",
     "text": [
      "              precision    recall  f1-score   support\n",
      "\n",
      "           0       0.58      1.00      0.74      4016\n",
      "           1       0.00      0.00      0.00      2850\n",
      "\n",
      "    accuracy                           0.58      6866\n",
      "   macro avg       0.29      0.50      0.37      6866\n",
      "weighted avg       0.34      0.58      0.43      6866\n",
      "\n"
     ]
    },
    {
     "name": "stderr",
     "output_type": "stream",
     "text": [
      "/Users/abhijitdeshpande/opt/anaconda3/lib/python3.8/site-packages/sklearn/metrics/_classification.py:1248: UndefinedMetricWarning: Precision and F-score are ill-defined and being set to 0.0 in labels with no predicted samples. Use `zero_division` parameter to control this behavior.\n",
      "  _warn_prf(average, modifier, msg_start, len(result))\n",
      "/Users/abhijitdeshpande/opt/anaconda3/lib/python3.8/site-packages/sklearn/metrics/_classification.py:1248: UndefinedMetricWarning: Precision and F-score are ill-defined and being set to 0.0 in labels with no predicted samples. Use `zero_division` parameter to control this behavior.\n",
      "  _warn_prf(average, modifier, msg_start, len(result))\n",
      "/Users/abhijitdeshpande/opt/anaconda3/lib/python3.8/site-packages/sklearn/metrics/_classification.py:1248: UndefinedMetricWarning: Precision and F-score are ill-defined and being set to 0.0 in labels with no predicted samples. Use `zero_division` parameter to control this behavior.\n",
      "  _warn_prf(average, modifier, msg_start, len(result))\n"
     ]
    }
   ],
   "source": [
    "print(classification_report(label,pred))"
   ]
  },
  {
   "cell_type": "code",
   "execution_count": 168,
   "id": "cbe533fc",
   "metadata": {},
   "outputs": [],
   "source": [
    "import dask"
   ]
  },
  {
   "cell_type": "code",
   "execution_count": 169,
   "id": "5e2e5f6a",
   "metadata": {},
   "outputs": [],
   "source": [
    "from dask.distributed import Client"
   ]
  },
  {
   "cell_type": "code",
   "execution_count": 4,
   "id": "4bd1609a",
   "metadata": {},
   "outputs": [
    {
     "name": "stderr",
     "output_type": "stream",
     "text": [
      "/Users/abhijitdeshpande/opt/anaconda3/lib/python3.8/site-packages/distributed/node.py:160: UserWarning: Port 8787 is already in use.\n",
      "Perhaps you already have a cluster running?\n",
      "Hosting the HTTP server on port 49873 instead\n",
      "  warnings.warn(\n"
     ]
    }
   ],
   "source": [
    "client = Client(n_workers=4)"
   ]
  },
  {
   "cell_type": "code",
   "execution_count": 5,
   "id": "63541eac",
   "metadata": {},
   "outputs": [
    {
     "data": {
      "text/html": [
       "<div>\n",
       "    <div style=\"width: 24px; height: 24px; background-color: #e1e1e1; border: 3px solid #9D9D9D; border-radius: 5px; position: absolute;\"> </div>\n",
       "    <div style=\"margin-left: 48px;\">\n",
       "        <h3 style=\"margin-bottom: 0px;\">Client</h3>\n",
       "        <p style=\"color: #9D9D9D; margin-bottom: 0px;\">Client-99df37c4-5786-11ec-883c-4e39aba630d8</p>\n",
       "        <table style=\"width: 100%; text-align: left;\">\n",
       "\n",
       "        <tr>\n",
       "        \n",
       "            <td style=\"text-align: left;\"><strong>Connection method:</strong> Cluster object</td>\n",
       "            <td style=\"text-align: left;\"><strong>Cluster type:</strong> distributed.LocalCluster</td>\n",
       "        \n",
       "        </tr>\n",
       "\n",
       "        \n",
       "            <tr>\n",
       "                <td style=\"text-align: left;\">\n",
       "                    <strong>Dashboard: </strong> <a href=\"http://127.0.0.1:49873/status\" target=\"_blank\">http://127.0.0.1:49873/status</a>\n",
       "                </td>\n",
       "                <td style=\"text-align: left;\"></td>\n",
       "            </tr>\n",
       "        \n",
       "\n",
       "        </table>\n",
       "\n",
       "        \n",
       "            <details>\n",
       "            <summary style=\"margin-bottom: 20px;\"><h3 style=\"display: inline;\">Cluster Info</h3></summary>\n",
       "            <div class=\"jp-RenderedHTMLCommon jp-RenderedHTML jp-mod-trusted jp-OutputArea-output\">\n",
       "    <div style=\"width: 24px; height: 24px; background-color: #e1e1e1; border: 3px solid #9D9D9D; border-radius: 5px; position: absolute;\">\n",
       "    </div>\n",
       "    <div style=\"margin-left: 48px;\">\n",
       "        <h3 style=\"margin-bottom: 0px; margin-top: 0px;\">LocalCluster</h3>\n",
       "        <p style=\"color: #9D9D9D; margin-bottom: 0px;\">1dffe1fa</p>\n",
       "        <table style=\"width: 100%; text-align: left;\">\n",
       "            <tr>\n",
       "                <td style=\"text-align: left;\">\n",
       "                    <strong>Dashboard:</strong> <a href=\"http://127.0.0.1:49873/status\" target=\"_blank\">http://127.0.0.1:49873/status</a>\n",
       "                </td>\n",
       "                <td style=\"text-align: left;\">\n",
       "                    <strong>Workers:</strong> 4\n",
       "                </td>\n",
       "            </tr>\n",
       "            <tr>\n",
       "                <td style=\"text-align: left;\">\n",
       "                    <strong>Total threads:</strong> 8\n",
       "                </td>\n",
       "                <td style=\"text-align: left;\">\n",
       "                    <strong>Total memory:</strong> 8.00 GiB\n",
       "                </td>\n",
       "            </tr>\n",
       "            \n",
       "            <tr>\n",
       "    <td style=\"text-align: left;\"><strong>Status:</strong> running</td>\n",
       "    <td style=\"text-align: left;\"><strong>Using processes:</strong> True</td>\n",
       "</tr>\n",
       "\n",
       "            \n",
       "        </table>\n",
       "\n",
       "        <details>\n",
       "            <summary style=\"margin-bottom: 20px;\">\n",
       "                <h3 style=\"display: inline;\">Scheduler Info</h3>\n",
       "            </summary>\n",
       "\n",
       "            <div style=\"\">\n",
       "    <div>\n",
       "        <div style=\"width: 24px; height: 24px; background-color: #FFF7E5; border: 3px solid #FF6132; border-radius: 5px; position: absolute;\"> </div>\n",
       "        <div style=\"margin-left: 48px;\">\n",
       "            <h3 style=\"margin-bottom: 0px;\">Scheduler</h3>\n",
       "            <p style=\"color: #9D9D9D; margin-bottom: 0px;\">Scheduler-73d0edfe-5d39-43a3-84a4-58b6baafc127</p>\n",
       "            <table style=\"width: 100%; text-align: left;\">\n",
       "                <tr>\n",
       "                    <td style=\"text-align: left;\">\n",
       "                        <strong>Comm:</strong> tcp://127.0.0.1:49874\n",
       "                    </td>\n",
       "                    <td style=\"text-align: left;\">\n",
       "                        <strong>Workers:</strong> 4\n",
       "                    </td>\n",
       "                </tr>\n",
       "                <tr>\n",
       "                    <td style=\"text-align: left;\">\n",
       "                        <strong>Dashboard:</strong> <a href=\"http://127.0.0.1:49873/status\" target=\"_blank\">http://127.0.0.1:49873/status</a>\n",
       "                    </td>\n",
       "                    <td style=\"text-align: left;\">\n",
       "                        <strong>Total threads:</strong> 8\n",
       "                    </td>\n",
       "                </tr>\n",
       "                <tr>\n",
       "                    <td style=\"text-align: left;\">\n",
       "                        <strong>Started:</strong> Just now\n",
       "                    </td>\n",
       "                    <td style=\"text-align: left;\">\n",
       "                        <strong>Total memory:</strong> 8.00 GiB\n",
       "                    </td>\n",
       "                </tr>\n",
       "            </table>\n",
       "        </div>\n",
       "    </div>\n",
       "\n",
       "    <details style=\"margin-left: 48px;\">\n",
       "        <summary style=\"margin-bottom: 20px;\">\n",
       "            <h3 style=\"display: inline;\">Workers</h3>\n",
       "        </summary>\n",
       "\n",
       "        \n",
       "        <div style=\"margin-bottom: 20px;\">\n",
       "            <div style=\"width: 24px; height: 24px; background-color: #DBF5FF; border: 3px solid #4CC9FF; border-radius: 5px; position: absolute;\"> </div>\n",
       "            <div style=\"margin-left: 48px;\">\n",
       "            <details>\n",
       "                <summary>\n",
       "                    <h4 style=\"margin-bottom: 0px; display: inline;\">Worker: 0</h4>\n",
       "                </summary>\n",
       "                <table style=\"width: 100%; text-align: left;\">\n",
       "                    <tr>\n",
       "                        <td style=\"text-align: left;\">\n",
       "                            <strong>Comm: </strong> tcp://127.0.0.1:49885\n",
       "                        </td>\n",
       "                        <td style=\"text-align: left;\">\n",
       "                            <strong>Total threads: </strong> 2\n",
       "                        </td>\n",
       "                    </tr>\n",
       "                    <tr>\n",
       "                        <td style=\"text-align: left;\">\n",
       "                            <strong>Dashboard: </strong> <a href=\"http://127.0.0.1:49889/status\" target=\"_blank\">http://127.0.0.1:49889/status</a>\n",
       "                        </td>\n",
       "                        <td style=\"text-align: left;\">\n",
       "                            <strong>Memory: </strong> 2.00 GiB\n",
       "                        </td>\n",
       "                    </tr>\n",
       "                    <tr>\n",
       "                        <td style=\"text-align: left;\">\n",
       "                            <strong>Nanny: </strong> tcp://127.0.0.1:49876\n",
       "                        </td>\n",
       "                        <td style=\"text-align: left;\"></td>\n",
       "                    </tr>\n",
       "                    <tr>\n",
       "                        <td colspan=\"2\" style=\"text-align: left;\">\n",
       "                            <strong>Local directory: </strong> /Users/abhijitdeshpande/Documents/Project Files/Py files/dask-worker-space/worker-3f_rzvbh\n",
       "                        </td>\n",
       "                    </tr>\n",
       "\n",
       "                    \n",
       "\n",
       "                    \n",
       "\n",
       "                </table>\n",
       "            </details>\n",
       "            </div>\n",
       "        </div>\n",
       "        \n",
       "        <div style=\"margin-bottom: 20px;\">\n",
       "            <div style=\"width: 24px; height: 24px; background-color: #DBF5FF; border: 3px solid #4CC9FF; border-radius: 5px; position: absolute;\"> </div>\n",
       "            <div style=\"margin-left: 48px;\">\n",
       "            <details>\n",
       "                <summary>\n",
       "                    <h4 style=\"margin-bottom: 0px; display: inline;\">Worker: 1</h4>\n",
       "                </summary>\n",
       "                <table style=\"width: 100%; text-align: left;\">\n",
       "                    <tr>\n",
       "                        <td style=\"text-align: left;\">\n",
       "                            <strong>Comm: </strong> tcp://127.0.0.1:49886\n",
       "                        </td>\n",
       "                        <td style=\"text-align: left;\">\n",
       "                            <strong>Total threads: </strong> 2\n",
       "                        </td>\n",
       "                    </tr>\n",
       "                    <tr>\n",
       "                        <td style=\"text-align: left;\">\n",
       "                            <strong>Dashboard: </strong> <a href=\"http://127.0.0.1:49887/status\" target=\"_blank\">http://127.0.0.1:49887/status</a>\n",
       "                        </td>\n",
       "                        <td style=\"text-align: left;\">\n",
       "                            <strong>Memory: </strong> 2.00 GiB\n",
       "                        </td>\n",
       "                    </tr>\n",
       "                    <tr>\n",
       "                        <td style=\"text-align: left;\">\n",
       "                            <strong>Nanny: </strong> tcp://127.0.0.1:49877\n",
       "                        </td>\n",
       "                        <td style=\"text-align: left;\"></td>\n",
       "                    </tr>\n",
       "                    <tr>\n",
       "                        <td colspan=\"2\" style=\"text-align: left;\">\n",
       "                            <strong>Local directory: </strong> /Users/abhijitdeshpande/Documents/Project Files/Py files/dask-worker-space/worker-uj2gwhkw\n",
       "                        </td>\n",
       "                    </tr>\n",
       "\n",
       "                    \n",
       "\n",
       "                    \n",
       "\n",
       "                </table>\n",
       "            </details>\n",
       "            </div>\n",
       "        </div>\n",
       "        \n",
       "        <div style=\"margin-bottom: 20px;\">\n",
       "            <div style=\"width: 24px; height: 24px; background-color: #DBF5FF; border: 3px solid #4CC9FF; border-radius: 5px; position: absolute;\"> </div>\n",
       "            <div style=\"margin-left: 48px;\">\n",
       "            <details>\n",
       "                <summary>\n",
       "                    <h4 style=\"margin-bottom: 0px; display: inline;\">Worker: 2</h4>\n",
       "                </summary>\n",
       "                <table style=\"width: 100%; text-align: left;\">\n",
       "                    <tr>\n",
       "                        <td style=\"text-align: left;\">\n",
       "                            <strong>Comm: </strong> tcp://127.0.0.1:49884\n",
       "                        </td>\n",
       "                        <td style=\"text-align: left;\">\n",
       "                            <strong>Total threads: </strong> 2\n",
       "                        </td>\n",
       "                    </tr>\n",
       "                    <tr>\n",
       "                        <td style=\"text-align: left;\">\n",
       "                            <strong>Dashboard: </strong> <a href=\"http://127.0.0.1:49888/status\" target=\"_blank\">http://127.0.0.1:49888/status</a>\n",
       "                        </td>\n",
       "                        <td style=\"text-align: left;\">\n",
       "                            <strong>Memory: </strong> 2.00 GiB\n",
       "                        </td>\n",
       "                    </tr>\n",
       "                    <tr>\n",
       "                        <td style=\"text-align: left;\">\n",
       "                            <strong>Nanny: </strong> tcp://127.0.0.1:49878\n",
       "                        </td>\n",
       "                        <td style=\"text-align: left;\"></td>\n",
       "                    </tr>\n",
       "                    <tr>\n",
       "                        <td colspan=\"2\" style=\"text-align: left;\">\n",
       "                            <strong>Local directory: </strong> /Users/abhijitdeshpande/Documents/Project Files/Py files/dask-worker-space/worker-f8o8tp8g\n",
       "                        </td>\n",
       "                    </tr>\n",
       "\n",
       "                    \n",
       "\n",
       "                    \n",
       "\n",
       "                </table>\n",
       "            </details>\n",
       "            </div>\n",
       "        </div>\n",
       "        \n",
       "        <div style=\"margin-bottom: 20px;\">\n",
       "            <div style=\"width: 24px; height: 24px; background-color: #DBF5FF; border: 3px solid #4CC9FF; border-radius: 5px; position: absolute;\"> </div>\n",
       "            <div style=\"margin-left: 48px;\">\n",
       "            <details>\n",
       "                <summary>\n",
       "                    <h4 style=\"margin-bottom: 0px; display: inline;\">Worker: 3</h4>\n",
       "                </summary>\n",
       "                <table style=\"width: 100%; text-align: left;\">\n",
       "                    <tr>\n",
       "                        <td style=\"text-align: left;\">\n",
       "                            <strong>Comm: </strong> tcp://127.0.0.1:49893\n",
       "                        </td>\n",
       "                        <td style=\"text-align: left;\">\n",
       "                            <strong>Total threads: </strong> 2\n",
       "                        </td>\n",
       "                    </tr>\n",
       "                    <tr>\n",
       "                        <td style=\"text-align: left;\">\n",
       "                            <strong>Dashboard: </strong> <a href=\"http://127.0.0.1:49894/status\" target=\"_blank\">http://127.0.0.1:49894/status</a>\n",
       "                        </td>\n",
       "                        <td style=\"text-align: left;\">\n",
       "                            <strong>Memory: </strong> 2.00 GiB\n",
       "                        </td>\n",
       "                    </tr>\n",
       "                    <tr>\n",
       "                        <td style=\"text-align: left;\">\n",
       "                            <strong>Nanny: </strong> tcp://127.0.0.1:49879\n",
       "                        </td>\n",
       "                        <td style=\"text-align: left;\"></td>\n",
       "                    </tr>\n",
       "                    <tr>\n",
       "                        <td colspan=\"2\" style=\"text-align: left;\">\n",
       "                            <strong>Local directory: </strong> /Users/abhijitdeshpande/Documents/Project Files/Py files/dask-worker-space/worker-xknkp_ez\n",
       "                        </td>\n",
       "                    </tr>\n",
       "\n",
       "                    \n",
       "\n",
       "                    \n",
       "\n",
       "                </table>\n",
       "            </details>\n",
       "            </div>\n",
       "        </div>\n",
       "        \n",
       "\n",
       "    </details>\n",
       "</div>\n",
       "\n",
       "        </details>\n",
       "    </div>\n",
       "</div>\n",
       "            </details>\n",
       "        \n",
       "\n",
       "    </div>\n",
       "</div>"
      ],
      "text/plain": [
       "<Client: 'tcp://127.0.0.1:49874' processes=4 threads=8, memory=8.00 GiB>"
      ]
     },
     "execution_count": 5,
     "metadata": {},
     "output_type": "execute_result"
    }
   ],
   "source": [
    "client"
   ]
  },
  {
   "cell_type": "code",
   "execution_count": 82,
   "id": "03311cf7",
   "metadata": {},
   "outputs": [],
   "source": [
    "from dask import delayed\n",
    "import numpy as np"
   ]
  },
  {
   "cell_type": "code",
   "execution_count": 46,
   "id": "2e1fbe61",
   "metadata": {},
   "outputs": [],
   "source": [
    "from time import sleep"
   ]
  },
  {
   "cell_type": "code",
   "execution_count": 73,
   "id": "3d3dfaa2",
   "metadata": {},
   "outputs": [],
   "source": [
    "@delayed\n",
    "def inc(x):\n",
    "    sleep(1)\n",
    "    return x+1"
   ]
  },
  {
   "cell_type": "code",
   "execution_count": null,
   "id": "58282b1a",
   "metadata": {},
   "outputs": [],
   "source": []
  },
  {
   "cell_type": "code",
   "execution_count": 74,
   "id": "875a2609",
   "metadata": {},
   "outputs": [],
   "source": [
    "data = [1,2,3,4,5,6,7,8]"
   ]
  },
  {
   "cell_type": "code",
   "execution_count": 75,
   "id": "73147352",
   "metadata": {},
   "outputs": [
    {
     "name": "stdout",
     "output_type": "stream",
     "text": [
      "CPU times: user 51 ms, sys: 12.1 ms, total: 63.1 ms\n",
      "Wall time: 1.02 s\n"
     ]
    }
   ],
   "source": [
    "%%time\n",
    "\n",
    "results = []\n",
    "\n",
    "for i in data:\n",
    "    y = inc(i)\n",
    "    results.append(y)\n",
    "    \n",
    "total = delayed(sum)(results)\n",
    "\n",
    "results = total.compute()"
   ]
  },
  {
   "cell_type": "code",
   "execution_count": 91,
   "id": "e09e4246",
   "metadata": {},
   "outputs": [],
   "source": [
    "z = delayed(np.arange(10))"
   ]
  },
  {
   "cell_type": "code",
   "execution_count": 93,
   "id": "de2c8a6f",
   "metadata": {},
   "outputs": [],
   "source": [
    "from dask import compute"
   ]
  },
  {
   "cell_type": "code",
   "execution_count": 97,
   "id": "9ca17c8e",
   "metadata": {},
   "outputs": [
    {
     "data": {
      "text/plain": [
       "(0,)"
      ]
     },
     "execution_count": 97,
     "metadata": {},
     "output_type": "execute_result"
    }
   ],
   "source": [
    "compute(z.min())"
   ]
  },
  {
   "cell_type": "code",
   "execution_count": 104,
   "id": "01339a26",
   "metadata": {},
   "outputs": [
    {
     "data": {
      "text/plain": [
       "(81,)"
      ]
     },
     "execution_count": 104,
     "metadata": {},
     "output_type": "execute_result"
    }
   ],
   "source": [
    "compute((z**2).max())"
   ]
  },
  {
   "cell_type": "code",
   "execution_count": 118,
   "id": "f3de56ae",
   "metadata": {},
   "outputs": [],
   "source": [
    "import dask.array as da"
   ]
  },
  {
   "cell_type": "code",
   "execution_count": 134,
   "id": "9206b834",
   "metadata": {},
   "outputs": [],
   "source": [
    "x = da.from_array(data,chunks=100)"
   ]
  },
  {
   "cell_type": "code",
   "execution_count": 135,
   "id": "887ec856",
   "metadata": {},
   "outputs": [
    {
     "data": {
      "text/html": [
       "<table>\n",
       "    <tr>\n",
       "        <td>\n",
       "            <table>\n",
       "                <thead>\n",
       "                    <tr>\n",
       "                        <td> </td>\n",
       "                        <th> Array </th>\n",
       "                        <th> Chunk </th>\n",
       "                    </tr>\n",
       "                </thead>\n",
       "                <tbody>\n",
       "                    \n",
       "                    <tr>\n",
       "                        <th> Bytes </th>\n",
       "                        <td> 2.41 MiB </td>\n",
       "                        <td> 35.94 kiB </td>\n",
       "                    </tr>\n",
       "                    \n",
       "                    <tr>\n",
       "                        <th> Shape </th>\n",
       "                        <td> (6866, 46) </td>\n",
       "                        <td> (100, 46) </td>\n",
       "                    </tr>\n",
       "                    <tr>\n",
       "                        <th> Count </th>\n",
       "                        <td> 69 Tasks </td>\n",
       "                        <td> 69 Chunks </td>\n",
       "                    </tr>\n",
       "                    <tr>\n",
       "                    <th> Type </th>\n",
       "                    <td> float64 </td>\n",
       "                    <td> numpy.ndarray </td>\n",
       "                    </tr>\n",
       "                </tbody>\n",
       "            </table>\n",
       "        </td>\n",
       "        <td>\n",
       "        <svg width=\"75\" height=\"170\" style=\"stroke:rgb(0,0,0);stroke-width:1\" >\n",
       "\n",
       "  <!-- Horizontal lines -->\n",
       "  <line x1=\"0\" y1=\"0\" x2=\"25\" y2=\"0\" style=\"stroke-width:2\" />\n",
       "  <line x1=\"0\" y1=\"5\" x2=\"25\" y2=\"5\" />\n",
       "  <line x1=\"0\" y1=\"12\" x2=\"25\" y2=\"12\" />\n",
       "  <line x1=\"0\" y1=\"17\" x2=\"25\" y2=\"17\" />\n",
       "  <line x1=\"0\" y1=\"24\" x2=\"25\" y2=\"24\" />\n",
       "  <line x1=\"0\" y1=\"31\" x2=\"25\" y2=\"31\" />\n",
       "  <line x1=\"0\" y1=\"36\" x2=\"25\" y2=\"36\" />\n",
       "  <line x1=\"0\" y1=\"43\" x2=\"25\" y2=\"43\" />\n",
       "  <line x1=\"0\" y1=\"50\" x2=\"25\" y2=\"50\" />\n",
       "  <line x1=\"0\" y1=\"55\" x2=\"25\" y2=\"55\" />\n",
       "  <line x1=\"0\" y1=\"62\" x2=\"25\" y2=\"62\" />\n",
       "  <line x1=\"0\" y1=\"68\" x2=\"25\" y2=\"68\" />\n",
       "  <line x1=\"0\" y1=\"75\" x2=\"25\" y2=\"75\" />\n",
       "  <line x1=\"0\" y1=\"82\" x2=\"25\" y2=\"82\" />\n",
       "  <line x1=\"0\" y1=\"87\" x2=\"25\" y2=\"87\" />\n",
       "  <line x1=\"0\" y1=\"94\" x2=\"25\" y2=\"94\" />\n",
       "  <line x1=\"0\" y1=\"101\" x2=\"25\" y2=\"101\" />\n",
       "  <line x1=\"0\" y1=\"106\" x2=\"25\" y2=\"106\" />\n",
       "  <line x1=\"0\" y1=\"113\" x2=\"25\" y2=\"113\" />\n",
       "  <line x1=\"0\" y1=\"120\" x2=\"25\" y2=\"120\" style=\"stroke-width:2\" />\n",
       "\n",
       "  <!-- Vertical lines -->\n",
       "  <line x1=\"0\" y1=\"0\" x2=\"0\" y2=\"120\" style=\"stroke-width:2\" />\n",
       "  <line x1=\"25\" y1=\"0\" x2=\"25\" y2=\"120\" style=\"stroke-width:2\" />\n",
       "\n",
       "  <!-- Colored Rectangle -->\n",
       "  <polygon points=\"0.0,0.0 25.412616514582485,0.0 25.412616514582485,120.0 0.0,120.0\" style=\"fill:#8B4903A0;stroke-width:0\"/>\n",
       "\n",
       "  <!-- Text -->\n",
       "  <text x=\"12.706308\" y=\"140.000000\" font-size=\"1.0rem\" font-weight=\"100\" text-anchor=\"middle\" >46</text>\n",
       "  <text x=\"45.412617\" y=\"60.000000\" font-size=\"1.0rem\" font-weight=\"100\" text-anchor=\"middle\" transform=\"rotate(-90,45.412617,60.000000)\">6866</text>\n",
       "</svg>\n",
       "        </td>\n",
       "    </tr>\n",
       "</table>"
      ],
      "text/plain": [
       "dask.array<array, shape=(6866, 46), dtype=float64, chunksize=(100, 46), chunktype=numpy.ndarray>"
      ]
     },
     "execution_count": 135,
     "metadata": {},
     "output_type": "execute_result"
    }
   ],
   "source": [
    "x"
   ]
  },
  {
   "cell_type": "code",
   "execution_count": 194,
   "id": "6ac91e83",
   "metadata": {},
   "outputs": [
    {
     "data": {
      "text/plain": [
       "(261104018988.82303,)"
      ]
     },
     "execution_count": 194,
     "metadata": {},
     "output_type": "execute_result"
    }
   ],
   "source": [
    "compute(x.sum())"
   ]
  },
  {
   "cell_type": "code",
   "execution_count": 195,
   "id": "9498aeac",
   "metadata": {},
   "outputs": [
    {
     "data": {
      "text/plain": [
       "261104018988.823"
      ]
     },
     "execution_count": 195,
     "metadata": {},
     "output_type": "execute_result"
    }
   ],
   "source": [
    "np.sum(data).sum()"
   ]
  },
  {
   "cell_type": "code",
   "execution_count": 2,
   "id": "6f93bdea",
   "metadata": {},
   "outputs": [],
   "source": [
    "import scrapy"
   ]
  },
  {
   "cell_type": "code",
   "execution_count": 5,
   "id": "172a90b5",
   "metadata": {},
   "outputs": [
    {
     "data": {
      "text/plain": [
       "scrapy.spiders.Spider"
      ]
     },
     "execution_count": 5,
     "metadata": {},
     "output_type": "execute_result"
    }
   ],
   "source": [
    "scrapy.Spider"
   ]
  },
  {
   "cell_type": "code",
   "execution_count": 2,
   "id": "a60c8c52",
   "metadata": {},
   "outputs": [],
   "source": [
    "import torch.nn as nn\n",
    "import torch"
   ]
  },
  {
   "cell_type": "code",
   "execution_count": 8,
   "id": "d719e675",
   "metadata": {},
   "outputs": [
    {
     "ename": "TypeError",
     "evalue": "__init__() missing 1 required positional argument: 'out_channels'",
     "output_type": "error",
     "traceback": [
      "\u001b[0;31m---------------------------------------------------------------------------\u001b[0m",
      "\u001b[0;31mTypeError\u001b[0m                                 Traceback (most recent call last)",
      "\u001b[0;32m/var/folders/tp/r9md9jss78nf28s4cq7vcg580000gn/T/ipykernel_24380/1759068422.py\u001b[0m in \u001b[0;36m<module>\u001b[0;34m\u001b[0m\n\u001b[0;32m----> 1\u001b[0;31m \u001b[0mnn\u001b[0m\u001b[0;34m.\u001b[0m\u001b[0mConv1d\u001b[0m\u001b[0;34m(\u001b[0m\u001b[0;36m64\u001b[0m\u001b[0;34m,\u001b[0m\u001b[0mkernel_size\u001b[0m\u001b[0;34m=\u001b[0m\u001b[0;36m1\u001b[0m\u001b[0;34m,\u001b[0m\u001b[0mstride\u001b[0m\u001b[0;34m=\u001b[0m\u001b[0;34m(\u001b[0m\u001b[0;36m1\u001b[0m\u001b[0;34m,\u001b[0m\u001b[0;36m1\u001b[0m\u001b[0;34m)\u001b[0m\u001b[0;34m)\u001b[0m\u001b[0;34m\u001b[0m\u001b[0;34m\u001b[0m\u001b[0m\n\u001b[0m",
      "\u001b[0;31mTypeError\u001b[0m: __init__() missing 1 required positional argument: 'out_channels'"
     ]
    }
   ],
   "source": [
    "nn.Conv1d(64,kernel_size=1,stride=(1,1))"
   ]
  },
  {
   "cell_type": "code",
   "execution_count": 5,
   "id": "e7e795a0",
   "metadata": {},
   "outputs": [],
   "source": [
    "def identity_block(X, f, filters):\n",
    "    F1, F2, F3 = filters\n",
    "    \n",
    "    X_shortcut = X\n",
    "    cache = []\n",
    "    \n",
    "    X = nn.Conv1d(filters=F1, kernel_size=1, strides=(1,1), padding='valid')\n",
    "    X = nn.BatchNorm1d()(X)\n",
    "    X = nn.ReLU()(X)\n",
    "    \n",
    "    X = nn.Conv1d(filters=F2, kernel_size=f, strides=(1,1), padding='valid')\n",
    "    X = nn.BatchNorm1d()(X)\n",
    "    X = nn.ReLU()(X)\n",
    "    "
   ]
  },
  {
   "cell_type": "code",
   "execution_count": 6,
   "id": "ab81140d",
   "metadata": {},
   "outputs": [],
   "source": [
    "def convolution_block(X, f, filters, s=2):\n",
    "\n",
    "    F1, F2, F3 = filters\n",
    "    \n",
    "    x_shortcut = X\n",
    "    \n",
    "    X = nn.Conv1d(filters=F1, kernel_size=1, strides = (s,s), padding='valid')(X)\n",
    "    X = nn.ReLU()(X)\n",
    "    X = nn.BactNorm1d()(X)\n",
    "    X = nn.ReLU()(X)\n",
    "   \n",
    "    X = nn.Conv1d(filters=F2, kernel_size=f, strides = (1,1), padding='same')(X)\n",
    "    X = nn.ReLU()(X)\n",
    "    X = nn.BactNorm1d()(X)\n",
    "    X = nn.ReLU()(X)\n",
    "    \n",
    "    X = nn.Conv1d(filters=F3, kernel_size=1, strides = (1,1), padding='valid')(X)\n",
    "    X = nn.ReLU()(X)\n",
    "    X = nn.BactNorm1d()(X)\n",
    "    X = nn.ReLU()(X)\n",
    "    \n",
    "    x_shortcut = nn.Conv1d(filters=F3, kernel_size=1, strides=(s,s), padding='valid')(x_shortcut)\n",
    "    x_shortcut = nn.BatchNorm1d()(x_shortcut)\n",
    "    \n",
    "    X = torch.Add(X ,x_shortcut)\n",
    "    X = nn.ReLU()(X)\n",
    "    \n",
    "    return X"
   ]
  },
  {
   "cell_type": "code",
   "execution_count": 7,
   "id": "74ff0732",
   "metadata": {},
   "outputs": [],
   "source": [
    "def ResNet50(X,classes=2):\n",
    "    \n",
    "    X  = nn.Conv1d(15,(7,7),strides=(2,2))(X)\n",
    "    X = nn.BatchNorm1d()(X)\n",
    "    X = nn.ReLU()(X)\n",
    "    X = nn.MaxPool1d((3,3), strides=(2,2))(X)\n",
    "    \n",
    "    X = convolution_block(X, f=3, filters = [64,64,256], s=1)\n",
    "    X"
   ]
  },
  {
   "cell_type": "code",
   "execution_count": null,
   "id": "ddea45cb",
   "metadata": {},
   "outputs": [],
   "source": []
  },
  {
   "cell_type": "code",
   "execution_count": 63,
   "id": "f216ec42",
   "metadata": {},
   "outputs": [
    {
     "data": {
      "text/plain": [
       "Conv1d(15, 64, kernel_size=(5,), stride=(2,), padding=valid)"
      ]
     },
     "execution_count": 63,
     "metadata": {},
     "output_type": "execute_result"
    }
   ],
   "source": [
    "nn.Conv1d(15,64,5,stride=2, padding='valid')"
   ]
  },
  {
   "cell_type": "code",
   "execution_count": 67,
   "id": "1ac1e163",
   "metadata": {},
   "outputs": [],
   "source": [
    "class ResBlock(nn.Module):\n",
    "    def __init__(self, ni, nf, kernels=[7, 5, 3],s=2):\n",
    "        super(ResBlock,self).__init__()\n",
    "        \n",
    "        F1,F2, F3 = kernels\n",
    "        \n",
    "        self.conv1 = nn.Conv1d(ni, nf, kernel_size=F1, stride=s,padding='valid')\n",
    "        self.conv2 = nn.Conv1d(nf, nf, kernel_size=F2,stride=1,padding='same')\n",
    "        self.conv3 = nn.Conv1d(nf, nf, kernel_size=F3,strdie=1,padding='valid')\n",
    "\n",
    "        # expand channels for the sum if necessary\n",
    "        self.shortcut = nn.BatchNorm1d(ni) if ni == nf else nn.Conv1d(ni, nf, 1, stride=2,padding='valid')\n",
    "        self.add = torch.add\n",
    "        self.act = nn.ReLU()\n",
    "\n",
    "    def forward(self, x):\n",
    "        res = x\n",
    "        x = self.conv1(x)\n",
    "        x = self.conv2(x)\n",
    "        x = self.conv3(x)\n",
    "        x = self.add(x, self.shortcut(res))\n",
    "        x = self.act(x)\n",
    "        return x\n",
    "    \n",
    "class ResNet(nn.Module):\n",
    "    def __init__(self, c_in, c_out):\n",
    "        super(ResNet,self).__init__()\n",
    "        nf = 64\n",
    "        kernels=[7, 5, 3]\n",
    "        self.resblock1 = ResBlock(c_in, nf, kernels=kernels)\n",
    "        self.resblock2 = ResBlock(nf, nf * 2, kernels=kernels)\n",
    "        self.resblock3 = ResBlock(nf * 2, nf * 2, kernels=kernels)\n",
    "        self.gap = nn.AdaptiveAvgPool1d(1)\n",
    "        self.fc = nn.Linear(nf * 2, c_out)\n",
    "\n",
    "    def forward(self, x):\n",
    "        x = self.resblock1(x)\n",
    "        x = self.resblock2(x)\n",
    "        x = self.resblock3(x)\n",
    "        x = self.squeeze(self.gap(x))\n",
    "        return self.fc(x)"
   ]
  },
  {
   "cell_type": "code",
   "execution_count": 60,
   "id": "a3f06591",
   "metadata": {},
   "outputs": [],
   "source": [
    "resnet = ResNet(15,2)"
   ]
  },
  {
   "cell_type": "code",
   "execution_count": null,
   "id": "eb8e4b25",
   "metadata": {},
   "outputs": [],
   "source": []
  },
  {
   "cell_type": "code",
   "execution_count": 215,
   "id": "1c8e08ae",
   "metadata": {},
   "outputs": [],
   "source": [
    "from nltk.tokenize import TweetTokenizer\n",
    "import nltk"
   ]
  },
  {
   "cell_type": "code",
   "execution_count": 216,
   "id": "5785260e",
   "metadata": {},
   "outputs": [],
   "source": [
    "tweet= \"Snow White and the Seven Degrees #MakeAMovieCold@midnight:-)\""
   ]
  },
  {
   "cell_type": "code",
   "execution_count": 217,
   "id": "7ba21cb0",
   "metadata": {},
   "outputs": [],
   "source": [
    "token = TweetTokenizer()"
   ]
  },
  {
   "cell_type": "code",
   "execution_count": 218,
   "id": "9d221ff0",
   "metadata": {},
   "outputs": [],
   "source": [
    "clean_text = token.tokenize(tweet.lower())"
   ]
  },
  {
   "cell_type": "code",
   "execution_count": 253,
   "id": "8428ff24",
   "metadata": {},
   "outputs": [],
   "source": [
    "pos_text = nltk.pos_tag(clean_text)"
   ]
  },
  {
   "cell_type": "code",
   "execution_count": 219,
   "id": "d86c319a",
   "metadata": {},
   "outputs": [],
   "source": [
    "def n_grams(text,n):\n",
    "    \n",
    "    return [text[i:i+n] for i in range(len(text)-n+1)]"
   ]
  },
  {
   "cell_type": "code",
   "execution_count": 220,
   "id": "c9f0b00e",
   "metadata": {},
   "outputs": [
    {
     "data": {
      "text/plain": [
       "[['snow', 'white', 'and', 'the', 'seven'],\n",
       " ['white', 'and', 'the', 'seven', 'degrees'],\n",
       " ['and', 'the', 'seven', 'degrees', '#makeamoviecold'],\n",
       " ['the', 'seven', 'degrees', '#makeamoviecold', '@midnight'],\n",
       " ['seven', 'degrees', '#makeamoviecold', '@midnight', ':-)']]"
      ]
     },
     "execution_count": 220,
     "metadata": {},
     "output_type": "execute_result"
    }
   ],
   "source": [
    "n_grams(clean_text,5)"
   ]
  },
  {
   "cell_type": "code",
   "execution_count": 233,
   "id": "75b41ce2",
   "metadata": {},
   "outputs": [],
   "source": [
    "from nltk import stem"
   ]
  },
  {
   "cell_type": "code",
   "execution_count": 244,
   "id": "f1326122",
   "metadata": {},
   "outputs": [
    {
     "data": {
      "text/plain": [
       "[('Mary', 'NNP'),\n",
       " ('slapped', 'VBD'),\n",
       " ('the', 'DT'),\n",
       " ('green', 'JJ'),\n",
       " ('witch', 'NN'),\n",
       " ('.', '.')]"
      ]
     },
     "execution_count": 244,
     "metadata": {},
     "output_type": "execute_result"
    }
   ],
   "source": [
    "nltk.pos_tag(token.tokenize('Mary slapped the green witch.'))"
   ]
  },
  {
   "cell_type": "code",
   "execution_count": null,
   "id": "9cd0d93f",
   "metadata": {},
   "outputs": [],
   "source": []
  },
  {
   "cell_type": "code",
   "execution_count": 13,
   "id": "240e43e5",
   "metadata": {},
   "outputs": [],
   "source": [
    "class train_model():\n",
    "    \n",
    "    def __init__(self,model):\n",
    "        self.model = model\n",
    "        self.validation_loss = []\n",
    "        self.training_loss = []\n",
    "        \n",
    "    def compile(self, loss=nn.CrossEntropyLoss(),optimizer=torch.optim.Adam,lr=1e-3):  \n",
    "        self.loss_module = loss\n",
    "        self.optimizer = optimizer(self.model.parameters(),lr=lr)\n",
    "\n",
    "   \n",
    "    def fit(self, data, batch_size ,verbose):\n",
    "\n",
    "        self.model = self.model.train()\n",
    "        self.data = data\n",
    "        total_loss = 0\n",
    "        total_batch_accuracy = 0\n",
    "\n",
    "        for i, batch in enumerate(DataLoader(self.data, batch_size)):\n",
    "            x_train, y_train, masks = batch\n",
    "            prediction = self.model(x_train.float(),masks)\n",
    "            #prob = nn.Softmax(prediction)\n",
    "            #optimizer = self.optimizer(self.model.parameters())\n",
    "            loss = self.loss_module(prediction, y_train)\n",
    "            self.optimizer.zero_grad()\n",
    "            loss.backward()\n",
    "            torch.nn.utils.clip_grad_norm_(self.model.parameters(), max_norm=4.0)\n",
    "            self.optimizer.step()\n",
    "\n",
    "            total_loss += loss\n",
    "            mean_batch_loss = total_loss/(i+1)\n",
    "\n",
    "            predictions = torch.argmax(prediction, 1)\n",
    "            batch_accuracy = accuracy_score(y_train, predictions)\n",
    "\n",
    "            \n",
    "            total_batch_accuracy += batch_accuracy \n",
    "            mean_bach_accuracy = total_batch_accuracy/(i+1)\n",
    "            \n",
    "        return mean_batch_loss.detach().numpy(), mean_bach_accuracy\n",
    "        \n",
    "    def evaluate(self, data, batch_size):\n",
    "\n",
    "        self.data = data\n",
    "        total_batch_accuracy = 0\n",
    "        total_loss = 0\n",
    "        self.model = self.model.eval()\n",
    "            \n",
    "        for i, batch in enumerate(DataLoader(self.data, batch_size)):\n",
    "            x_test, y_test, masks = batch\n",
    "            prediction = self.model(x_test.float(),masks)\n",
    "            loss = self.loss_module(prediction, y_test)\n",
    "\n",
    "            total_loss += loss\n",
    "            mean_batch_loss = total_loss/(i+1)\n",
    "\n",
    "            predictions = torch.argmax(prediction, 1)\n",
    "            batch_accuracy = accuracy_score(y_test, predictions)\n",
    "\n",
    "\n",
    "            total_batch_accuracy += batch_accuracy \n",
    "            mean_bach_accuracy = total_batch_accuracy/(i+1)\n",
    "\n",
    "        return mean_batch_loss.detach().numpy(), mean_bach_accuracy\n",
    "         \n",
    "    def train(self,train_data,val_data,epochs=100,batch_size=128,verbose=True,return_loss=True,early_stopping=10):\n",
    "               \n",
    "        best_loss = np.inf\n",
    "        stopping_steps = 0\n",
    "        \n",
    "        for epoch in range(epochs):\n",
    "    \n",
    "            loss, batch_accuracy = self.fit(train_data, batch_size, verbose)\n",
    "            val_loss, val_batch_accuracy = self.evaluate(val_data, batch_size)\n",
    "            \n",
    "            self.training_loss.append(loss)\n",
    "            self.validation_loss.append(val_loss)\n",
    "           \n",
    "            if val_loss < best_loss:\n",
    "                best_loss = val_loss\n",
    "                stopping_steps = 0\n",
    "                \n",
    "            stopping_steps+=1\n",
    "            if stopping_steps>early_stopping:\n",
    "                break\n",
    "            \n",
    "            print('\\033[94m'+'Epoch: {}'.format(epoch)+'\\033[0m'+' {}%'.format(round(batch_accuracy*100,3)),\n",
    "                  '\\033[91m'+'loss:'+'\\033[0m'+' {}'.format(round(float(loss),4)),\n",
    "                  '\\033[94m Val:'+'\\033[0m'+' {}'.format(round(val_batch_accuracy*100,3)),\n",
    "                  '\\033[91m'+'val_loss:'+'\\033[0m'+' {}'.format(round(float(val_loss),4))\n",
    "                 )\n",
    "                                              \n",
    "\n",
    "        if return_loss:\n",
    "            return plt.plot(self.training_loss), plt.plot(self.validation_loss, plt.legend())\n",
    "            \n",
    "        \n",
    "    def analyze(self,data,color='viridis'):\n",
    "        self.data = data\n",
    "        self.model = self.model.eval()\n",
    "        \n",
    "        for i, batch in enumerate(DataLoader(self.data, 100000)):\n",
    "            x_test, y_test, masks = batch\n",
    "            prediction = self.model(x_test.float(), masks)\n",
    "            predictions = torch.argmax(prediction,1)\n",
    "            accuracy = accuracy_score(predictions, y_test)\n",
    "            print('\\033[92m'+'\\nAccuracy: '+'\\033[0m',accuracy)\n",
    "            print('\\n'+'\\033[0m'+         'Classification Report:\\n')\n",
    "            print(classification_report(predictions, y_test))\n",
    "            print('\\n'+'\\033[0m'+         'Confusion Matrix:\\n')\n",
    "            cm = confusion_matrix(predictions, y_test)\n",
    "            print('\\033[91m'+'             Total lenght of Data:'+'\\033[0m', len(y_test),'\\n')\n",
    "            print('\\033[94m'+'             Class 0:'+'\\033[0m',(torch.unique(y_test, return_counts=True)[1][0]).item())\n",
    "            print('\\033[94m'+'             Class 1:'+'\\033[0m',(torch.unique(y_test, return_counts=True)[1][1]).item(),'\\n'+'\\033[0m')\n",
    "\n",
    "            plot_confusion_matrix(cm,[0,1],color=color)\n",
    "\n",
    "            print('\\n')\n",
    "\n",
    "            try:\n",
    "                fpr, tpr, _ = roc_curve(predictions, y_test)\n",
    "                roc_auc = roc_auc_score(predictions, y_test)\n",
    "                plt.figure()\n",
    "                plt.plot(fpr, tpr, label='(Area = {:.3f})'.format(roc_auc))\n",
    "                plt.xlabel('False positive rate')\n",
    "                plt.ylabel('True positive rate')\n",
    "                plt.title('ROC curve')\n",
    "                plt.legend(loc='best')\n",
    "                plt.show()\n",
    "\n",
    "            except:\n",
    "                print('Something wrong')"
   ]
  },
  {
   "cell_type": "code",
   "execution_count": 16,
   "id": "5f265de3",
   "metadata": {},
   "outputs": [],
   "source": [
    "import ray"
   ]
  },
  {
   "cell_type": "code",
   "execution_count": 17,
   "id": "0ef507e5",
   "metadata": {},
   "outputs": [
    {
     "name": "stderr",
     "output_type": "stream",
     "text": [
      "/Users/abhijitdeshpande/opt/anaconda3/lib/python3.8/site-packages/ray/_private/services.py:238: UserWarning: Not all Ray Dashboard dependencies were found. To use the dashboard please install Ray using `pip install ray[default]`. To disable this message, set RAY_DISABLE_IMPORT_WARNING env var to '1'.\n",
      "  warnings.warn(warning_message)\n"
     ]
    },
    {
     "data": {
      "text/plain": [
       "{'node_ip_address': '10.219.175.110',\n",
       " 'raylet_ip_address': '10.219.175.110',\n",
       " 'redis_address': '10.219.175.110:6379',\n",
       " 'object_store_address': '/tmp/ray/session_2021-12-20_12-23-11_261583_4257/sockets/plasma_store',\n",
       " 'raylet_socket_name': '/tmp/ray/session_2021-12-20_12-23-11_261583_4257/sockets/raylet',\n",
       " 'webui_url': None,\n",
       " 'session_dir': '/tmp/ray/session_2021-12-20_12-23-11_261583_4257',\n",
       " 'metrics_export_port': 63578,\n",
       " 'node_id': '93e66c35c892ef7f456884e80eec815e3dcd0662c1dc10125cb7bcbc'}"
      ]
     },
     "execution_count": 17,
     "metadata": {},
     "output_type": "execute_result"
    }
   ],
   "source": [
    "ray.init()"
   ]
  },
  {
   "cell_type": "code",
   "execution_count": 20,
   "id": "0f885bef",
   "metadata": {},
   "outputs": [],
   "source": [
    "@ray.remote\n",
    "def f(x):\n",
    "    return x * x\n",
    "\n",
    "futures = [f.remote(i) for i in range(4)]"
   ]
  },
  {
   "cell_type": "code",
   "execution_count": null,
   "id": "c6eba462",
   "metadata": {},
   "outputs": [],
   "source": []
  },
  {
   "cell_type": "code",
   "execution_count": 28,
   "id": "d5be5aac",
   "metadata": {},
   "outputs": [
    {
     "ename": "RayTaskError(RayOutOfMemoryError)",
     "evalue": "\u001b[36mray::f()\u001b[39m (pid=9753, ip=10.219.175.110)\nray._private.memory_monitor.RayOutOfMemoryError: More than 95% of the memory on node Abhijits-MacBook-Pro.local is used (7.65 / 8.0 GB). The top 10 memory consumers are:\n\nPID\tMEM\tCOMMAND\n7677\t0.41GiB\t/Users/abhijitdeshpande/opt/anaconda3/bin/python -m ipykernel_launcher -f /Users/abhijitdeshpande/Li\n9435\t0.15GiB\t/System/Library/Frameworks/WebKit.framework/Versions/A/XPCServices/com.apple.WebKit.WebContent.xpc/C\n4022\t0.13GiB\t/System/Library/Frameworks/WebKit.framework/Versions/A/XPCServices/com.apple.WebKit.WebContent.xpc/C\n710\t0.09GiB\t/Applications/Safari.app/Contents/MacOS/Safari\n9755\t0.07GiB\tray::IDLE\n5081\t0.07GiB\t/Applications/Microsoft Teams.app/Contents/Frameworks/Microsoft Teams Helper (Renderer).app/Contents\n9750\t0.07GiB\tray::IDLE\n9746\t0.07GiB\t/Users/abhijitdeshpande/opt/anaconda3/bin/python -u /Users/abhijitdeshpande/opt/anaconda3/lib/python\n9752\t0.07GiB\tray::IDLE\n9757\t0.07GiB\tray::IDLE\n\nIn addition, up to 0.0 GiB of shared memory is currently being used by the Ray object store.\n---\n--- Tip: Use the `ray memory` command to list active objects in the cluster.\n--- To disable OOM exceptions, set RAY_DISABLE_MEMORY_MONITOR=1.\n---",
     "output_type": "error",
     "traceback": [
      "\u001b[0;31m---------------------------------------------------------------------------\u001b[0m",
      "\u001b[0;31mRayTaskError(RayOutOfMemoryError)\u001b[0m         Traceback (most recent call last)",
      "\u001b[0;32m/var/folders/tp/r9md9jss78nf28s4cq7vcg580000gn/T/ipykernel_4257/52915104.py\u001b[0m in \u001b[0;36m<module>\u001b[0;34m\u001b[0m\n\u001b[1;32m      7\u001b[0m \u001b[0;34m\u001b[0m\u001b[0m\n\u001b[1;32m      8\u001b[0m \u001b[0mfutures\u001b[0m \u001b[0;34m=\u001b[0m \u001b[0;34m[\u001b[0m\u001b[0mf\u001b[0m\u001b[0;34m.\u001b[0m\u001b[0mremote\u001b[0m\u001b[0;34m(\u001b[0m\u001b[0mi\u001b[0m\u001b[0;34m)\u001b[0m \u001b[0;32mfor\u001b[0m \u001b[0mi\u001b[0m \u001b[0;32min\u001b[0m \u001b[0mrange\u001b[0m\u001b[0;34m(\u001b[0m\u001b[0;36m4\u001b[0m\u001b[0;34m)\u001b[0m\u001b[0;34m]\u001b[0m\u001b[0;34m\u001b[0m\u001b[0;34m\u001b[0m\u001b[0m\n\u001b[0;32m----> 9\u001b[0;31m \u001b[0mprint\u001b[0m\u001b[0;34m(\u001b[0m\u001b[0mray\u001b[0m\u001b[0;34m.\u001b[0m\u001b[0mget\u001b[0m\u001b[0;34m(\u001b[0m\u001b[0mfutures\u001b[0m\u001b[0;34m)\u001b[0m\u001b[0;34m)\u001b[0m \u001b[0;31m# [0, 1, 4, 9]\u001b[0m\u001b[0;34m\u001b[0m\u001b[0;34m\u001b[0m\u001b[0m\n\u001b[0m",
      "\u001b[0;32m~/opt/anaconda3/lib/python3.8/site-packages/ray/_private/client_mode_hook.py\u001b[0m in \u001b[0;36mwrapper\u001b[0;34m(*args, **kwargs)\u001b[0m\n\u001b[1;32m     80\u001b[0m         \u001b[0;32mif\u001b[0m \u001b[0mclient_mode_should_convert\u001b[0m\u001b[0;34m(\u001b[0m\u001b[0;34m)\u001b[0m\u001b[0;34m:\u001b[0m\u001b[0;34m\u001b[0m\u001b[0;34m\u001b[0m\u001b[0m\n\u001b[1;32m     81\u001b[0m             \u001b[0;32mreturn\u001b[0m \u001b[0mgetattr\u001b[0m\u001b[0;34m(\u001b[0m\u001b[0mray\u001b[0m\u001b[0;34m,\u001b[0m \u001b[0mfunc\u001b[0m\u001b[0;34m.\u001b[0m\u001b[0m__name__\u001b[0m\u001b[0;34m)\u001b[0m\u001b[0;34m(\u001b[0m\u001b[0;34m*\u001b[0m\u001b[0margs\u001b[0m\u001b[0;34m,\u001b[0m \u001b[0;34m**\u001b[0m\u001b[0mkwargs\u001b[0m\u001b[0;34m)\u001b[0m\u001b[0;34m\u001b[0m\u001b[0;34m\u001b[0m\u001b[0m\n\u001b[0;32m---> 82\u001b[0;31m         \u001b[0;32mreturn\u001b[0m \u001b[0mfunc\u001b[0m\u001b[0;34m(\u001b[0m\u001b[0;34m*\u001b[0m\u001b[0margs\u001b[0m\u001b[0;34m,\u001b[0m \u001b[0;34m**\u001b[0m\u001b[0mkwargs\u001b[0m\u001b[0;34m)\u001b[0m\u001b[0;34m\u001b[0m\u001b[0;34m\u001b[0m\u001b[0m\n\u001b[0m\u001b[1;32m     83\u001b[0m \u001b[0;34m\u001b[0m\u001b[0m\n\u001b[1;32m     84\u001b[0m     \u001b[0;32mreturn\u001b[0m \u001b[0mwrapper\u001b[0m\u001b[0;34m\u001b[0m\u001b[0;34m\u001b[0m\u001b[0m\n",
      "\u001b[0;32m~/opt/anaconda3/lib/python3.8/site-packages/ray/worker.py\u001b[0m in \u001b[0;36mget\u001b[0;34m(object_refs, timeout)\u001b[0m\n\u001b[1;32m   1619\u001b[0m                     \u001b[0mworker\u001b[0m\u001b[0;34m.\u001b[0m\u001b[0mcore_worker\u001b[0m\u001b[0;34m.\u001b[0m\u001b[0mdump_object_store_memory_usage\u001b[0m\u001b[0;34m(\u001b[0m\u001b[0;34m)\u001b[0m\u001b[0;34m\u001b[0m\u001b[0;34m\u001b[0m\u001b[0m\n\u001b[1;32m   1620\u001b[0m                 \u001b[0;32mif\u001b[0m \u001b[0misinstance\u001b[0m\u001b[0;34m(\u001b[0m\u001b[0mvalue\u001b[0m\u001b[0;34m,\u001b[0m \u001b[0mRayTaskError\u001b[0m\u001b[0;34m)\u001b[0m\u001b[0;34m:\u001b[0m\u001b[0;34m\u001b[0m\u001b[0;34m\u001b[0m\u001b[0m\n\u001b[0;32m-> 1621\u001b[0;31m                     \u001b[0;32mraise\u001b[0m \u001b[0mvalue\u001b[0m\u001b[0;34m.\u001b[0m\u001b[0mas_instanceof_cause\u001b[0m\u001b[0;34m(\u001b[0m\u001b[0;34m)\u001b[0m\u001b[0;34m\u001b[0m\u001b[0;34m\u001b[0m\u001b[0m\n\u001b[0m\u001b[1;32m   1622\u001b[0m                 \u001b[0;32melse\u001b[0m\u001b[0;34m:\u001b[0m\u001b[0;34m\u001b[0m\u001b[0;34m\u001b[0m\u001b[0m\n\u001b[1;32m   1623\u001b[0m                     \u001b[0;32mraise\u001b[0m \u001b[0mvalue\u001b[0m\u001b[0;34m\u001b[0m\u001b[0;34m\u001b[0m\u001b[0m\n",
      "\u001b[0;31mRayTaskError(RayOutOfMemoryError)\u001b[0m: \u001b[36mray::f()\u001b[39m (pid=9753, ip=10.219.175.110)\nray._private.memory_monitor.RayOutOfMemoryError: More than 95% of the memory on node Abhijits-MacBook-Pro.local is used (7.65 / 8.0 GB). The top 10 memory consumers are:\n\nPID\tMEM\tCOMMAND\n7677\t0.41GiB\t/Users/abhijitdeshpande/opt/anaconda3/bin/python -m ipykernel_launcher -f /Users/abhijitdeshpande/Li\n9435\t0.15GiB\t/System/Library/Frameworks/WebKit.framework/Versions/A/XPCServices/com.apple.WebKit.WebContent.xpc/C\n4022\t0.13GiB\t/System/Library/Frameworks/WebKit.framework/Versions/A/XPCServices/com.apple.WebKit.WebContent.xpc/C\n710\t0.09GiB\t/Applications/Safari.app/Contents/MacOS/Safari\n9755\t0.07GiB\tray::IDLE\n5081\t0.07GiB\t/Applications/Microsoft Teams.app/Contents/Frameworks/Microsoft Teams Helper (Renderer).app/Contents\n9750\t0.07GiB\tray::IDLE\n9746\t0.07GiB\t/Users/abhijitdeshpande/opt/anaconda3/bin/python -u /Users/abhijitdeshpande/opt/anaconda3/lib/python\n9752\t0.07GiB\tray::IDLE\n9757\t0.07GiB\tray::IDLE\n\nIn addition, up to 0.0 GiB of shared memory is currently being used by the Ray object store.\n---\n--- Tip: Use the `ray memory` command to list active objects in the cluster.\n--- To disable OOM exceptions, set RAY_DISABLE_MEMORY_MONITOR=1.\n---"
     ]
    },
    {
     "name": "stderr",
     "output_type": "stream",
     "text": [
      "2021-12-20 12:25:40,314\tERROR worker.py:79 -- Unhandled error (suppress with RAY_IGNORE_UNHANDLED_ERRORS=1): \u001b[36mray::f()\u001b[39m (pid=9757, ip=10.219.175.110)\n",
      "ray._private.memory_monitor.RayOutOfMemoryError: More than 95% of the memory on node Abhijits-MacBook-Pro.local is used (7.65 / 8.0 GB). The top 10 memory consumers are:\n",
      "\n",
      "PID\tMEM\tCOMMAND\n",
      "7677\t0.41GiB\t/Users/abhijitdeshpande/opt/anaconda3/bin/python -m ipykernel_launcher -f /Users/abhijitdeshpande/Li\n",
      "9435\t0.15GiB\t/System/Library/Frameworks/WebKit.framework/Versions/A/XPCServices/com.apple.WebKit.WebContent.xpc/C\n",
      "4022\t0.13GiB\t/System/Library/Frameworks/WebKit.framework/Versions/A/XPCServices/com.apple.WebKit.WebContent.xpc/C\n",
      "710\t0.09GiB\t/Applications/Safari.app/Contents/MacOS/Safari\n",
      "9755\t0.07GiB\tray::IDLE\n",
      "5081\t0.07GiB\t/Applications/Microsoft Teams.app/Contents/Frameworks/Microsoft Teams Helper (Renderer).app/Contents\n",
      "9750\t0.07GiB\tray::IDLE\n",
      "9746\t0.07GiB\t/Users/abhijitdeshpande/opt/anaconda3/bin/python -u /Users/abhijitdeshpande/opt/anaconda3/lib/python\n",
      "9753\t0.07GiB\tray::IDLE\n",
      "9752\t0.07GiB\tray::IDLE\n",
      "\n",
      "In addition, up to 0.0 GiB of shared memory is currently being used by the Ray object store.\n",
      "---\n",
      "--- Tip: Use the `ray memory` command to list active objects in the cluster.\n",
      "--- To disable OOM exceptions, set RAY_DISABLE_MEMORY_MONITOR=1.\n",
      "---\n",
      "2021-12-20 12:25:40,315\tERROR worker.py:79 -- Unhandled error (suppress with RAY_IGNORE_UNHANDLED_ERRORS=1): \u001b[36mray::f()\u001b[39m (pid=9755, ip=10.219.175.110)\n",
      "ray._private.memory_monitor.RayOutOfMemoryError: More than 95% of the memory on node Abhijits-MacBook-Pro.local is used (7.65 / 8.0 GB). The top 10 memory consumers are:\n",
      "\n",
      "PID\tMEM\tCOMMAND\n",
      "7677\t0.41GiB\t/Users/abhijitdeshpande/opt/anaconda3/bin/python -m ipykernel_launcher -f /Users/abhijitdeshpande/Li\n",
      "9435\t0.15GiB\t/System/Library/Frameworks/WebKit.framework/Versions/A/XPCServices/com.apple.WebKit.WebContent.xpc/C\n",
      "4022\t0.13GiB\t/System/Library/Frameworks/WebKit.framework/Versions/A/XPCServices/com.apple.WebKit.WebContent.xpc/C\n",
      "710\t0.09GiB\t/Applications/Safari.app/Contents/MacOS/Safari\n",
      "9755\t0.07GiB\tray::IDLE\n",
      "5081\t0.07GiB\t/Applications/Microsoft Teams.app/Contents/Frameworks/Microsoft Teams Helper (Renderer).app/Contents\n",
      "9750\t0.07GiB\tray::IDLE\n",
      "9746\t0.07GiB\t/Users/abhijitdeshpande/opt/anaconda3/bin/python -u /Users/abhijitdeshpande/opt/anaconda3/lib/python\n",
      "9757\t0.07GiB\tray::IDLE\n",
      "9753\t0.07GiB\tray::IDLE\n",
      "\n",
      "In addition, up to 0.0 GiB of shared memory is currently being used by the Ray object store.\n",
      "---\n",
      "--- Tip: Use the `ray memory` command to list active objects in the cluster.\n",
      "--- To disable OOM exceptions, set RAY_DISABLE_MEMORY_MONITOR=1.\n",
      "---\n",
      "2021-12-20 12:25:40,316\tERROR worker.py:79 -- Unhandled error (suppress with RAY_IGNORE_UNHANDLED_ERRORS=1): \u001b[36mray::f()\u001b[39m (pid=9750, ip=10.219.175.110)\n",
      "ray._private.memory_monitor.RayOutOfMemoryError: More than 95% of the memory on node Abhijits-MacBook-Pro.local is used (7.65 / 8.0 GB). The top 10 memory consumers are:\n",
      "\n",
      "PID\tMEM\tCOMMAND\n",
      "7677\t0.41GiB\t/Users/abhijitdeshpande/opt/anaconda3/bin/python -m ipykernel_launcher -f /Users/abhijitdeshpande/Li\n",
      "9435\t0.15GiB\t/System/Library/Frameworks/WebKit.framework/Versions/A/XPCServices/com.apple.WebKit.WebContent.xpc/C\n",
      "4022\t0.13GiB\t/System/Library/Frameworks/WebKit.framework/Versions/A/XPCServices/com.apple.WebKit.WebContent.xpc/C\n",
      "710\t0.09GiB\t/Applications/Safari.app/Contents/MacOS/Safari\n",
      "5081\t0.07GiB\t/Applications/Microsoft Teams.app/Contents/Frameworks/Microsoft Teams Helper (Renderer).app/Contents\n",
      "9755\t0.07GiB\tray::IDLE\n",
      "9746\t0.07GiB\t/Users/abhijitdeshpande/opt/anaconda3/bin/python -u /Users/abhijitdeshpande/opt/anaconda3/lib/python\n",
      "9757\t0.07GiB\tray::IDLE\n",
      "9750\t0.07GiB\tray::IDLE\n",
      "9753\t0.07GiB\tray::IDLE\n",
      "\n",
      "In addition, up to 0.0 GiB of shared memory is currently being used by the Ray object store.\n",
      "---\n",
      "--- Tip: Use the `ray memory` command to list active objects in the cluster.\n",
      "--- To disable OOM exceptions, set RAY_DISABLE_MEMORY_MONITOR=1.\n",
      "---\n"
     ]
    }
   ],
   "source": [
    "import ray\n",
    "ray.init()\n",
    "\n",
    "@ray.remote\n",
    "def f(x):\n",
    "    return x * x\n",
    "\n",
    "futures = [f.remote(i) for i in range(4)]\n",
    "print(ray.get(futures)) # [0, 1, 4, 9]"
   ]
  },
  {
   "cell_type": "code",
   "execution_count": 33,
   "id": "0de606b5",
   "metadata": {},
   "outputs": [],
   "source": [
    "import schedule"
   ]
  },
  {
   "cell_type": "code",
   "execution_count": null,
   "id": "40e446fb",
   "metadata": {},
   "outputs": [],
   "source": []
  }
 ],
 "metadata": {
  "kernelspec": {
   "display_name": "Python 3 (ipykernel)",
   "language": "python",
   "name": "python3"
  },
  "language_info": {
   "codemirror_mode": {
    "name": "ipython",
    "version": 3
   },
   "file_extension": ".py",
   "mimetype": "text/x-python",
   "name": "python",
   "nbconvert_exporter": "python",
   "pygments_lexer": "ipython3",
   "version": "3.8.12"
  }
 },
 "nbformat": 4,
 "nbformat_minor": 5
}
