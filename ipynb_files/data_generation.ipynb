{
 "cells": [
  {
   "cell_type": "code",
   "execution_count": 7,
   "id": "fundamental-trainer",
   "metadata": {},
   "outputs": [],
   "source": [
    "#importing libraries\n",
    "import numpy as np\n",
    "import pandas as pd\n",
    "import matplotlib.pyplot as plt\n",
    "import seaborn as sns\n",
    "import warnings\n",
    "warnings.filterwarnings('ignore')"
   ]
  },
  {
   "cell_type": "code",
   "execution_count": 10,
   "id": "9fe8c5ac",
   "metadata": {},
   "outputs": [],
   "source": [
    "from selection import load_data,save,generate_labels"
   ]
  },
  {
   "cell_type": "code",
   "execution_count": 3,
   "id": "76b00fd4",
   "metadata": {},
   "outputs": [],
   "source": [
    "name = 'AAPL_2Y60min'\n",
    "path = '/Users/abhijitdeshpande/Downloads/DJI65_2Y60min/'"
   ]
  },
  {
   "cell_type": "code",
   "execution_count": 17,
   "id": "choice-mention",
   "metadata": {},
   "outputs": [],
   "source": [
    "data = load_data(name)"
   ]
  },
  {
   "cell_type": "code",
   "execution_count": 18,
   "id": "0eb2edc2",
   "metadata": {},
   "outputs": [],
   "source": [
    "labels = generate_labels(data)"
   ]
  },
  {
   "cell_type": "code",
   "execution_count": null,
   "id": "9f11e7f3",
   "metadata": {},
   "outputs": [],
   "source": []
  },
  {
   "cell_type": "code",
   "execution_count": null,
   "id": "93f391ee",
   "metadata": {},
   "outputs": [],
   "source": []
  },
  {
   "cell_type": "code",
   "execution_count": null,
   "id": "median-prophet",
   "metadata": {},
   "outputs": [],
   "source": []
  },
  {
   "cell_type": "code",
   "execution_count": 6,
   "id": "ae6e57f0",
   "metadata": {},
   "outputs": [],
   "source": [
    "data.drop('time',axis=1, inplace=True)"
   ]
  },
  {
   "cell_type": "code",
   "execution_count": 6,
   "id": "placed-boutique",
   "metadata": {},
   "outputs": [],
   "source": [
    "def get_Daily_Volatility(close,span0=20):\n",
    "    # simple percentage returns\n",
    "    df0=close.pct_change()\n",
    "    # 20 days, a month EWM's std as boundary\n",
    "    df0=df0.ewm(span=span0).std()\n",
    "    df0.dropna(inplace=True)\n",
    "    return df0"
   ]
  },
  {
   "cell_type": "code",
   "execution_count": 7,
   "id": "double-monitor",
   "metadata": {},
   "outputs": [],
   "source": [
    "def get_atr(stock, win=14):\n",
    "    \n",
    "    atr_df = pd.Series(index=stock.index)\n",
    "    high = pd.Series(adj.high.rolling( \\\n",
    "                     win, min_periods=win))\n",
    "    low = pd.Series(adj.low.rolling( \\\n",
    "                    win, min_periods=win))\n",
    "    close = pd.Series(adj.close.rolling( \\\n",
    "                      win, min_periods=win))    \n",
    "          \n",
    "    for i in range(len(stock.index)):\n",
    "        tr=np.max([(high[i] - low[i]), \\\n",
    "                  np.abs(high[i] - close[i]), \\\n",
    "                  np.abs(low[i] - close[i])], \\\n",
    "                  axis=0)\n",
    "        atr_df[i] = tr.sum() / win\n",
    "     \n",
    "    return  atr_df"
   ]
  },
  {
   "cell_type": "code",
   "execution_count": null,
   "id": "bc2562cf",
   "metadata": {},
   "outputs": [],
   "source": []
  },
  {
   "cell_type": "code",
   "execution_count": 8,
   "id": "failing-portal",
   "metadata": {},
   "outputs": [],
   "source": [
    "def get_barriers():\n",
    "    #create a container\n",
    "    barriers = pd.DataFrame(columns=['days_passed', \n",
    "              'price', 'vert_barrier', \\\n",
    "              'top_barrier', 'bottom_barrier'], \\\n",
    "               index = daily_volatility.index)\n",
    "    for day, vol in daily_volatility.iteritems():\n",
    "        days_passed = len(daily_volatility.loc \\\n",
    "                      [daily_volatility.index[0] : day])\n",
    "        #set the vertical barrier \n",
    "        if ((days_passed + t_final) < len(daily_volatility.index) \\\n",
    "            and t_final != 0):\n",
    "            vert_barrier = daily_volatility.index[\n",
    "                                days_passed + t_final]\n",
    "        else:\n",
    "            vert_barrier = np.nan\n",
    "        #set the top barrier\n",
    "        if upper_lower_multipliers[0] > 0:\n",
    "            top_barrier = prices.loc[day] + prices.loc[day] * \\\n",
    "                          upper_lower_multipliers[0] * vol\n",
    "        else:\n",
    "            #set it to NaNs\n",
    "            top_barrier = pd.Series(index=prices.index)\n",
    "        #set the bottom barrier\n",
    "        if upper_lower_multipliers[1] > 0:\n",
    "            bottom_barrier = prices.loc[day] - prices.loc[day] * \\\n",
    "                          upper_lower_multipliers[1] * vol\n",
    "        else: \n",
    "            #set it to NaNs\n",
    "            bottom_barrier = pd.Series(index=prices.index)\n",
    "        barriers.loc[day, ['days_passed', 'price', \n",
    "            'vert_barrier','top_barrier', 'bottom_barrier']] = \\\n",
    "             days_passed, prices.loc[day], vert_barrier, \\\n",
    "             top_barrier, bottom_barrier\n",
    "    return barriers"
   ]
  },
  {
   "cell_type": "code",
   "execution_count": 9,
   "id": "located-tradition",
   "metadata": {},
   "outputs": [],
   "source": [
    "#set the boundary of barriers, based on 20 days EWM\n",
    "daily_volatility = get_Daily_Volatility(data.close)\n",
    "# how many days we hold the stock which set the vertical barrier\n",
    "t_final = 30\n",
    "#the up and low boundary multipliers\n",
    "upper_lower_multipliers = [4, 1]\n",
    "#allign the index\n",
    "prices = data.close[daily_volatility.index]"
   ]
  },
  {
   "cell_type": "code",
   "execution_count": 10,
   "id": "4fbd7dff",
   "metadata": {},
   "outputs": [],
   "source": [
    "#daily_volatility.loc[daily_volatility.index[850]:daily_volatility.index[]].std()+2"
   ]
  },
  {
   "cell_type": "code",
   "execution_count": null,
   "id": "cf078aa4",
   "metadata": {},
   "outputs": [],
   "source": []
  },
  {
   "cell_type": "code",
   "execution_count": null,
   "id": "c24c6fcb",
   "metadata": {},
   "outputs": [],
   "source": []
  },
  {
   "cell_type": "code",
   "execution_count": null,
   "id": "4ec84b06",
   "metadata": {},
   "outputs": [],
   "source": []
  },
  {
   "cell_type": "code",
   "execution_count": 11,
   "id": "accurate-magic",
   "metadata": {},
   "outputs": [],
   "source": [
    "barriers = get_barriers()"
   ]
  },
  {
   "cell_type": "code",
   "execution_count": 14,
   "id": "coastal-breed",
   "metadata": {},
   "outputs": [
    {
     "name": "stdout",
     "output_type": "stream",
     "text": [
      "<class 'pandas.core.frame.DataFrame'>\n",
      "Index: 7880 entries, 2018-09-28 07:00:00 to 2020-09-16 20:00:00\n",
      "Data columns (total 6 columns):\n",
      " #   Column          Non-Null Count  Dtype \n",
      "---  ------          --------------  ----- \n",
      " 0   days_passed     7880 non-null   object\n",
      " 1   price           7880 non-null   object\n",
      " 2   vert_barrier    7849 non-null   object\n",
      " 3   top_barrier     7880 non-null   object\n",
      " 4   bottom_barrier  7880 non-null   object\n",
      " 5   out             0 non-null      object\n",
      "dtypes: object(6)\n",
      "memory usage: 689.0+ KB\n"
     ]
    }
   ],
   "source": [
    "barriers.info()"
   ]
  },
  {
   "cell_type": "code",
   "execution_count": 13,
   "id": "cutting-compiler",
   "metadata": {},
   "outputs": [
    {
     "data": {
      "text/html": [
       "<div>\n",
       "<style scoped>\n",
       "    .dataframe tbody tr th:only-of-type {\n",
       "        vertical-align: middle;\n",
       "    }\n",
       "\n",
       "    .dataframe tbody tr th {\n",
       "        vertical-align: top;\n",
       "    }\n",
       "\n",
       "    .dataframe thead th {\n",
       "        text-align: right;\n",
       "    }\n",
       "</style>\n",
       "<table border=\"1\" class=\"dataframe\">\n",
       "  <thead>\n",
       "    <tr style=\"text-align: right;\">\n",
       "      <th></th>\n",
       "      <th>days_passed</th>\n",
       "      <th>price</th>\n",
       "      <th>vert_barrier</th>\n",
       "      <th>top_barrier</th>\n",
       "      <th>bottom_barrier</th>\n",
       "      <th>out</th>\n",
       "    </tr>\n",
       "    <tr>\n",
       "      <th>time</th>\n",
       "      <th></th>\n",
       "      <th></th>\n",
       "      <th></th>\n",
       "      <th></th>\n",
       "      <th></th>\n",
       "      <th></th>\n",
       "    </tr>\n",
       "  </thead>\n",
       "  <tbody>\n",
       "    <tr>\n",
       "      <th>2018-10-01 06:00:00</th>\n",
       "      <td>16</td>\n",
       "      <td>227.6</td>\n",
       "      <td>2018-10-03 07:00:00</td>\n",
       "      <td>229.968359</td>\n",
       "      <td>227.00791</td>\n",
       "      <td>None</td>\n",
       "    </tr>\n",
       "    <tr>\n",
       "      <th>2018-10-01 07:00:00</th>\n",
       "      <td>17</td>\n",
       "      <td>227.98</td>\n",
       "      <td>2018-10-03 08:00:00</td>\n",
       "      <td>230.216038</td>\n",
       "      <td>227.42099</td>\n",
       "      <td>None</td>\n",
       "    </tr>\n",
       "    <tr>\n",
       "      <th>2018-10-01 08:00:00</th>\n",
       "      <td>18</td>\n",
       "      <td>227.85</td>\n",
       "      <td>2018-10-03 09:00:00</td>\n",
       "      <td>230.016991</td>\n",
       "      <td>227.308252</td>\n",
       "      <td>None</td>\n",
       "    </tr>\n",
       "    <tr>\n",
       "      <th>2018-10-01 09:00:00</th>\n",
       "      <td>19</td>\n",
       "      <td>227.77</td>\n",
       "      <td>2018-10-03 10:00:00</td>\n",
       "      <td>229.849037</td>\n",
       "      <td>227.250241</td>\n",
       "      <td>None</td>\n",
       "    </tr>\n",
       "    <tr>\n",
       "      <th>2018-10-01 10:00:00</th>\n",
       "      <td>20</td>\n",
       "      <td>228.79</td>\n",
       "      <td>2018-10-03 11:00:00</td>\n",
       "      <td>231.032394</td>\n",
       "      <td>228.229402</td>\n",
       "      <td>None</td>\n",
       "    </tr>\n",
       "    <tr>\n",
       "      <th>2018-10-01 11:00:00</th>\n",
       "      <td>21</td>\n",
       "      <td>228.87</td>\n",
       "      <td>2018-10-03 12:00:00</td>\n",
       "      <td>231.003647</td>\n",
       "      <td>228.336588</td>\n",
       "      <td>None</td>\n",
       "    </tr>\n",
       "    <tr>\n",
       "      <th>2018-10-01 12:00:00</th>\n",
       "      <td>22</td>\n",
       "      <td>228.88</td>\n",
       "      <td>2018-10-03 13:00:00</td>\n",
       "      <td>230.921183</td>\n",
       "      <td>228.369704</td>\n",
       "      <td>None</td>\n",
       "    </tr>\n",
       "    <tr>\n",
       "      <th>2018-10-01 13:00:00</th>\n",
       "      <td>23</td>\n",
       "      <td>227.5775</td>\n",
       "      <td>2018-10-03 14:00:00</td>\n",
       "      <td>230.299111</td>\n",
       "      <td>226.897097</td>\n",
       "      <td>None</td>\n",
       "    </tr>\n",
       "    <tr>\n",
       "      <th>2018-10-01 14:00:00</th>\n",
       "      <td>24</td>\n",
       "      <td>227.74</td>\n",
       "      <td>2018-10-03 15:00:00</td>\n",
       "      <td>230.319489</td>\n",
       "      <td>227.095128</td>\n",
       "      <td>None</td>\n",
       "    </tr>\n",
       "    <tr>\n",
       "      <th>2018-10-01 15:00:00</th>\n",
       "      <td>25</td>\n",
       "      <td>227.1402</td>\n",
       "      <td>2018-10-03 16:00:00</td>\n",
       "      <td>229.720294</td>\n",
       "      <td>226.495176</td>\n",
       "      <td>None</td>\n",
       "    </tr>\n",
       "  </tbody>\n",
       "</table>\n",
       "</div>"
      ],
      "text/plain": [
       "                    days_passed     price         vert_barrier top_barrier  \\\n",
       "time                                                                         \n",
       "2018-10-01 06:00:00          16     227.6  2018-10-03 07:00:00  229.968359   \n",
       "2018-10-01 07:00:00          17    227.98  2018-10-03 08:00:00  230.216038   \n",
       "2018-10-01 08:00:00          18    227.85  2018-10-03 09:00:00  230.016991   \n",
       "2018-10-01 09:00:00          19    227.77  2018-10-03 10:00:00  229.849037   \n",
       "2018-10-01 10:00:00          20    228.79  2018-10-03 11:00:00  231.032394   \n",
       "2018-10-01 11:00:00          21    228.87  2018-10-03 12:00:00  231.003647   \n",
       "2018-10-01 12:00:00          22    228.88  2018-10-03 13:00:00  230.921183   \n",
       "2018-10-01 13:00:00          23  227.5775  2018-10-03 14:00:00  230.299111   \n",
       "2018-10-01 14:00:00          24    227.74  2018-10-03 15:00:00  230.319489   \n",
       "2018-10-01 15:00:00          25  227.1402  2018-10-03 16:00:00  229.720294   \n",
       "\n",
       "                    bottom_barrier   out  \n",
       "time                                      \n",
       "2018-10-01 06:00:00      227.00791  None  \n",
       "2018-10-01 07:00:00      227.42099  None  \n",
       "2018-10-01 08:00:00     227.308252  None  \n",
       "2018-10-01 09:00:00     227.250241  None  \n",
       "2018-10-01 10:00:00     228.229402  None  \n",
       "2018-10-01 11:00:00     228.336588  None  \n",
       "2018-10-01 12:00:00     228.369704  None  \n",
       "2018-10-01 13:00:00     226.897097  None  \n",
       "2018-10-01 14:00:00     227.095128  None  \n",
       "2018-10-01 15:00:00     226.495176  None  "
      ]
     },
     "execution_count": 13,
     "metadata": {},
     "output_type": "execute_result"
    }
   ],
   "source": [
    "barriers['out'] = None\n",
    "barriers[15:25]"
   ]
  },
  {
   "cell_type": "code",
   "execution_count": 15,
   "id": "furnished-business",
   "metadata": {},
   "outputs": [],
   "source": [
    "def get_labels():\n",
    " \n",
    "    for i in range(len(barriers.index)):\n",
    "        start = barriers.index[i]\n",
    "        end = barriers.vert_barrier[i]\n",
    "        if pd.notna(end):\n",
    "            # assign the initial and final price\n",
    "            price_initial = barriers.price[start]\n",
    "            price_final = barriers.price[end]\n",
    "            # assign the top and bottom barriers\n",
    "            top_barrier = barriers.top_barrier[i]\n",
    "            bottom_barrier = barriers.bottom_barrier[i]\n",
    "            #set the profit taking and stop loss conditons\n",
    "            condition_pt = (barriers.price[start: end] >= \\\n",
    "             top_barrier).any()\n",
    "            condition_sl = (barriers.price[start: end] <= \\\n",
    "             bottom_barrier).any()\n",
    "            #assign the labels\n",
    "            if condition_pt: \n",
    "                barriers['out'][i] = 1\n",
    "            elif condition_sl: \n",
    "                barriers['out'][i] = -1    \n",
    "            else: \n",
    "                barriers['out'][i] = max(\n",
    "                          [(price_final - price_initial)/ \n",
    "                           (top_barrier - price_initial), \\\n",
    "                           (price_final - price_initial)/ \\\n",
    "                           (price_initial - bottom_barrier)],\\\n",
    "                            key=abs)\n",
    "                #barriers['out'][i] = 0\n",
    "    return \n",
    "get_labels()"
   ]
  },
  {
   "cell_type": "code",
   "execution_count": 16,
   "id": "c00f5347",
   "metadata": {},
   "outputs": [
    {
     "data": {
      "text/html": [
       "<div>\n",
       "<style scoped>\n",
       "    .dataframe tbody tr th:only-of-type {\n",
       "        vertical-align: middle;\n",
       "    }\n",
       "\n",
       "    .dataframe tbody tr th {\n",
       "        vertical-align: top;\n",
       "    }\n",
       "\n",
       "    .dataframe thead th {\n",
       "        text-align: right;\n",
       "    }\n",
       "</style>\n",
       "<table border=\"1\" class=\"dataframe\">\n",
       "  <thead>\n",
       "    <tr style=\"text-align: right;\">\n",
       "      <th></th>\n",
       "      <th>days_passed</th>\n",
       "      <th>price</th>\n",
       "      <th>vert_barrier</th>\n",
       "      <th>top_barrier</th>\n",
       "      <th>bottom_barrier</th>\n",
       "      <th>out</th>\n",
       "    </tr>\n",
       "    <tr>\n",
       "      <th>time</th>\n",
       "      <th></th>\n",
       "      <th></th>\n",
       "      <th></th>\n",
       "      <th></th>\n",
       "      <th></th>\n",
       "      <th></th>\n",
       "    </tr>\n",
       "  </thead>\n",
       "  <tbody>\n",
       "    <tr>\n",
       "      <th>2018-09-28 07:00:00</th>\n",
       "      <td>1</td>\n",
       "      <td>224.0</td>\n",
       "      <td>2018-10-02 08:00:00</td>\n",
       "      <td>226.622563</td>\n",
       "      <td>223.344359</td>\n",
       "      <td>1</td>\n",
       "    </tr>\n",
       "    <tr>\n",
       "      <th>2018-09-28 08:00:00</th>\n",
       "      <td>2</td>\n",
       "      <td>223.92</td>\n",
       "      <td>2018-10-02 09:00:00</td>\n",
       "      <td>225.786071</td>\n",
       "      <td>223.453482</td>\n",
       "      <td>1</td>\n",
       "    </tr>\n",
       "    <tr>\n",
       "      <th>2018-09-28 09:00:00</th>\n",
       "      <td>3</td>\n",
       "      <td>224.7</td>\n",
       "      <td>2018-10-02 10:00:00</td>\n",
       "      <td>227.25238</td>\n",
       "      <td>224.061905</td>\n",
       "      <td>1</td>\n",
       "    </tr>\n",
       "    <tr>\n",
       "      <th>2018-09-28 10:00:00</th>\n",
       "      <td>4</td>\n",
       "      <td>224.74</td>\n",
       "      <td>2018-10-02 11:00:00</td>\n",
       "      <td>226.894404</td>\n",
       "      <td>224.201399</td>\n",
       "      <td>1</td>\n",
       "    </tr>\n",
       "    <tr>\n",
       "      <th>2018-09-28 11:00:00</th>\n",
       "      <td>5</td>\n",
       "      <td>225.5703</td>\n",
       "      <td>2018-10-02 12:00:00</td>\n",
       "      <td>227.897485</td>\n",
       "      <td>224.988504</td>\n",
       "      <td>1</td>\n",
       "    </tr>\n",
       "    <tr>\n",
       "      <th>...</th>\n",
       "      <td>...</td>\n",
       "      <td>...</td>\n",
       "      <td>...</td>\n",
       "      <td>...</td>\n",
       "      <td>...</td>\n",
       "      <td>...</td>\n",
       "    </tr>\n",
       "    <tr>\n",
       "      <th>2020-09-16 16:00:00</th>\n",
       "      <td>7876</td>\n",
       "      <td>112.13</td>\n",
       "      <td>NaN</td>\n",
       "      <td>114.554102</td>\n",
       "      <td>111.523974</td>\n",
       "      <td>None</td>\n",
       "    </tr>\n",
       "    <tr>\n",
       "      <th>2020-09-16 17:00:00</th>\n",
       "      <td>7877</td>\n",
       "      <td>112.54</td>\n",
       "      <td>NaN</td>\n",
       "      <td>114.989288</td>\n",
       "      <td>111.927678</td>\n",
       "      <td>None</td>\n",
       "    </tr>\n",
       "    <tr>\n",
       "      <th>2020-09-16 18:00:00</th>\n",
       "      <td>7878</td>\n",
       "      <td>112.7</td>\n",
       "      <td>NaN</td>\n",
       "      <td>115.071154</td>\n",
       "      <td>112.107212</td>\n",
       "      <td>None</td>\n",
       "    </tr>\n",
       "    <tr>\n",
       "      <th>2020-09-16 19:00:00</th>\n",
       "      <td>7879</td>\n",
       "      <td>112.71</td>\n",
       "      <td>NaN</td>\n",
       "      <td>114.974653</td>\n",
       "      <td>112.143837</td>\n",
       "      <td>None</td>\n",
       "    </tr>\n",
       "    <tr>\n",
       "      <th>2020-09-16 20:00:00</th>\n",
       "      <td>7880</td>\n",
       "      <td>112.8</td>\n",
       "      <td>NaN</td>\n",
       "      <td>114.97387</td>\n",
       "      <td>112.256532</td>\n",
       "      <td>None</td>\n",
       "    </tr>\n",
       "  </tbody>\n",
       "</table>\n",
       "<p>7880 rows × 6 columns</p>\n",
       "</div>"
      ],
      "text/plain": [
       "                    days_passed     price         vert_barrier top_barrier  \\\n",
       "time                                                                         \n",
       "2018-09-28 07:00:00           1     224.0  2018-10-02 08:00:00  226.622563   \n",
       "2018-09-28 08:00:00           2    223.92  2018-10-02 09:00:00  225.786071   \n",
       "2018-09-28 09:00:00           3     224.7  2018-10-02 10:00:00   227.25238   \n",
       "2018-09-28 10:00:00           4    224.74  2018-10-02 11:00:00  226.894404   \n",
       "2018-09-28 11:00:00           5  225.5703  2018-10-02 12:00:00  227.897485   \n",
       "...                         ...       ...                  ...         ...   \n",
       "2020-09-16 16:00:00        7876    112.13                  NaN  114.554102   \n",
       "2020-09-16 17:00:00        7877    112.54                  NaN  114.989288   \n",
       "2020-09-16 18:00:00        7878     112.7                  NaN  115.071154   \n",
       "2020-09-16 19:00:00        7879    112.71                  NaN  114.974653   \n",
       "2020-09-16 20:00:00        7880     112.8                  NaN   114.97387   \n",
       "\n",
       "                    bottom_barrier   out  \n",
       "time                                      \n",
       "2018-09-28 07:00:00     223.344359     1  \n",
       "2018-09-28 08:00:00     223.453482     1  \n",
       "2018-09-28 09:00:00     224.061905     1  \n",
       "2018-09-28 10:00:00     224.201399     1  \n",
       "2018-09-28 11:00:00     224.988504     1  \n",
       "...                            ...   ...  \n",
       "2020-09-16 16:00:00     111.523974  None  \n",
       "2020-09-16 17:00:00     111.927678  None  \n",
       "2020-09-16 18:00:00     112.107212  None  \n",
       "2020-09-16 19:00:00     112.143837  None  \n",
       "2020-09-16 20:00:00     112.256532  None  \n",
       "\n",
       "[7880 rows x 6 columns]"
      ]
     },
     "execution_count": 16,
     "metadata": {},
     "output_type": "execute_result"
    }
   ],
   "source": [
    "barriers"
   ]
  },
  {
   "cell_type": "code",
   "execution_count": 17,
   "id": "systematic-ordering",
   "metadata": {},
   "outputs": [
    {
     "data": {
      "text/html": [
       "<div>\n",
       "<style scoped>\n",
       "    .dataframe tbody tr th:only-of-type {\n",
       "        vertical-align: middle;\n",
       "    }\n",
       "\n",
       "    .dataframe tbody tr th {\n",
       "        vertical-align: top;\n",
       "    }\n",
       "\n",
       "    .dataframe thead th {\n",
       "        text-align: right;\n",
       "    }\n",
       "</style>\n",
       "<table border=\"1\" class=\"dataframe\">\n",
       "  <thead>\n",
       "    <tr style=\"text-align: right;\">\n",
       "      <th></th>\n",
       "      <th>days_passed</th>\n",
       "      <th>price</th>\n",
       "      <th>vert_barrier</th>\n",
       "      <th>top_barrier</th>\n",
       "      <th>bottom_barrier</th>\n",
       "      <th>out</th>\n",
       "    </tr>\n",
       "    <tr>\n",
       "      <th>time</th>\n",
       "      <th></th>\n",
       "      <th></th>\n",
       "      <th></th>\n",
       "      <th></th>\n",
       "      <th></th>\n",
       "      <th></th>\n",
       "    </tr>\n",
       "  </thead>\n",
       "  <tbody>\n",
       "    <tr>\n",
       "      <th>2018-09-28 07:00:00</th>\n",
       "      <td>1</td>\n",
       "      <td>224.0</td>\n",
       "      <td>2018-10-02 08:00:00</td>\n",
       "      <td>226.622563</td>\n",
       "      <td>223.344359</td>\n",
       "      <td>1</td>\n",
       "    </tr>\n",
       "    <tr>\n",
       "      <th>2018-09-28 08:00:00</th>\n",
       "      <td>2</td>\n",
       "      <td>223.92</td>\n",
       "      <td>2018-10-02 09:00:00</td>\n",
       "      <td>225.786071</td>\n",
       "      <td>223.453482</td>\n",
       "      <td>1</td>\n",
       "    </tr>\n",
       "    <tr>\n",
       "      <th>2018-09-28 09:00:00</th>\n",
       "      <td>3</td>\n",
       "      <td>224.7</td>\n",
       "      <td>2018-10-02 10:00:00</td>\n",
       "      <td>227.25238</td>\n",
       "      <td>224.061905</td>\n",
       "      <td>1</td>\n",
       "    </tr>\n",
       "    <tr>\n",
       "      <th>2018-09-28 10:00:00</th>\n",
       "      <td>4</td>\n",
       "      <td>224.74</td>\n",
       "      <td>2018-10-02 11:00:00</td>\n",
       "      <td>226.894404</td>\n",
       "      <td>224.201399</td>\n",
       "      <td>1</td>\n",
       "    </tr>\n",
       "    <tr>\n",
       "      <th>2018-09-28 11:00:00</th>\n",
       "      <td>5</td>\n",
       "      <td>225.5703</td>\n",
       "      <td>2018-10-02 12:00:00</td>\n",
       "      <td>227.897485</td>\n",
       "      <td>224.988504</td>\n",
       "      <td>1</td>\n",
       "    </tr>\n",
       "    <tr>\n",
       "      <th>...</th>\n",
       "      <td>...</td>\n",
       "      <td>...</td>\n",
       "      <td>...</td>\n",
       "      <td>...</td>\n",
       "      <td>...</td>\n",
       "      <td>...</td>\n",
       "    </tr>\n",
       "    <tr>\n",
       "      <th>2020-09-16 16:00:00</th>\n",
       "      <td>7876</td>\n",
       "      <td>112.13</td>\n",
       "      <td>NaN</td>\n",
       "      <td>114.554102</td>\n",
       "      <td>111.523974</td>\n",
       "      <td>None</td>\n",
       "    </tr>\n",
       "    <tr>\n",
       "      <th>2020-09-16 17:00:00</th>\n",
       "      <td>7877</td>\n",
       "      <td>112.54</td>\n",
       "      <td>NaN</td>\n",
       "      <td>114.989288</td>\n",
       "      <td>111.927678</td>\n",
       "      <td>None</td>\n",
       "    </tr>\n",
       "    <tr>\n",
       "      <th>2020-09-16 18:00:00</th>\n",
       "      <td>7878</td>\n",
       "      <td>112.7</td>\n",
       "      <td>NaN</td>\n",
       "      <td>115.071154</td>\n",
       "      <td>112.107212</td>\n",
       "      <td>None</td>\n",
       "    </tr>\n",
       "    <tr>\n",
       "      <th>2020-09-16 19:00:00</th>\n",
       "      <td>7879</td>\n",
       "      <td>112.71</td>\n",
       "      <td>NaN</td>\n",
       "      <td>114.974653</td>\n",
       "      <td>112.143837</td>\n",
       "      <td>None</td>\n",
       "    </tr>\n",
       "    <tr>\n",
       "      <th>2020-09-16 20:00:00</th>\n",
       "      <td>7880</td>\n",
       "      <td>112.8</td>\n",
       "      <td>NaN</td>\n",
       "      <td>114.97387</td>\n",
       "      <td>112.256532</td>\n",
       "      <td>None</td>\n",
       "    </tr>\n",
       "  </tbody>\n",
       "</table>\n",
       "<p>7880 rows × 6 columns</p>\n",
       "</div>"
      ],
      "text/plain": [
       "                    days_passed     price         vert_barrier top_barrier  \\\n",
       "time                                                                         \n",
       "2018-09-28 07:00:00           1     224.0  2018-10-02 08:00:00  226.622563   \n",
       "2018-09-28 08:00:00           2    223.92  2018-10-02 09:00:00  225.786071   \n",
       "2018-09-28 09:00:00           3     224.7  2018-10-02 10:00:00   227.25238   \n",
       "2018-09-28 10:00:00           4    224.74  2018-10-02 11:00:00  226.894404   \n",
       "2018-09-28 11:00:00           5  225.5703  2018-10-02 12:00:00  227.897485   \n",
       "...                         ...       ...                  ...         ...   \n",
       "2020-09-16 16:00:00        7876    112.13                  NaN  114.554102   \n",
       "2020-09-16 17:00:00        7877    112.54                  NaN  114.989288   \n",
       "2020-09-16 18:00:00        7878     112.7                  NaN  115.071154   \n",
       "2020-09-16 19:00:00        7879    112.71                  NaN  114.974653   \n",
       "2020-09-16 20:00:00        7880     112.8                  NaN   114.97387   \n",
       "\n",
       "                    bottom_barrier   out  \n",
       "time                                      \n",
       "2018-09-28 07:00:00     223.344359     1  \n",
       "2018-09-28 08:00:00     223.453482     1  \n",
       "2018-09-28 09:00:00     224.061905     1  \n",
       "2018-09-28 10:00:00     224.201399     1  \n",
       "2018-09-28 11:00:00     224.988504     1  \n",
       "...                            ...   ...  \n",
       "2020-09-16 16:00:00     111.523974  None  \n",
       "2020-09-16 17:00:00     111.927678  None  \n",
       "2020-09-16 18:00:00     112.107212  None  \n",
       "2020-09-16 19:00:00     112.143837  None  \n",
       "2020-09-16 20:00:00     112.256532  None  \n",
       "\n",
       "[7880 rows x 6 columns]"
      ]
     },
     "execution_count": 17,
     "metadata": {},
     "output_type": "execute_result"
    }
   ],
   "source": [
    "barriers['vert_barrier'] = barriers['vert_barrier'].map(lambda x:x)\n",
    "barriers"
   ]
  },
  {
   "cell_type": "code",
   "execution_count": 18,
   "id": "unable-humanity",
   "metadata": {},
   "outputs": [
    {
     "data": {
      "text/plain": [
       "-1.000000    3730\n",
       " 1.000000    3610\n",
       " 2.361610       1\n",
       " 2.785198       1\n",
       "-0.363894       1\n",
       "             ... \n",
       " 1.816818       1\n",
       " 1.226015       1\n",
       " 1.772707       1\n",
       " 0.981088       1\n",
       " 0.568193       1\n",
       "Name: out, Length: 511, dtype: int64"
      ]
     },
     "execution_count": 18,
     "metadata": {},
     "output_type": "execute_result"
    }
   ],
   "source": [
    "barriers.out.value_counts()"
   ]
  },
  {
   "cell_type": "code",
   "execution_count": 371,
   "id": "metallic-module",
   "metadata": {},
   "outputs": [
    {
     "data": {
      "image/png": "[encoded data removed]",
      "text/plain": [
       "<Figure size 432x288 with 1 Axes>"
      ]
     },
     "metadata": {
      "needs_background": "light"
     },
     "output_type": "display_data"
    }
   ],
   "source": [
    "fig,ax = plt.subplots()\n",
    "ax.set(title=barriers.out.iloc[10],\n",
    "       xlabel='date', ylabel='price')\n",
    "ax.plot(barriers.price[10: 20])\n",
    "start = barriers.index[10]\n",
    "end = barriers.vert_barrier[10]\n",
    "upper_barrier = barriers.top_barrier[10]\n",
    "lower_barrier = barriers.bottom_barrier[10]\n",
    "ax.plot([start, end], [upper_barrier, upper_barrier], 'r--');\n",
    "ax.plot([start, end], [lower_barrier, lower_barrier], 'r--');\n",
    "ax.plot([start, end], [(lower_barrier + upper_barrier)*0.5, \\\n",
    "                       (lower_barrier + upper_barrier)*0.5], 'r--');\n",
    "ax.plot([start, start], [lower_barrier, upper_barrier], 'r-');\n",
    "ax.plot([end, end], [lower_barrier, upper_barrier], 'r-');"
   ]
  },
  {
   "cell_type": "code",
   "execution_count": 372,
   "id": "academic-windsor",
   "metadata": {},
   "outputs": [],
   "source": [
    "def getWeights(d,size):\n",
    "    # thres>0 drops insignificant weights\n",
    "    w=[1.]\n",
    "    for k in range(1,size):\n",
    "        w_ = -w[-1]/k*(d-k+1)\n",
    "        w.append(w_)\n",
    "    w=np.array(w[::-1]).reshape(-1,1)\n",
    "    return w \n",
    "\n",
    "#getWeights(0.1, s_.shape[0])"
   ]
  },
  {
   "cell_type": "code",
   "execution_count": 373,
   "id": "tight-kingdom",
   "metadata": {},
   "outputs": [],
   "source": [
    "#getWeights(0.1, barriers.price.shape[0])"
   ]
  },
  {
   "cell_type": "code",
   "execution_count": 374,
   "id": "affecting-isolation",
   "metadata": {},
   "outputs": [],
   "source": [
    " def fracDiff(series, d, thres=0.01):\n",
    "    '''\n",
    "    Increasing width window, with treatment of NaNs\n",
    "    Note 1: For thres=1, nothing is skipped\n",
    "    Note 2: d can be any positive fractional, not necessarily\n",
    "        bounded between [0,1]\n",
    "    '''\n",
    "    #1) Compute weights for the longest series\n",
    "    w=getWeights(d, series.shape[0])\n",
    "    #bp()\n",
    "    #2) Determine initial calcs to be skipped based on weight-loss threshold\n",
    "    w_=np.cumsum(abs(w))\n",
    "    w_ /= w_[-1]\n",
    "    skip = w_[w_>thres].shape[0]\n",
    "    #3) Apply weights to values\n",
    "    df={}\n",
    "    for name in series.columns:\n",
    "        seriesF, df_=series[[name]].fillna(method='ffill').dropna(), pd.Series()\n",
    "        for iloc in range(skip, seriesF.shape[0]):\n",
    "            loc=seriesF.index[iloc]\n",
    "            test_val = series.loc[loc,name] # must resample if duplicate index\n",
    "            if isinstance(test_val, (pd.Series, pd.DataFrame)):\n",
    "                test_val = test_val.resample('1m').mean()\n",
    "            if not np.isfinite(test_val).any(): continue # exclude NAs\n",
    "            try:\n",
    "                df_.loc[loc]=np.dot(w[-(iloc+1):,:].T, seriesF.loc[:loc])[0,0]\n",
    "            except:\n",
    "                continue\n",
    "        df[name]=df_.copy(deep=True)\n",
    "    df=pd.concat(df,axis=1)\n",
    "    return df"
   ]
  },
  {
   "cell_type": "code",
   "execution_count": 377,
   "id": "crucial-internet",
   "metadata": {},
   "outputs": [],
   "source": [
    "f_d = fracDiff(data[['close']], 0.5)"
   ]
  },
  {
   "cell_type": "code",
   "execution_count": null,
   "id": "chronic-hayes",
   "metadata": {},
   "outputs": [],
   "source": []
  },
  {
   "cell_type": "code",
   "execution_count": 378,
   "id": "saving-nicaragua",
   "metadata": {},
   "outputs": [
    {
     "data": {
      "text/plain": [
       "((7880,), (7420, 1))"
      ]
     },
     "execution_count": 378,
     "metadata": {},
     "output_type": "execute_result"
    }
   ],
   "source": [
    "barriers.price.shape, f_d.shape"
   ]
  },
  {
   "cell_type": "code",
   "execution_count": null,
   "id": "interesting-fossil",
   "metadata": {},
   "outputs": [],
   "source": []
  },
  {
   "cell_type": "code",
   "execution_count": 380,
   "id": "fewer-ideal",
   "metadata": {},
   "outputs": [],
   "source": [
    "#dropped_date = data.drop('date',axis=1)"
   ]
  },
  {
   "cell_type": "code",
   "execution_count": 105,
   "id": "crude-staff",
   "metadata": {},
   "outputs": [],
   "source": [
    "from sklearn.preprocessing import StandardScaler\n",
    "from sklearn.metrics import accuracy_score\n",
    "scale = StandardScaler()\n",
    "scaled_data = scale.fit_transform(dropped_date)"
   ]
  },
  {
   "cell_type": "code",
   "execution_count": 106,
   "id": "d4eac65f",
   "metadata": {},
   "outputs": [],
   "source": [
    "scale_data = pd.DataFrame(scaled_data,columns=dropped_date.columns)"
   ]
  },
  {
   "cell_type": "code",
   "execution_count": 107,
   "id": "32baec19",
   "metadata": {},
   "outputs": [],
   "source": [
    "scale_data.index = data.index"
   ]
  },
  {
   "cell_type": "code",
   "execution_count": null,
   "id": "c390a79e",
   "metadata": {},
   "outputs": [],
   "source": []
  },
  {
   "cell_type": "code",
   "execution_count": 381,
   "id": "b3c8584c",
   "metadata": {},
   "outputs": [],
   "source": [
    "labels = barriers.dropna()[['out']].applymap(lambda x: int(1) if x>=0.5 else int(0))"
   ]
  },
  {
   "cell_type": "code",
   "execution_count": 383,
   "id": "7bdcc86b",
   "metadata": {},
   "outputs": [
    {
     "ename": "NameError",
     "evalue": "name 'scale_data' is not defined",
     "output_type": "error",
     "traceback": [
      "\u001b[0;31m---------------------------------------------------------------------------\u001b[0m",
      "\u001b[0;31mNameError\u001b[0m                                 Traceback (most recent call last)",
      "\u001b[0;32m/var/folders/tp/r9md9jss78nf28s4cq7vcg580000gn/T/ipykernel_11901/3882347287.py\u001b[0m in \u001b[0;36m<module>\u001b[0;34m\u001b[0m\n\u001b[0;32m----> 1\u001b[0;31m \u001b[0mfinal_data\u001b[0m \u001b[0;34m=\u001b[0m \u001b[0mpd\u001b[0m\u001b[0;34m.\u001b[0m\u001b[0mconcat\u001b[0m\u001b[0;34m(\u001b[0m\u001b[0;34m[\u001b[0m\u001b[0mscale_data\u001b[0m\u001b[0;34m,\u001b[0m\u001b[0mlabels\u001b[0m\u001b[0;34m]\u001b[0m\u001b[0;34m,\u001b[0m\u001b[0maxis\u001b[0m\u001b[0;34m=\u001b[0m\u001b[0;36m1\u001b[0m\u001b[0;34m)\u001b[0m\u001b[0;34m.\u001b[0m\u001b[0mdropna\u001b[0m\u001b[0;34m(\u001b[0m\u001b[0;34m)\u001b[0m\u001b[0;34m\u001b[0m\u001b[0;34m\u001b[0m\u001b[0m\n\u001b[0m\u001b[1;32m      2\u001b[0m \u001b[0;31m#final_data.out = final_data.out.astype('int64')\u001b[0m\u001b[0;34m\u001b[0m\u001b[0;34m\u001b[0m\u001b[0;34m\u001b[0m\u001b[0m\n",
      "\u001b[0;31mNameError\u001b[0m: name 'scale_data' is not defined"
     ]
    }
   ],
   "source": [
    "final_data = pd.concat([scale_data,labels],axis=1).dropna()\n",
    "#final_data.out = final_data.out.astype('int64')"
   ]
  },
  {
   "cell_type": "code",
   "execution_count": 111,
   "id": "0936c36e",
   "metadata": {},
   "outputs": [
    {
     "data": {
      "text/plain": [
       "0    165\n",
       "1    138\n",
       "Name: out, dtype: int64"
      ]
     },
     "execution_count": 111,
     "metadata": {},
     "output_type": "execute_result"
    }
   ],
   "source": [
    "final_data.out.value_counts()"
   ]
  },
  {
   "cell_type": "code",
   "execution_count": 32,
   "id": "9a19bae6",
   "metadata": {},
   "outputs": [],
   "source": [
    "final_data.to_csv('/Users/abhijitdeshpande/Documents/Project Files/Data Files/'+name+'.csv',index=False)"
   ]
  },
  {
   "cell_type": "code",
   "execution_count": 33,
   "id": "ad4d38dc",
   "metadata": {},
   "outputs": [
    {
     "data": {
      "text/plain": [
       "(303, 70)"
      ]
     },
     "execution_count": 33,
     "metadata": {},
     "output_type": "execute_result"
    }
   ],
   "source": [
    "final_data.shape"
   ]
  },
  {
   "cell_type": "code",
   "execution_count": 16,
   "id": "65da7018",
   "metadata": {},
   "outputs": [],
   "source": [
    "import talib as ta\n",
    "from talib import abstract"
   ]
  },
  {
   "cell_type": "code",
   "execution_count": 17,
   "id": "1ab6fdae",
   "metadata": {},
   "outputs": [],
   "source": [
    "t = ['MA','BBANDS','CMO','RSI', 'MACD','AROONOSC','ADX','CCI']"
   ]
  },
  {
   "cell_type": "code",
   "execution_count": 18,
   "id": "4acce2cb",
   "metadata": {},
   "outputs": [],
   "source": [
    "df = data.copy()"
   ]
  },
  {
   "cell_type": "code",
   "execution_count": 19,
   "id": "a739f8bb",
   "metadata": {},
   "outputs": [],
   "source": [
    "df['MA'] = abstract.MA(data)"
   ]
  },
  {
   "cell_type": "code",
   "execution_count": 20,
   "id": "3920d28c",
   "metadata": {},
   "outputs": [],
   "source": [
    "df['CMO'] = abstract.CMO(data)"
   ]
  },
  {
   "cell_type": "code",
   "execution_count": 21,
   "id": "09e10906",
   "metadata": {},
   "outputs": [],
   "source": [
    "df['RSI'] = abstract.RSI(data)\n",
    "df['AROONOSC'] = abstract.AROONOSC(data)\n",
    "df['ADX'] = abstract.ADX(data)\n",
    "df['CCI'] = abstract.CCI(data)"
   ]
  },
  {
   "cell_type": "code",
   "execution_count": 22,
   "id": "061239ca",
   "metadata": {},
   "outputs": [],
   "source": [
    "df[['upperband', 'middleband', 'lowerband']] = abstract.BBANDS(data)"
   ]
  },
  {
   "cell_type": "code",
   "execution_count": 23,
   "id": "918b666b",
   "metadata": {},
   "outputs": [],
   "source": [
    "df[['macd', 'macdsignal', 'macdhist']] = abstract.MACD(data)"
   ]
  },
  {
   "cell_type": "code",
   "execution_count": 24,
   "id": "1c872fc3",
   "metadata": {},
   "outputs": [],
   "source": [
    "df.dropna(inplace=True)"
   ]
  },
  {
   "cell_type": "code",
   "execution_count": 25,
   "id": "03117c3e",
   "metadata": {},
   "outputs": [
    {
     "ename": "NameError",
     "evalue": "name 'labels' is not defined",
     "output_type": "error",
     "traceback": [
      "\u001b[0;31m---------------------------------------------------------------------------\u001b[0m",
      "\u001b[0;31mNameError\u001b[0m                                 Traceback (most recent call last)",
      "\u001b[0;32m/var/folders/tp/r9md9jss78nf28s4cq7vcg580000gn/T/ipykernel_5170/4002759741.py\u001b[0m in \u001b[0;36m<module>\u001b[0;34m\u001b[0m\n\u001b[0;32m----> 1\u001b[0;31m \u001b[0mfinal_data\u001b[0m \u001b[0;34m=\u001b[0m \u001b[0mpd\u001b[0m\u001b[0;34m.\u001b[0m\u001b[0mconcat\u001b[0m\u001b[0;34m(\u001b[0m\u001b[0;34m[\u001b[0m\u001b[0mdf\u001b[0m\u001b[0;34m,\u001b[0m\u001b[0mlabels\u001b[0m\u001b[0;34m]\u001b[0m\u001b[0;34m,\u001b[0m\u001b[0maxis\u001b[0m\u001b[0;34m=\u001b[0m\u001b[0;36m1\u001b[0m\u001b[0;34m)\u001b[0m\u001b[0;34m\u001b[0m\u001b[0;34m\u001b[0m\u001b[0m\n\u001b[0m",
      "\u001b[0;31mNameError\u001b[0m: name 'labels' is not defined"
     ]
    }
   ],
   "source": [
    "final_data = pd.concat([df,labels],axis=1)"
   ]
  },
  {
   "cell_type": "code",
   "execution_count": 26,
   "id": "e57b249b",
   "metadata": {},
   "outputs": [
    {
     "ename": "NameError",
     "evalue": "name 'final_data' is not defined",
     "output_type": "error",
     "traceback": [
      "\u001b[0;31m---------------------------------------------------------------------------\u001b[0m",
      "\u001b[0;31mNameError\u001b[0m                                 Traceback (most recent call last)",
      "\u001b[0;32m/var/folders/tp/r9md9jss78nf28s4cq7vcg580000gn/T/ipykernel_5170/325702340.py\u001b[0m in \u001b[0;36m<module>\u001b[0;34m\u001b[0m\n\u001b[0;32m----> 1\u001b[0;31m \u001b[0mfinal_data\u001b[0m\u001b[0;34m.\u001b[0m\u001b[0mdropna\u001b[0m\u001b[0;34m(\u001b[0m\u001b[0minplace\u001b[0m\u001b[0;34m=\u001b[0m\u001b[0;32mTrue\u001b[0m\u001b[0;34m)\u001b[0m\u001b[0;34m\u001b[0m\u001b[0;34m\u001b[0m\u001b[0m\n\u001b[0m",
      "\u001b[0;31mNameError\u001b[0m: name 'final_data' is not defined"
     ]
    }
   ],
   "source": [
    "final_data.dropna(inplace=True)"
   ]
  },
  {
   "cell_type": "code",
   "execution_count": 27,
   "id": "1948b441",
   "metadata": {},
   "outputs": [
    {
     "ename": "NameError",
     "evalue": "name 'final_data' is not defined",
     "output_type": "error",
     "traceback": [
      "\u001b[0;31m---------------------------------------------------------------------------\u001b[0m",
      "\u001b[0;31mNameError\u001b[0m                                 Traceback (most recent call last)",
      "\u001b[0;32m/var/folders/tp/r9md9jss78nf28s4cq7vcg580000gn/T/ipykernel_5170/2268861796.py\u001b[0m in \u001b[0;36m<module>\u001b[0;34m\u001b[0m\n\u001b[0;32m----> 1\u001b[0;31m \u001b[0mfinal_data\u001b[0m\u001b[0;34m.\u001b[0m\u001b[0mout\u001b[0m \u001b[0;34m=\u001b[0m \u001b[0mfinal_data\u001b[0m\u001b[0;34m.\u001b[0m\u001b[0mout\u001b[0m\u001b[0;34m.\u001b[0m\u001b[0mastype\u001b[0m\u001b[0;34m(\u001b[0m\u001b[0;34m'int64'\u001b[0m\u001b[0;34m)\u001b[0m\u001b[0;34m\u001b[0m\u001b[0;34m\u001b[0m\u001b[0m\n\u001b[0m",
      "\u001b[0;31mNameError\u001b[0m: name 'final_data' is not defined"
     ]
    }
   ],
   "source": [
    "final_data.out = final_data.out.astype('int64')"
   ]
  },
  {
   "cell_type": "code",
   "execution_count": 451,
   "id": "2e633b2c",
   "metadata": {},
   "outputs": [],
   "source": [
    "final_data.to_csv('/Users/abhijitdeshpande/Documents/Project Files/Full Hourly Data/AAPL.csv',index=False)"
   ]
  },
  {
   "cell_type": "code",
   "execution_count": null,
   "id": "7d96cdd2",
   "metadata": {},
   "outputs": [],
   "source": []
  },
  {
   "cell_type": "code",
   "execution_count": null,
   "id": "a8ab7f0f",
   "metadata": {},
   "outputs": [],
   "source": []
  },
  {
   "cell_type": "code",
   "execution_count": null,
   "id": "53674441",
   "metadata": {},
   "outputs": [],
   "source": []
  }
 ],
 "metadata": {
  "kernelspec": {
   "display_name": "Python 3 (ipykernel)",
   "language": "python",
   "name": "python3"
  },
  "language_info": {
   "codemirror_mode": {
    "name": "ipython",
    "version": 3
   },
   "file_extension": ".py",
   "mimetype": "text/x-python",
   "name": "python",
   "nbconvert_exporter": "python",
   "pygments_lexer": "ipython3",
   "version": "3.8.11"
  }
 },
 "nbformat": 4,
 "nbformat_minor": 5
}
