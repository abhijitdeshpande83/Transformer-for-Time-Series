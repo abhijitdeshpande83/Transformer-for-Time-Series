{
 "cells": [
  {
   "cell_type": "code",
   "execution_count": 1,
   "id": "c7f96b38",
   "metadata": {},
   "outputs": [],
   "source": [
    "import nltk\n",
    "from nltk.stem.porter import PorterStemmer\n",
    "import numpy as np\n",
    "from sklearn.metrics import accuracy_score\n",
    "import matplotlib.pyplot as plt\n",
    "import random\n",
    "from googlesearch import search\n",
    "import requests\n",
    "import json\n",
    "import webbrowser"
   ]
  },
  {
   "cell_type": "code",
   "execution_count": 2,
   "id": "26e68593",
   "metadata": {},
   "outputs": [],
   "source": [
    "stemmer = PorterStemmer()\n",
    "\n",
    "def tokenize(setence):\n",
    "    return nltk.word_tokenize(setence)\n",
    "\n",
    "def stem(word):\n",
    "    return stemmer.stem(word.lower()) \n",
    "\n",
    "def bag_of_words(tokenize_sentence, all_words):\n",
    "    tokenize_sentence = [stem(w) for w in tokenize_sentence]\n",
    "    bag = np.zeros(len(all_words))\n",
    "    for index, word in enumerate(all_words):\n",
    "        if word in tokenize_sentence:\n",
    "            bag[index] = 1.0\n",
    "    return bag"
   ]
  },
  {
   "cell_type": "code",
   "execution_count": null,
   "id": "3fbdcc3b",
   "metadata": {},
   "outputs": [],
   "source": []
  },
  {
   "cell_type": "code",
   "execution_count": null,
   "id": "547aa3d9",
   "metadata": {},
   "outputs": [],
   "source": []
  },
  {
   "cell_type": "code",
   "execution_count": 3,
   "id": "250e5c4a",
   "metadata": {},
   "outputs": [],
   "source": [
    "with open('content.json','r') as f:\n",
    "    contents = json.load(f)"
   ]
  },
  {
   "cell_type": "code",
   "execution_count": 4,
   "id": "cc311c29",
   "metadata": {},
   "outputs": [],
   "source": [
    "all_words = []\n",
    "tags = []\n",
    "xy = []"
   ]
  },
  {
   "cell_type": "code",
   "execution_count": 5,
   "id": "b4f33f5e",
   "metadata": {},
   "outputs": [],
   "source": [
    "for content in contents['intents']:\n",
    "    tag = content['tag']\n",
    "    tags.append(tag)\n",
    "    for pattern in content['patterns']:\n",
    "        w = tokenize(pattern)\n",
    "        all_words.extend(w)\n",
    "        xy.append((w,tag))"
   ]
  },
  {
   "cell_type": "code",
   "execution_count": 6,
   "id": "5fcc6d90",
   "metadata": {},
   "outputs": [],
   "source": [
    "ignore = ['!','?','.',',','/','@','$','%','&']"
   ]
  },
  {
   "cell_type": "code",
   "execution_count": 7,
   "id": "47126355",
   "metadata": {},
   "outputs": [],
   "source": [
    "all_words = [stem(w) for w in all_words if w not in ignore]"
   ]
  },
  {
   "cell_type": "code",
   "execution_count": 8,
   "id": "35edae4e",
   "metadata": {},
   "outputs": [],
   "source": [
    "all_words = sorted(set(all_words))\n",
    "tags = sorted(set(tags))"
   ]
  },
  {
   "cell_type": "code",
   "execution_count": 9,
   "id": "18ea012e",
   "metadata": {},
   "outputs": [],
   "source": [
    "x_train, y_train = [], []\n",
    "for pattern, tag in xy:\n",
    "    x_train.append(bag_of_words(pattern,all_words))    \n",
    "    y_train.append(tags.index(tag))"
   ]
  },
  {
   "cell_type": "code",
   "execution_count": 10,
   "id": "27def957",
   "metadata": {},
   "outputs": [],
   "source": [
    "x_train = np.array(x_train)\n",
    "y_train = np.array(y_train)"
   ]
  },
  {
   "cell_type": "code",
   "execution_count": 11,
   "id": "8f2d99cc",
   "metadata": {},
   "outputs": [],
   "source": [
    "import torch\n",
    "import torch.nn as nn\n",
    "from torch.utils.data import Dataset, DataLoader"
   ]
  },
  {
   "cell_type": "code",
   "execution_count": 12,
   "id": "371a138a",
   "metadata": {},
   "outputs": [],
   "source": [
    "class ChatBotData(Dataset):\n",
    "    \n",
    "    def __init__(self):\n",
    "        self.length = len(x_train)\n",
    "        self.data = x_train\n",
    "        self.labels = y_train\n",
    "    \n",
    "    def __getitem__(self, index):\n",
    "        return self.data[index], self.labels[index]\n",
    "    \n",
    "    def __len__(self):\n",
    "        return self.length"
   ]
  },
  {
   "cell_type": "code",
   "execution_count": null,
   "id": "6e8e7c0e",
   "metadata": {},
   "outputs": [],
   "source": []
  },
  {
   "cell_type": "code",
   "execution_count": 13,
   "id": "8b840ef4",
   "metadata": {},
   "outputs": [],
   "source": [
    "data = ChatBotData()\n",
    "train_loader = DataLoader(dataset=data, batch_size=4, shuffle=True)"
   ]
  },
  {
   "cell_type": "code",
   "execution_count": 14,
   "id": "52f75f10",
   "metadata": {},
   "outputs": [],
   "source": [
    "def get_activation(activation):\n",
    "    return activation()"
   ]
  },
  {
   "cell_type": "code",
   "execution_count": 15,
   "id": "d0728259",
   "metadata": {},
   "outputs": [],
   "source": [
    "class NeuralNet(nn.Module):\n",
    "    \n",
    "    def __init__(self, input_size, hidden_size, n_class, activation):\n",
    "        super(NeuralNet,self).__init__()\n",
    "        self.l1 = nn.Linear(input_size,hidden_size)\n",
    "        self.l2 = nn.Linear(hidden_size,hidden_size)\n",
    "        self.l3 = nn.Linear(hidden_size,n_class)\n",
    "        self.activation = get_activation(activation)\n",
    "        \n",
    "    def forward(self, x):\n",
    "        out = self.l1(x)\n",
    "        out = self.activation(out)\n",
    "        out = self.l2(out)\n",
    "        out = self.activation(out)\n",
    "        out = self.l3(out)\n",
    "        \n",
    "        return out"
   ]
  },
  {
   "cell_type": "code",
   "execution_count": null,
   "id": "549ed62e",
   "metadata": {},
   "outputs": [],
   "source": []
  },
  {
   "cell_type": "code",
   "execution_count": 16,
   "id": "ba6a4446",
   "metadata": {},
   "outputs": [],
   "source": [
    "input_size = x_train.shape[1]\n",
    "hidden_size = 256\n",
    "n_class = len(tags)"
   ]
  },
  {
   "cell_type": "code",
   "execution_count": 17,
   "id": "65110027",
   "metadata": {},
   "outputs": [],
   "source": [
    "model = NeuralNet(input_size,hidden_size,n_class,nn.ReLU)"
   ]
  },
  {
   "cell_type": "code",
   "execution_count": 18,
   "id": "e7c658da",
   "metadata": {},
   "outputs": [],
   "source": [
    "class train_model():\n",
    "    \n",
    "    def __init__(self,model):\n",
    "        self.model = model\n",
    "        self.training_loss = []\n",
    "        \n",
    "    def compile(self, lr=1e-3, loss=nn.CrossEntropyLoss(),optimizer=torch.optim.Adam):  \n",
    "        self.loss_module = loss\n",
    "        self.optimizer = optimizer(self.model.parameters(),lr=lr)\n",
    "   \n",
    "    def fit(self, train_loader):\n",
    "\n",
    "        self.model = self.model.train()\n",
    "        total_loss = 0\n",
    "        total_batch_accuracy = 0\n",
    "\n",
    "        for i, batch in enumerate(train_loader):\n",
    "            x_train, y_train = batch\n",
    "            prediction = self.model(x_train.float())\n",
    "            loss = self.loss_module(prediction, y_train)\n",
    "            self.optimizer.zero_grad()\n",
    "            loss.backward()\n",
    "            torch.nn.utils.clip_grad_norm_(self.model.parameters(), max_norm=4.0)\n",
    "            self.optimizer.step()\n",
    "\n",
    "            total_loss += loss\n",
    "            mean_batch_loss = total_loss/(i+1)\n",
    "\n",
    "            predictions = torch.argmax(prediction, 1)\n",
    "            batch_accuracy = accuracy_score(y_train, predictions)\n",
    "\n",
    "            \n",
    "            total_batch_accuracy += batch_accuracy \n",
    "            mean_bach_accuracy = total_batch_accuracy/(i+1)\n",
    "            \n",
    "        return mean_batch_loss.detach().numpy(), mean_bach_accuracy\n",
    "        \n",
    "         \n",
    "    def train(self,train_loader,epochs=100,verbose=True,return_loss=True,early_stopping=10):\n",
    "               \n",
    "        best_loss = np.inf\n",
    "        early_stop_counter = 0\n",
    "        \n",
    "        for epoch in range(epochs):\n",
    "    \n",
    "            loss, batch_accuracy = self.fit(train_loader)\n",
    "            \n",
    "            self.training_loss.append(loss)\n",
    "          \n",
    "            \n",
    "            \n",
    "            if verbose:\n",
    "                print('\\033[94m'+'Epoch: {}'.format(epoch)+'\\033[0m'+' {}%'.format(round(batch_accuracy*100,3)),\n",
    "                  '\\033[91m'+'loss:'+'\\033[0m'+' {}'.format(round(float(loss),4)),\n",
    "                 # '\\033[94m Val:'+'\\033[0m'+' {}'.format(round(val_batch_accuracy*100,3)),\n",
    "                  #'\\033[91m'+'val_loss:'+'\\033[0m'+' {}'.format(round(float(val_loss),4))\n",
    "                 )\n",
    "      \n",
    "\n",
    "        if return_loss:\n",
    "            plt.plot(self.training_loss)\n",
    "        \n",
    "    def predict(self):\n",
    "        pass"
   ]
  },
  {
   "cell_type": "code",
   "execution_count": 19,
   "id": "43fb7153",
   "metadata": {},
   "outputs": [],
   "source": [
    "model_train = train_model(model)"
   ]
  },
  {
   "cell_type": "code",
   "execution_count": 20,
   "id": "7468f475",
   "metadata": {},
   "outputs": [],
   "source": [
    "model_train.compile()"
   ]
  },
  {
   "cell_type": "code",
   "execution_count": 21,
   "id": "0c37d7be",
   "metadata": {},
   "outputs": [
    {
     "name": "stdout",
     "output_type": "stream",
     "text": [
      "\u001b[94mEpoch: 0\u001b[0m 4.31% \u001b[91mloss:\u001b[0m 3.4319\n",
      "\u001b[94mEpoch: 1\u001b[0m 18.103% \u001b[91mloss:\u001b[0m 3.295\n",
      "\u001b[94mEpoch: 2\u001b[0m 26.724% \u001b[91mloss:\u001b[0m 3.0695\n",
      "\u001b[94mEpoch: 3\u001b[0m 25.0% \u001b[91mloss:\u001b[0m 2.7155\n",
      "\u001b[94mEpoch: 4\u001b[0m 45.69% \u001b[91mloss:\u001b[0m 2.2452\n",
      "\u001b[94mEpoch: 5\u001b[0m 59.483% \u001b[91mloss:\u001b[0m 1.6706\n",
      "\u001b[94mEpoch: 6\u001b[0m 68.966% \u001b[91mloss:\u001b[0m 1.2794\n",
      "\u001b[94mEpoch: 7\u001b[0m 84.483% \u001b[91mloss:\u001b[0m 0.9263\n",
      "\u001b[94mEpoch: 8\u001b[0m 92.241% \u001b[91mloss:\u001b[0m 0.6564\n",
      "\u001b[94mEpoch: 9\u001b[0m 93.103% \u001b[91mloss:\u001b[0m 0.5056\n",
      "\u001b[94mEpoch: 10\u001b[0m 96.552% \u001b[91mloss:\u001b[0m 0.3454\n",
      "\u001b[94mEpoch: 11\u001b[0m 98.276% \u001b[91mloss:\u001b[0m 0.2312\n",
      "\u001b[94mEpoch: 12\u001b[0m 97.414% \u001b[91mloss:\u001b[0m 0.1634\n",
      "\u001b[94mEpoch: 13\u001b[0m 97.414% \u001b[91mloss:\u001b[0m 0.1192\n",
      "\u001b[94mEpoch: 14\u001b[0m 98.276% \u001b[91mloss:\u001b[0m 0.0925\n",
      "\u001b[94mEpoch: 15\u001b[0m 99.138% \u001b[91mloss:\u001b[0m 0.0696\n",
      "\u001b[94mEpoch: 16\u001b[0m 98.276% \u001b[91mloss:\u001b[0m 0.0714\n",
      "\u001b[94mEpoch: 17\u001b[0m 99.138% \u001b[91mloss:\u001b[0m 0.0557\n",
      "\u001b[94mEpoch: 18\u001b[0m 98.276% \u001b[91mloss:\u001b[0m 0.0606\n",
      "\u001b[94mEpoch: 19\u001b[0m 99.138% \u001b[91mloss:\u001b[0m 0.0437\n",
      "\u001b[94mEpoch: 20\u001b[0m 98.276% \u001b[91mloss:\u001b[0m 0.0361\n",
      "\u001b[94mEpoch: 21\u001b[0m 99.138% \u001b[91mloss:\u001b[0m 0.0378\n",
      "\u001b[94mEpoch: 22\u001b[0m 98.276% \u001b[91mloss:\u001b[0m 0.0423\n",
      "\u001b[94mEpoch: 23\u001b[0m 99.138% \u001b[91mloss:\u001b[0m 0.0349\n",
      "\u001b[94mEpoch: 24\u001b[0m 99.138% \u001b[91mloss:\u001b[0m 0.0412\n",
      "\u001b[94mEpoch: 25\u001b[0m 99.138% \u001b[91mloss:\u001b[0m 0.0392\n",
      "\u001b[94mEpoch: 26\u001b[0m 99.138% \u001b[91mloss:\u001b[0m 0.0407\n",
      "\u001b[94mEpoch: 27\u001b[0m 99.138% \u001b[91mloss:\u001b[0m 0.0263\n",
      "\u001b[94mEpoch: 28\u001b[0m 99.138% \u001b[91mloss:\u001b[0m 0.034\n",
      "\u001b[94mEpoch: 29\u001b[0m 99.138% \u001b[91mloss:\u001b[0m 0.0229\n",
      "\u001b[94mEpoch: 30\u001b[0m 98.276% \u001b[91mloss:\u001b[0m 0.0375\n",
      "\u001b[94mEpoch: 31\u001b[0m 98.276% \u001b[91mloss:\u001b[0m 0.0424\n",
      "\u001b[94mEpoch: 32\u001b[0m 99.138% \u001b[91mloss:\u001b[0m 0.0219\n",
      "\u001b[94mEpoch: 33\u001b[0m 99.138% \u001b[91mloss:\u001b[0m 0.0339\n",
      "\u001b[94mEpoch: 34\u001b[0m 98.276% \u001b[91mloss:\u001b[0m 0.0619\n",
      "\u001b[94mEpoch: 35\u001b[0m 99.138% \u001b[91mloss:\u001b[0m 0.0203\n",
      "\u001b[94mEpoch: 36\u001b[0m 98.276% \u001b[91mloss:\u001b[0m 0.0314\n",
      "\u001b[94mEpoch: 37\u001b[0m 98.276% \u001b[91mloss:\u001b[0m 0.0369\n",
      "\u001b[94mEpoch: 38\u001b[0m 98.276% \u001b[91mloss:\u001b[0m 0.0212\n",
      "\u001b[94mEpoch: 39\u001b[0m 99.138% \u001b[91mloss:\u001b[0m 0.0236\n",
      "\u001b[94mEpoch: 40\u001b[0m 99.138% \u001b[91mloss:\u001b[0m 0.0203\n",
      "\u001b[94mEpoch: 41\u001b[0m 99.138% \u001b[91mloss:\u001b[0m 0.0185\n",
      "\u001b[94mEpoch: 42\u001b[0m 98.276% \u001b[91mloss:\u001b[0m 0.0227\n",
      "\u001b[94mEpoch: 43\u001b[0m 99.138% \u001b[91mloss:\u001b[0m 0.0291\n",
      "\u001b[94mEpoch: 44\u001b[0m 98.276% \u001b[91mloss:\u001b[0m 0.0285\n",
      "\u001b[94mEpoch: 45\u001b[0m 98.276% \u001b[91mloss:\u001b[0m 0.0449\n",
      "\u001b[94mEpoch: 46\u001b[0m 98.276% \u001b[91mloss:\u001b[0m 0.0474\n",
      "\u001b[94mEpoch: 47\u001b[0m 98.276% \u001b[91mloss:\u001b[0m 0.0254\n",
      "\u001b[94mEpoch: 48\u001b[0m 98.276% \u001b[91mloss:\u001b[0m 0.0185\n",
      "\u001b[94mEpoch: 49\u001b[0m 98.276% \u001b[91mloss:\u001b[0m 0.0311\n",
      "\u001b[94mEpoch: 50\u001b[0m 98.276% \u001b[91mloss:\u001b[0m 0.0261\n",
      "\u001b[94mEpoch: 51\u001b[0m 99.138% \u001b[91mloss:\u001b[0m 0.0246\n",
      "\u001b[94mEpoch: 52\u001b[0m 98.276% \u001b[91mloss:\u001b[0m 0.0202\n",
      "\u001b[94mEpoch: 53\u001b[0m 99.138% \u001b[91mloss:\u001b[0m 0.022\n",
      "\u001b[94mEpoch: 54\u001b[0m 99.138% \u001b[91mloss:\u001b[0m 0.0155\n",
      "\u001b[94mEpoch: 55\u001b[0m 99.138% \u001b[91mloss:\u001b[0m 0.0216\n",
      "\u001b[94mEpoch: 56\u001b[0m 98.276% \u001b[91mloss:\u001b[0m 0.025\n",
      "\u001b[94mEpoch: 57\u001b[0m 98.276% \u001b[91mloss:\u001b[0m 0.0254\n",
      "\u001b[94mEpoch: 58\u001b[0m 98.276% \u001b[91mloss:\u001b[0m 0.0203\n",
      "\u001b[94mEpoch: 59\u001b[0m 99.138% \u001b[91mloss:\u001b[0m 0.0216\n",
      "\u001b[94mEpoch: 60\u001b[0m 99.138% \u001b[91mloss:\u001b[0m 0.0183\n",
      "\u001b[94mEpoch: 61\u001b[0m 98.276% \u001b[91mloss:\u001b[0m 0.0195\n",
      "\u001b[94mEpoch: 62\u001b[0m 98.276% \u001b[91mloss:\u001b[0m 0.0203\n",
      "\u001b[94mEpoch: 63\u001b[0m 99.138% \u001b[91mloss:\u001b[0m 0.0138\n",
      "\u001b[94mEpoch: 64\u001b[0m 98.276% \u001b[91mloss:\u001b[0m 0.0219\n",
      "\u001b[94mEpoch: 65\u001b[0m 99.138% \u001b[91mloss:\u001b[0m 0.0174\n",
      "\u001b[94mEpoch: 66\u001b[0m 99.138% \u001b[91mloss:\u001b[0m 0.0149\n",
      "\u001b[94mEpoch: 67\u001b[0m 99.138% \u001b[91mloss:\u001b[0m 0.017\n",
      "\u001b[94mEpoch: 68\u001b[0m 99.138% \u001b[91mloss:\u001b[0m 0.0178\n",
      "\u001b[94mEpoch: 69\u001b[0m 98.276% \u001b[91mloss:\u001b[0m 0.035\n",
      "\u001b[94mEpoch: 70\u001b[0m 99.138% \u001b[91mloss:\u001b[0m 0.016\n",
      "\u001b[94mEpoch: 71\u001b[0m 98.276% \u001b[91mloss:\u001b[0m 0.0242\n",
      "\u001b[94mEpoch: 72\u001b[0m 99.138% \u001b[91mloss:\u001b[0m 0.0164\n",
      "\u001b[94mEpoch: 73\u001b[0m 99.138% \u001b[91mloss:\u001b[0m 0.0163\n",
      "\u001b[94mEpoch: 74\u001b[0m 98.276% \u001b[91mloss:\u001b[0m 0.0177\n",
      "\u001b[94mEpoch: 75\u001b[0m 99.138% \u001b[91mloss:\u001b[0m 0.017\n",
      "\u001b[94mEpoch: 76\u001b[0m 98.276% \u001b[91mloss:\u001b[0m 0.0198\n",
      "\u001b[94mEpoch: 77\u001b[0m 96.552% \u001b[91mloss:\u001b[0m 0.0493\n",
      "\u001b[94mEpoch: 78\u001b[0m 99.138% \u001b[91mloss:\u001b[0m 0.0157\n",
      "\u001b[94mEpoch: 79\u001b[0m 99.138% \u001b[91mloss:\u001b[0m 0.0172\n",
      "\u001b[94mEpoch: 80\u001b[0m 99.138% \u001b[91mloss:\u001b[0m 0.0149\n",
      "\u001b[94mEpoch: 81\u001b[0m 99.138% \u001b[91mloss:\u001b[0m 0.0144\n",
      "\u001b[94mEpoch: 82\u001b[0m 99.138% \u001b[91mloss:\u001b[0m 0.0166\n",
      "\u001b[94mEpoch: 83\u001b[0m 98.276% \u001b[91mloss:\u001b[0m 0.0142\n",
      "\u001b[94mEpoch: 84\u001b[0m 99.138% \u001b[91mloss:\u001b[0m 0.0173\n",
      "\u001b[94mEpoch: 85\u001b[0m 98.276% \u001b[91mloss:\u001b[0m 0.0166\n",
      "\u001b[94mEpoch: 86\u001b[0m 98.276% \u001b[91mloss:\u001b[0m 0.0185\n",
      "\u001b[94mEpoch: 87\u001b[0m 99.138% \u001b[91mloss:\u001b[0m 0.0153\n",
      "\u001b[94mEpoch: 88\u001b[0m 98.276% \u001b[91mloss:\u001b[0m 0.0171\n",
      "\u001b[94mEpoch: 89\u001b[0m 98.276% \u001b[91mloss:\u001b[0m 0.0181\n",
      "\u001b[94mEpoch: 90\u001b[0m 98.276% \u001b[91mloss:\u001b[0m 0.0163\n",
      "\u001b[94mEpoch: 91\u001b[0m 98.276% \u001b[91mloss:\u001b[0m 0.0194\n",
      "\u001b[94mEpoch: 92\u001b[0m 99.138% \u001b[91mloss:\u001b[0m 0.0205\n",
      "\u001b[94mEpoch: 93\u001b[0m 99.138% \u001b[91mloss:\u001b[0m 0.014\n",
      "\u001b[94mEpoch: 94\u001b[0m 99.138% \u001b[91mloss:\u001b[0m 0.0149\n",
      "\u001b[94mEpoch: 95\u001b[0m 95.69% \u001b[91mloss:\u001b[0m 0.0538\n",
      "\u001b[94mEpoch: 96\u001b[0m 99.138% \u001b[91mloss:\u001b[0m 0.0169\n",
      "\u001b[94mEpoch: 97\u001b[0m 99.138% \u001b[91mloss:\u001b[0m 0.0149\n",
      "\u001b[94mEpoch: 98\u001b[0m 99.138% \u001b[91mloss:\u001b[0m 0.0144\n",
      "\u001b[94mEpoch: 99\u001b[0m 99.138% \u001b[91mloss:\u001b[0m 0.017\n"
     ]
    },
    {
     "data": {
      "image/png": "[encoded data removed]",
      "text/plain": [
       "<Figure size 432x288 with 1 Axes>"
      ]
     },
     "metadata": {
      "needs_background": "light"
     },
     "output_type": "display_data"
    }
   ],
   "source": [
    "model_train.train(train_loader)"
   ]
  },
  {
   "cell_type": "code",
   "execution_count": 22,
   "id": "91501d48",
   "metadata": {},
   "outputs": [
    {
     "data": {
      "text/plain": [
       "<All keys matched successfully>"
      ]
     },
     "execution_count": 22,
     "metadata": {},
     "output_type": "execute_result"
    }
   ],
   "source": [
    "model.load_state_dict(model.state_dict())"
   ]
  },
  {
   "cell_type": "code",
   "execution_count": 23,
   "id": "6a01e6ca",
   "metadata": {},
   "outputs": [
    {
     "data": {
      "text/plain": [
       "NeuralNet(\n",
       "  (l1): Linear(in_features=120, out_features=256, bias=True)\n",
       "  (l2): Linear(in_features=256, out_features=256, bias=True)\n",
       "  (l3): Linear(in_features=256, out_features=31, bias=True)\n",
       "  (activation): ReLU()\n",
       ")"
      ]
     },
     "execution_count": 23,
     "metadata": {},
     "output_type": "execute_result"
    }
   ],
   "source": [
    "model.eval()"
   ]
  },
  {
   "cell_type": "code",
   "execution_count": 105,
   "id": "7d0fe730",
   "metadata": {},
   "outputs": [],
   "source": [
    "def get_response(return_list,intents_json):\n",
    "    \n",
    "    if len(return_list)==0:\n",
    "        tag='noanswer'\n",
    "    else:    \n",
    "        tag=return_list[0]['intent']\n",
    "    if tag=='datetime':        \n",
    "        print(time.strftime(\"%A\"))\n",
    "        print (time.strftime(\"%d %B %Y\"))\n",
    "        print (time.strftime(\"%H:%M:%S\"))\n",
    "\n",
    "    if tag=='google':\n",
    "        query=input('Enter query...')\n",
    "        for url in search(query, tld=\"com\", num=1, stop = 1, pause = 2):\n",
    "            webbrowser.get('chrome').open_new_tab(\"https://google.com/search?q=%s\" % query)\n",
    "            \n",
    "    if tag=='weather':\n",
    "        api_key='4b2ebcea542908562c6acffd8b67522c'\n",
    "        base_url = \"http://api.openweathermap.org/data/2.5/weather?\"\n",
    "        city_name = input(\"Enter city name : \")\n",
    "        complete_url = base_url + \"appid=\" + api_key + \"&q=\" + city_name\n",
    "        response = requests.get(complete_url) \n",
    "        x=response.json()\n",
    "        print('Present temp.: ',round((x['main']['temp'] - 273.15) * 9/5 + 32,2),'Fahrenheitweather')\n",
    "        print('Feels Like:: ',round((x['main']['feels_like'] - 273.15) * 9/5 + 32,2),'Fahrenheit')\n",
    "        print(x['weather'][0]['main'])\n",
    "        \n",
    "    if tag=='news':\n",
    "        \n",
    "        main_url = \"https://gnews.io/api/v4/top-headlines?lang=en&country=us&token=fe0f83fece244fcacbe50315ad121b57\"\n",
    "        open_news_page = requests.get(main_url).json()\n",
    "        article = open_news_page[\"articles\"]\n",
    "        results = [] \n",
    "          \n",
    "        for ar in article: \n",
    "            results.append([ar[\"title\"],ar[\"url\"]]) \n",
    "          \n",
    "        for i in range(10): \n",
    "            print(i + 1, results[i][0])\n",
    "            print(results[i][1],'\\n')\n",
    "            \n",
    "\n",
    "    list_of_intents= intents_json['intents']    \n",
    "    for i in list_of_intents:\n",
    "        if tag==i['tag'] :\n",
    "            result= random.choice(i['responses'])\n",
    "    return print(result)\n",
    "\n"
   ]
  },
  {
   "cell_type": "code",
   "execution_count": 106,
   "id": "ca97c6be",
   "metadata": {},
   "outputs": [],
   "source": [
    "def predict(sentence,model):\n",
    "    sentence = tokenize(sentence)\n",
    "    x = bag_of_words(sentence,all_words)\n",
    "    x = x.reshape(1,x.shape[0])\n",
    "    x = torch.from_numpy(x)\n",
    "    \n",
    "    output = model(x.float())\n",
    "    prediction = torch.argmax(output, axis=1)\n",
    "    tag = tags[prediction.item()]\n",
    "    probs = torch.softmax(output,dim=1)\n",
    "    output_list=[[i,r] for i,r in enumerate(probs[0]) if r>0.7]\n",
    "    output_list.sort(key=lambda x: x[1],reverse=True)\n",
    "    suggetions = []\n",
    "    \n",
    "    for out in output_list:\n",
    "        suggetions.append({'intent':tags[out[0]],'prob':str(out[1].item())})\n",
    "    #return suggetions\n",
    "    probs = torch.softmax(output,dim=1)\n",
    "    prob = probs[0][prediction.item()]\n",
    "\n",
    "    if prob.item()>0.6:\n",
    "        for content in contents['intents']:\n",
    "            if tag == content['tag']:\n",
    "                print(f\"{bot_name}: {random.choice(content['responses'])}\")\n",
    "    else:\n",
    "        print(f\"{bot_name}: Sorry, I didn't get it.\")"
   ]
  },
  {
   "cell_type": "code",
   "execution_count": 111,
   "id": "8d651e4b",
   "metadata": {},
   "outputs": [
    {
     "name": "stdout",
     "output_type": "stream",
     "text": [
      "Jarvis: Hi, How may I help you today!\n",
      "You: Hey\n",
      "Jarvis: Hi, how may I help you today?\n",
      "You: How are you doing today\n",
      "Jarvis: All good..What about you?\n",
      "You: WHats up\n",
      "Jarvis: All good..What about you?\n",
      "You: Fuck you\n",
      "Jarvis: Sorry, I didn't get it.\n",
      "You: greetings\n",
      "Jarvis: Sorry, I didn't get it.\n",
      "You: google\n",
      "Jarvis: Redirecting to Google...\n",
      "You: whats the date today\n",
      "Jarvis: Date and Time\n",
      "You: datetime\n",
      "Jarvis: Sorry, I didn't get it.\n"
     ]
    },
    {
     "ename": "KeyboardInterrupt",
     "evalue": "Interrupted by user",
     "output_type": "error",
     "traceback": [
      "\u001b[0;31m---------------------------------------------------------------------------\u001b[0m",
      "\u001b[0;31mKeyboardInterrupt\u001b[0m                         Traceback (most recent call last)",
      "\u001b[0;32m/var/folders/tp/r9md9jss78nf28s4cq7vcg580000gn/T/ipykernel_4770/3742789348.py\u001b[0m in \u001b[0;36m<module>\u001b[0;34m\u001b[0m\n\u001b[1;32m      2\u001b[0m \u001b[0mprint\u001b[0m\u001b[0;34m(\u001b[0m\u001b[0;34mf'{bot_name}: Hi, How may I help you today!'\u001b[0m\u001b[0;34m)\u001b[0m\u001b[0;34m\u001b[0m\u001b[0;34m\u001b[0m\u001b[0m\n\u001b[1;32m      3\u001b[0m \u001b[0;32mwhile\u001b[0m \u001b[0;32mTrue\u001b[0m\u001b[0;34m:\u001b[0m\u001b[0;34m\u001b[0m\u001b[0;34m\u001b[0m\u001b[0m\n\u001b[0;32m----> 4\u001b[0;31m     \u001b[0msentence\u001b[0m \u001b[0;34m=\u001b[0m \u001b[0minput\u001b[0m\u001b[0;34m(\u001b[0m\u001b[0;34m'You: '\u001b[0m\u001b[0;34m)\u001b[0m\u001b[0;34m\u001b[0m\u001b[0;34m\u001b[0m\u001b[0m\n\u001b[0m\u001b[1;32m      5\u001b[0m     \u001b[0;32mif\u001b[0m \u001b[0msentence\u001b[0m \u001b[0;34m==\u001b[0m \u001b[0;34m'quit'\u001b[0m\u001b[0;34m:\u001b[0m\u001b[0;34m\u001b[0m\u001b[0;34m\u001b[0m\u001b[0m\n\u001b[1;32m      6\u001b[0m         \u001b[0mprint\u001b[0m\u001b[0;34m(\u001b[0m\u001b[0;34mf'{bot_name}: Have a great day, Thank you'\u001b[0m\u001b[0;34m)\u001b[0m\u001b[0;34m\u001b[0m\u001b[0;34m\u001b[0m\u001b[0m\n",
      "\u001b[0;32m~/opt/anaconda3/lib/python3.8/site-packages/ipykernel/kernelbase.py\u001b[0m in \u001b[0;36mraw_input\u001b[0;34m(self, prompt)\u001b[0m\n\u001b[1;32m   1004\u001b[0m                 \u001b[0;34m\"raw_input was called, but this frontend does not support input requests.\"\u001b[0m\u001b[0;34m\u001b[0m\u001b[0;34m\u001b[0m\u001b[0m\n\u001b[1;32m   1005\u001b[0m             )\n\u001b[0;32m-> 1006\u001b[0;31m         return self._input_request(\n\u001b[0m\u001b[1;32m   1007\u001b[0m             \u001b[0mstr\u001b[0m\u001b[0;34m(\u001b[0m\u001b[0mprompt\u001b[0m\u001b[0;34m)\u001b[0m\u001b[0;34m,\u001b[0m\u001b[0;34m\u001b[0m\u001b[0;34m\u001b[0m\u001b[0m\n\u001b[1;32m   1008\u001b[0m             \u001b[0mself\u001b[0m\u001b[0;34m.\u001b[0m\u001b[0m_parent_ident\u001b[0m\u001b[0;34m[\u001b[0m\u001b[0;34m\"shell\"\u001b[0m\u001b[0;34m]\u001b[0m\u001b[0;34m,\u001b[0m\u001b[0;34m\u001b[0m\u001b[0;34m\u001b[0m\u001b[0m\n",
      "\u001b[0;32m~/opt/anaconda3/lib/python3.8/site-packages/ipykernel/kernelbase.py\u001b[0m in \u001b[0;36m_input_request\u001b[0;34m(self, prompt, ident, parent, password)\u001b[0m\n\u001b[1;32m   1049\u001b[0m             \u001b[0;32mexcept\u001b[0m \u001b[0mKeyboardInterrupt\u001b[0m\u001b[0;34m:\u001b[0m\u001b[0;34m\u001b[0m\u001b[0;34m\u001b[0m\u001b[0m\n\u001b[1;32m   1050\u001b[0m                 \u001b[0;31m# re-raise KeyboardInterrupt, to truncate traceback\u001b[0m\u001b[0;34m\u001b[0m\u001b[0;34m\u001b[0m\u001b[0;34m\u001b[0m\u001b[0m\n\u001b[0;32m-> 1051\u001b[0;31m                 \u001b[0;32mraise\u001b[0m \u001b[0mKeyboardInterrupt\u001b[0m\u001b[0;34m(\u001b[0m\u001b[0;34m\"Interrupted by user\"\u001b[0m\u001b[0;34m)\u001b[0m \u001b[0;32mfrom\u001b[0m \u001b[0;32mNone\u001b[0m\u001b[0;34m\u001b[0m\u001b[0;34m\u001b[0m\u001b[0m\n\u001b[0m\u001b[1;32m   1052\u001b[0m             \u001b[0;32mexcept\u001b[0m \u001b[0mException\u001b[0m\u001b[0;34m:\u001b[0m\u001b[0;34m\u001b[0m\u001b[0;34m\u001b[0m\u001b[0m\n\u001b[1;32m   1053\u001b[0m                 \u001b[0mself\u001b[0m\u001b[0;34m.\u001b[0m\u001b[0mlog\u001b[0m\u001b[0;34m.\u001b[0m\u001b[0mwarning\u001b[0m\u001b[0;34m(\u001b[0m\u001b[0;34m\"Invalid Message:\"\u001b[0m\u001b[0;34m,\u001b[0m \u001b[0mexc_info\u001b[0m\u001b[0;34m=\u001b[0m\u001b[0;32mTrue\u001b[0m\u001b[0;34m)\u001b[0m\u001b[0;34m\u001b[0m\u001b[0;34m\u001b[0m\u001b[0m\n",
      "\u001b[0;31mKeyboardInterrupt\u001b[0m: Interrupted by user"
     ]
    }
   ],
   "source": [
    "bot_name = 'Jarvis'\n",
    "print(f'{bot_name}: Hi, How may I help you today!')\n",
    "while True:\n",
    "    sentence = input('You: ')\n",
    "    if sentence == 'quit':\n",
    "        print(f'{bot_name}: Have a great day, Thank you')\n",
    "        break\n",
    "        \n",
    "    predict(sentence,model)"
   ]
  },
  {
   "cell_type": "code",
   "execution_count": null,
   "id": "ef5569fd",
   "metadata": {},
   "outputs": [],
   "source": []
  },
  {
   "cell_type": "code",
   "execution_count": null,
   "id": "72850413",
   "metadata": {},
   "outputs": [],
   "source": []
  },
  {
   "cell_type": "code",
   "execution_count": null,
   "id": "c0b501ab",
   "metadata": {},
   "outputs": [],
   "source": []
  },
  {
   "cell_type": "code",
   "execution_count": null,
   "id": "72911320",
   "metadata": {},
   "outputs": [],
   "source": []
  },
  {
   "cell_type": "code",
   "execution_count": null,
   "id": "3d18073d",
   "metadata": {},
   "outputs": [],
   "source": [
    "'google':\n",
    "query=input('Enter query...')\n",
    "for url in search(query, tld=\"com\", num=1, stop = 1, pause = 2):\n",
    "    webbrowser.get('chrome').open_new_tab(\"https://google.com/search?q=%s\" % query)\n"
   ]
  },
  {
   "cell_type": "code",
   "execution_count": null,
   "id": "a3b70aca",
   "metadata": {},
   "outputs": [],
   "source": [
    "webbrowser.get('chrome').open_new_tab(\"https://google.com/search?q=%s\" % query)"
   ]
  },
  {
   "cell_type": "code",
   "execution_count": 137,
   "id": "50648d05",
   "metadata": {},
   "outputs": [
    {
     "name": "stdout",
     "output_type": "stream",
     "text": [
      "Enter city name : New Jersey\n"
     ]
    }
   ],
   "source": [
    "api_key='4b2ebcea542908562c6acffd8b67522c'\n",
    "base_url = \"http://api.openweathermap.org/data/2.5/weather?\"\n",
    "city_name = input(\"Enter city name : \")\n",
    "complete_url = base_url + \"appid=\" + api_key + \"&q=\" + city_name\n",
    "response = requests.get(complete_url) "
   ]
  },
  {
   "cell_type": "code",
   "execution_count": 138,
   "id": "84a44983",
   "metadata": {},
   "outputs": [],
   "source": [
    "x=response.json()"
   ]
  },
  {
   "cell_type": "code",
   "execution_count": 139,
   "id": "3226ba36",
   "metadata": {},
   "outputs": [],
   "source": [
    "def temp_change(x):\n",
    "    return ((9*(x-273))/5)+32\n"
   ]
  },
  {
   "cell_type": "code",
   "execution_count": 140,
   "id": "dba4e83a",
   "metadata": {},
   "outputs": [
    {
     "data": {
      "text/plain": [
       "44.95999999999998"
      ]
     },
     "execution_count": 140,
     "metadata": {},
     "output_type": "execute_result"
    }
   ],
   "source": [
    "temp_change(x['main']['temp'])"
   ]
  },
  {
   "cell_type": "code",
   "execution_count": null,
   "id": "6bd6b3af",
   "metadata": {},
   "outputs": [],
   "source": []
  },
  {
   "cell_type": "code",
   "execution_count": null,
   "id": "815c434d",
   "metadata": {},
   "outputs": [],
   "source": []
  },
  {
   "cell_type": "code",
   "execution_count": null,
   "id": "af56d91c",
   "metadata": {},
   "outputs": [],
   "source": []
  }
 ],
 "metadata": {
  "kernelspec": {
   "display_name": "Python 3 (ipykernel)",
   "language": "python",
   "name": "python3"
  },
  "language_info": {
   "codemirror_mode": {
    "name": "ipython",
    "version": 3
   },
   "file_extension": ".py",
   "mimetype": "text/x-python",
   "name": "python",
   "nbconvert_exporter": "python",
   "pygments_lexer": "ipython3",
   "version": "3.8.12"
  }
 },
 "nbformat": 4,
 "nbformat_minor": 5
}
