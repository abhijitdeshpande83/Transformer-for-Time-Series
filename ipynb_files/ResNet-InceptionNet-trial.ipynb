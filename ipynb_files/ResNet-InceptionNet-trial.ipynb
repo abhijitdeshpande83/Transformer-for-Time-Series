{
 "cells": [
  {
   "cell_type": "code",
   "execution_count": 13,
   "id": "c8b7ab76",
   "metadata": {},
   "outputs": [],
   "source": [
    "import torch, numpy, os\n",
    "from os import getcwd\n",
    "from preprocess import data_preprocess, train_model\n",
    "from selection import generate_labels, save, TechnicalIndicator\n",
    "import pandas as pd"
   ]
  },
  {
   "cell_type": "code",
   "execution_count": 14,
   "id": "fbf2c7f3",
   "metadata": {},
   "outputs": [
    {
     "data": {
      "text/plain": [
       "'C:\\\\Users\\\\axd7938\\\\Documents\\\\Project Files\\\\DJI65_2Y60min'"
      ]
     },
     "execution_count": 14,
     "metadata": {},
     "output_type": "execute_result"
    }
   ],
   "source": [
    "getcwd()"
   ]
  },
  {
   "cell_type": "code",
   "execution_count": 15,
   "id": "20cb5b28",
   "metadata": {},
   "outputs": [],
   "source": [
    "os.chdir('C:\\\\Users\\\\axd7938\\\\Documents\\\\Project Files\\\\DJI65_2Y60min')"
   ]
  },
  {
   "cell_type": "code",
   "execution_count": 16,
   "id": "99f4ade3",
   "metadata": {},
   "outputs": [],
   "source": [
    "file = [x.split('_')[0] for x in os.listdir()]"
   ]
  },
  {
   "cell_type": "code",
   "execution_count": null,
   "id": "7e5ad846",
   "metadata": {},
   "outputs": [],
   "source": []
  },
  {
   "cell_type": "code",
   "execution_count": 17,
   "id": "3e2f7fd6",
   "metadata": {},
   "outputs": [
    {
     "data": {
      "text/plain": [
       "'C:\\\\Users\\\\axd7938\\\\Documents\\\\Project Files\\\\DJI65_2Y60min'"
      ]
     },
     "execution_count": 17,
     "metadata": {},
     "output_type": "execute_result"
    }
   ],
   "source": [
    "os.getcwd()"
   ]
  },
  {
   "cell_type": "code",
   "execution_count": 18,
   "id": "ac11ceca",
   "metadata": {},
   "outputs": [
    {
     "data": {
      "text/plain": [
       "['AAL', 'AAPL', 'AEP', 'AES', 'ALK', 'AWK', 'AXP', 'BA', 'CAR', 'CAT']"
      ]
     },
     "execution_count": 18,
     "metadata": {},
     "output_type": "execute_result"
    }
   ],
   "source": [
    "file[:10]"
   ]
  },
  {
   "cell_type": "code",
   "execution_count": 19,
   "id": "c5855f13",
   "metadata": {},
   "outputs": [],
   "source": [
    "name = file[1]"
   ]
  },
  {
   "cell_type": "code",
   "execution_count": 20,
   "id": "0fd59380",
   "metadata": {},
   "outputs": [],
   "source": [
    "name = name\n",
    "data = pd.read_csv('C:\\\\Users\\\\axd7938\\\\Documents\\\\Project Files\\\\DJI65_2Y60min\\\\'+name+'_2Y60min.csv')\n",
    "data = TechnicalIndicator()(data)\n",
    "labels = generate_labels(data,20,2,0.5)\n",
    "labels = labels.get_labels()\n",
    "labels.out = labels.out.apply(lambda x:1 if x>0.5 else 0 )\n",
    "save(labels,name, path='C:\\\\Users\\\\axd7938\\\\Documents\\\\Project Files\\\\Full Hourly Data')"
   ]
  },
  {
   "cell_type": "code",
   "execution_count": 21,
   "id": "bee3bb23",
   "metadata": {},
   "outputs": [
    {
     "data": {
      "text/plain": [
       "'AAPL'"
      ]
     },
     "execution_count": 21,
     "metadata": {},
     "output_type": "execute_result"
    }
   ],
   "source": [
    "name"
   ]
  },
  {
   "cell_type": "code",
   "execution_count": 22,
   "id": "9b7c3051",
   "metadata": {},
   "outputs": [
    {
     "data": {
      "text/html": [
       "<div>\n",
       "<style scoped>\n",
       "    .dataframe tbody tr th:only-of-type {\n",
       "        vertical-align: middle;\n",
       "    }\n",
       "\n",
       "    .dataframe tbody tr th {\n",
       "        vertical-align: top;\n",
       "    }\n",
       "\n",
       "    .dataframe thead th {\n",
       "        text-align: right;\n",
       "    }\n",
       "</style>\n",
       "<table border=\"1\" class=\"dataframe\">\n",
       "  <thead>\n",
       "    <tr style=\"text-align: right;\">\n",
       "      <th></th>\n",
       "      <th>time</th>\n",
       "      <th>open</th>\n",
       "      <th>high</th>\n",
       "      <th>low</th>\n",
       "      <th>close</th>\n",
       "      <th>volume</th>\n",
       "      <th>MA</th>\n",
       "      <th>SMA</th>\n",
       "      <th>EMA</th>\n",
       "      <th>macd</th>\n",
       "      <th>...</th>\n",
       "      <th>ROC</th>\n",
       "      <th>TRIX</th>\n",
       "      <th>ULTOSC</th>\n",
       "      <th>BOP</th>\n",
       "      <th>TSF</th>\n",
       "      <th>LINEARREG</th>\n",
       "      <th>LINEARREG_ANGLE</th>\n",
       "      <th>LINEARREG_INTERCEPT</th>\n",
       "      <th>LINEARREG_SLOPE</th>\n",
       "      <th>BETA</th>\n",
       "    </tr>\n",
       "    <tr>\n",
       "      <th>time</th>\n",
       "      <th></th>\n",
       "      <th></th>\n",
       "      <th></th>\n",
       "      <th></th>\n",
       "      <th></th>\n",
       "      <th></th>\n",
       "      <th></th>\n",
       "      <th></th>\n",
       "      <th></th>\n",
       "      <th></th>\n",
       "      <th></th>\n",
       "      <th></th>\n",
       "      <th></th>\n",
       "      <th></th>\n",
       "      <th></th>\n",
       "      <th></th>\n",
       "      <th></th>\n",
       "      <th></th>\n",
       "      <th></th>\n",
       "      <th></th>\n",
       "      <th></th>\n",
       "    </tr>\n",
       "  </thead>\n",
       "  <tbody>\n",
       "    <tr>\n",
       "      <th>2018-10-05 15:00:00</th>\n",
       "      <td>2018-10-05 15:00:00</td>\n",
       "      <td>223.2639</td>\n",
       "      <td>225.2000</td>\n",
       "      <td>223.00</td>\n",
       "      <td>224.94</td>\n",
       "      <td>3819752</td>\n",
       "      <td>228.171797</td>\n",
       "      <td>228.171797</td>\n",
       "      <td>227.392054</td>\n",
       "      <td>-1.448234</td>\n",
       "      <td>...</td>\n",
       "      <td>-1.081794</td>\n",
       "      <td>-0.005478</td>\n",
       "      <td>45.891501</td>\n",
       "      <td>0.761864</td>\n",
       "      <td>223.463303</td>\n",
       "      <td>223.850877</td>\n",
       "      <td>-21.185028</td>\n",
       "      <td>228.889337</td>\n",
       "      <td>-0.387574</td>\n",
       "      <td>1.088200</td>\n",
       "    </tr>\n",
       "    <tr>\n",
       "      <th>2018-10-05 16:00:00</th>\n",
       "      <td>2018-10-05 16:00:00</td>\n",
       "      <td>224.9400</td>\n",
       "      <td>225.3800</td>\n",
       "      <td>223.81</td>\n",
       "      <td>224.26</td>\n",
       "      <td>4993279</td>\n",
       "      <td>227.918800</td>\n",
       "      <td>227.918800</td>\n",
       "      <td>227.189986</td>\n",
       "      <td>-1.456338</td>\n",
       "      <td>...</td>\n",
       "      <td>-1.267940</td>\n",
       "      <td>-0.008166</td>\n",
       "      <td>43.574806</td>\n",
       "      <td>-0.433121</td>\n",
       "      <td>223.190946</td>\n",
       "      <td>223.576834</td>\n",
       "      <td>-21.101010</td>\n",
       "      <td>228.593380</td>\n",
       "      <td>-0.385888</td>\n",
       "      <td>1.421257</td>\n",
       "    </tr>\n",
       "    <tr>\n",
       "      <th>2018-10-05 17:00:00</th>\n",
       "      <td>2018-10-05 17:00:00</td>\n",
       "      <td>224.2900</td>\n",
       "      <td>224.7500</td>\n",
       "      <td>223.90</td>\n",
       "      <td>224.54</td>\n",
       "      <td>458848</td>\n",
       "      <td>227.673467</td>\n",
       "      <td>227.673467</td>\n",
       "      <td>227.019019</td>\n",
       "      <td>-1.423754</td>\n",
       "      <td>...</td>\n",
       "      <td>-1.361799</td>\n",
       "      <td>-0.010796</td>\n",
       "      <td>48.832729</td>\n",
       "      <td>0.294118</td>\n",
       "      <td>223.086171</td>\n",
       "      <td>223.453077</td>\n",
       "      <td>-20.148376</td>\n",
       "      <td>228.222851</td>\n",
       "      <td>-0.366906</td>\n",
       "      <td>1.311703</td>\n",
       "    </tr>\n",
       "    <tr>\n",
       "      <th>2018-10-05 18:00:00</th>\n",
       "      <td>2018-10-05 18:00:00</td>\n",
       "      <td>224.4100</td>\n",
       "      <td>224.4900</td>\n",
       "      <td>224.28</td>\n",
       "      <td>224.29</td>\n",
       "      <td>10756</td>\n",
       "      <td>227.425800</td>\n",
       "      <td>227.425800</td>\n",
       "      <td>226.842953</td>\n",
       "      <td>-1.401944</td>\n",
       "      <td>...</td>\n",
       "      <td>-1.458635</td>\n",
       "      <td>-0.013373</td>\n",
       "      <td>47.855640</td>\n",
       "      <td>-0.571429</td>\n",
       "      <td>223.041616</td>\n",
       "      <td>223.378177</td>\n",
       "      <td>-18.601208</td>\n",
       "      <td>227.753466</td>\n",
       "      <td>-0.336561</td>\n",
       "      <td>1.403128</td>\n",
       "    </tr>\n",
       "    <tr>\n",
       "      <th>2018-10-05 19:00:00</th>\n",
       "      <td>2018-10-05 19:00:00</td>\n",
       "      <td>224.3400</td>\n",
       "      <td>224.4000</td>\n",
       "      <td>224.15</td>\n",
       "      <td>224.15</td>\n",
       "      <td>54704</td>\n",
       "      <td>227.213800</td>\n",
       "      <td>227.213800</td>\n",
       "      <td>226.669214</td>\n",
       "      <td>-1.380047</td>\n",
       "      <td>...</td>\n",
       "      <td>-1.645415</td>\n",
       "      <td>-0.015889</td>\n",
       "      <td>52.216255</td>\n",
       "      <td>-0.760000</td>\n",
       "      <td>222.959589</td>\n",
       "      <td>223.276134</td>\n",
       "      <td>-17.564937</td>\n",
       "      <td>227.391223</td>\n",
       "      <td>-0.316545</td>\n",
       "      <td>1.091553</td>\n",
       "    </tr>\n",
       "    <tr>\n",
       "      <th>...</th>\n",
       "      <td>...</td>\n",
       "      <td>...</td>\n",
       "      <td>...</td>\n",
       "      <td>...</td>\n",
       "      <td>...</td>\n",
       "      <td>...</td>\n",
       "      <td>...</td>\n",
       "      <td>...</td>\n",
       "      <td>...</td>\n",
       "      <td>...</td>\n",
       "      <td>...</td>\n",
       "      <td>...</td>\n",
       "      <td>...</td>\n",
       "      <td>...</td>\n",
       "      <td>...</td>\n",
       "      <td>...</td>\n",
       "      <td>...</td>\n",
       "      <td>...</td>\n",
       "      <td>...</td>\n",
       "      <td>...</td>\n",
       "      <td>...</td>\n",
       "    </tr>\n",
       "    <tr>\n",
       "      <th>2020-09-16 16:00:00</th>\n",
       "      <td>2020-09-16 16:00:00</td>\n",
       "      <td>113.2950</td>\n",
       "      <td>113.4600</td>\n",
       "      <td>112.04</td>\n",
       "      <td>112.13</td>\n",
       "      <td>28596436</td>\n",
       "      <td>115.716137</td>\n",
       "      <td>115.716137</td>\n",
       "      <td>114.869171</td>\n",
       "      <td>-0.723316</td>\n",
       "      <td>...</td>\n",
       "      <td>-3.485970</td>\n",
       "      <td>-0.005460</td>\n",
       "      <td>33.271713</td>\n",
       "      <td>-0.820423</td>\n",
       "      <td>112.621723</td>\n",
       "      <td>112.879457</td>\n",
       "      <td>-14.452541</td>\n",
       "      <td>116.230000</td>\n",
       "      <td>-0.257734</td>\n",
       "      <td>0.349217</td>\n",
       "    </tr>\n",
       "    <tr>\n",
       "      <th>2020-09-16 17:00:00</th>\n",
       "      <td>2020-09-16 17:00:00</td>\n",
       "      <td>112.1100</td>\n",
       "      <td>114.4029</td>\n",
       "      <td>112.00</td>\n",
       "      <td>112.54</td>\n",
       "      <td>2821438</td>\n",
       "      <td>115.602803</td>\n",
       "      <td>115.602803</td>\n",
       "      <td>114.718902</td>\n",
       "      <td>-0.791272</td>\n",
       "      <td>...</td>\n",
       "      <td>-3.307844</td>\n",
       "      <td>-0.007516</td>\n",
       "      <td>30.433319</td>\n",
       "      <td>0.178950</td>\n",
       "      <td>112.145475</td>\n",
       "      <td>112.442137</td>\n",
       "      <td>-16.523644</td>\n",
       "      <td>116.298749</td>\n",
       "      <td>-0.296662</td>\n",
       "      <td>0.478524</td>\n",
       "    </tr>\n",
       "    <tr>\n",
       "      <th>2020-09-16 18:00:00</th>\n",
       "      <td>2020-09-16 18:00:00</td>\n",
       "      <td>112.5400</td>\n",
       "      <td>112.7000</td>\n",
       "      <td>112.45</td>\n",
       "      <td>112.70</td>\n",
       "      <td>248482</td>\n",
       "      <td>115.494803</td>\n",
       "      <td>115.494803</td>\n",
       "      <td>114.588651</td>\n",
       "      <td>-0.822734</td>\n",
       "      <td>...</td>\n",
       "      <td>-2.508651</td>\n",
       "      <td>-0.009753</td>\n",
       "      <td>31.750301</td>\n",
       "      <td>0.640000</td>\n",
       "      <td>111.738457</td>\n",
       "      <td>112.069674</td>\n",
       "      <td>-18.325756</td>\n",
       "      <td>116.375497</td>\n",
       "      <td>-0.331217</td>\n",
       "      <td>0.090914</td>\n",
       "    </tr>\n",
       "    <tr>\n",
       "      <th>2020-09-16 19:00:00</th>\n",
       "      <td>2020-09-16 19:00:00</td>\n",
       "      <td>112.7100</td>\n",
       "      <td>112.8000</td>\n",
       "      <td>112.50</td>\n",
       "      <td>112.71</td>\n",
       "      <td>200691</td>\n",
       "      <td>115.345470</td>\n",
       "      <td>115.345470</td>\n",
       "      <td>114.467447</td>\n",
       "      <td>-0.837209</td>\n",
       "      <td>...</td>\n",
       "      <td>-2.093468</td>\n",
       "      <td>-0.012108</td>\n",
       "      <td>32.629706</td>\n",
       "      <td>0.000000</td>\n",
       "      <td>111.618802</td>\n",
       "      <td>111.934640</td>\n",
       "      <td>-17.528086</td>\n",
       "      <td>116.040531</td>\n",
       "      <td>-0.315838</td>\n",
       "      <td>0.092122</td>\n",
       "    </tr>\n",
       "    <tr>\n",
       "      <th>2020-09-16 20:00:00</th>\n",
       "      <td>2020-09-16 20:00:00</td>\n",
       "      <td>112.7300</td>\n",
       "      <td>112.8200</td>\n",
       "      <td>112.56</td>\n",
       "      <td>112.80</td>\n",
       "      <td>207481</td>\n",
       "      <td>115.189137</td>\n",
       "      <td>115.189137</td>\n",
       "      <td>114.359870</td>\n",
       "      <td>-0.831830</td>\n",
       "      <td>...</td>\n",
       "      <td>-1.793488</td>\n",
       "      <td>-0.014508</td>\n",
       "      <td>34.237067</td>\n",
       "      <td>0.269231</td>\n",
       "      <td>111.664971</td>\n",
       "      <td>111.942463</td>\n",
       "      <td>-15.508879</td>\n",
       "      <td>115.549851</td>\n",
       "      <td>-0.277491</td>\n",
       "      <td>0.033584</td>\n",
       "    </tr>\n",
       "  </tbody>\n",
       "</table>\n",
       "<p>7794 rows × 46 columns</p>\n",
       "</div>"
      ],
      "text/plain": [
       "                                    time      open      high     low   close  \\\n",
       "time                                                                           \n",
       "2018-10-05 15:00:00  2018-10-05 15:00:00  223.2639  225.2000  223.00  224.94   \n",
       "2018-10-05 16:00:00  2018-10-05 16:00:00  224.9400  225.3800  223.81  224.26   \n",
       "2018-10-05 17:00:00  2018-10-05 17:00:00  224.2900  224.7500  223.90  224.54   \n",
       "2018-10-05 18:00:00  2018-10-05 18:00:00  224.4100  224.4900  224.28  224.29   \n",
       "2018-10-05 19:00:00  2018-10-05 19:00:00  224.3400  224.4000  224.15  224.15   \n",
       "...                                  ...       ...       ...     ...     ...   \n",
       "2020-09-16 16:00:00  2020-09-16 16:00:00  113.2950  113.4600  112.04  112.13   \n",
       "2020-09-16 17:00:00  2020-09-16 17:00:00  112.1100  114.4029  112.00  112.54   \n",
       "2020-09-16 18:00:00  2020-09-16 18:00:00  112.5400  112.7000  112.45  112.70   \n",
       "2020-09-16 19:00:00  2020-09-16 19:00:00  112.7100  112.8000  112.50  112.71   \n",
       "2020-09-16 20:00:00  2020-09-16 20:00:00  112.7300  112.8200  112.56  112.80   \n",
       "\n",
       "                       volume          MA         SMA         EMA      macd  \\\n",
       "time                                                                          \n",
       "2018-10-05 15:00:00   3819752  228.171797  228.171797  227.392054 -1.448234   \n",
       "2018-10-05 16:00:00   4993279  227.918800  227.918800  227.189986 -1.456338   \n",
       "2018-10-05 17:00:00    458848  227.673467  227.673467  227.019019 -1.423754   \n",
       "2018-10-05 18:00:00     10756  227.425800  227.425800  226.842953 -1.401944   \n",
       "2018-10-05 19:00:00     54704  227.213800  227.213800  226.669214 -1.380047   \n",
       "...                       ...         ...         ...         ...       ...   \n",
       "2020-09-16 16:00:00  28596436  115.716137  115.716137  114.869171 -0.723316   \n",
       "2020-09-16 17:00:00   2821438  115.602803  115.602803  114.718902 -0.791272   \n",
       "2020-09-16 18:00:00    248482  115.494803  115.494803  114.588651 -0.822734   \n",
       "2020-09-16 19:00:00    200691  115.345470  115.345470  114.467447 -0.837209   \n",
       "2020-09-16 20:00:00    207481  115.189137  115.189137  114.359870 -0.831830   \n",
       "\n",
       "                     ...       ROC      TRIX     ULTOSC       BOP         TSF  \\\n",
       "time                 ...                                                        \n",
       "2018-10-05 15:00:00  ... -1.081794 -0.005478  45.891501  0.761864  223.463303   \n",
       "2018-10-05 16:00:00  ... -1.267940 -0.008166  43.574806 -0.433121  223.190946   \n",
       "2018-10-05 17:00:00  ... -1.361799 -0.010796  48.832729  0.294118  223.086171   \n",
       "2018-10-05 18:00:00  ... -1.458635 -0.013373  47.855640 -0.571429  223.041616   \n",
       "2018-10-05 19:00:00  ... -1.645415 -0.015889  52.216255 -0.760000  222.959589   \n",
       "...                  ...       ...       ...        ...       ...         ...   \n",
       "2020-09-16 16:00:00  ... -3.485970 -0.005460  33.271713 -0.820423  112.621723   \n",
       "2020-09-16 17:00:00  ... -3.307844 -0.007516  30.433319  0.178950  112.145475   \n",
       "2020-09-16 18:00:00  ... -2.508651 -0.009753  31.750301  0.640000  111.738457   \n",
       "2020-09-16 19:00:00  ... -2.093468 -0.012108  32.629706  0.000000  111.618802   \n",
       "2020-09-16 20:00:00  ... -1.793488 -0.014508  34.237067  0.269231  111.664971   \n",
       "\n",
       "                      LINEARREG  LINEARREG_ANGLE  LINEARREG_INTERCEPT  \\\n",
       "time                                                                    \n",
       "2018-10-05 15:00:00  223.850877       -21.185028           228.889337   \n",
       "2018-10-05 16:00:00  223.576834       -21.101010           228.593380   \n",
       "2018-10-05 17:00:00  223.453077       -20.148376           228.222851   \n",
       "2018-10-05 18:00:00  223.378177       -18.601208           227.753466   \n",
       "2018-10-05 19:00:00  223.276134       -17.564937           227.391223   \n",
       "...                         ...              ...                  ...   \n",
       "2020-09-16 16:00:00  112.879457       -14.452541           116.230000   \n",
       "2020-09-16 17:00:00  112.442137       -16.523644           116.298749   \n",
       "2020-09-16 18:00:00  112.069674       -18.325756           116.375497   \n",
       "2020-09-16 19:00:00  111.934640       -17.528086           116.040531   \n",
       "2020-09-16 20:00:00  111.942463       -15.508879           115.549851   \n",
       "\n",
       "                     LINEARREG_SLOPE      BETA  \n",
       "time                                            \n",
       "2018-10-05 15:00:00        -0.387574  1.088200  \n",
       "2018-10-05 16:00:00        -0.385888  1.421257  \n",
       "2018-10-05 17:00:00        -0.366906  1.311703  \n",
       "2018-10-05 18:00:00        -0.336561  1.403128  \n",
       "2018-10-05 19:00:00        -0.316545  1.091553  \n",
       "...                              ...       ...  \n",
       "2020-09-16 16:00:00        -0.257734  0.349217  \n",
       "2020-09-16 17:00:00        -0.296662  0.478524  \n",
       "2020-09-16 18:00:00        -0.331217  0.090914  \n",
       "2020-09-16 19:00:00        -0.315838  0.092122  \n",
       "2020-09-16 20:00:00        -0.277491  0.033584  \n",
       "\n",
       "[7794 rows x 46 columns]"
      ]
     },
     "execution_count": 22,
     "metadata": {},
     "output_type": "execute_result"
    }
   ],
   "source": [
    "data"
   ]
  },
  {
   "cell_type": "code",
   "execution_count": 10,
   "id": "c34f9969",
   "metadata": {},
   "outputs": [],
   "source": [
    "preprocess = data_preprocess()"
   ]
  },
  {
   "cell_type": "code",
   "execution_count": 11,
   "id": "94d71910",
   "metadata": {},
   "outputs": [],
   "source": [
    "path = 'C:\\\\Users\\\\axd7938\\\\Documents\\\\Project Files\\\\Full Hourly Data'"
   ]
  },
  {
   "cell_type": "code",
   "execution_count": 12,
   "id": "98ec7a68",
   "metadata": {},
   "outputs": [],
   "source": [
    "preprocess.get_data(name=name, path=path,days=15,test_size=0.3)"
   ]
  },
  {
   "cell_type": "code",
   "execution_count": null,
   "id": "4abe8e7a",
   "metadata": {},
   "outputs": [],
   "source": []
  },
  {
   "cell_type": "code",
   "execution_count": 13,
   "id": "af2625ba",
   "metadata": {},
   "outputs": [
    {
     "name": "stdout",
     "output_type": "stream",
     "text": [
      "\u001b[1mTotal Samples: 7756\n",
      "\u001b[92mTraining Samples: 5429\n",
      "\u001b[92mValidation Samples: 1163\n",
      "\u001b[92mTesting Samples: 1164\n"
     ]
    }
   ],
   "source": [
    "train, val, test, feat_dim, max_len  = preprocess.prepare_data()"
   ]
  },
  {
   "cell_type": "code",
   "execution_count": 14,
   "id": "15554ac0",
   "metadata": {},
   "outputs": [],
   "source": [
    "from modules import TSTransformerEncoderLSTM, TSTransformerEncoderClass"
   ]
  },
  {
   "cell_type": "code",
   "execution_count": null,
   "id": "b7057d4d",
   "metadata": {},
   "outputs": [],
   "source": []
  },
  {
   "cell_type": "code",
   "execution_count": 15,
   "id": "9e6a154a",
   "metadata": {},
   "outputs": [],
   "source": [
    "import torch.nn as nn\n",
    "import numpy as np"
   ]
  },
  {
   "cell_type": "code",
   "execution_count": 40,
   "id": "9471e4f9",
   "metadata": {},
   "outputs": [
    {
     "data": {
      "text/plain": [
       "{'d_model': 7,\n",
       " 'n_heads': 3,\n",
       " 'n_layers': 1,\n",
       " 'dim_feedforward': 7,\n",
       " 'lstm_layers': 3,\n",
       " 'hidden_layers': 5,\n",
       " 'lr': 3.944693586940168e-06,\n",
       " 'dropout': 0.25,\n",
       " 'batch_size': 6}"
      ]
     },
     "execution_count": 40,
     "metadata": {},
     "output_type": "execute_result"
    }
   ],
   "source": [
    "{'d_model': 7, 'n_heads': 3, 'n_layers': 1, 'dim_feedforward': 7, 'lstm_layers': 3, 'hidden_layers': 5, 'lr': 3.944693586940168e-06, 'dropout': 0.25, 'batch_size': 6}"
   ]
  },
  {
   "cell_type": "code",
   "execution_count": null,
   "id": "91fa9b9a",
   "metadata": {},
   "outputs": [],
   "source": []
  },
  {
   "cell_type": "code",
   "execution_count": 50,
   "id": "19449133",
   "metadata": {},
   "outputs": [],
   "source": [
    "torch.manual_seed(10)\n",
    "super_model = TSTransformerEncoderLSTM(feat_dim,max_len,7,3,1,\n",
    "                                             7, 2,lstm_layers=1, hidden_layers=5,dropout=0.25)"
   ]
  },
  {
   "cell_type": "code",
   "execution_count": 51,
   "id": "8cd004a4",
   "metadata": {},
   "outputs": [],
   "source": [
    "supervised = train_model(super_model)\n",
    "supervised.compile(loss = nn.CrossEntropyLoss(),optimizer=torch.optim.Adam,lr=4e-6)"
   ]
  },
  {
   "cell_type": "code",
   "execution_count": 52,
   "id": "ec7ebbc0",
   "metadata": {
    "scrolled": true
   },
   "outputs": [
    {
     "name": "stdout",
     "output_type": "stream",
     "text": [
      "\u001b[94mEpoch: 0\u001b[0m 42.048% \u001b[91mloss:\u001b[0m 0.7167 \u001b[94m Val:\u001b[0m 41.065 \u001b[91mval_loss:\u001b[0m 0.7135\n",
      "\u001b[94mEpoch: 1\u001b[0m 45.477% \u001b[91mloss:\u001b[0m 0.705 \u001b[94m Val:\u001b[0m 44.347 \u001b[91mval_loss:\u001b[0m 0.7045\n",
      "\u001b[94mEpoch: 2\u001b[0m 48.199% \u001b[91mloss:\u001b[0m 0.6986 \u001b[94m Val:\u001b[0m 46.684 \u001b[91mval_loss:\u001b[0m 0.6988\n",
      "\u001b[94mEpoch: 3\u001b[0m 52.512% \u001b[91mloss:\u001b[0m 0.6914 \u001b[94m Val:\u001b[0m 50.052 \u001b[91mval_loss:\u001b[0m 0.6935\n",
      "\u001b[94mEpoch: 4\u001b[0m 53.753% \u001b[91mloss:\u001b[0m 0.6887 \u001b[94m Val:\u001b[0m 53.78 \u001b[91mval_loss:\u001b[0m 0.6895\n",
      "\u001b[94mEpoch: 5\u001b[0m 56.497% \u001b[91mloss:\u001b[0m 0.6849 \u001b[94m Val:\u001b[0m 55.842 \u001b[91mval_loss:\u001b[0m 0.6864\n",
      "\u001b[94mEpoch: 6\u001b[0m 57.875% \u001b[91mloss:\u001b[0m 0.6815 \u001b[94m Val:\u001b[0m 57.56 \u001b[91mval_loss:\u001b[0m 0.6841\n",
      "\u001b[94mEpoch: 7\u001b[0m 58.578% \u001b[91mloss:\u001b[0m 0.6788 \u001b[94m Val:\u001b[0m 58.076 \u001b[91mval_loss:\u001b[0m 0.6823\n",
      "\u001b[94mEpoch: 8\u001b[0m 59.569% \u001b[91mloss:\u001b[0m 0.6775 \u001b[94m Val:\u001b[0m 58.849 \u001b[91mval_loss:\u001b[0m 0.6806\n",
      "\u001b[94mEpoch: 9\u001b[0m 59.646% \u001b[91mloss:\u001b[0m 0.6775 \u001b[94m Val:\u001b[0m 59.107 \u001b[91mval_loss:\u001b[0m 0.6798\n",
      "\u001b[94mEpoch: 10\u001b[0m 60.107% \u001b[91mloss:\u001b[0m 0.6766 \u001b[94m Val:\u001b[0m 59.622 \u001b[91mval_loss:\u001b[0m 0.6789\n",
      "\u001b[94mEpoch: 11\u001b[0m 60.033% \u001b[91mloss:\u001b[0m 0.6744 \u001b[94m Val:\u001b[0m 60.567 \u001b[91mval_loss:\u001b[0m 0.6783\n",
      "\u001b[94mEpoch: 12\u001b[0m 60.144% \u001b[91mloss:\u001b[0m 0.6736 \u001b[94m Val:\u001b[0m 60.739 \u001b[91mval_loss:\u001b[0m 0.6779\n",
      "\u001b[94mEpoch: 13\u001b[0m 60.291% \u001b[91mloss:\u001b[0m 0.6737 \u001b[94m Val:\u001b[0m 60.739 \u001b[91mval_loss:\u001b[0m 0.678\n",
      "\u001b[94mEpoch: 14\u001b[0m 60.236% \u001b[91mloss:\u001b[0m 0.6717 \u001b[94m Val:\u001b[0m 60.997 \u001b[91mval_loss:\u001b[0m 0.677\n",
      "\u001b[94mEpoch: 15\u001b[0m 60.365% \u001b[91mloss:\u001b[0m 0.6742 \u001b[94m Val:\u001b[0m 60.911 \u001b[91mval_loss:\u001b[0m 0.6771\n",
      "\u001b[94mEpoch: 16\u001b[0m 60.365% \u001b[91mloss:\u001b[0m 0.6714 \u001b[94m Val:\u001b[0m 60.997 \u001b[91mval_loss:\u001b[0m 0.6771\n",
      "\u001b[94mEpoch: 17\u001b[0m 60.144% \u001b[91mloss:\u001b[0m 0.6721 \u001b[94m Val:\u001b[0m 60.997 \u001b[91mval_loss:\u001b[0m 0.6768\n",
      "\u001b[94mEpoch: 18\u001b[0m 60.273% \u001b[91mloss:\u001b[0m 0.6728 \u001b[94m Val:\u001b[0m 60.997 \u001b[91mval_loss:\u001b[0m 0.6764\n",
      "\u001b[94mEpoch: 19\u001b[0m 60.291% \u001b[91mloss:\u001b[0m 0.6725 \u001b[94m Val:\u001b[0m 61.082 \u001b[91mval_loss:\u001b[0m 0.6766\n",
      "\u001b[94mEpoch: 20\u001b[0m 60.42% \u001b[91mloss:\u001b[0m 0.6715 \u001b[94m Val:\u001b[0m 61.082 \u001b[91mval_loss:\u001b[0m 0.6764\n",
      "\u001b[94mEpoch: 21\u001b[0m 60.309% \u001b[91mloss:\u001b[0m 0.6724 \u001b[94m Val:\u001b[0m 61.082 \u001b[91mval_loss:\u001b[0m 0.6762\n",
      "\u001b[94mEpoch: 22\u001b[0m 60.328% \u001b[91mloss:\u001b[0m 0.6725 \u001b[94m Val:\u001b[0m 61.082 \u001b[91mval_loss:\u001b[0m 0.676\n",
      "\u001b[94mEpoch: 23\u001b[0m 60.383% \u001b[91mloss:\u001b[0m 0.6709 \u001b[94m Val:\u001b[0m 60.825 \u001b[91mval_loss:\u001b[0m 0.6763\n",
      "\u001b[94mEpoch: 24\u001b[0m 60.475% \u001b[91mloss:\u001b[0m 0.6698 \u001b[94m Val:\u001b[0m 60.997 \u001b[91mval_loss:\u001b[0m 0.6763\n",
      "\u001b[94mEpoch: 25\u001b[0m 60.291% \u001b[91mloss:\u001b[0m 0.6728 \u001b[94m Val:\u001b[0m 60.997 \u001b[91mval_loss:\u001b[0m 0.6758\n",
      "\u001b[94mEpoch: 26\u001b[0m 60.346% \u001b[91mloss:\u001b[0m 0.6711 \u001b[94m Val:\u001b[0m 60.997 \u001b[91mval_loss:\u001b[0m 0.6758\n",
      "\u001b[94mEpoch: 27\u001b[0m 60.365% \u001b[91mloss:\u001b[0m 0.6706 \u001b[94m Val:\u001b[0m 60.911 \u001b[91mval_loss:\u001b[0m 0.6755\n",
      "\u001b[94mEpoch: 28\u001b[0m 60.365% \u001b[91mloss:\u001b[0m 0.6699 \u001b[94m Val:\u001b[0m 60.997 \u001b[91mval_loss:\u001b[0m 0.6755\n",
      "\u001b[94mEpoch: 29\u001b[0m 60.365% \u001b[91mloss:\u001b[0m 0.67 \u001b[94m Val:\u001b[0m 60.997 \u001b[91mval_loss:\u001b[0m 0.6762\n",
      "\u001b[94mEpoch: 30\u001b[0m 60.475% \u001b[91mloss:\u001b[0m 0.6702 \u001b[94m Val:\u001b[0m 61.082 \u001b[91mval_loss:\u001b[0m 0.6753\n",
      "\u001b[94mEpoch: 31\u001b[0m 60.346% \u001b[91mloss:\u001b[0m 0.6699 \u001b[94m Val:\u001b[0m 61.168 \u001b[91mval_loss:\u001b[0m 0.6755\n",
      "\u001b[94mEpoch: 32\u001b[0m 60.328% \u001b[91mloss:\u001b[0m 0.6707 \u001b[94m Val:\u001b[0m 61.082 \u001b[91mval_loss:\u001b[0m 0.6753\n",
      "\u001b[94mEpoch: 33\u001b[0m 60.365% \u001b[91mloss:\u001b[0m 0.6686 \u001b[94m Val:\u001b[0m 60.997 \u001b[91mval_loss:\u001b[0m 0.6755\n",
      "\u001b[94mEpoch: 34\u001b[0m 60.291% \u001b[91mloss:\u001b[0m 0.6705 \u001b[94m Val:\u001b[0m 61.082 \u001b[91mval_loss:\u001b[0m 0.6752\n"
     ]
    },
    {
     "name": "stderr",
     "output_type": "stream",
     "text": [
      "No handles with labels found to put in legend.\n"
     ]
    },
    {
     "data": {
      "image/png": "[encoded data removed]",
      "text/plain": [
       "<Figure size 432x288 with 1 Axes>"
      ]
     },
     "metadata": {
      "needs_background": "light"
     },
     "output_type": "display_data"
    }
   ],
   "source": [
    "supervised.train(train, val, verbose=True, return_loss=True, epochs=300 , batch_size=6)"
   ]
  },
  {
   "cell_type": "code",
   "execution_count": 323,
   "id": "e14faacb",
   "metadata": {
    "scrolled": false
   },
   "outputs": [
    {
     "ename": "NameError",
     "evalue": "name 'supervised' is not defined",
     "output_type": "error",
     "traceback": [
      "\u001b[1;31m---------------------------------------------------------------------------\u001b[0m",
      "\u001b[1;31mNameError\u001b[0m                                 Traceback (most recent call last)",
      "\u001b[1;32m<ipython-input-323-8dd26f5fa086>\u001b[0m in \u001b[0;36m<module>\u001b[1;34m\u001b[0m\n\u001b[1;32m----> 1\u001b[1;33m \u001b[0msupervised\u001b[0m\u001b[1;33m.\u001b[0m\u001b[0manalyze\u001b[0m\u001b[1;33m(\u001b[0m\u001b[0mtest\u001b[0m\u001b[1;33m,\u001b[0m \u001b[0mcolor\u001b[0m\u001b[1;33m=\u001b[0m\u001b[1;34m'tab10_r'\u001b[0m\u001b[1;33m)\u001b[0m\u001b[1;33m\u001b[0m\u001b[1;33m\u001b[0m\u001b[0m\n\u001b[0m",
      "\u001b[1;31mNameError\u001b[0m: name 'supervised' is not defined"
     ]
    }
   ],
   "source": [
    "supervised.analyze(test, color='tab10_r')"
   ]
  },
  {
   "cell_type": "code",
   "execution_count": null,
   "id": "4a5cf834",
   "metadata": {},
   "outputs": [],
   "source": []
  },
  {
   "cell_type": "code",
   "execution_count": 29,
   "id": "0170eb42",
   "metadata": {},
   "outputs": [],
   "source": [
    "import optuna"
   ]
  },
  {
   "cell_type": "code",
   "execution_count": 30,
   "id": "1e819bb7",
   "metadata": {},
   "outputs": [],
   "source": [
    "def _train(params, train, val):\n",
    "    torch.manual_seed(10)\n",
    "    super_model = TSTransformerEncoderLSTM(feat_dim,max_len,params['d_model'],params['n_heads'],params['n_layers'],\n",
    "                                         params['dim_feedforward'],2,params['lstm_layers'],\n",
    "                                         params['hidden_layers'],params['dropout'])\n",
    "    supervised = train_model(super_model)\n",
    "    supervised.compile(params['lr'],loss = nn.CrossEntropyLoss(),optimizer=torch.optim.Adam)\n",
    "    best_loss = supervised.train(train, val, verbose=False, return_loss=False, epochs=3000, \n",
    "                                 batch_size=params['batch_size'],metric=True)\n",
    "    return best_loss"
   ]
  },
  {
   "cell_type": "code",
   "execution_count": 37,
   "id": "5451a3d8",
   "metadata": {},
   "outputs": [],
   "source": [
    "def objective(trial):\n",
    "    params = {\n",
    "        'd_model':trial.suggest_int('d_model',5,11),\n",
    "        'n_heads':trial.suggest_int('n_heads',0,5),\n",
    "        'n_layers':trial.suggest_int('n_layers',1,5),\n",
    "        'dim_feedforward':trial.suggest_int('dim_feedforward',4,10),\n",
    "        'lstm_layers':trial.suggest_int('lstm_layers',1,3),\n",
    "        'hidden_layers':trial.suggest_int('hidden_layers',4,10),\n",
    "        'lr':trial.suggest_loguniform('lr',1e-7,1e-3),\n",
    "        'dropout':trial.suggest_discrete_uniform('dropout',0.1,0.7,0.05),\n",
    "        'batch_size':trial.suggest_int('batch_size',5,11)\n",
    "    }\n",
    "    \n",
    "    _best_loss = _train(params,train,val).item()\n",
    "    \n",
    "    return _best_loss  "
   ]
  },
  {
   "cell_type": "code",
   "execution_count": 38,
   "id": "48148388",
   "metadata": {},
   "outputs": [
    {
     "data": {
      "text/plain": [
       "1024"
      ]
     },
     "execution_count": 38,
     "metadata": {},
     "output_type": "execute_result"
    }
   ],
   "source": [
    "2**10"
   ]
  },
  {
   "cell_type": "code",
   "execution_count": 39,
   "id": "d47d5ab8",
   "metadata": {},
   "outputs": [
    {
     "name": "stderr",
     "output_type": "stream",
     "text": [
      "\u001b[32m[I 2022-01-07 12:08:51,629]\u001b[0m A new study created in memory with name: no-name-e90fcbe8-1dfc-41b5-887a-f23cb7ebdd8a\u001b[0m\n",
      "\u001b[32m[I 2022-01-07 12:37:42,458]\u001b[0m Trial 0 finished with value: 0.6572834849357605 and parameters: {'d_model': 7, 'n_heads': 3, 'n_layers': 1, 'dim_feedforward': 7, 'lstm_layers': 3, 'hidden_layers': 5, 'lr': 3.944693586940168e-06, 'dropout': 0.25, 'batch_size': 6}. Best is trial 0 with value: 0.6572834849357605.\u001b[0m\n",
      "\u001b[32m[I 2022-01-07 12:45:46,665]\u001b[0m Trial 1 finished with value: 0.6734598875045776 and parameters: {'d_model': 6, 'n_heads': 0, 'n_layers': 2, 'dim_feedforward': 6, 'lstm_layers': 1, 'hidden_layers': 8, 'lr': 0.0007110924592528756, 'dropout': 0.6, 'batch_size': 5}. Best is trial 0 with value: 0.6572834849357605.\u001b[0m\n",
      "\u001b[32m[I 2022-01-07 12:51:34,765]\u001b[0m Trial 2 finished with value: 0.6863225102424622 and parameters: {'d_model': 6, 'n_heads': 2, 'n_layers': 2, 'dim_feedforward': 7, 'lstm_layers': 1, 'hidden_layers': 4, 'lr': 1.25895756549293e-06, 'dropout': 0.7, 'batch_size': 5}. Best is trial 0 with value: 0.6572834849357605.\u001b[0m\n",
      "\u001b[32m[I 2022-01-07 12:59:07,474]\u001b[0m Trial 3 finished with value: 0.6680753827095032 and parameters: {'d_model': 6, 'n_heads': 2, 'n_layers': 2, 'dim_feedforward': 5, 'lstm_layers': 1, 'hidden_layers': 7, 'lr': 0.0004384617149382885, 'dropout': 0.6, 'batch_size': 6}. Best is trial 0 with value: 0.6572834849357605.\u001b[0m\n",
      "\u001b[32m[I 2022-01-07 15:32:31,753]\u001b[0m Trial 4 finished with value: 0.6690627932548523 and parameters: {'d_model': 10, 'n_heads': 5, 'n_layers': 5, 'dim_feedforward': 8, 'lstm_layers': 2, 'hidden_layers': 10, 'lr': 2.0933440043670692e-05, 'dropout': 0.6, 'batch_size': 6}. Best is trial 0 with value: 0.6572834849357605.\u001b[0m\n",
      "\u001b[32m[I 2022-01-07 17:16:08,654]\u001b[0m Trial 5 finished with value: 0.6671646237373352 and parameters: {'d_model': 9, 'n_heads': 1, 'n_layers': 3, 'dim_feedforward': 8, 'lstm_layers': 1, 'hidden_layers': 9, 'lr': 1.3699800271321777e-05, 'dropout': 0.5, 'batch_size': 9}. Best is trial 0 with value: 0.6572834849357605.\u001b[0m\n",
      "\u001b[32m[I 2022-01-07 20:18:06,945]\u001b[0m Trial 6 finished with value: 0.7441809773445129 and parameters: {'d_model': 11, 'n_heads': 2, 'n_layers': 3, 'dim_feedforward': 8, 'lstm_layers': 2, 'hidden_layers': 4, 'lr': 5.928738773756573e-07, 'dropout': 0.45000000000000007, 'batch_size': 5}. Best is trial 0 with value: 0.6572834849357605.\u001b[0m\n",
      "\u001b[32m[I 2022-01-07 21:25:22,038]\u001b[0m Trial 7 finished with value: 0.7069573998451233 and parameters: {'d_model': 5, 'n_heads': 2, 'n_layers': 2, 'dim_feedforward': 10, 'lstm_layers': 1, 'hidden_layers': 6, 'lr': 2.909646328549349e-07, 'dropout': 0.15000000000000002, 'batch_size': 8}. Best is trial 0 with value: 0.6572834849357605.\u001b[0m\n",
      "\u001b[32m[I 2022-01-08 02:22:14,178]\u001b[0m Trial 8 finished with value: 0.6907815337181091 and parameters: {'d_model': 11, 'n_heads': 5, 'n_layers': 3, 'dim_feedforward': 9, 'lstm_layers': 3, 'hidden_layers': 6, 'lr': 1.129088888200179e-06, 'dropout': 0.1, 'batch_size': 6}. Best is trial 0 with value: 0.6572834849357605.\u001b[0m\n",
      "\u001b[32m[I 2022-01-08 03:11:06,498]\u001b[0m Trial 9 finished with value: 0.6723890900611877 and parameters: {'d_model': 10, 'n_heads': 3, 'n_layers': 4, 'dim_feedforward': 4, 'lstm_layers': 1, 'hidden_layers': 8, 'lr': 0.00020826528820196328, 'dropout': 0.55, 'batch_size': 7}. Best is trial 0 with value: 0.6572834849357605.\u001b[0m\n"
     ]
    },
    {
     "name": "stdout",
     "output_type": "stream",
     "text": [
      "best trail:\n",
      "[0.6572834849357605]\n",
      "{'d_model': 7, 'n_heads': 3, 'n_layers': 1, 'dim_feedforward': 7, 'lstm_layers': 3, 'hidden_layers': 5, 'lr': 3.944693586940168e-06, 'dropout': 0.25, 'batch_size': 6}\n"
     ]
    }
   ],
   "source": [
    "study = optuna.create_study(direction='minimize')\n",
    "study.optimize(objective, n_trials=10)\n",
    "print('best trail:')\n",
    "trial_ = study.best_trial\n",
    "print(trial_.values)\n",
    "print(trial_.params)"
   ]
  },
  {
   "cell_type": "code",
   "execution_count": null,
   "id": "d7bc9d4c",
   "metadata": {},
   "outputs": [],
   "source": []
  },
  {
   "cell_type": "code",
   "execution_count": null,
   "id": "4fbfbef3",
   "metadata": {},
   "outputs": [],
   "source": []
  },
  {
   "cell_type": "code",
   "execution_count": 22,
   "id": "0c3307b8",
   "metadata": {
    "scrolled": false
   },
   "outputs": [
    {
     "data": {
      "text/plain": [
       "'D'"
      ]
     },
     "execution_count": 22,
     "metadata": {},
     "output_type": "execute_result"
    }
   ],
   "source": [
    "name"
   ]
  },
  {
   "cell_type": "code",
   "execution_count": 23,
   "id": "33bb1ea1",
   "metadata": {},
   "outputs": [],
   "source": [
    "path = '/Users/abhijitdeshpande/Desktop/Models/'+name"
   ]
  },
  {
   "cell_type": "code",
   "execution_count": 24,
   "id": "e43d820c",
   "metadata": {},
   "outputs": [],
   "source": [
    "torch.save(super_model,path)"
   ]
  },
  {
   "cell_type": "code",
   "execution_count": 52,
   "id": "4eb45258",
   "metadata": {},
   "outputs": [],
   "source": [
    "import numpy as np\n",
    "import torch\n",
    "import torch.nn as nn"
   ]
  },
  {
   "cell_type": "code",
   "execution_count": null,
   "id": "4f18a52f",
   "metadata": {},
   "outputs": [],
   "source": []
  },
  {
   "cell_type": "code",
   "execution_count": 53,
   "id": "1ad0e9bb",
   "metadata": {},
   "outputs": [],
   "source": [
    "class identity_block(nn.Module):\n",
    "    def __init__(self,ni,nf,f=3):\n",
    "        super(identity_block,self).__init__()\n",
    "        \n",
    "        self.conv1 = nn.Conv1d(ni, nf, kernel_size=1, stride=1,padding='valid')\n",
    "        self.conv2 = nn.Conv1d(nf, nf, kernel_size=f,stride=1,padding='same')\n",
    "        self.conv3 = nn.Conv1d(nf, nf, kernel_size=1,stride=1,padding='valid')\n",
    "        \n",
    "        self.batchnorm = nn.BatchNorm1d(nf)\n",
    "        self.act = nn.ReLU()\n",
    "        self.add = torch.add\n",
    "        \n",
    "    def forward(self,x):\n",
    "    \n",
    "        x_shortcut = x\n",
    "        x = self.conv1(x)\n",
    "        x = self.batchnorm(x)\n",
    "        x = self.act(x)\n",
    "        \n",
    "        x = self.conv2(x)\n",
    "        x = self.batchnorm(x)\n",
    "        x = self.act(x)\n",
    "        \n",
    "        x = self.conv3(x)\n",
    "        x = self.batchnorm(x)\n",
    "        \n",
    "        x = self.add(x_shortcut,x)\n",
    "        x = self.act(x)\n",
    "        \n",
    "        return x"
   ]
  },
  {
   "cell_type": "code",
   "execution_count": 54,
   "id": "b3eb26c1",
   "metadata": {},
   "outputs": [],
   "source": [
    "class convolution_block(nn.Module):\n",
    "    def __init__(self, ni, nf, f, s=2):\n",
    "        super(convolution_block,self).__init__()\n",
    "        \n",
    "        \n",
    "        self.conv1 = nn.Conv1d(ni, nf, kernel_size=1, stride=s,padding='valid')\n",
    "        self.conv2 = nn.Conv1d(nf, nf, kernel_size=f,stride=1,padding='same')\n",
    "        self.conv3 = nn.Conv1d(nf, nf, kernel_size=1,stride=1,padding='valid')\n",
    "\n",
    "        # expand channels for the sum if necessary\n",
    "        self.shortcut = nn.Conv1d(ni, nf, 1, stride=s,padding='valid')\n",
    "        self.batchnorm = nn.BatchNorm1d(nf)\n",
    "        self.add = torch.add\n",
    "        self.act = nn.ReLU()\n",
    "\n",
    "    def forward(self, x):\n",
    "        \n",
    "        x_shortcut = x\n",
    "        x = self.conv1(x)\n",
    "        x = self.batchnorm(x)\n",
    "        x = self.act(x)\n",
    "        \n",
    "        x = self.conv2(x)\n",
    "        x = self.batchnorm(x)\n",
    "        x = self.act(x)\n",
    "        \n",
    "        x = self.conv3(x)\n",
    "        x = self.batchnorm(x)\n",
    "        x = self.act(x)\n",
    "        \n",
    "        x_shortcut = self.shortcut(x_shortcut)\n",
    "        x_shortcut = self.batchnorm(x_shortcut)\n",
    "        \n",
    "        x = self.add(x, x_shortcut)\n",
    "        x = self.act(x)\n",
    "        \n",
    "        return x"
   ]
  },
  {
   "cell_type": "code",
   "execution_count": 55,
   "id": "cbd58feb",
   "metadata": {},
   "outputs": [],
   "source": [
    "class ResNet(nn.Module):\n",
    "    def __init__(self, c_in, c_out):\n",
    "        super(ResNet,self).__init__()\n",
    "        nf = 64\n",
    "        self.conv1 = convolution_block(c_in, nf, f=3,s=1)\n",
    "        self.conv2 = convolution_block(nf, nf * 2, f=3)\n",
    "        self.conv3 = convolution_block(nf * 2, nf * 4, f=3)\n",
    "        self.conv4 = convolution_block(nf*4, nf*8, f=3)\n",
    "        self.identity1 = identity_block(nf,nf)\n",
    "        self.identity2 = identity_block(nf*2,nf*2)\n",
    "        self.identity3 = identity_block(nf*4, nf*4)\n",
    "        self.identity4 = identity_block(nf*8, nf*8)\n",
    "        self.gap = nn.AdaptiveAvgPool1d(1)\n",
    "        self.squeeze = nn.Flatten()\n",
    "        self.fc = nn.Linear(nf * 8, c_out)\n",
    "\n",
    "    def forward(self, x, mask=None):\n",
    "        x = self.conv1(x)\n",
    "        x = self.identity1(x)\n",
    "        x = self.conv2(x)\n",
    "        x = self.identity2(x)\n",
    "        x = self.conv3(x)\n",
    "        x = self.identity3(x)\n",
    "        x = self.conv4(x)\n",
    "        x = self.identity4(x)\n",
    "        x = self.squeeze(self.gap(x))\n",
    "        return self.fc(x)"
   ]
  },
  {
   "cell_type": "code",
   "execution_count": 63,
   "id": "791f2f4a",
   "metadata": {},
   "outputs": [],
   "source": [
    "resnet = ResNet(max_len,2)"
   ]
  },
  {
   "cell_type": "code",
   "execution_count": 64,
   "id": "e21b6ddb",
   "metadata": {},
   "outputs": [],
   "source": [
    "model = train_model(resnet)\n",
    "model.compile(lr=0.0000001)"
   ]
  },
  {
   "cell_type": "code",
   "execution_count": 65,
   "id": "d19e3534",
   "metadata": {},
   "outputs": [
    {
     "name": "stdout",
     "output_type": "stream",
     "text": [
      "\u001b[94mEpoch: 0\u001b[0m 60.267% \u001b[91mloss:\u001b[0m 0.7309 \u001b[94m Val:\u001b[0m 61.986 \u001b[91mval_loss:\u001b[0m 1.7298\n",
      "\u001b[94mEpoch: 1\u001b[0m 60.267% \u001b[91mloss:\u001b[0m 0.73 \u001b[94m Val:\u001b[0m 61.986 \u001b[91mval_loss:\u001b[0m 2.1416\n",
      "\u001b[94mEpoch: 2\u001b[0m 60.267% \u001b[91mloss:\u001b[0m 0.7292 \u001b[94m Val:\u001b[0m 61.986 \u001b[91mval_loss:\u001b[0m 2.1469\n",
      "\u001b[94mEpoch: 3\u001b[0m 60.267% \u001b[91mloss:\u001b[0m 0.7284 \u001b[94m Val:\u001b[0m 61.986 \u001b[91mval_loss:\u001b[0m 2.1449\n",
      "\u001b[94mEpoch: 4\u001b[0m 60.267% \u001b[91mloss:\u001b[0m 0.7277 \u001b[94m Val:\u001b[0m 61.986 \u001b[91mval_loss:\u001b[0m 2.1428\n",
      "\u001b[94mEpoch: 5\u001b[0m 60.267% \u001b[91mloss:\u001b[0m 0.7269 \u001b[94m Val:\u001b[0m 61.986 \u001b[91mval_loss:\u001b[0m 2.1407\n",
      "\u001b[94mEpoch: 6\u001b[0m 60.267% \u001b[91mloss:\u001b[0m 0.7261 \u001b[94m Val:\u001b[0m 61.986 \u001b[91mval_loss:\u001b[0m 2.1386\n",
      "\u001b[94mEpoch: 7\u001b[0m 60.267% \u001b[91mloss:\u001b[0m 0.7254 \u001b[94m Val:\u001b[0m 61.986 \u001b[91mval_loss:\u001b[0m 2.1367\n",
      "\u001b[94mEpoch: 8\u001b[0m 60.267% \u001b[91mloss:\u001b[0m 0.7246 \u001b[94m Val:\u001b[0m 61.986 \u001b[91mval_loss:\u001b[0m 2.1347\n",
      "\u001b[94mEpoch: 9\u001b[0m 60.267% \u001b[91mloss:\u001b[0m 0.7239 \u001b[94m Val:\u001b[0m 61.986 \u001b[91mval_loss:\u001b[0m 2.1328\n",
      "\u001b[94mEpoch: 10\u001b[0m 60.267% \u001b[91mloss:\u001b[0m 0.7231 \u001b[94m Val:\u001b[0m 61.986 \u001b[91mval_loss:\u001b[0m 2.131\n"
     ]
    },
    {
     "name": "stderr",
     "output_type": "stream",
     "text": [
      "No artists with labels found to put in legend.  Note that artists whose label start with an underscore are ignored when legend() is called with no argument.\n"
     ]
    },
    {
     "data": {
      "image/png": "[encoded data removed]",
      "text/plain": [
       "<Figure size 432x288 with 1 Axes>"
      ]
     },
     "metadata": {
      "needs_background": "light"
     },
     "output_type": "display_data"
    }
   ],
   "source": [
    "model.train(train, val, batch_size=256,epochs=100,return_loss=True)"
   ]
  },
  {
   "cell_type": "code",
   "execution_count": 66,
   "id": "4d94f90d",
   "metadata": {},
   "outputs": [
    {
     "name": "stdout",
     "output_type": "stream",
     "text": [
      "\u001b[92m\n",
      "Accuracy: \u001b[0m 0.613603473227207\n",
      "\n",
      "\u001b[0mClassification Report:\n",
      "\n",
      "              precision    recall  f1-score   support\n",
      "\n",
      "           0       0.00      0.00      0.00         0\n",
      "           1       1.00      0.61      0.76       691\n",
      "\n",
      "    accuracy                           0.61       691\n",
      "   macro avg       0.50      0.31      0.38       691\n",
      "weighted avg       1.00      0.61      0.76       691\n",
      "\n",
      "\n",
      "\u001b[0mConfusion Matrix:\n",
      "\n",
      "\u001b[91m            Total Data Samples:\u001b[0m 691 \n",
      "\n",
      "\u001b[94m            Class 0:\u001b[0m 267\n",
      "\u001b[94m            Class 1:\u001b[0m 424 \n",
      "\u001b[0m\n",
      "Confusion matrix, without normalization\n",
      "[[  0   0]\n",
      " [267 424]]\n",
      "\n",
      "\n",
      "Something wrong\n"
     ]
    },
    {
     "data": {
      "image/png": "[encoded data removed]",
      "text/plain": [
       "<Figure size 432x288 with 2 Axes>"
      ]
     },
     "metadata": {
      "needs_background": "light"
     },
     "output_type": "display_data"
    }
   ],
   "source": [
    "model.analyze(val)"
   ]
  },
  {
   "cell_type": "code",
   "execution_count": 69,
   "id": "75ac2dcf",
   "metadata": {},
   "outputs": [],
   "source": [
    "import optuna"
   ]
  },
  {
   "cell_type": "code",
   "execution_count": null,
   "id": "947e3039",
   "metadata": {},
   "outputs": [],
   "source": []
  },
  {
   "cell_type": "code",
   "execution_count": null,
   "id": "5c981456",
   "metadata": {},
   "outputs": [],
   "source": []
  },
  {
   "cell_type": "code",
   "execution_count": null,
   "id": "b6b5544f",
   "metadata": {},
   "outputs": [],
   "source": []
  },
  {
   "cell_type": "code",
   "execution_count": null,
   "id": "3776a610",
   "metadata": {},
   "outputs": [],
   "source": []
  }
 ],
 "metadata": {
  "kernelspec": {
   "display_name": "Python 3 (ipykernel)",
   "language": "python",
   "name": "python3"
  },
  "language_info": {
   "codemirror_mode": {
    "name": "ipython",
    "version": 3
   },
   "file_extension": ".py",
   "mimetype": "text/x-python",
   "name": "python",
   "nbconvert_exporter": "python",
   "pygments_lexer": "ipython3",
   "version": "3.8.12"
  }
 },
 "nbformat": 4,
 "nbformat_minor": 5
}
