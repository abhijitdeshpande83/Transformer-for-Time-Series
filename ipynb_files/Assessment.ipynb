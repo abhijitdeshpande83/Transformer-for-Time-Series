{
 "cells": [
  {
   "cell_type": "code",
   "execution_count": 1,
   "id": "e8593dda",
   "metadata": {},
   "outputs": [],
   "source": [
    "#importing libraries\n",
    "import numpy as np\n",
    "import pandas as pd\n",
    "import matplotlib.pyplot as plt\n",
    "import seaborn as sns\n",
    "from sklearn.preprocessing import LabelEncoder\n",
    "from sklearn.model_selection import train_test_split\n",
    "import warnings\n",
    "warnings.filterwarnings('ignore')\n",
    "from sklearn.preprocessing import StandardScaler\n",
    "from sklearn.metrics import accuracy_score, classification_report, roc_curve,\\\n",
    "confusion_matrix, auc, precision_recall_curve,balanced_accuracy_score\n",
    "from sklearn.decomposition import PCA\n",
    "from sklearn.model_selection import cross_val_score"
   ]
  },
  {
   "cell_type": "code",
   "execution_count": 2,
   "id": "d86ab55d",
   "metadata": {},
   "outputs": [],
   "source": [
    "#importing data\n",
    "data = pd.read_csv('/Users/abhijitdeshpande/Downloads/Case Study Data.csv')"
   ]
  },
  {
   "cell_type": "code",
   "execution_count": 3,
   "id": "895a3097",
   "metadata": {},
   "outputs": [
    {
     "data": {
      "text/plain": [
       "age               3744\n",
       "job                  0\n",
       "marital              0\n",
       "education            0\n",
       "default              0\n",
       "housing              0\n",
       "loan                 0\n",
       "contact              0\n",
       "month                0\n",
       "day_of_week          0\n",
       "duration             0\n",
       "campaign             0\n",
       "pdays                0\n",
       "previous             0\n",
       "poutcome             0\n",
       "emp.var.rate         0\n",
       "cons.price.idx    5148\n",
       "cons.conf.idx        0\n",
       "euribor3m            0\n",
       "nr.employed          0\n",
       "y                    0\n",
       "dtype: int64"
      ]
     },
     "execution_count": 3,
     "metadata": {},
     "output_type": "execute_result"
    }
   ],
   "source": [
    "#checking null values in data\n",
    "data.isnull().sum()"
   ]
  },
  {
   "cell_type": "code",
   "execution_count": 4,
   "id": "3b2c810b",
   "metadata": {},
   "outputs": [
    {
     "name": "stdout",
     "output_type": "stream",
     "text": [
      "0 age Numerical data\n",
      "1 job ['housemaid' 'services' 'admin.' 'blue-collar' 'technician' 'retired'\n",
      " 'management' 'unemployed' 'self-employed' 'unknown' 'entrepreneur'\n",
      " 'student']\n",
      "2 marital ['married' 'single' 'divorced' 'unknown']\n",
      "3 education ['basic.4y' 'high.school' 'basic.6y' 'basic.9y' 'professional.course'\n",
      " 'unknown' 'university.degree' 'illiterate']\n",
      "4 default ['no' 'unknown' 'yes']\n",
      "5 housing ['no' 'yes' 'unknown']\n",
      "6 loan ['no' 'yes' 'unknown']\n",
      "7 contact ['telephone' 'cellular']\n",
      "8 month ['may' 'jun' 'jul' 'aug' 'oct' 'nov' 'dec' 'mar' 'apr' 'sep']\n",
      "9 day_of_week ['mon' 'tue' 'wed' 'thu' 'fri']\n",
      "10 duration Numerical data\n",
      "11 campaign Numerical data\n",
      "12 pdays Numerical data\n",
      "13 previous Numerical data\n",
      "14 poutcome ['nonexistent' 'failure' 'success']\n",
      "15 emp.var.rate Numerical data\n",
      "16 cons.price.idx Numerical data\n",
      "17 cons.conf.idx Numerical data\n",
      "18 euribor3m Numerical data\n",
      "19 nr.employed Numerical data\n",
      "20 y ['no' 'yes']\n"
     ]
    }
   ],
   "source": [
    "#checking data type, categorical features in data\n",
    "categorical_features, numerical_features = [],[]\n",
    "for i,column in enumerate(data.columns):\n",
    "    if data[column].dtype=='O': print(i,column,data[column].unique()), categorical_features.append(column)\n",
    "    else: print(i,column,'Numerical data'), numerical_features.append(column)"
   ]
  },
  {
   "cell_type": "code",
   "execution_count": 5,
   "id": "05a72d7b",
   "metadata": {},
   "outputs": [],
   "source": [
    "#Label encoding for ordinal categorical features and Onehot encoding for nominal features\n",
    "encoding = LabelEncoder()"
   ]
  },
  {
   "cell_type": "code",
   "execution_count": 6,
   "id": "12529686",
   "metadata": {},
   "outputs": [],
   "source": [
    "#job, education, default, housing, loan, poutcome are orndincal categorical features\n",
    "#these features comes with order and have meaningful representation for each label so need to\n",
    "#use label encding to preserve that order\n",
    "data['job'] = encoding.fit_transform(data['job'])\n",
    "data['education'] = encoding.fit_transform(data['education'])\n",
    "data['default'] = encoding.fit_transform(data['default'])\n",
    "data['housing'] = encoding.fit_transform(data['housing'])\n",
    "data['loan'] = encoding.fit_transform(data['loan'])\n",
    "data['poutcome'] =  encoding.fit_transform(data['poutcome'])"
   ]
  },
  {
   "cell_type": "code",
   "execution_count": 7,
   "id": "28e97ad7",
   "metadata": {},
   "outputs": [],
   "source": [
    "#these features does not add any more information in data\n",
    "data = data.drop(['contact','month','day_of_week','duration'],axis=1)"
   ]
  },
  {
   "cell_type": "code",
   "execution_count": 8,
   "id": "6c3ed9b8",
   "metadata": {},
   "outputs": [],
   "source": [
    "#it is nominal feature and used onehot encoding to convert it in numerical format\n",
    "data['marital'] = data['marital'].apply(lambda x:1 if x=='married' else 0)"
   ]
  },
  {
   "cell_type": "code",
   "execution_count": 9,
   "id": "ed96d790",
   "metadata": {
    "scrolled": true
   },
   "outputs": [],
   "source": [
    "data_copy = data.dropna()"
   ]
  },
  {
   "cell_type": "code",
   "execution_count": 10,
   "id": "dc89bf2b",
   "metadata": {},
   "outputs": [],
   "source": [
    "label = data['y'].apply(lambda x: 1 if x=='yes' else 0)"
   ]
  },
  {
   "cell_type": "code",
   "execution_count": 11,
   "id": "097fe3f4",
   "metadata": {},
   "outputs": [],
   "source": [
    "data = data.drop('y',axis=1)"
   ]
  },
  {
   "cell_type": "code",
   "execution_count": 12,
   "id": "6ece0471",
   "metadata": {},
   "outputs": [
    {
     "data": {
      "text/html": [
       "<div>\n",
       "<style scoped>\n",
       "    .dataframe tbody tr th:only-of-type {\n",
       "        vertical-align: middle;\n",
       "    }\n",
       "\n",
       "    .dataframe tbody tr th {\n",
       "        vertical-align: top;\n",
       "    }\n",
       "\n",
       "    .dataframe thead th {\n",
       "        text-align: right;\n",
       "    }\n",
       "</style>\n",
       "<table border=\"1\" class=\"dataframe\">\n",
       "  <thead>\n",
       "    <tr style=\"text-align: right;\">\n",
       "      <th></th>\n",
       "      <th>age</th>\n",
       "      <th>job</th>\n",
       "      <th>marital</th>\n",
       "      <th>education</th>\n",
       "      <th>default</th>\n",
       "      <th>housing</th>\n",
       "      <th>loan</th>\n",
       "      <th>campaign</th>\n",
       "      <th>pdays</th>\n",
       "      <th>previous</th>\n",
       "      <th>poutcome</th>\n",
       "      <th>emp.var.rate</th>\n",
       "      <th>cons.price.idx</th>\n",
       "      <th>cons.conf.idx</th>\n",
       "      <th>euribor3m</th>\n",
       "      <th>nr.employed</th>\n",
       "    </tr>\n",
       "  </thead>\n",
       "  <tbody>\n",
       "    <tr>\n",
       "      <th>count</th>\n",
       "      <td>37444.000000</td>\n",
       "      <td>41188.00000</td>\n",
       "      <td>41188.000000</td>\n",
       "      <td>41188.000000</td>\n",
       "      <td>41188.000000</td>\n",
       "      <td>41188.000000</td>\n",
       "      <td>41188.000000</td>\n",
       "      <td>41188.000000</td>\n",
       "      <td>41188.000000</td>\n",
       "      <td>41188.000000</td>\n",
       "      <td>41188.000000</td>\n",
       "      <td>41188.000000</td>\n",
       "      <td>36040.000000</td>\n",
       "      <td>41188.000000</td>\n",
       "      <td>41188.000000</td>\n",
       "      <td>41188.000000</td>\n",
       "    </tr>\n",
       "    <tr>\n",
       "      <th>mean</th>\n",
       "      <td>39.999947</td>\n",
       "      <td>3.72458</td>\n",
       "      <td>0.605225</td>\n",
       "      <td>3.747184</td>\n",
       "      <td>0.208872</td>\n",
       "      <td>1.071720</td>\n",
       "      <td>0.327425</td>\n",
       "      <td>2.567593</td>\n",
       "      <td>962.475454</td>\n",
       "      <td>0.172963</td>\n",
       "      <td>0.930101</td>\n",
       "      <td>0.081886</td>\n",
       "      <td>93.575575</td>\n",
       "      <td>-40.502600</td>\n",
       "      <td>3.621291</td>\n",
       "      <td>5167.035911</td>\n",
       "    </tr>\n",
       "    <tr>\n",
       "      <th>std</th>\n",
       "      <td>10.414908</td>\n",
       "      <td>3.59456</td>\n",
       "      <td>0.488808</td>\n",
       "      <td>2.136482</td>\n",
       "      <td>0.406686</td>\n",
       "      <td>0.985314</td>\n",
       "      <td>0.723616</td>\n",
       "      <td>2.770014</td>\n",
       "      <td>186.910907</td>\n",
       "      <td>0.494901</td>\n",
       "      <td>0.362886</td>\n",
       "      <td>1.570960</td>\n",
       "      <td>0.579216</td>\n",
       "      <td>4.628198</td>\n",
       "      <td>1.734447</td>\n",
       "      <td>72.251528</td>\n",
       "    </tr>\n",
       "    <tr>\n",
       "      <th>min</th>\n",
       "      <td>17.000000</td>\n",
       "      <td>0.00000</td>\n",
       "      <td>0.000000</td>\n",
       "      <td>0.000000</td>\n",
       "      <td>0.000000</td>\n",
       "      <td>0.000000</td>\n",
       "      <td>0.000000</td>\n",
       "      <td>1.000000</td>\n",
       "      <td>0.000000</td>\n",
       "      <td>0.000000</td>\n",
       "      <td>0.000000</td>\n",
       "      <td>-3.400000</td>\n",
       "      <td>92.201000</td>\n",
       "      <td>-50.800000</td>\n",
       "      <td>0.634000</td>\n",
       "      <td>4963.600000</td>\n",
       "    </tr>\n",
       "    <tr>\n",
       "      <th>25%</th>\n",
       "      <td>32.000000</td>\n",
       "      <td>0.00000</td>\n",
       "      <td>0.000000</td>\n",
       "      <td>2.000000</td>\n",
       "      <td>0.000000</td>\n",
       "      <td>0.000000</td>\n",
       "      <td>0.000000</td>\n",
       "      <td>1.000000</td>\n",
       "      <td>999.000000</td>\n",
       "      <td>0.000000</td>\n",
       "      <td>1.000000</td>\n",
       "      <td>-1.800000</td>\n",
       "      <td>93.075000</td>\n",
       "      <td>-42.700000</td>\n",
       "      <td>1.344000</td>\n",
       "      <td>5099.100000</td>\n",
       "    </tr>\n",
       "    <tr>\n",
       "      <th>50%</th>\n",
       "      <td>38.000000</td>\n",
       "      <td>2.00000</td>\n",
       "      <td>1.000000</td>\n",
       "      <td>3.000000</td>\n",
       "      <td>0.000000</td>\n",
       "      <td>2.000000</td>\n",
       "      <td>0.000000</td>\n",
       "      <td>2.000000</td>\n",
       "      <td>999.000000</td>\n",
       "      <td>0.000000</td>\n",
       "      <td>1.000000</td>\n",
       "      <td>1.100000</td>\n",
       "      <td>93.749000</td>\n",
       "      <td>-41.800000</td>\n",
       "      <td>4.857000</td>\n",
       "      <td>5191.000000</td>\n",
       "    </tr>\n",
       "    <tr>\n",
       "      <th>75%</th>\n",
       "      <td>47.000000</td>\n",
       "      <td>7.00000</td>\n",
       "      <td>1.000000</td>\n",
       "      <td>6.000000</td>\n",
       "      <td>0.000000</td>\n",
       "      <td>2.000000</td>\n",
       "      <td>0.000000</td>\n",
       "      <td>3.000000</td>\n",
       "      <td>999.000000</td>\n",
       "      <td>0.000000</td>\n",
       "      <td>1.000000</td>\n",
       "      <td>1.400000</td>\n",
       "      <td>93.994000</td>\n",
       "      <td>-36.400000</td>\n",
       "      <td>4.961000</td>\n",
       "      <td>5228.100000</td>\n",
       "    </tr>\n",
       "    <tr>\n",
       "      <th>max</th>\n",
       "      <td>98.000000</td>\n",
       "      <td>11.00000</td>\n",
       "      <td>1.000000</td>\n",
       "      <td>7.000000</td>\n",
       "      <td>2.000000</td>\n",
       "      <td>2.000000</td>\n",
       "      <td>2.000000</td>\n",
       "      <td>56.000000</td>\n",
       "      <td>999.000000</td>\n",
       "      <td>7.000000</td>\n",
       "      <td>2.000000</td>\n",
       "      <td>1.400000</td>\n",
       "      <td>94.767000</td>\n",
       "      <td>-26.900000</td>\n",
       "      <td>5.045000</td>\n",
       "      <td>5228.100000</td>\n",
       "    </tr>\n",
       "  </tbody>\n",
       "</table>\n",
       "</div>"
      ],
      "text/plain": [
       "                age          job       marital     education       default  \\\n",
       "count  37444.000000  41188.00000  41188.000000  41188.000000  41188.000000   \n",
       "mean      39.999947      3.72458      0.605225      3.747184      0.208872   \n",
       "std       10.414908      3.59456      0.488808      2.136482      0.406686   \n",
       "min       17.000000      0.00000      0.000000      0.000000      0.000000   \n",
       "25%       32.000000      0.00000      0.000000      2.000000      0.000000   \n",
       "50%       38.000000      2.00000      1.000000      3.000000      0.000000   \n",
       "75%       47.000000      7.00000      1.000000      6.000000      0.000000   \n",
       "max       98.000000     11.00000      1.000000      7.000000      2.000000   \n",
       "\n",
       "            housing          loan      campaign         pdays      previous  \\\n",
       "count  41188.000000  41188.000000  41188.000000  41188.000000  41188.000000   \n",
       "mean       1.071720      0.327425      2.567593    962.475454      0.172963   \n",
       "std        0.985314      0.723616      2.770014    186.910907      0.494901   \n",
       "min        0.000000      0.000000      1.000000      0.000000      0.000000   \n",
       "25%        0.000000      0.000000      1.000000    999.000000      0.000000   \n",
       "50%        2.000000      0.000000      2.000000    999.000000      0.000000   \n",
       "75%        2.000000      0.000000      3.000000    999.000000      0.000000   \n",
       "max        2.000000      2.000000     56.000000    999.000000      7.000000   \n",
       "\n",
       "           poutcome  emp.var.rate  cons.price.idx  cons.conf.idx  \\\n",
       "count  41188.000000  41188.000000    36040.000000   41188.000000   \n",
       "mean       0.930101      0.081886       93.575575     -40.502600   \n",
       "std        0.362886      1.570960        0.579216       4.628198   \n",
       "min        0.000000     -3.400000       92.201000     -50.800000   \n",
       "25%        1.000000     -1.800000       93.075000     -42.700000   \n",
       "50%        1.000000      1.100000       93.749000     -41.800000   \n",
       "75%        1.000000      1.400000       93.994000     -36.400000   \n",
       "max        2.000000      1.400000       94.767000     -26.900000   \n",
       "\n",
       "          euribor3m   nr.employed  \n",
       "count  41188.000000  41188.000000  \n",
       "mean       3.621291   5167.035911  \n",
       "std        1.734447     72.251528  \n",
       "min        0.634000   4963.600000  \n",
       "25%        1.344000   5099.100000  \n",
       "50%        4.857000   5191.000000  \n",
       "75%        4.961000   5228.100000  \n",
       "max        5.045000   5228.100000  "
      ]
     },
     "execution_count": 12,
     "metadata": {},
     "output_type": "execute_result"
    }
   ],
   "source": [
    "data.describe()"
   ]
  },
  {
   "cell_type": "code",
   "execution_count": 13,
   "id": "9be71b29",
   "metadata": {},
   "outputs": [
    {
     "data": {
      "text/plain": [
       "['age',\n",
       " 'duration',\n",
       " 'campaign',\n",
       " 'pdays',\n",
       " 'previous',\n",
       " 'emp.var.rate',\n",
       " 'cons.price.idx',\n",
       " 'cons.conf.idx',\n",
       " 'euribor3m',\n",
       " 'nr.employed']"
      ]
     },
     "execution_count": 13,
     "metadata": {},
     "output_type": "execute_result"
    }
   ],
   "source": [
    "numerical_features"
   ]
  },
  {
   "cell_type": "code",
   "execution_count": 14,
   "id": "4ad8032f",
   "metadata": {},
   "outputs": [],
   "source": [
    "numerical_features.remove('duration')"
   ]
  },
  {
   "cell_type": "code",
   "execution_count": 15,
   "id": "fd3223e2",
   "metadata": {},
   "outputs": [],
   "source": [
    "correlation = data[numerical_features].corr()"
   ]
  },
  {
   "cell_type": "code",
   "execution_count": 16,
   "id": "1578b54c",
   "metadata": {},
   "outputs": [
    {
     "data": {
      "text/plain": [
       "<AxesSubplot:>"
      ]
     },
     "execution_count": 16,
     "metadata": {},
     "output_type": "execute_result"
    },
    {
     "data": {
      "image/png": "[encoded data removed]",
      "text/plain": [
       "<Figure size 720x432 with 2 Axes>"
      ]
     },
     "metadata": {
      "needs_background": "light"
     },
     "output_type": "display_data"
    }
   ],
   "source": [
    "plt.figure(figsize=(10,6))\n",
    "sns.heatmap(correlation,xticklabels=numerical_features,yticklabels=numerical_features,\n",
    "           annot=True)"
   ]
  },
  {
   "cell_type": "code",
   "execution_count": 17,
   "id": "3e7192fa",
   "metadata": {},
   "outputs": [
    {
     "data": {
      "text/plain": [
       "<AxesSubplot:xlabel='euribor3m', ylabel='nr.employed'>"
      ]
     },
     "execution_count": 17,
     "metadata": {},
     "output_type": "execute_result"
    },
    {
     "data": {
      "image/png": "[encoded data removed]",
      "text/plain": [
       "<Figure size 432x288 with 1 Axes>"
      ]
     },
     "metadata": {
      "needs_background": "light"
     },
     "output_type": "display_data"
    }
   ],
   "source": [
    "sns.scatterplot(x=data['euribor3m'],y=data['nr.employed'])"
   ]
  },
  {
   "cell_type": "code",
   "execution_count": 18,
   "id": "68e416ea",
   "metadata": {},
   "outputs": [],
   "source": [
    "# for column in numerical_features:\n",
    "#     try:\n",
    "#         if data[column].dtype !='O':\n",
    "#             print(column)\n",
    "#             sns.boxplot(data[column])\n",
    "#             plt.show()\n",
    "#     except: pass"
   ]
  },
  {
   "cell_type": "code",
   "execution_count": 19,
   "id": "32acca6c",
   "metadata": {},
   "outputs": [],
   "source": [
    "x_train, x_test, y_train, y_test = train_test_split(data,label,test_size=0.2,random_state=1)"
   ]
  },
  {
   "cell_type": "code",
   "execution_count": 20,
   "id": "177daeea",
   "metadata": {},
   "outputs": [
    {
     "data": {
      "text/plain": [
       "age               3028\n",
       "job                  0\n",
       "marital              0\n",
       "education            0\n",
       "default              0\n",
       "housing              0\n",
       "loan                 0\n",
       "campaign             0\n",
       "pdays                0\n",
       "previous             0\n",
       "poutcome             0\n",
       "emp.var.rate         0\n",
       "cons.price.idx    4085\n",
       "cons.conf.idx        0\n",
       "euribor3m            0\n",
       "nr.employed          0\n",
       "dtype: int64"
      ]
     },
     "execution_count": 20,
     "metadata": {},
     "output_type": "execute_result"
    }
   ],
   "source": [
    "x_train.isnull().sum()"
   ]
  },
  {
   "cell_type": "code",
   "execution_count": 21,
   "id": "dc3697c3",
   "metadata": {},
   "outputs": [],
   "source": [
    "x_train['age'] = x_train['age'].replace(np.nan,x_train['age'].mean())\n",
    "x_test['age'] = x_test['age'].replace(np.nan,x_test['age'].mean())"
   ]
  },
  {
   "cell_type": "code",
   "execution_count": 22,
   "id": "56cd606a",
   "metadata": {},
   "outputs": [
    {
     "data": {
      "text/plain": [
       "age                  0\n",
       "job                  0\n",
       "marital              0\n",
       "education            0\n",
       "default              0\n",
       "housing              0\n",
       "loan                 0\n",
       "campaign             0\n",
       "pdays                0\n",
       "previous             0\n",
       "poutcome             0\n",
       "emp.var.rate         0\n",
       "cons.price.idx    4085\n",
       "cons.conf.idx        0\n",
       "euribor3m            0\n",
       "nr.employed          0\n",
       "dtype: int64"
      ]
     },
     "execution_count": 22,
     "metadata": {},
     "output_type": "execute_result"
    }
   ],
   "source": [
    "x_train.isnull().sum()"
   ]
  },
  {
   "cell_type": "code",
   "execution_count": 23,
   "id": "aaba7f51",
   "metadata": {},
   "outputs": [],
   "source": [
    "x_train['cons.price.idx'] = x_train['cons.price.idx'].replace(np.nan,x_train['cons.price.idx'].mean())\n",
    "x_test['cons.price.idx'] = x_test['cons.price.idx'].replace(np.nan,x_test['cons.price.idx'].mean())"
   ]
  },
  {
   "cell_type": "code",
   "execution_count": 24,
   "id": "cf124cd7",
   "metadata": {},
   "outputs": [],
   "source": [
    "#scaling data to make all features at same scale\n",
    "#after scaling using pca to remove multicollinearity and relation"
   ]
  },
  {
   "cell_type": "code",
   "execution_count": 25,
   "id": "5015ca4d",
   "metadata": {},
   "outputs": [],
   "source": [
    "scale = StandardScaler()"
   ]
  },
  {
   "cell_type": "code",
   "execution_count": 26,
   "id": "d27dded6",
   "metadata": {},
   "outputs": [
    {
     "data": {
      "text/plain": [
       "StandardScaler()"
      ]
     },
     "execution_count": 26,
     "metadata": {},
     "output_type": "execute_result"
    }
   ],
   "source": [
    "scale.fit(x_train)"
   ]
  },
  {
   "cell_type": "code",
   "execution_count": 27,
   "id": "8eb8d4c0",
   "metadata": {},
   "outputs": [],
   "source": [
    "x_train = scale.transform(x_train)"
   ]
  },
  {
   "cell_type": "code",
   "execution_count": 28,
   "id": "4896eda5",
   "metadata": {},
   "outputs": [],
   "source": [
    "x_test = scale.transform(x_test)"
   ]
  },
  {
   "cell_type": "code",
   "execution_count": 29,
   "id": "e3f5f137",
   "metadata": {},
   "outputs": [],
   "source": [
    "from sklearn.linear_model import LogisticRegression\n",
    "from sklearn.ensemble import RandomForestClassifier"
   ]
  },
  {
   "cell_type": "code",
   "execution_count": 30,
   "id": "48fa5d85",
   "metadata": {},
   "outputs": [],
   "source": [
    "#Using Optuna to tune the parameters"
   ]
  },
  {
   "cell_type": "code",
   "execution_count": 31,
   "id": "e5431fa4",
   "metadata": {},
   "outputs": [],
   "source": [
    "def objective(trial):\n",
    "    \n",
    "    clf = trial.suggest_categorical('Classifier',['Logistic'])#,'RandomForest'])\n",
    "    \n",
    "    if clf=='RandomForest':\n",
    "        n_estimators=trial.suggest_int('n_estimators',10,500)\n",
    "        max_depth=trial.suggest_int('max_depth',1,20,log=True)\n",
    "        max_features=trial.suggest_int('max_features',1,20)\n",
    "\n",
    "        clf = RandomForestClassifier(n_estimators,max_depth=max_depth,\n",
    "                                   max_features=max_features)\n",
    "    \n",
    "    elif clf=='svm':\n",
    "        C = trial.suggest_float('C',1e-5,1e5,log=True)   \n",
    "        clf = SVC(kernel='rbf',C=C,gamma='auto')\n",
    "    \n",
    "    elif clf=='Logistic':\n",
    "        solver = trial.suggest_categorical('solver',['liblinear','saga','sag','lbfgs'])\n",
    "        C = trial.suggest_float('C',1e-5,1e5,log=True)\n",
    "        clf = LogisticRegression(C=C,solver=solver)\n",
    "        \n",
    "    return cross_val_score(clf, x_train, y_train, cv=10,scoring='recall').mean()\n",
    "\n",
    "\n",
    "import optuna"
   ]
  },
  {
   "cell_type": "code",
   "execution_count": 32,
   "id": "eb57d148",
   "metadata": {},
   "outputs": [
    {
     "name": "stderr",
     "output_type": "stream",
     "text": [
      "\u001b[32m[I 2022-06-07 18:28:55,453]\u001b[0m A new study created in memory with name: no-name-30c8439e-a56c-4a0e-bfe8-09601a14166e\u001b[0m\n"
     ]
    }
   ],
   "source": [
    "study = optuna.create_study(direction='maximize')"
   ]
  },
  {
   "cell_type": "code",
   "execution_count": 33,
   "id": "f47bdd35",
   "metadata": {},
   "outputs": [
    {
     "name": "stderr",
     "output_type": "stream",
     "text": [
      "\u001b[32m[I 2022-06-07 18:28:56,522]\u001b[0m Trial 0 finished with value: 0.1834490588149125 and parameters: {'Classifier': 'Logistic', 'solver': 'sag', 'C': 49129.82462908343}. Best is trial 0 with value: 0.1834490588149125.\u001b[0m\n",
      "\u001b[32m[I 2022-06-07 18:28:57,238]\u001b[0m Trial 1 finished with value: 0.1788500695817769 and parameters: {'Classifier': 'Logistic', 'solver': 'saga', 'C': 0.0008487583162922637}. Best is trial 0 with value: 0.1834490588149125.\u001b[0m\n",
      "\u001b[32m[I 2022-06-07 18:28:58,299]\u001b[0m Trial 2 finished with value: 0.1834490588149125 and parameters: {'Classifier': 'Logistic', 'solver': 'sag', 'C': 462.79922802980764}. Best is trial 0 with value: 0.1834490588149125.\u001b[0m\n",
      "\u001b[32m[I 2022-06-07 18:29:00,248]\u001b[0m Trial 3 finished with value: 0.1834490588149125 and parameters: {'Classifier': 'Logistic', 'solver': 'liblinear', 'C': 7.103839501932902}. Best is trial 0 with value: 0.1834490588149125.\u001b[0m\n",
      "\u001b[32m[I 2022-06-07 18:29:01,280]\u001b[0m Trial 4 finished with value: 0.1834490588149125 and parameters: {'Classifier': 'Logistic', 'solver': 'sag', 'C': 102.98492073883482}. Best is trial 0 with value: 0.1834490588149125.\u001b[0m\n",
      "\u001b[32m[I 2022-06-07 18:29:01,591]\u001b[0m Trial 5 finished with value: 0.18101442906320958 and parameters: {'Classifier': 'Logistic', 'solver': 'lbfgs', 'C': 0.004810537928711432}. Best is trial 0 with value: 0.1834490588149125.\u001b[0m\n",
      "\u001b[32m[I 2022-06-07 18:29:02,221]\u001b[0m Trial 6 finished with value: 0.17993188310261482 and parameters: {'Classifier': 'Logistic', 'solver': 'sag', 'C': 0.0015871335146099186}. Best is trial 0 with value: 0.1834490588149125.\u001b[0m\n",
      "\u001b[32m[I 2022-06-07 18:29:02,642]\u001b[0m Trial 7 finished with value: 0.1834490588149125 and parameters: {'Classifier': 'Logistic', 'solver': 'liblinear', 'C': 2.393578848317037}. Best is trial 0 with value: 0.1834490588149125.\u001b[0m\n",
      "\u001b[32m[I 2022-06-07 18:29:02,925]\u001b[0m Trial 8 finished with value: 0.19399619131326448 and parameters: {'Classifier': 'Logistic', 'solver': 'liblinear', 'C': 0.0020056715744299126}. Best is trial 8 with value: 0.19399619131326448.\u001b[0m\n",
      "\u001b[32m[I 2022-06-07 18:29:03,385]\u001b[0m Trial 9 finished with value: 0.1834490588149125 and parameters: {'Classifier': 'Logistic', 'solver': 'lbfgs', 'C': 2.7022167037208753}. Best is trial 8 with value: 0.19399619131326448.\u001b[0m\n",
      "\u001b[32m[I 2022-06-07 18:29:03,781]\u001b[0m Trial 10 finished with value: 0.1829070533948583 and parameters: {'Classifier': 'Logistic', 'solver': 'liblinear', 'C': 0.03403245929109429}. Best is trial 8 with value: 0.19399619131326448.\u001b[0m\n",
      "\u001b[32m[I 2022-06-07 18:29:04,382]\u001b[0m Trial 11 finished with value: 0.0 and parameters: {'Classifier': 'Logistic', 'solver': 'saga', 'C': 1.3586151527600366e-05}. Best is trial 8 with value: 0.19399619131326448.\u001b[0m\n",
      "\u001b[32m[I 2022-06-07 18:29:04,797]\u001b[0m Trial 12 finished with value: 0.1834490588149125 and parameters: {'Classifier': 'Logistic', 'solver': 'liblinear', 'C': 44024.58464490335}. Best is trial 8 with value: 0.19399619131326448.\u001b[0m\n",
      "\u001b[32m[I 2022-06-07 18:29:05,808]\u001b[0m Trial 13 finished with value: 0.1834490588149125 and parameters: {'Classifier': 'Logistic', 'solver': 'sag', 'C': 56972.752494216234}. Best is trial 8 with value: 0.19399619131326448.\u001b[0m\n",
      "\u001b[32m[I 2022-06-07 18:29:06,747]\u001b[0m Trial 14 finished with value: 0.18236651285431774 and parameters: {'Classifier': 'Logistic', 'solver': 'sag', 'C': 0.08412474795281043}. Best is trial 8 with value: 0.19399619131326448.\u001b[0m\n",
      "\u001b[32m[I 2022-06-07 18:29:06,971]\u001b[0m Trial 15 finished with value: 0.23133304035743057 and parameters: {'Classifier': 'Logistic', 'solver': 'liblinear', 'C': 7.988073881866386e-05}. Best is trial 15 with value: 0.23133304035743057.\u001b[0m\n",
      "\u001b[32m[I 2022-06-07 18:29:07,162]\u001b[0m Trial 16 finished with value: 0.45968724822383356 and parameters: {'Classifier': 'Logistic', 'solver': 'liblinear', 'C': 1.0337208891403803e-05}. Best is trial 16 with value: 0.45968724822383356.\u001b[0m\n",
      "\u001b[32m[I 2022-06-07 18:29:07,357]\u001b[0m Trial 17 finished with value: 0.2959920896506262 and parameters: {'Classifier': 'Logistic', 'solver': 'liblinear', 'C': 3.948163624739332e-05}. Best is trial 16 with value: 0.45968724822383356.\u001b[0m\n",
      "\u001b[32m[I 2022-06-07 18:29:07,520]\u001b[0m Trial 18 finished with value: 0.4358851534461291 and parameters: {'Classifier': 'Logistic', 'solver': 'liblinear', 'C': 1.3421215700453329e-05}. Best is trial 16 with value: 0.45968724822383356.\u001b[0m\n",
      "\u001b[32m[I 2022-06-07 18:29:07,756]\u001b[0m Trial 19 finished with value: 0.20400717790961692 and parameters: {'Classifier': 'Logistic', 'solver': 'liblinear', 'C': 0.00023153995509277134}. Best is trial 16 with value: 0.45968724822383356.\u001b[0m\n",
      "\u001b[32m[I 2022-06-07 18:29:08,193]\u001b[0m Trial 20 finished with value: 0.18155423716399327 and parameters: {'Classifier': 'Logistic', 'solver': 'lbfgs', 'C': 0.031564674802790946}. Best is trial 16 with value: 0.45968724822383356.\u001b[0m\n",
      "\u001b[32m[I 2022-06-07 18:29:08,390]\u001b[0m Trial 21 finished with value: 0.44183476159085916 and parameters: {'Classifier': 'Logistic', 'solver': 'liblinear', 'C': 1.2482743573079974e-05}. Best is trial 16 with value: 0.45968724822383356.\u001b[0m\n",
      "\u001b[32m[I 2022-06-07 18:29:08,551]\u001b[0m Trial 22 finished with value: 0.42397641543983006 and parameters: {'Classifier': 'Logistic', 'solver': 'liblinear', 'C': 1.4824105569258009e-05}. Best is trial 16 with value: 0.45968724822383356.\u001b[0m\n",
      "\u001b[32m[I 2022-06-07 18:29:08,774]\u001b[0m Trial 23 finished with value: 0.20508825899069802 and parameters: {'Classifier': 'Logistic', 'solver': 'liblinear', 'C': 0.00017827494639353049}. Best is trial 16 with value: 0.45968724822383356.\u001b[0m\n",
      "\u001b[32m[I 2022-06-07 18:29:09,011]\u001b[0m Trial 24 finished with value: 0.20400717790961692 and parameters: {'Classifier': 'Logistic', 'solver': 'liblinear', 'C': 0.00028875604838330646}. Best is trial 16 with value: 0.45968724822383356.\u001b[0m\n",
      "\u001b[32m[I 2022-06-07 18:29:09,616]\u001b[0m Trial 25 finished with value: 0.0 and parameters: {'Classifier': 'Logistic', 'solver': 'saga', 'C': 1.9326414848147595e-05}. Best is trial 16 with value: 0.45968724822383356.\u001b[0m\n",
      "\u001b[32m[I 2022-06-07 18:29:10,031]\u001b[0m Trial 26 finished with value: 0.18290705339485827 and parameters: {'Classifier': 'Logistic', 'solver': 'liblinear', 'C': 0.210541123695573}. Best is trial 16 with value: 0.45968724822383356.\u001b[0m\n",
      "\u001b[32m[I 2022-06-07 18:29:10,396]\u001b[0m Trial 27 finished with value: 0.1837178642056691 and parameters: {'Classifier': 'Logistic', 'solver': 'liblinear', 'C': 0.009304472456302454}. Best is trial 16 with value: 0.45968724822383356.\u001b[0m\n",
      "\u001b[32m[I 2022-06-07 18:29:10,602]\u001b[0m Trial 28 finished with value: 0.2524382919504871 and parameters: {'Classifier': 'Logistic', 'solver': 'liblinear', 'C': 6.524282163706497e-05}. Best is trial 16 with value: 0.45968724822383356.\u001b[0m\n",
      "\u001b[32m[I 2022-06-07 18:29:10,799]\u001b[0m Trial 29 finished with value: 0.17749725335091188 and parameters: {'Classifier': 'Logistic', 'solver': 'lbfgs', 'C': 0.0005829785084102761}. Best is trial 16 with value: 0.45968724822383356.\u001b[0m\n",
      "\u001b[32m[I 2022-06-07 18:29:11,411]\u001b[0m Trial 30 finished with value: 0.0 and parameters: {'Classifier': 'Logistic', 'solver': 'saga', 'C': 1.1574074709982588e-05}. Best is trial 16 with value: 0.45968724822383356.\u001b[0m\n",
      "\u001b[32m[I 2022-06-07 18:29:11,605]\u001b[0m Trial 31 finished with value: 0.26569105691056916 and parameters: {'Classifier': 'Logistic', 'solver': 'liblinear', 'C': 5.548626542652227e-05}. Best is trial 16 with value: 0.45968724822383356.\u001b[0m\n",
      "\u001b[32m[I 2022-06-07 18:29:11,795]\u001b[0m Trial 32 finished with value: 0.45157035083864344 and parameters: {'Classifier': 'Logistic', 'solver': 'liblinear', 'C': 1.1219088834960952e-05}. Best is trial 16 with value: 0.45968724822383356.\u001b[0m\n",
      "\u001b[32m[I 2022-06-07 18:29:12,006]\u001b[0m Trial 33 finished with value: 0.20860543470299567 and parameters: {'Classifier': 'Logistic', 'solver': 'liblinear', 'C': 0.00012835279603898227}. Best is trial 16 with value: 0.45968724822383356.\u001b[0m\n",
      "\u001b[32m[I 2022-06-07 18:29:12,261]\u001b[0m Trial 34 finished with value: 0.20238409140848165 and parameters: {'Classifier': 'Logistic', 'solver': 'liblinear', 'C': 0.0006974721788772001}. Best is trial 16 with value: 0.45968724822383356.\u001b[0m\n",
      "\u001b[32m[I 2022-06-07 18:29:12,682]\u001b[0m Trial 35 finished with value: 0.1834490588149125 and parameters: {'Classifier': 'Logistic', 'solver': 'liblinear', 'C': 311.2357126016361}. Best is trial 16 with value: 0.45968724822383356.\u001b[0m\n"
     ]
    },
    {
     "name": "stderr",
     "output_type": "stream",
     "text": [
      "\u001b[32m[I 2022-06-07 18:29:13,400]\u001b[0m Trial 36 finished with value: 0.0 and parameters: {'Classifier': 'Logistic', 'solver': 'saga', 'C': 1.053402378064676e-05}. Best is trial 16 with value: 0.45968724822383356.\u001b[0m\n",
      "\u001b[32m[I 2022-06-07 18:29:13,717]\u001b[0m Trial 37 finished with value: 0.18696403720793967 and parameters: {'Classifier': 'Logistic', 'solver': 'liblinear', 'C': 0.003201126065732494}. Best is trial 16 with value: 0.45968724822383356.\u001b[0m\n",
      "\u001b[32m[I 2022-06-07 18:29:13,967]\u001b[0m Trial 38 finished with value: 0.2037361751995898 and parameters: {'Classifier': 'Logistic', 'solver': 'liblinear', 'C': 0.0005045595628683247}. Best is trial 16 with value: 0.45968724822383356.\u001b[0m\n",
      "\u001b[32m[I 2022-06-07 18:29:14,479]\u001b[0m Trial 39 finished with value: 0.0 and parameters: {'Classifier': 'Logistic', 'solver': 'sag', 'C': 4.223926123971181e-05}. Best is trial 16 with value: 0.45968724822383356.\u001b[0m\n",
      "\u001b[32m[I 2022-06-07 18:29:14,886]\u001b[0m Trial 40 finished with value: 0.1834490588149125 and parameters: {'Classifier': 'Logistic', 'solver': 'lbfgs', 'C': 10890.909052080548}. Best is trial 16 with value: 0.45968724822383356.\u001b[0m\n",
      "\u001b[32m[I 2022-06-07 18:29:15,052]\u001b[0m Trial 41 finished with value: 0.32142386288727753 and parameters: {'Classifier': 'Logistic', 'solver': 'liblinear', 'C': 3.202815218549281e-05}. Best is trial 16 with value: 0.45968724822383356.\u001b[0m\n",
      "\u001b[32m[I 2022-06-07 18:29:15,239]\u001b[0m Trial 42 finished with value: 0.45157035083864344 and parameters: {'Classifier': 'Logistic', 'solver': 'liblinear', 'C': 1.1194386812188257e-05}. Best is trial 16 with value: 0.45968724822383356.\u001b[0m\n",
      "\u001b[32m[I 2022-06-07 18:29:15,646]\u001b[0m Trial 43 finished with value: 0.1834490588149125 and parameters: {'Classifier': 'Logistic', 'solver': 'liblinear', 'C': 15.918159985112627}. Best is trial 16 with value: 0.45968724822383356.\u001b[0m\n",
      "\u001b[32m[I 2022-06-07 18:29:15,860]\u001b[0m Trial 44 finished with value: 0.21320442393613126 and parameters: {'Classifier': 'Logistic', 'solver': 'liblinear', 'C': 0.00010144492533541837}. Best is trial 16 with value: 0.45968724822383356.\u001b[0m\n",
      "\u001b[32m[I 2022-06-07 18:29:16,048]\u001b[0m Trial 45 finished with value: 0.460228521204131 and parameters: {'Classifier': 'Logistic', 'solver': 'liblinear', 'C': 1.0246718544769302e-05}. Best is trial 45 with value: 0.460228521204131.\u001b[0m\n",
      "\u001b[32m[I 2022-06-07 18:29:16,410]\u001b[0m Trial 46 finished with value: 0.1837178642056691 and parameters: {'Classifier': 'Logistic', 'solver': 'liblinear', 'C': 0.00901535731875202}. Best is trial 45 with value: 0.460228521204131.\u001b[0m\n",
      "\u001b[32m[I 2022-06-07 18:29:17,021]\u001b[0m Trial 47 finished with value: 0.17912033985204717 and parameters: {'Classifier': 'Logistic', 'solver': 'sag', 'C': 0.0011732065019073891}. Best is trial 45 with value: 0.460228521204131.\u001b[0m\n",
      "\u001b[32m[I 2022-06-07 18:29:17,231]\u001b[0m Trial 48 finished with value: 0.20427744817988724 and parameters: {'Classifier': 'Logistic', 'solver': 'liblinear', 'C': 0.00022110876858635794}. Best is trial 45 with value: 0.460228521204131.\u001b[0m\n",
      "\u001b[32m[I 2022-06-07 18:29:17,817]\u001b[0m Trial 49 finished with value: 0.0 and parameters: {'Classifier': 'Logistic', 'solver': 'saga', 'C': 3.302727877747924e-05}. Best is trial 45 with value: 0.460228521204131.\u001b[0m\n",
      "\u001b[32m[I 2022-06-07 18:29:18,230]\u001b[0m Trial 50 finished with value: 0.18317805610488536 and parameters: {'Classifier': 'Logistic', 'solver': 'liblinear', 'C': 0.3951958348869728}. Best is trial 45 with value: 0.460228521204131.\u001b[0m\n",
      "\u001b[32m[I 2022-06-07 18:29:18,416]\u001b[0m Trial 51 finished with value: 0.45725042115286013 and parameters: {'Classifier': 'Logistic', 'solver': 'liblinear', 'C': 1.0609652865961663e-05}. Best is trial 45 with value: 0.460228521204131.\u001b[0m\n",
      "\u001b[32m[I 2022-06-07 18:29:18,583]\u001b[0m Trial 52 finished with value: 0.35848897678165975 and parameters: {'Classifier': 'Logistic', 'solver': 'liblinear', 'C': 2.5162404611058204e-05}. Best is trial 45 with value: 0.460228521204131.\u001b[0m\n",
      "\u001b[32m[I 2022-06-07 18:29:18,797]\u001b[0m Trial 53 finished with value: 0.2115828023145096 and parameters: {'Classifier': 'Logistic', 'solver': 'liblinear', 'C': 0.00010688996684858025}. Best is trial 45 with value: 0.460228521204131.\u001b[0m\n",
      "\u001b[32m[I 2022-06-07 18:29:18,982]\u001b[0m Trial 54 finished with value: 0.45670988061231965 and parameters: {'Classifier': 'Logistic', 'solver': 'liblinear', 'C': 1.0662534306776939e-05}. Best is trial 45 with value: 0.460228521204131.\u001b[0m\n",
      "\u001b[32m[I 2022-06-07 18:29:19,137]\u001b[0m Trial 55 finished with value: 0.0 and parameters: {'Classifier': 'Logistic', 'solver': 'lbfgs', 'C': 5.6466185800390316e-05}. Best is trial 45 with value: 0.460228521204131.\u001b[0m\n",
      "\u001b[32m[I 2022-06-07 18:29:19,304]\u001b[0m Trial 56 finished with value: 0.35199736321687536 and parameters: {'Classifier': 'Logistic', 'solver': 'liblinear', 'C': 2.6255270200449483e-05}. Best is trial 45 with value: 0.460228521204131.\u001b[0m\n",
      "\u001b[32m[I 2022-06-07 18:29:19,548]\u001b[0m Trial 57 finished with value: 0.20400717790961692 and parameters: {'Classifier': 'Logistic', 'solver': 'liblinear', 'C': 0.0003579683597046194}. Best is trial 45 with value: 0.460228521204131.\u001b[0m\n",
      "\u001b[32m[I 2022-06-07 18:29:20,104]\u001b[0m Trial 58 finished with value: 0.03571742474181499 and parameters: {'Classifier': 'Logistic', 'solver': 'sag', 'C': 0.00011992202603162672}. Best is trial 45 with value: 0.460228521204131.\u001b[0m\n",
      "\u001b[32m[I 2022-06-07 18:29:20,292]\u001b[0m Trial 59 finished with value: 0.455088258990698 and parameters: {'Classifier': 'Logistic', 'solver': 'liblinear', 'C': 1.0852104902664338e-05}. Best is trial 45 with value: 0.460228521204131.\u001b[0m\n",
      "\u001b[32m[I 2022-06-07 18:29:20,572]\u001b[0m Trial 60 finished with value: 0.1956200102541566 and parameters: {'Classifier': 'Logistic', 'solver': 'liblinear', 'C': 0.0018015074652699484}. Best is trial 45 with value: 0.460228521204131.\u001b[0m\n",
      "\u001b[32m[I 2022-06-07 18:29:20,757]\u001b[0m Trial 61 finished with value: 0.44994799677726516 and parameters: {'Classifier': 'Logistic', 'solver': 'liblinear', 'C': 1.1468335847492343e-05}. Best is trial 45 with value: 0.460228521204131.\u001b[0m\n",
      "\u001b[32m[I 2022-06-07 18:29:20,923]\u001b[0m Trial 62 finished with value: 0.3555138064894162 and parameters: {'Classifier': 'Logistic', 'solver': 'liblinear', 'C': 2.5684102410901824e-05}. Best is trial 45 with value: 0.460228521204131.\u001b[0m\n",
      "\u001b[32m[I 2022-06-07 18:29:21,121]\u001b[0m Trial 63 finished with value: 0.25514172709294664 and parameters: {'Classifier': 'Logistic', 'solver': 'liblinear', 'C': 6.335157337794543e-05}. Best is trial 45 with value: 0.460228521204131.\u001b[0m\n",
      "\u001b[32m[I 2022-06-07 18:29:21,306]\u001b[0m Trial 64 finished with value: 0.460228521204131 and parameters: {'Classifier': 'Logistic', 'solver': 'liblinear', 'C': 1.0199596649336224e-05}. Best is trial 45 with value: 0.460228521204131.\u001b[0m\n",
      "\u001b[32m[I 2022-06-07 18:29:21,473]\u001b[0m Trial 65 finished with value: 0.32872921702189994 and parameters: {'Classifier': 'Logistic', 'solver': 'liblinear', 'C': 3.0419511141575878e-05}. Best is trial 45 with value: 0.460228521204131.\u001b[0m\n",
      "\u001b[32m[I 2022-06-07 18:29:21,680]\u001b[0m Trial 66 finished with value: 0.20454771845015748 and parameters: {'Classifier': 'Logistic', 'solver': 'liblinear', 'C': 0.0001987042068756176}. Best is trial 45 with value: 0.460228521204131.\u001b[0m\n",
      "\u001b[32m[I 2022-06-07 18:29:21,843]\u001b[0m Trial 67 finished with value: 0.0 and parameters: {'Classifier': 'Logistic', 'solver': 'lbfgs', 'C': 2.0938784533807956e-05}. Best is trial 45 with value: 0.460228521204131.\u001b[0m\n",
      "\u001b[32m[I 2022-06-07 18:29:22,047]\u001b[0m Trial 68 finished with value: 0.2334959349593496 and parameters: {'Classifier': 'Logistic', 'solver': 'liblinear', 'C': 7.873795590544242e-05}. Best is trial 45 with value: 0.460228521204131.\u001b[0m\n",
      "\u001b[32m[I 2022-06-07 18:29:22,655]\u001b[0m Trial 69 finished with value: 0.0 and parameters: {'Classifier': 'Logistic', 'solver': 'saga', 'C': 5.501224290373711e-05}. Best is trial 45 with value: 0.460228521204131.\u001b[0m\n",
      "\u001b[32m[I 2022-06-07 18:29:22,842]\u001b[0m Trial 70 finished with value: 0.4577924265729144 and parameters: {'Classifier': 'Logistic', 'solver': 'liblinear', 'C': 1.0554069965422383e-05}. Best is trial 45 with value: 0.460228521204131.\u001b[0m\n",
      "\u001b[32m[I 2022-06-07 18:29:23,032]\u001b[0m Trial 71 finished with value: 0.4553585292609683 and parameters: {'Classifier': 'Logistic', 'solver': 'liblinear', 'C': 1.0812518166066625e-05}. Best is trial 45 with value: 0.460228521204131.\u001b[0m\n"
     ]
    },
    {
     "name": "stderr",
     "output_type": "stream",
     "text": [
      "\u001b[32m[I 2022-06-07 18:29:23,198]\u001b[0m Trial 72 finished with value: 0.3806782392148246 and parameters: {'Classifier': 'Logistic', 'solver': 'liblinear', 'C': 2.1046622239592908e-05}. Best is trial 45 with value: 0.460228521204131.\u001b[0m\n",
      "\u001b[32m[I 2022-06-07 18:29:23,383]\u001b[0m Trial 73 finished with value: 0.46076906174467147 and parameters: {'Classifier': 'Logistic', 'solver': 'liblinear', 'C': 1.0101742050460722e-05}. Best is trial 73 with value: 0.46076906174467147.\u001b[0m\n",
      "\u001b[32m[I 2022-06-07 18:29:23,574]\u001b[0m Trial 74 finished with value: 0.29220391122830147 and parameters: {'Classifier': 'Logistic', 'solver': 'liblinear', 'C': 4.063778251414109e-05}. Best is trial 73 with value: 0.46076906174467147.\u001b[0m\n",
      "\u001b[32m[I 2022-06-07 18:29:23,990]\u001b[0m Trial 75 finished with value: 0.1834490588149125 and parameters: {'Classifier': 'Logistic', 'solver': 'liblinear', 'C': 2682.6606142023998}. Best is trial 73 with value: 0.46076906174467147.\u001b[0m\n",
      "\u001b[32m[I 2022-06-07 18:29:24,199]\u001b[0m Trial 76 finished with value: 0.20508825899069802 and parameters: {'Classifier': 'Logistic', 'solver': 'liblinear', 'C': 0.00017534717795148635}. Best is trial 73 with value: 0.46076906174467147.\u001b[0m\n",
      "\u001b[32m[I 2022-06-07 18:29:25,220]\u001b[0m Trial 77 finished with value: 0.1834490588149125 and parameters: {'Classifier': 'Logistic', 'solver': 'sag', 'C': 9.731053162608992}. Best is trial 73 with value: 0.46076906174467147.\u001b[0m\n",
      "\u001b[32m[I 2022-06-07 18:29:25,462]\u001b[0m Trial 78 finished with value: 0.20400717790961692 and parameters: {'Classifier': 'Logistic', 'solver': 'liblinear', 'C': 0.0003541547120397556}. Best is trial 73 with value: 0.46076906174467147.\u001b[0m\n",
      "\u001b[32m[I 2022-06-07 18:29:25,628]\u001b[0m Trial 79 finished with value: 0.38176078517541934 and parameters: {'Classifier': 'Logistic', 'solver': 'liblinear', 'C': 2.0840039261100824e-05}. Best is trial 73 with value: 0.46076906174467147.\u001b[0m\n",
      "\u001b[32m[I 2022-06-07 18:29:25,852]\u001b[0m Trial 80 finished with value: 0.2207785834615103 and parameters: {'Classifier': 'Logistic', 'solver': 'liblinear', 'C': 8.980436295663663e-05}. Best is trial 73 with value: 0.46076906174467147.\u001b[0m\n",
      "\u001b[32m[I 2022-06-07 18:29:26,012]\u001b[0m Trial 81 finished with value: 0.4215417856881271 and parameters: {'Classifier': 'Logistic', 'solver': 'liblinear', 'C': 1.5201881910046555e-05}. Best is trial 73 with value: 0.46076906174467147.\u001b[0m\n",
      "\u001b[32m[I 2022-06-07 18:29:26,197]\u001b[0m Trial 82 finished with value: 0.45048853731780564 and parameters: {'Classifier': 'Logistic', 'solver': 'liblinear', 'C': 1.138389652413688e-05}. Best is trial 73 with value: 0.46076906174467147.\u001b[0m\n",
      "\u001b[32m[I 2022-06-07 18:29:26,383]\u001b[0m Trial 83 finished with value: 0.460228521204131 and parameters: {'Classifier': 'Logistic', 'solver': 'liblinear', 'C': 1.018832109400417e-05}. Best is trial 73 with value: 0.46076906174467147.\u001b[0m\n",
      "\u001b[32m[I 2022-06-07 18:29:26,573]\u001b[0m Trial 84 finished with value: 0.28300446788251665 and parameters: {'Classifier': 'Logistic', 'solver': 'liblinear', 'C': 4.538988769640048e-05}. Best is trial 73 with value: 0.46076906174467147.\u001b[0m\n",
      "\u001b[32m[I 2022-06-07 18:29:26,740]\u001b[0m Trial 85 finished with value: 0.3752655094118509 and parameters: {'Classifier': 'Logistic', 'solver': 'liblinear', 'C': 2.219374330309441e-05}. Best is trial 73 with value: 0.46076906174467147.\u001b[0m\n",
      "\u001b[32m[I 2022-06-07 18:29:26,906]\u001b[0m Trial 86 finished with value: 0.3103303303303303 and parameters: {'Classifier': 'Logistic', 'solver': 'liblinear', 'C': 3.441991499686889e-05}. Best is trial 73 with value: 0.46076906174467147.\u001b[0m\n",
      "\u001b[32m[I 2022-06-07 18:29:28,664]\u001b[0m Trial 87 finished with value: 0.1834490588149125 and parameters: {'Classifier': 'Logistic', 'solver': 'saga', 'C': 61.46147440576992}. Best is trial 73 with value: 0.46076906174467147.\u001b[0m\n",
      "\u001b[32m[I 2022-06-07 18:29:28,817]\u001b[0m Trial 88 finished with value: 0.057901560096682056 and parameters: {'Classifier': 'Logistic', 'solver': 'lbfgs', 'C': 0.0001334572927232779}. Best is trial 73 with value: 0.46076906174467147.\u001b[0m\n",
      "\u001b[32m[I 2022-06-07 18:29:29,002]\u001b[0m Trial 89 finished with value: 0.4594162455138065 and parameters: {'Classifier': 'Logistic', 'solver': 'liblinear', 'C': 1.0415101743644701e-05}. Best is trial 73 with value: 0.46076906174467147.\u001b[0m\n",
      "\u001b[32m[I 2022-06-07 18:29:29,169]\u001b[0m Trial 90 finished with value: 0.3928579799311507 and parameters: {'Classifier': 'Logistic', 'solver': 'liblinear', 'C': 1.8713875477671544e-05}. Best is trial 73 with value: 0.46076906174467147.\u001b[0m\n",
      "\u001b[32m[I 2022-06-07 18:29:29,354]\u001b[0m Trial 91 finished with value: 0.4542767157401304 and parameters: {'Classifier': 'Logistic', 'solver': 'liblinear', 'C': 1.0966066153399009e-05}. Best is trial 73 with value: 0.46076906174467147.\u001b[0m\n",
      "\u001b[32m[I 2022-06-07 18:29:29,545]\u001b[0m Trial 92 finished with value: 0.2770533948582729 and parameters: {'Classifier': 'Logistic', 'solver': 'liblinear', 'C': 4.952302167923965e-05}. Best is trial 73 with value: 0.46076906174467147.\u001b[0m\n",
      "\u001b[32m[I 2022-06-07 18:29:29,712]\u001b[0m Trial 93 finished with value: 0.3963758880832052 and parameters: {'Classifier': 'Logistic', 'solver': 'liblinear', 'C': 1.8092106456257318e-05}. Best is trial 73 with value: 0.46076906174467147.\u001b[0m\n",
      "\u001b[32m[I 2022-06-07 18:29:29,917]\u001b[0m Trial 94 finished with value: 0.23566175932029593 and parameters: {'Classifier': 'Logistic', 'solver': 'liblinear', 'C': 7.679636408827613e-05}. Best is trial 73 with value: 0.46076906174467147.\u001b[0m\n",
      "\u001b[32m[I 2022-06-07 18:29:30,108]\u001b[0m Trial 95 finished with value: 0.29680363290119394 and parameters: {'Classifier': 'Logistic', 'solver': 'liblinear', 'C': 3.931040247366272e-05}. Best is trial 73 with value: 0.46076906174467147.\u001b[0m\n",
      "\u001b[32m[I 2022-06-07 18:29:30,510]\u001b[0m Trial 96 finished with value: 0.1834490588149125 and parameters: {'Classifier': 'Logistic', 'solver': 'liblinear', 'C': 2.3274926476371727}. Best is trial 73 with value: 0.46076906174467147.\u001b[0m\n",
      "\u001b[32m[I 2022-06-07 18:29:31,031]\u001b[0m Trial 97 finished with value: 0.0 and parameters: {'Classifier': 'Logistic', 'solver': 'sag', 'C': 1.0409798108385141e-05}. Best is trial 73 with value: 0.46076906174467147.\u001b[0m\n",
      "\u001b[32m[I 2022-06-07 18:29:31,197]\u001b[0m Trial 98 finished with value: 0.4009741448765839 and parameters: {'Classifier': 'Logistic', 'solver': 'liblinear', 'C': 1.763268132279606e-05}. Best is trial 73 with value: 0.46076906174467147.\u001b[0m\n",
      "\u001b[32m[I 2022-06-07 18:29:31,363]\u001b[0m Trial 99 finished with value: 0.31222515198124956 and parameters: {'Classifier': 'Logistic', 'solver': 'liblinear', 'C': 3.4035641161280246e-05}. Best is trial 73 with value: 0.46076906174467147.\u001b[0m\n"
     ]
    }
   ],
   "source": [
    "study.optimize(objective,n_trials=100)"
   ]
  },
  {
   "cell_type": "code",
   "execution_count": 34,
   "id": "f97e3830",
   "metadata": {},
   "outputs": [
    {
     "data": {
      "text/plain": [
       "{'Classifier': 'Logistic', 'solver': 'liblinear', 'C': 1.0101742050460722e-05}"
      ]
     },
     "execution_count": 34,
     "metadata": {},
     "output_type": "execute_result"
    }
   ],
   "source": [
    "study.best_params"
   ]
  },
  {
   "cell_type": "code",
   "execution_count": 35,
   "id": "116575c1",
   "metadata": {},
   "outputs": [],
   "source": [
    "log = LogisticRegression(C=1e-5,solver='liblinear',class_weight='balanced')\n",
    "rf = RandomForestClassifier(n_estimators= 100,max_depth= 2,max_features= 5,class_weight='balanced')"
   ]
  },
  {
   "cell_type": "markdown",
   "id": "de302221",
   "metadata": {},
   "source": [
    "### Using Logistic Regression"
   ]
  },
  {
   "cell_type": "code",
   "execution_count": 36,
   "id": "878dc942",
   "metadata": {},
   "outputs": [
    {
     "data": {
      "text/plain": [
       "LogisticRegression(C=1e-05, class_weight='balanced', solver='liblinear')"
      ]
     },
     "execution_count": 36,
     "metadata": {},
     "output_type": "execute_result"
    }
   ],
   "source": [
    "log.fit(x_train,y_train)"
   ]
  },
  {
   "cell_type": "code",
   "execution_count": 37,
   "id": "f8ebee0a",
   "metadata": {},
   "outputs": [
    {
     "name": "stdout",
     "output_type": "stream",
     "text": [
      "              precision    recall  f1-score   support\n",
      "\n",
      "           0       0.95      0.72      0.82      7294\n",
      "           1       0.25      0.72      0.38       944\n",
      "\n",
      "    accuracy                           0.72      8238\n",
      "   macro avg       0.60      0.72      0.60      8238\n",
      "weighted avg       0.87      0.72      0.77      8238\n",
      "\n"
     ]
    }
   ],
   "source": [
    "print(classification_report(y_test,log.predict(x_test[:,:])))"
   ]
  },
  {
   "cell_type": "code",
   "execution_count": 38,
   "id": "2c2a217f",
   "metadata": {},
   "outputs": [
    {
     "data": {
      "text/plain": [
       "0.7248118475358096"
      ]
     },
     "execution_count": 38,
     "metadata": {},
     "output_type": "execute_result"
    }
   ],
   "source": [
    "accuracy_score(log.predict(x_test[:,:]),y_test)"
   ]
  },
  {
   "cell_type": "code",
   "execution_count": 39,
   "id": "b8e9bf60",
   "metadata": {},
   "outputs": [],
   "source": [
    "probs = log.predict_proba(x_test[:,:])[:,1]"
   ]
  },
  {
   "cell_type": "code",
   "execution_count": 40,
   "id": "42be5b95",
   "metadata": {},
   "outputs": [],
   "source": [
    "fpr,tpr,_ = roc_curve(y_test,probs)"
   ]
  },
  {
   "cell_type": "code",
   "execution_count": 41,
   "id": "26b4c3cf",
   "metadata": {},
   "outputs": [
    {
     "data": {
      "text/plain": [
       "0.769348239556078"
      ]
     },
     "execution_count": 41,
     "metadata": {},
     "output_type": "execute_result"
    },
    {
     "data": {
      "image/png": "[encoded data removed]",
      "text/plain": [
       "<Figure size 432x288 with 1 Axes>"
      ]
     },
     "metadata": {
      "needs_background": "light"
     },
     "output_type": "display_data"
    }
   ],
   "source": [
    "plt.plot(fpr,tpr)\n",
    "plt.plot([0,1])\n",
    "auc(fpr,tpr)"
   ]
  },
  {
   "cell_type": "code",
   "execution_count": 42,
   "id": "54b5f6c1",
   "metadata": {},
   "outputs": [],
   "source": [
    "cm = confusion_matrix(y_test,log.predict(x_test))"
   ]
  },
  {
   "cell_type": "code",
   "execution_count": 43,
   "id": "11707279",
   "metadata": {},
   "outputs": [],
   "source": [
    "def plot_confusion_matrix(cm, classes,\n",
    "                          normalize=False,\n",
    "                          title='Confusion matrix',\n",
    "                          color='viridis'):\n",
    "    \"\"\"\n",
    "    This function prints and plots the confusion matrix.\n",
    "    Normalization can be applied by setting `normalize=True`.\n",
    "    \"\"\"\n",
    "    from sklearn.metrics import classification_report, confusion_matrix\n",
    "    import itertools\n",
    "    if normalize:\n",
    "        cm = cm.astype('float') / cm.sum(axis=1)[:, np.newaxis]\n",
    "        print(\"Normalized confusion matrix\")\n",
    "    else:\n",
    "        print('Confusion matrix, without normalization')\n",
    "\n",
    "    print(cm)\n",
    "\n",
    "    plt.imshow(cm, interpolation='nearest', cmap=color)\n",
    "    plt.title(title)\n",
    "    plt.colorbar()\n",
    "    tick_marks = np.arange(len(classes))\n",
    "    plt.xticks(tick_marks, classes, rotation=45)\n",
    "    plt.yticks(tick_marks, classes)\n",
    "\n",
    "    fmt = '.2f' if normalize else 'd'\n",
    "    thresh = cm.max() / 2.\n",
    "    for i, j in itertools.product(range(cm.shape[0]), range(cm.shape[1])):\n",
    "        plt.text(j, i, format(cm[i, j], fmt),\n",
    "                 horizontalalignment=\"center\",\n",
    "                 color=\"white\" if cm[i, j] > thresh else \"black\")\n",
    "\n",
    "    plt.tight_layout()\n",
    "    plt.ylabel('True label')\n",
    "    plt.xlabel('Predicted label')"
   ]
  },
  {
   "cell_type": "code",
   "execution_count": 44,
   "id": "2366d9aa",
   "metadata": {},
   "outputs": [
    {
     "name": "stdout",
     "output_type": "stream",
     "text": [
      "Confusion matrix, without normalization\n",
      "[[5287 2007]\n",
      " [ 260  684]]\n"
     ]
    },
    {
     "data": {
      "image/png": "[encoded data removed]",
      "text/plain": [
       "<Figure size 432x288 with 2 Axes>"
      ]
     },
     "metadata": {
      "needs_background": "light"
     },
     "output_type": "display_data"
    }
   ],
   "source": [
    "plot_confusion_matrix(cm,[0,1],color='vlag_r')"
   ]
  },
  {
   "cell_type": "markdown",
   "id": "6daeb61f",
   "metadata": {},
   "source": [
    "### Using RandomForest"
   ]
  },
  {
   "cell_type": "code",
   "execution_count": 45,
   "id": "467676a7",
   "metadata": {},
   "outputs": [
    {
     "data": {
      "text/plain": [
       "RandomForestClassifier(class_weight='balanced', max_depth=2, max_features=5)"
      ]
     },
     "execution_count": 45,
     "metadata": {},
     "output_type": "execute_result"
    }
   ],
   "source": [
    "rf.fit(x_train,y_train)"
   ]
  },
  {
   "cell_type": "code",
   "execution_count": 46,
   "id": "3f159827",
   "metadata": {},
   "outputs": [
    {
     "name": "stdout",
     "output_type": "stream",
     "text": [
      "              precision    recall  f1-score   support\n",
      "\n",
      "           0       0.95      0.73      0.82      7294\n",
      "           1       0.26      0.72      0.38       944\n",
      "\n",
      "    accuracy                           0.73      8238\n",
      "   macro avg       0.60      0.73      0.60      8238\n",
      "weighted avg       0.87      0.73      0.77      8238\n",
      "\n"
     ]
    }
   ],
   "source": [
    "print(classification_report(y_test,rf.predict(x_test[:,:])))"
   ]
  },
  {
   "cell_type": "code",
   "execution_count": 47,
   "id": "157959e0",
   "metadata": {},
   "outputs": [
    {
     "data": {
      "text/plain": [
       "0.7260257344015538"
      ]
     },
     "execution_count": 47,
     "metadata": {},
     "output_type": "execute_result"
    }
   ],
   "source": [
    "accuracy_score(rf.predict(x_test[:,:]),y_test)"
   ]
  },
  {
   "cell_type": "code",
   "execution_count": 48,
   "id": "baefa7ec",
   "metadata": {},
   "outputs": [],
   "source": [
    "probs = rf.predict_proba(x_test[:,:])[:,1]"
   ]
  },
  {
   "cell_type": "code",
   "execution_count": 49,
   "id": "e79712fc",
   "metadata": {},
   "outputs": [],
   "source": [
    "fpr,tpr,_ = roc_curve(y_test,probs)"
   ]
  },
  {
   "cell_type": "code",
   "execution_count": 50,
   "id": "35d73f6d",
   "metadata": {},
   "outputs": [
    {
     "data": {
      "text/plain": [
       "0.7921472634810129"
      ]
     },
     "execution_count": 50,
     "metadata": {},
     "output_type": "execute_result"
    },
    {
     "data": {
      "image/png": "[encoded data removed]",
      "text/plain": [
       "<Figure size 432x288 with 1 Axes>"
      ]
     },
     "metadata": {
      "needs_background": "light"
     },
     "output_type": "display_data"
    }
   ],
   "source": [
    "plt.plot(fpr,tpr)\n",
    "plt.plot([0,1])\n",
    "auc(fpr,tpr)"
   ]
  },
  {
   "cell_type": "markdown",
   "id": "39a222ef",
   "metadata": {},
   "source": [
    "## After Using SMOTE"
   ]
  },
  {
   "cell_type": "code",
   "execution_count": 51,
   "id": "a0f82423",
   "metadata": {},
   "outputs": [],
   "source": [
    "from imblearn.over_sampling import SMOTE"
   ]
  },
  {
   "cell_type": "code",
   "execution_count": 52,
   "id": "259a6d98",
   "metadata": {},
   "outputs": [],
   "source": [
    "oversampling = SMOTE()"
   ]
  },
  {
   "cell_type": "code",
   "execution_count": 53,
   "id": "903402ec",
   "metadata": {},
   "outputs": [],
   "source": [
    "x, y = oversampling.fit_resample(x_train, y_train)"
   ]
  },
  {
   "cell_type": "markdown",
   "id": "630e3c29",
   "metadata": {},
   "source": [
    "### Using Logistic Regression"
   ]
  },
  {
   "cell_type": "code",
   "execution_count": null,
   "id": "177e232d",
   "metadata": {},
   "outputs": [],
   "source": []
  },
  {
   "cell_type": "code",
   "execution_count": 54,
   "id": "a7d65aeb",
   "metadata": {},
   "outputs": [
    {
     "name": "stdout",
     "output_type": "stream",
     "text": [
      "              precision    recall  f1-score   support\n",
      "\n",
      "           0       0.95      0.72      0.82      7294\n",
      "           1       0.25      0.72      0.38       944\n",
      "\n",
      "    accuracy                           0.72      8238\n",
      "   macro avg       0.60      0.72      0.60      8238\n",
      "weighted avg       0.87      0.72      0.77      8238\n",
      "\n"
     ]
    }
   ],
   "source": [
    "log.fit(x,y)\n",
    "print(classification_report(y_test,log.predict(x_test)))"
   ]
  },
  {
   "cell_type": "code",
   "execution_count": 55,
   "id": "a5c21cb3",
   "metadata": {},
   "outputs": [
    {
     "name": "stdout",
     "output_type": "stream",
     "text": [
      "[[5288 2006]\n",
      " [ 260  684]]\n"
     ]
    }
   ],
   "source": [
    "print(confusion_matrix(y_test,log.predict(x_test)))"
   ]
  },
  {
   "cell_type": "code",
   "execution_count": 56,
   "id": "18cbfe38",
   "metadata": {},
   "outputs": [],
   "source": [
    "cm = confusion_matrix(y_test,log.predict(x_test))"
   ]
  },
  {
   "cell_type": "code",
   "execution_count": 57,
   "id": "cc5685d4",
   "metadata": {},
   "outputs": [
    {
     "name": "stdout",
     "output_type": "stream",
     "text": [
      "Confusion matrix, without normalization\n",
      "[[5288 2006]\n",
      " [ 260  684]]\n"
     ]
    },
    {
     "data": {
      "image/png": "[encoded data removed]",
      "text/plain": [
       "<Figure size 432x288 with 2 Axes>"
      ]
     },
     "metadata": {
      "needs_background": "light"
     },
     "output_type": "display_data"
    }
   ],
   "source": [
    "plot_confusion_matrix(cm,[0,1],color='vlag_r')"
   ]
  },
  {
   "cell_type": "code",
   "execution_count": 58,
   "id": "c5763679",
   "metadata": {},
   "outputs": [],
   "source": [
    "fpr,tpr,_=roc_curve(y_test,log.predict_proba(x_test)[:,1])"
   ]
  },
  {
   "cell_type": "code",
   "execution_count": 59,
   "id": "73f810c8",
   "metadata": {},
   "outputs": [
    {
     "data": {
      "text/plain": [
       "0.7713585405696811"
      ]
     },
     "execution_count": 59,
     "metadata": {},
     "output_type": "execute_result"
    },
    {
     "data": {
      "image/png": "[encoded data removed]",
      "text/plain": [
       "<Figure size 432x288 with 1 Axes>"
      ]
     },
     "metadata": {
      "needs_background": "light"
     },
     "output_type": "display_data"
    }
   ],
   "source": [
    "plt.plot(fpr,tpr)\n",
    "plt.plot([0,1])\n",
    "auc(fpr,tpr)"
   ]
  },
  {
   "cell_type": "markdown",
   "id": "37a9e558",
   "metadata": {},
   "source": [
    "### Using Random Forest "
   ]
  },
  {
   "cell_type": "code",
   "execution_count": 60,
   "id": "f34ba168",
   "metadata": {},
   "outputs": [
    {
     "name": "stdout",
     "output_type": "stream",
     "text": [
      "              precision    recall  f1-score   support\n",
      "\n",
      "           0       0.95      0.76      0.84      7294\n",
      "           1       0.27      0.70      0.39       944\n",
      "\n",
      "    accuracy                           0.75      8238\n",
      "   macro avg       0.61      0.73      0.62      8238\n",
      "weighted avg       0.87      0.75      0.79      8238\n",
      "\n"
     ]
    }
   ],
   "source": [
    "rf.fit(x,y)\n",
    "print(classification_report(y_test,rf.predict(x_test)))"
   ]
  },
  {
   "cell_type": "code",
   "execution_count": 61,
   "id": "7f625052",
   "metadata": {},
   "outputs": [
    {
     "name": "stdout",
     "output_type": "stream",
     "text": [
      "[[5513 1781]\n",
      " [ 284  660]]\n"
     ]
    }
   ],
   "source": [
    "print(confusion_matrix(y_test,rf.predict(x_test)))"
   ]
  },
  {
   "cell_type": "code",
   "execution_count": 62,
   "id": "b7f59a99",
   "metadata": {},
   "outputs": [],
   "source": [
    "cm = confusion_matrix(y_test,rf.predict(x_test))"
   ]
  },
  {
   "cell_type": "code",
   "execution_count": 63,
   "id": "b71c3221",
   "metadata": {},
   "outputs": [
    {
     "name": "stdout",
     "output_type": "stream",
     "text": [
      "Confusion matrix, without normalization\n",
      "[[5513 1781]\n",
      " [ 284  660]]\n"
     ]
    },
    {
     "data": {
      "image/png": "[encoded data removed]",
      "text/plain": [
       "<Figure size 432x288 with 2 Axes>"
      ]
     },
     "metadata": {
      "needs_background": "light"
     },
     "output_type": "display_data"
    }
   ],
   "source": [
    "plot_confusion_matrix(cm,[0,1],color='vlag_r')"
   ]
  },
  {
   "cell_type": "code",
   "execution_count": 64,
   "id": "eebbea07",
   "metadata": {},
   "outputs": [],
   "source": [
    "fpr,tpr,_=roc_curve(y_test,rf.predict_proba(x_test)[:,1])"
   ]
  },
  {
   "cell_type": "code",
   "execution_count": 65,
   "id": "e43c075d",
   "metadata": {},
   "outputs": [
    {
     "data": {
      "text/plain": [
       "0.789338840142583"
      ]
     },
     "execution_count": 65,
     "metadata": {},
     "output_type": "execute_result"
    },
    {
     "data": {
      "image/png": "[encoded data removed]",
      "text/plain": [
       "<Figure size 432x288 with 1 Axes>"
      ]
     },
     "metadata": {
      "needs_background": "light"
     },
     "output_type": "display_data"
    }
   ],
   "source": [
    "plt.plot(fpr,tpr)\n",
    "plt.plot([0,1])\n",
    "auc(fpr,tpr)"
   ]
  },
  {
   "cell_type": "raw",
   "id": "f3a86ea3",
   "metadata": {},
   "source": [
    "After using Smote performance increased and model learns more about rare class"
   ]
  },
  {
   "cell_type": "markdown",
   "id": "e708cfea",
   "metadata": {},
   "source": [
    "## Using Neural Network"
   ]
  },
  {
   "cell_type": "code",
   "execution_count": 66,
   "id": "4a302849",
   "metadata": {},
   "outputs": [],
   "source": [
    "x_train, x, y_train, y = train_test_split(data,label,test_size=0.3,random_state=1)"
   ]
  },
  {
   "cell_type": "code",
   "execution_count": 67,
   "id": "0b52b1c8",
   "metadata": {},
   "outputs": [],
   "source": [
    "#filling nan values with mean\n",
    "x_train['age'] = x_train['age'].replace(np.nan,x_train['age'].mean())\n",
    "x['age'] = x['age'].replace(np.nan,x['age'].mean())\n",
    "\n",
    "x_train['cons.price.idx'] = x_train['cons.price.idx'].replace(np.nan,x_train['cons.price.idx'].mean())\n",
    "x['cons.price.idx'] = x['cons.price.idx'].replace(np.nan,x['cons.price.idx'].mean())"
   ]
  },
  {
   "cell_type": "code",
   "execution_count": 68,
   "id": "0c7ccb79",
   "metadata": {},
   "outputs": [],
   "source": [
    "x_val, x_test, y_val, y_test = train_test_split(x,y,test_size=0.5,random_state=1)"
   ]
  },
  {
   "cell_type": "code",
   "execution_count": 69,
   "id": "a895ccc5",
   "metadata": {},
   "outputs": [],
   "source": [
    "scale = StandardScaler()\n",
    "scale.fit(x_train)\n",
    "x_train = scale.transform(x_train)\n",
    "x_val = scale.transform(x_val)\n",
    "x_test = scale.transform(x_test)"
   ]
  },
  {
   "cell_type": "code",
   "execution_count": 70,
   "id": "eebe5764",
   "metadata": {},
   "outputs": [],
   "source": [
    "x, y = oversampling.fit_resample(x_train, y_train)"
   ]
  },
  {
   "cell_type": "code",
   "execution_count": 71,
   "id": "71311183",
   "metadata": {},
   "outputs": [],
   "source": [
    "import torch\n",
    "import torch.nn as nn\n",
    "from torch.utils.data import Dataset, DataLoader"
   ]
  },
  {
   "cell_type": "code",
   "execution_count": 72,
   "id": "b6189fe3",
   "metadata": {},
   "outputs": [],
   "source": [
    "y_train = np.array(y_train)\n",
    "y_val = np.array(y_val)\n",
    "y_test = np.array(y_test)"
   ]
  },
  {
   "cell_type": "code",
   "execution_count": 73,
   "id": "737cd608",
   "metadata": {},
   "outputs": [],
   "source": [
    "class train_data(Dataset):\n",
    "    \n",
    "    def __init__(self):\n",
    "        self.length = len(x_train)\n",
    "        self.data = x\n",
    "        self.labels = y\n",
    "    \n",
    "    def __getitem__(self, index):\n",
    "        return self.data[index], self.labels[index]\n",
    "    \n",
    "    def __len__(self):\n",
    "        return self.length\n",
    "\n",
    "class val_data(Dataset):\n",
    "    \n",
    "    def __init__(self):\n",
    "        self.length = len(x_val)\n",
    "        self.data = x_val\n",
    "        self.labels = y_val\n",
    "    \n",
    "    def __getitem__(self, index):\n",
    "        return self.data[index], self.labels[index]\n",
    "    \n",
    "    def __len__(self):\n",
    "        return self.length\n",
    "\n",
    "class test_data(Dataset):\n",
    "    \n",
    "    def __init__(self):\n",
    "        self.length = len(x_test)\n",
    "        self.data = x_test\n",
    "        self.labels = y_test\n",
    "    \n",
    "    def __getitem__(self, index):\n",
    "        return self.data[index], self.labels[index]\n",
    "    \n",
    "    def __len__(self):\n",
    "        return self.length"
   ]
  },
  {
   "cell_type": "code",
   "execution_count": 74,
   "id": "a6626e78",
   "metadata": {},
   "outputs": [],
   "source": [
    "x_train = train_data()\n",
    "x_val = val_data()\n",
    "x_test = test_data()\n",
    "train_loader = DataLoader(dataset=x_train, batch_size=128, shuffle=True)\n",
    "val_loader = DataLoader(dataset=x_val, batch_size=128, shuffle=True)\n",
    "test_loader = DataLoader(dataset=x_test, batch_size=10000, shuffle=True)"
   ]
  },
  {
   "cell_type": "code",
   "execution_count": 75,
   "id": "a224aa75",
   "metadata": {},
   "outputs": [],
   "source": [
    "class NeuralNet(nn.Module):\n",
    "    \n",
    "    def __init__(self, input_size, hidden_size, nclass, activation):\n",
    "        super(NeuralNet,self).__init__()\n",
    "        self.linear1 = nn.Linear(input_size, hidden_size)\n",
    "        self.linear2 = nn.Linear(hidden_size, hidden_size)\n",
    "        self.linear3 = nn.Linear(hidden_size, hidden_size)\n",
    "        self.activation = activation()\n",
    "        self.output = nn.Linear(hidden_size, nclass)\n",
    "        \n",
    "    def forward(self,x):\n",
    "        out = self.linear1(x)\n",
    "        out = self.activation(out)\n",
    "        out = self.linear2(out)\n",
    "        out = self.activation(out)\n",
    "        #out = self.linear3(out)\n",
    "        #out = self.activation(out)\n",
    "        out = self.output(out)\n",
    "        \n",
    "        return out    "
   ]
  },
  {
   "cell_type": "code",
   "execution_count": 76,
   "id": "277ad144",
   "metadata": {},
   "outputs": [],
   "source": [
    "class train_model():\n",
    "    \n",
    "    def __init__(self,model):\n",
    "        self.model = model\n",
    "        self.validation_loss = []\n",
    "        self.training_loss = []\n",
    "        \n",
    "    def compile(self, lr=1e-3, loss=nn.CrossEntropyLoss(),optimizer=torch.optim.Adam):  \n",
    "        self.loss_module = loss\n",
    "        self.optimizer = optimizer(self.model.parameters(),lr=lr)\n",
    "\n",
    "   \n",
    "    def fit(self, train_loader):\n",
    "\n",
    "        self.model = self.model.train()\n",
    "        total_loss = 0\n",
    "        total_batch_accuracy = 0\n",
    "\n",
    "        for i, batch in enumerate(train_loader):\n",
    "            x_train, y_train = batch\n",
    "            prediction = self.model(x_train.float())\n",
    "            loss = self.loss_module(prediction, y_train)\n",
    "            self.optimizer.zero_grad()\n",
    "            loss.backward()\n",
    "            torch.nn.utils.clip_grad_norm_(self.model.parameters(), max_norm=4.0)\n",
    "            self.optimizer.step()\n",
    "\n",
    "            total_loss += loss\n",
    "            mean_batch_loss = total_loss/(i+1)\n",
    "\n",
    "            predictions = torch.argmax(prediction, 1)\n",
    "            batch_accuracy = accuracy_score(y_train, predictions)\n",
    "\n",
    "            \n",
    "            total_batch_accuracy += batch_accuracy \n",
    "            mean_bach_accuracy = total_batch_accuracy/(i+1)\n",
    "            \n",
    "        return mean_batch_loss.detach().numpy(), mean_bach_accuracy\n",
    "        \n",
    "    def evaluate(self, train_loader):\n",
    "\n",
    "        total_batch_accuracy = 0\n",
    "        total_loss = 0\n",
    "        batch_auc = []\n",
    "        self.model = self.model.eval()\n",
    "            \n",
    "        for i, batch in enumerate(train_loader):\n",
    "            x_test, y_test = batch\n",
    "            prediction = self.model(x_test.float())\n",
    "            probs = nn.Softmax()(prediction).detach().numpy()\n",
    "            loss = self.loss_module(prediction, y_test)\n",
    "\n",
    "            total_loss += loss\n",
    "            mean_batch_loss = total_loss/(i+1)\n",
    "\n",
    "            predictions = torch.argmax(prediction, 1)\n",
    "            batch_accuracy = accuracy_score(y_test, predictions)\n",
    "            \n",
    "            precision, recall,_ = precision_recall_curve(y_test,probs[:,1])\n",
    "            auc_ = auc(recall,precision)\n",
    "            batch_auc.append(auc_)\n",
    "\n",
    "            total_batch_accuracy += batch_accuracy \n",
    "            mean_bach_accuracy = total_batch_accuracy/(i+1)\n",
    "        total_auc = np.nansum(batch_auc)/len(batch_auc)\n",
    "\n",
    "        return mean_batch_loss.detach().numpy(), total_auc, mean_bach_accuracy\n",
    "         \n",
    "    def train(self,train_data,val_data,epochs=100,batch_size=7,verbose=True,return_loss=True,metric=False,early_stopping=10):\n",
    "               \n",
    "        best_loss = np.inf\n",
    "        early_stop_counter = 0\n",
    "        self.batch_size = 2**batch_size\n",
    "        \n",
    "        for epoch in range(epochs):\n",
    "    \n",
    "            loss, batch_accuracy = self.fit(train_data)\n",
    "            val_loss, auc_, val_batch_accuracy = self.evaluate(val_data)\n",
    "            \n",
    "            self.training_loss.append(loss)\n",
    "            self.validation_loss.append(val_loss)\n",
    "           \n",
    "            if val_loss < best_loss:\n",
    "                best_loss = val_loss\n",
    "                \n",
    "            else:early_stop_counter+=1\n",
    "            \n",
    "            if early_stop_counter>early_stopping:\n",
    "                break\n",
    "            \n",
    "            if verbose:\n",
    "                print('\\033[94m'+'Epoch: {}'.format(epoch)+'\\033[0m'+' {}%'.format(round(batch_accuracy*100,3)),\n",
    "                  '\\033[91m'+'loss:'+'\\033[0m'+' {}'.format(round(float(loss),4)),\n",
    "                  '\\033[94m Val:'+'\\033[0m'+' {}'.format(round(val_batch_accuracy*100,3)),\n",
    "                  '\\033[91m'+'val_loss:'+'\\033[0m'+' {}'.format(round(float(val_loss),4))\n",
    "                 )\n",
    "      \n",
    "\n",
    "        if return_loss:\n",
    "            plt.plot(self.training_loss)\n",
    "            plt.plot(self.validation_loss)\n",
    "            plt.legend()\n",
    "        \n",
    "        if metric:\n",
    "            return best_loss.item(), auc_\n",
    "        \n",
    "    def analyze(self,train_loader,color='viridis',return_prob=False):\n",
    "        self.model = self.model.eval()\n",
    "        \n",
    "        for i, batch in enumerate(train_loader):\n",
    "            x_test, y_test = batch\n",
    "            prediction = self.model(x_test.float())\n",
    "            probs = nn.Softmax()(prediction).detach().numpy()\n",
    "            \n",
    "            predictions = torch.argmax(prediction,1)\n",
    "            accuracy = accuracy_score(predictions, y_test)\n",
    "            balanced_accuracy = balanced_accuracy_score(predictions, y_test)\n",
    "            print('\\033[92m'+'\\nAccuracy: '+'\\033[0m',accuracy)\n",
    "            print('\\033[92m'+'\\nBalanced Accuracy: '+'\\033[0m',balanced_accuracy)\n",
    "            print('\\n'+'\\033[0m'+         'Classification Report:\\n')\n",
    "            print(classification_report(y_test,predictions))\n",
    "            print('\\n'+'\\033[0m'+         'Confusion Matrix:\\n')\n",
    "            cm = confusion_matrix(y_test,predictions)\n",
    "            print('\\033[91m'+' '*12+'Total Data Samples:'+'\\033[0m', len(y_test),'\\n')\n",
    "            print('\\033[94m'+' '*12+'Class 0:'+'\\033[0m',(torch.unique(y_test, return_counts=True)[1][0]).item())\n",
    "            print('\\033[94m'+' '*12+'Class 1:'+'\\033[0m',(torch.unique(y_test, return_counts=True)[1][1]).item(),'\\n'+'\\033[0m')\n",
    "\n",
    "            plot_confusion_matrix(cm,[0,1],color=color)\n",
    "\n",
    "            print('\\n')\n",
    "\n",
    "            try:\n",
    "                precision, recall,_ = precision_recall_curve(y_test,probs[:,1])\n",
    "                #roc_auc = roc_auc_score(y_test,prediction[:,1])\n",
    "                auc_ = auc(recall,precision)\n",
    "                plt.figure()\n",
    "                plt.plot(recall, precision, label='(Area = {:.3f})'.format(auc_))\n",
    "                #plt.plot([0,1],marker='.')\n",
    "                plt.xlabel('False positive rate')\n",
    "                plt.ylabel('True positive rate')\n",
    "                plt.title('ROC curve')\n",
    "                plt.legend(loc='best')\n",
    "                plt.show()\n",
    "\n",
    "            except Exception as e:print(e)\n",
    "            if return_prob: return probs\n",
    "        "
   ]
  },
  {
   "cell_type": "code",
   "execution_count": 77,
   "id": "66bf5320",
   "metadata": {},
   "outputs": [],
   "source": [
    "input_size = data.shape[1]\n",
    "hidden_size = 256\n",
    "n_class = 2"
   ]
  },
  {
   "cell_type": "code",
   "execution_count": 78,
   "id": "a8143c39",
   "metadata": {},
   "outputs": [],
   "source": [
    "model = NeuralNet(input_size,hidden_size,n_class,nn.ReLU)"
   ]
  },
  {
   "cell_type": "code",
   "execution_count": 79,
   "id": "2c1cb620",
   "metadata": {},
   "outputs": [],
   "source": [
    "torch.manual_seed(10)\n",
    "model_train = train_model(model)"
   ]
  },
  {
   "cell_type": "code",
   "execution_count": 80,
   "id": "3a02f147",
   "metadata": {},
   "outputs": [],
   "source": [
    "model_train.compile(lr=1e-5)"
   ]
  },
  {
   "cell_type": "code",
   "execution_count": 81,
   "id": "8df2a588",
   "metadata": {},
   "outputs": [
    {
     "name": "stdout",
     "output_type": "stream",
     "text": [
      "\u001b[94mEpoch: 0\u001b[0m 88.801% \u001b[91mloss:\u001b[0m 0.5005 \u001b[94m Val:\u001b[0m 88.663 \u001b[91mval_loss:\u001b[0m 0.4349\n",
      "\u001b[94mEpoch: 1\u001b[0m 88.812% \u001b[91mloss:\u001b[0m 0.3924 \u001b[94m Val:\u001b[0m 88.707 \u001b[91mval_loss:\u001b[0m 0.3588\n",
      "\u001b[94mEpoch: 2\u001b[0m 88.888% \u001b[91mloss:\u001b[0m 0.3368 \u001b[94m Val:\u001b[0m 89.049 \u001b[91mval_loss:\u001b[0m 0.3195\n",
      "\u001b[94mEpoch: 3\u001b[0m 89.694% \u001b[91mloss:\u001b[0m 0.3086 \u001b[94m Val:\u001b[0m 89.711 \u001b[91mval_loss:\u001b[0m 0.3028\n",
      "\u001b[94mEpoch: 4\u001b[0m 90.061% \u001b[91mloss:\u001b[0m 0.2956 \u001b[94m Val:\u001b[0m 89.799 \u001b[91mval_loss:\u001b[0m 0.2929\n",
      "\u001b[94mEpoch: 5\u001b[0m 90.089% \u001b[91mloss:\u001b[0m 0.2908 \u001b[94m Val:\u001b[0m 89.915 \u001b[91mval_loss:\u001b[0m 0.2883\n",
      "\u001b[94mEpoch: 6\u001b[0m 90.102% \u001b[91mloss:\u001b[0m 0.2888 \u001b[94m Val:\u001b[0m 89.871 \u001b[91mval_loss:\u001b[0m 0.287\n",
      "\u001b[94mEpoch: 7\u001b[0m 90.053% \u001b[91mloss:\u001b[0m 0.2883 \u001b[94m Val:\u001b[0m 89.931 \u001b[91mval_loss:\u001b[0m 0.2858\n",
      "\u001b[94mEpoch: 8\u001b[0m 90.091% \u001b[91mloss:\u001b[0m 0.2872 \u001b[94m Val:\u001b[0m 89.843 \u001b[91mval_loss:\u001b[0m 0.2864\n",
      "\u001b[94mEpoch: 9\u001b[0m 90.103% \u001b[91mloss:\u001b[0m 0.286 \u001b[94m Val:\u001b[0m 89.799 \u001b[91mval_loss:\u001b[0m 0.2878\n",
      "\u001b[94mEpoch: 10\u001b[0m 90.067% \u001b[91mloss:\u001b[0m 0.2864 \u001b[94m Val:\u001b[0m 89.975 \u001b[91mval_loss:\u001b[0m 0.2826\n",
      "\u001b[94mEpoch: 11\u001b[0m 90.077% \u001b[91mloss:\u001b[0m 0.2862 \u001b[94m Val:\u001b[0m 89.871 \u001b[91mval_loss:\u001b[0m 0.2854\n",
      "\u001b[94mEpoch: 12\u001b[0m 90.074% \u001b[91mloss:\u001b[0m 0.2855 \u001b[94m Val:\u001b[0m 89.843 \u001b[91mval_loss:\u001b[0m 0.2861\n",
      "\u001b[94mEpoch: 13\u001b[0m 90.078% \u001b[91mloss:\u001b[0m 0.285 \u001b[94m Val:\u001b[0m 89.903 \u001b[91mval_loss:\u001b[0m 0.285\n",
      "\u001b[94mEpoch: 14\u001b[0m 90.06% \u001b[91mloss:\u001b[0m 0.2849 \u001b[94m Val:\u001b[0m 89.859 \u001b[91mval_loss:\u001b[0m 0.2849\n",
      "\u001b[94mEpoch: 15\u001b[0m 90.064% \u001b[91mloss:\u001b[0m 0.2845 \u001b[94m Val:\u001b[0m 89.903 \u001b[91mval_loss:\u001b[0m 0.284\n",
      "\u001b[94mEpoch: 16\u001b[0m 90.077% \u001b[91mloss:\u001b[0m 0.2847 \u001b[94m Val:\u001b[0m 89.903 \u001b[91mval_loss:\u001b[0m 0.2823\n",
      "\u001b[94mEpoch: 17\u001b[0m 90.077% \u001b[91mloss:\u001b[0m 0.2844 \u001b[94m Val:\u001b[0m 89.755 \u001b[91mval_loss:\u001b[0m 0.2844\n",
      "\u001b[94mEpoch: 18\u001b[0m 90.077% \u001b[91mloss:\u001b[0m 0.2841 \u001b[94m Val:\u001b[0m 89.991 \u001b[91mval_loss:\u001b[0m 0.2811\n",
      "\u001b[94mEpoch: 19\u001b[0m 90.077% \u001b[91mloss:\u001b[0m 0.2841 \u001b[94m Val:\u001b[0m 89.915 \u001b[91mval_loss:\u001b[0m 0.2818\n",
      "\u001b[94mEpoch: 20\u001b[0m 90.078% \u001b[91mloss:\u001b[0m 0.2835 \u001b[94m Val:\u001b[0m 89.991 \u001b[91mval_loss:\u001b[0m 0.2808\n",
      "\u001b[94mEpoch: 21\u001b[0m 90.074% \u001b[91mloss:\u001b[0m 0.2834 \u001b[94m Val:\u001b[0m 89.991 \u001b[91mval_loss:\u001b[0m 0.2806\n",
      "\u001b[94mEpoch: 22\u001b[0m 90.064% \u001b[91mloss:\u001b[0m 0.2835 \u001b[94m Val:\u001b[0m 89.799 \u001b[91mval_loss:\u001b[0m 0.2844\n"
     ]
    },
    {
     "name": "stderr",
     "output_type": "stream",
     "text": [
      "No artists with labels found to put in legend.  Note that artists whose label start with an underscore are ignored when legend() is called with no argument.\n"
     ]
    },
    {
     "data": {
      "image/png": "[encoded data removed]",
      "text/plain": [
       "<Figure size 432x288 with 1 Axes>"
      ]
     },
     "metadata": {
      "needs_background": "light"
     },
     "output_type": "display_data"
    }
   ],
   "source": [
    "model_train.train(train_loader,val_loader,early_stopping=10)"
   ]
  },
  {
   "cell_type": "code",
   "execution_count": 82,
   "id": "a5ca7d19",
   "metadata": {},
   "outputs": [
    {
     "name": "stdout",
     "output_type": "stream",
     "text": [
      "\u001b[92m\n",
      "Accuracy: \u001b[0m 0.8949668231105357\n",
      "\u001b[92m\n",
      "Balanced Accuracy: \u001b[0m 0.7955791366621512\n",
      "\n",
      "\u001b[0mClassification Report:\n",
      "\n",
      "              precision    recall  f1-score   support\n",
      "\n",
      "           0       0.90      0.99      0.94      5466\n",
      "           1       0.69      0.16      0.26       713\n",
      "\n",
      "    accuracy                           0.89      6179\n",
      "   macro avg       0.80      0.58      0.60      6179\n",
      "weighted avg       0.88      0.89      0.86      6179\n",
      "\n",
      "\n",
      "\u001b[0mConfusion Matrix:\n",
      "\n",
      "\u001b[91m            Total Data Samples:\u001b[0m 6179 \n",
      "\n",
      "\u001b[94m            Class 0:\u001b[0m 5466\n",
      "\u001b[94m            Class 1:\u001b[0m 713 \n",
      "\u001b[0m\n",
      "Confusion matrix, without normalization\n",
      "[[5414   52]\n",
      " [ 597  116]]\n",
      "\n",
      "\n"
     ]
    },
    {
     "data": {
      "image/png": "[encoded data removed]",
      "text/plain": [
       "<Figure size 432x288 with 2 Axes>"
      ]
     },
     "metadata": {
      "needs_background": "light"
     },
     "output_type": "display_data"
    },
    {
     "data": {
      "image/png": "[encoded data removed]",
      "text/plain": [
       "<Figure size 432x288 with 1 Axes>"
      ]
     },
     "metadata": {
      "needs_background": "light"
     },
     "output_type": "display_data"
    }
   ],
   "source": [
    "model_train.analyze(test_loader)"
   ]
  },
  {
   "cell_type": "raw",
   "id": "e6f9e42d",
   "metadata": {},
   "source": [
    "Logistic Regression and Random forest perfroms better than other NeuralNetwork using smote it gives higher recall for rare class"
   ]
  },
  {
   "cell_type": "code",
   "execution_count": null,
   "id": "d7dd30f6",
   "metadata": {},
   "outputs": [],
   "source": []
  }
 ],
 "metadata": {
  "kernelspec": {
   "display_name": "Python 3 (ipykernel)",
   "language": "python",
   "name": "python3"
  },
  "language_info": {
   "codemirror_mode": {
    "name": "ipython",
    "version": 3
   },
   "file_extension": ".py",
   "mimetype": "text/x-python",
   "name": "python",
   "nbconvert_exporter": "python",
   "pygments_lexer": "ipython3",
   "version": "3.8.12"
  }
 },
 "nbformat": 4,
 "nbformat_minor": 5
}
