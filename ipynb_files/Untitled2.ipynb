{
 "cells": [
  {
   "cell_type": "code",
   "execution_count": 1,
   "id": "421f287e",
   "metadata": {},
   "outputs": [],
   "source": [
    "import numpy as np"
   ]
  },
  {
   "cell_type": "code",
   "execution_count": 9,
   "id": "828ed36f",
   "metadata": {},
   "outputs": [],
   "source": [
    "class PCA:\n",
    "    \n",
    "    def __init__(self,n_components):\n",
    "        self.n_components = n_components\n",
    "        self.components = None\n",
    "        self.mean = None\n",
    "        self.eigenvalues = None\n",
    "        \n",
    "    def fit(self, X):\n",
    "        \n",
    "        #mean\n",
    "        self.mean = np.mean(X, axis=0)\n",
    "        X = X - self.mean\n",
    "        \n",
    "        #calculate covariance \n",
    "        cov = np.cov(X.T)\n",
    "        \n",
    "        #eigenvactors and eigenvalues\n",
    "        eigenvalues, eigenvectors = np.linalg.eig(cov)\n",
    "        #sort eigenvactors\n",
    "        eigenvectors = eigenvectors.T\n",
    "        idxs = np.argsort(eigenvalues)[::-1]\n",
    "        eigenvalues = eigenvalues[idxs]\n",
    "        eigenvectors = eigenvectors[idxs]\n",
    "        \n",
    "        #store first n eigenvectors\n",
    "        self.component = eigenvectors[0:self.n_components]\n",
    "        self.eigenvalues = eigenvalues\n",
    "        \n",
    "    def transform(self, X):\n",
    "        X = X-self.mean\n",
    "        return np.dot(X,self.component.T)\n",
    "    \n",
    "    def explained_variance(self):\n",
    "        total_eigen = sum(self.eigenvalues)\n",
    "        variance_explained = [(i/total_eigen) for i in sorted(self.eigenvalues, reverse=True)]\n",
    "        return variance_explained"
   ]
  },
  {
   "cell_type": "code",
   "execution_count": null,
   "id": "06312077",
   "metadata": {},
   "outputs": [],
   "source": []
  },
  {
   "cell_type": "code",
   "execution_count": null,
   "id": "5814bcca",
   "metadata": {},
   "outputs": [],
   "source": []
  },
  {
   "cell_type": "code",
   "execution_count": null,
   "id": "b245762d",
   "metadata": {},
   "outputs": [],
   "source": []
  }
 ],
 "metadata": {
  "kernelspec": {
   "display_name": "Python 3 (ipykernel)",
   "language": "python",
   "name": "python3"
  },
  "language_info": {
   "codemirror_mode": {
    "name": "ipython",
    "version": 3
   },
   "file_extension": ".py",
   "mimetype": "text/x-python",
   "name": "python",
   "nbconvert_exporter": "python",
   "pygments_lexer": "ipython3",
   "version": "3.8.12"
  }
 },
 "nbformat": 4,
 "nbformat_minor": 5
}
