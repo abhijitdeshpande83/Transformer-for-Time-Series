{
 "cells": [
  {
   "cell_type": "code",
   "execution_count": 126,
   "id": "5308cd07",
   "metadata": {},
   "outputs": [],
   "source": [
    "def palandrom(string):\n",
    "    reverse = ''\n",
    "    \n",
    "    for letter in string:\n",
    "         reverse=letter+reverse\n",
    "            \n",
    "    if reverse==string:\n",
    "        return True\n",
    "    else: return False"
   ]
  },
  {
   "cell_type": "code",
   "execution_count": 127,
   "id": "b433afe9",
   "metadata": {},
   "outputs": [],
   "source": [
    "def anagram(string1, string2):\n",
    "    \n",
    "    if sorted(string1.lower()) == sorted(string2.lower()):\n",
    "        return True\n",
    "    else: return False"
   ]
  },
  {
   "cell_type": "code",
   "execution_count": 301,
   "id": "d5f07335",
   "metadata": {},
   "outputs": [],
   "source": [
    "#n prime numbers\n",
    "def prime(num):\n",
    "    \n",
    "     for i in range(2, num):\n",
    "\n",
    "        for j in range(2,math.floor(math.sqrt(i))+1):\n",
    "                if i%j==0:\n",
    "                    break\n",
    "       \n",
    "        else: print(i)"
   ]
  },
  {
   "cell_type": "code",
   "execution_count": 304,
   "id": "6b0d6543",
   "metadata": {},
   "outputs": [],
   "source": [
    "def reverse(string):\n",
    "    \n",
    "    rev = ''\n",
    "    \n",
    "    for letter in string:\n",
    "        rev = letter+rev\n",
    "    return rev\n"
   ]
  },
  {
   "cell_type": "code",
   "execution_count": 308,
   "id": "5f4511ef",
   "metadata": {},
   "outputs": [],
   "source": [
    "def Sum(nums):\n",
    "    \n",
    "    cur_sum = 0\n",
    "    maxSum=0\n",
    "    \n",
    "    for num in nums:\n",
    "        if cur_sum<0:\n",
    "            cur_sum=0\n",
    "        \n",
    "        cur_sum+=num\n",
    "        maxSum = max(cur_sum,maxSum)\n",
    "        \n",
    "    return maxSum"
   ]
  },
  {
   "cell_type": "code",
   "execution_count": 315,
   "id": "d540303f",
   "metadata": {},
   "outputs": [],
   "source": [
    "def two_sum(nums,trg):\n",
    "    \n",
    "    dict_ = {}\n",
    "    \n",
    "    for idx,num in enumerate(nums):\n",
    "        if trg-num in dict_:\n",
    "            return dict_[trg-num], idx\n",
    "        dict_[num]=idx"
   ]
  },
  {
   "cell_type": "code",
   "execution_count": 513,
   "id": "d342f899",
   "metadata": {},
   "outputs": [],
   "source": [
    "def repeatString(string):\n",
    "    n = len(string)\n",
    "    \n",
    "    repeat = ''\n",
    "    \n",
    "    for i in range(n//2):\n",
    "        repeat+=string[i]\n",
    "        \n",
    "        if n%len(repeat)==0:\n",
    "            if repeat*(n//len(repeat))==string:\n",
    "                return True\n",
    "    return False"
   ]
  },
  {
   "cell_type": "code",
   "execution_count": 670,
   "id": "bd8beb67",
   "metadata": {},
   "outputs": [],
   "source": [
    "def reverseWord(string):\n",
    "    string= string.split(' ')\n",
    "    reverse = []\n",
    "    \n",
    "    for letter in string:\n",
    "        reverse.insert(0,letter)\n",
    "\n",
    "    return ' '.join(reverse)"
   ]
  },
  {
   "cell_type": "code",
   "execution_count": 682,
   "id": "0fbd135b",
   "metadata": {},
   "outputs": [],
   "source": [
    "def missingOne(nums):\n",
    "    sum_nums = sum(range(min(nums),max(nums)+1))\n",
    "    return sum_nums-sum(nums)"
   ]
  },
  {
   "cell_type": "code",
   "execution_count": null,
   "id": "3432d142",
   "metadata": {},
   "outputs": [],
   "source": []
  },
  {
   "cell_type": "code",
   "execution_count": 793,
   "id": "7ce3965b",
   "metadata": {},
   "outputs": [],
   "source": [
    "def counter(array):\n",
    "    count={}\n",
    "    \n",
    "    for num in array:\n",
    "        if num in count:\n",
    "            count[num]+=1\n",
    "        else:\n",
    "            count[num]=1\n",
    "    return count"
   ]
  },
  {
   "cell_type": "code",
   "execution_count": 829,
   "id": "ee1d1be7",
   "metadata": {},
   "outputs": [],
   "source": [
    "def missingFromUser(sys_array,user_array):\n",
    "    \n",
    "    count = counter(sys_array)\n",
    "    for num in user_array:\n",
    "        if num in count:\n",
    "            count[num]-=1\n",
    "    return [keys for keys,values in count.items() if values>0]"
   ]
  },
  {
   "cell_type": "code",
   "execution_count": 861,
   "id": "0b2f9037",
   "metadata": {},
   "outputs": [],
   "source": [
    "def bubblesort(array):\n",
    "    for i in range(len(array)-1):\n",
    "        for j in range(len(array)-i-1):\n",
    "            if array[j]>array[j+1]:\n",
    "                array[j],array[j+1] = array[j+1],array[j]\n",
    "    return array"
   ]
  },
  {
   "cell_type": "code",
   "execution_count": 869,
   "id": "37fec449",
   "metadata": {},
   "outputs": [],
   "source": [
    "def threeSum(array):\n",
    "    array = bubblesort(array)\n",
    "    \n",
    "    for i,num in enumerate(array):\n",
    "        \n",
    "        l,r = array[i+1],len(array)-1\n",
    "        \n",
    "        while l<r:\n",
    "            threesum = num+array[l]+array[r]\n",
    "            if threesum>0:\n",
    "                r-=1\n",
    "            elif threesum<0:\n",
    "                l+=1\n",
    "            else:\n",
    "                return (num,array[l],array[r])"
   ]
  },
  {
   "cell_type": "code",
   "execution_count": 952,
   "id": "5a9adaec",
   "metadata": {},
   "outputs": [],
   "source": [
    "def duplicates(array):\n",
    "    count = {}\n",
    "    \n",
    "    for num in array:\n",
    "        if num in count:\n",
    "            count[num]+=1\n",
    "        else:\n",
    "            count[num]=1\n",
    "    return [keys for keys, values in count.items() if values>1]"
   ]
  },
  {
   "cell_type": "code",
   "execution_count": 980,
   "id": "ae190d72",
   "metadata": {},
   "outputs": [
    {
     "data": {
      "text/plain": [
       "[3, 2]"
      ]
     },
     "execution_count": 980,
     "metadata": {},
     "output_type": "execute_result"
    }
   ],
   "source": [
    "duplicate([4,3,2,7,8,3,2,1])"
   ]
  },
  {
   "cell_type": "code",
   "execution_count": 981,
   "id": "05fe57dd",
   "metadata": {},
   "outputs": [],
   "source": [
    "def duplicate(array):\n",
    "    output = []\n",
    "    \n",
    "    for num in array:\n",
    "        m = abs(num)-1\n",
    "        if array[m]<0:\n",
    "            output.append(abs(num))\n",
    "        else:\n",
    "            array[m]*=-1\n",
    "    return output"
   ]
  },
  {
   "cell_type": "code",
   "execution_count": 982,
   "id": "69144286",
   "metadata": {},
   "outputs": [],
   "source": [
    "def validParanthesis(params):\n",
    "    stack = []\n",
    "    \n",
    "    for param in params:\n",
    "        if param=='{':\n",
    "            stack.append('}')\n",
    "        elif param=='[':\n",
    "            stack.append(']')\n",
    "        elif param=='(':\n",
    "            stack.append(')')\n",
    "        elif stack.pop()!=param:\n",
    "            return False\n",
    "    return True\n",
    "            "
   ]
  },
  {
   "cell_type": "code",
   "execution_count": 1044,
   "id": "bf7bd8df",
   "metadata": {},
   "outputs": [],
   "source": [
    "def fibonacci(n):\n",
    "    if n==0:\n",
    "        return 0\n",
    "    elif n==1:\n",
    "        return 1\n",
    "    else: return fibonacci(n-2)+fibonacci(n-1)"
   ]
  },
  {
   "cell_type": "code",
   "execution_count": 1059,
   "id": "4e3359aa",
   "metadata": {},
   "outputs": [],
   "source": [
    "def removeDuplicate(nums):\n",
    "    l = 1\n",
    "    \n",
    "    for r in range(1,len(nums)):\n",
    "        \n",
    "        if nums[r]!=nums[r-1]:\n",
    "            nums[l]=nums[r]\n",
    "            l+=1\n",
    "    return l"
   ]
  },
  {
   "cell_type": "code",
   "execution_count": 1163,
   "id": "e69fd66b",
   "metadata": {},
   "outputs": [],
   "source": [
    "def stringInt(string):\n",
    "    string = string.strip()\n",
    "    \n",
    "    if not string:\n",
    "        return 0\n",
    "    sign=-1 if string[0]=='-' else 1\n",
    "    if string[0] in {'-','+'}:\n",
    "        string = string[1:]\n",
    "    \n",
    "    num = 0\n",
    "    for c in string:\n",
    "        if not c.isdigit():\n",
    "            continue\n",
    "        num = num*10+ord(c)-ord('0')\n",
    "        \n",
    "    return num*sign"
   ]
  },
  {
   "cell_type": "code",
   "execution_count": 1164,
   "id": "45216fca",
   "metadata": {},
   "outputs": [],
   "source": [
    "def stringToInt(string):\n",
    "    \n",
    "    string = string.strip()\n",
    "    \n",
    "    if string.isdigit():\n",
    "        return int(string)\n",
    "    else:\n",
    "        return False"
   ]
  },
  {
   "cell_type": "code",
   "execution_count": 1229,
   "id": "d3c4d36c",
   "metadata": {},
   "outputs": [],
   "source": [
    "def power(x,n):\n",
    "    def helper(x,n):\n",
    "        if n==0: return 1\n",
    "        if x==0: return 0\n",
    "        \n",
    "        result = helper(x,n//2)\n",
    "        result = result*result\n",
    "        return result if n%2==0 else x*result\n",
    "    result = helper(x,abs(n))\n",
    "    return result if n>=0 else 1/result"
   ]
  },
  {
   "cell_type": "code",
   "execution_count": 1281,
   "id": "9d045bb1",
   "metadata": {},
   "outputs": [],
   "source": [
    "def removeDup(array):\n",
    "    result = []\n",
    "    \n",
    "    [result.append(x) for x in array if x not in result]\n",
    "    \n",
    "    return result"
   ]
  },
  {
   "cell_type": "code",
   "execution_count": 1321,
   "id": "7131ef21",
   "metadata": {},
   "outputs": [],
   "source": [
    "def commonSuffix(strings):\n",
    "    result = ''\n",
    "    for i in range(len(strings[0])):\n",
    "        for s in strings:\n",
    "            if len(s)==i or s[i]!=strings[0][i]:\n",
    "                return result\n",
    "        result+=strings[0][i]\n",
    "    return result"
   ]
  },
  {
   "cell_type": "code",
   "execution_count": 1456,
   "id": "661b7999",
   "metadata": {},
   "outputs": [],
   "source": [
    "#Greedy Approach\n",
    "def coin(coins,k):\n",
    "    \n",
    "    coins = coins\n",
    "    \n",
    "    n = len(coins)\n",
    "    res = []\n",
    "    i = n-1\n",
    "    \n",
    "    while i>=0 and k>=0:\n",
    "        if k>=coins[i]:\n",
    "            k-=coins[i]\n",
    "            res.append(coins[i])\n",
    "        else:i-=1\n",
    "    return res"
   ]
  },
  {
   "cell_type": "code",
   "execution_count": 1541,
   "id": "57adb542",
   "metadata": {},
   "outputs": [],
   "source": [
    "import heapq\n",
    "from heapq import heappush, heappop"
   ]
  },
  {
   "cell_type": "code",
   "execution_count": 1547,
   "id": "9ac27684",
   "metadata": {},
   "outputs": [],
   "source": [
    "array = [[2,-1],[3,2],[4,1],[-1,-1],[-2,2]]"
   ]
  },
  {
   "cell_type": "code",
   "execution_count": null,
   "id": "ee5b0f2b",
   "metadata": {},
   "outputs": [],
   "source": []
  },
  {
   "cell_type": "code",
   "execution_count": 1564,
   "id": "dd6618d4",
   "metadata": {},
   "outputs": [],
   "source": [
    "def MinDist(array,k=3):\n",
    "    def euclideanDist(x,y):\n",
    "        return (x**2+y**2)**0.5\n",
    "    min_dist = []\n",
    "    for i in array:\n",
    "        x = i[0]\n",
    "        y = i[0]\n",
    "        \n",
    "        heappush(min_dist,(euclideanDist(x,y),i))\n",
    "    result = []\n",
    "    for i in range(k):\n",
    "        result.append(heappop(min_dist)[1])\n",
    "    return result"
   ]
  },
  {
   "cell_type": "code",
   "execution_count": 1652,
   "id": "1d079a74",
   "metadata": {},
   "outputs": [],
   "source": [
    "def LargestContinuous(array):\n",
    "    \n",
    "    cumSum = 0\n",
    "    maxSum = 0\n",
    "    \n",
    "    for num in array:\n",
    "        if cumSum<0:\n",
    "            cumSum=0\n",
    "        cumSum+=num\n",
    "        maxSum = max(cumSum,maxSum)\n",
    "    return maxSum"
   ]
  },
  {
   "cell_type": "code",
   "execution_count": null,
   "id": "2e4c6a0c",
   "metadata": {},
   "outputs": [],
   "source": []
  },
  {
   "cell_type": "code",
   "execution_count": 1754,
   "id": "5be0652d",
   "metadata": {},
   "outputs": [],
   "source": [
    "def stringtoInt(string):\n",
    "    \n",
    "    cumSum=0\n",
    "    \n",
    "    for i in range(len(string)):\n",
    "        for j in range(i+1,len(string)+1):\n",
    "            cumSum+=int(string[i:j])\n",
    "    return cumSum"
   ]
  },
  {
   "cell_type": "code",
   "execution_count": 1833,
   "id": "28c53a88",
   "metadata": {},
   "outputs": [],
   "source": [
    "class Node():\n",
    "    def __init__(self,val):\n",
    "        self.right = None\n",
    "        self.left = None\n",
    "        self.value = val"
   ]
  },
  {
   "cell_type": "code",
   "execution_count": null,
   "id": "8d5d04a2",
   "metadata": {},
   "outputs": [],
   "source": []
  },
  {
   "cell_type": "code",
   "execution_count": 1840,
   "id": "5d2b339c",
   "metadata": {},
   "outputs": [],
   "source": [
    "class tree():\n",
    "    \n",
    "    def __init__(self):\n",
    "        self.root = None\n",
    "        \n",
    "    def add(self,val):\n",
    "        if self.root is None:\n",
    "            self.root = Node(val)\n",
    "        else:\n",
    "            self._add(val,self.root)\n",
    "        \n",
    "    def _add(self,val,node):\n",
    "        if val<node.value:\n",
    "            if node.left is not None:\n",
    "                 self._add(val,node.left)\n",
    "            else:\n",
    "                node.left = Node(val)\n",
    "        else:\n",
    "            if node.right is not None:\n",
    "                 self._add(val,node.right)\n",
    "            else:\n",
    "                node.right = Node(val)\n",
    "                \n",
    "    def printf(self):\n",
    "        \n",
    "        if self.root is not None:\n",
    "            self._print(self.root)\n",
    "            \n",
    "    def _print(self,root):\n",
    "        if root is not None:\n",
    "            self._print(root.left)\n",
    "            print(root.value)\n",
    "            self._print(root.right)"
   ]
  },
  {
   "cell_type": "code",
   "execution_count": null,
   "id": "08186f37",
   "metadata": {},
   "outputs": [],
   "source": []
  },
  {
   "cell_type": "code",
   "execution_count": null,
   "id": "29741f1e",
   "metadata": {},
   "outputs": [],
   "source": []
  },
  {
   "cell_type": "code",
   "execution_count": null,
   "id": "1db426cd",
   "metadata": {},
   "outputs": [],
   "source": []
  },
  {
   "cell_type": "code",
   "execution_count": null,
   "id": "6cf72d25",
   "metadata": {},
   "outputs": [],
   "source": []
  }
 ],
 "metadata": {
  "kernelspec": {
   "display_name": "Python 3 (ipykernel)",
   "language": "python",
   "name": "python3"
  },
  "language_info": {
   "codemirror_mode": {
    "name": "ipython",
    "version": 3
   },
   "file_extension": ".py",
   "mimetype": "text/x-python",
   "name": "python",
   "nbconvert_exporter": "python",
   "pygments_lexer": "ipython3",
   "version": "3.8.12"
  }
 },
 "nbformat": 4,
 "nbformat_minor": 5
}
